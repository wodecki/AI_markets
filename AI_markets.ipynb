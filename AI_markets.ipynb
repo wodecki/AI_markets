{
 "cells": [
  {
   "cell_type": "markdown",
   "metadata": {},
   "source": [
    "# Business <> Data Understanding"
   ]
  },
  {
   "cell_type": "markdown",
   "metadata": {},
   "source": [
    "## Import & read"
   ]
  },
  {
   "cell_type": "code",
   "execution_count": 495,
   "metadata": {},
   "outputs": [],
   "source": [
    "import numpy as np\n",
    "import pandas as pd\n",
    "\n",
    "ai = pd.read_csv('ai.csv')"
   ]
  },
  {
   "cell_type": "markdown",
   "metadata": {},
   "source": [
    "## Examine"
   ]
  },
  {
   "cell_type": "code",
   "execution_count": 387,
   "metadata": {},
   "outputs": [
    {
     "data": {
      "text/html": [
       "<div>\n",
       "<style scoped>\n",
       "    .dataframe tbody tr th:only-of-type {\n",
       "        vertical-align: middle;\n",
       "    }\n",
       "\n",
       "    .dataframe tbody tr th {\n",
       "        vertical-align: top;\n",
       "    }\n",
       "\n",
       "    .dataframe thead th {\n",
       "        text-align: right;\n",
       "    }\n",
       "</style>\n",
       "<table border=\"1\" class=\"dataframe\">\n",
       "  <thead>\n",
       "    <tr style=\"text-align: right;\">\n",
       "      <th></th>\n",
       "      <th>id</th>\n",
       "      <th>markets</th>\n",
       "      <th>founded in</th>\n",
       "      <th>employees</th>\n",
       "      <th>headquarters</th>\n",
       "      <th>country</th>\n",
       "      <th>total raised (USD)</th>\n",
       "      <th>latest_round_amount (USD)</th>\n",
       "      <th>latest_round_date</th>\n",
       "      <th>latest_round_type</th>\n",
       "      <th>acquired_by</th>\n",
       "      <th>acquired_at</th>\n",
       "      <th>acquired_amount (USD)</th>\n",
       "    </tr>\n",
       "  </thead>\n",
       "  <tbody>\n",
       "    <tr>\n",
       "      <th>0</th>\n",
       "      <td>14</td>\n",
       "      <td>Internet &gt; Cloud Computing, Big Data &gt; Storage...</td>\n",
       "      <td>1994.0</td>\n",
       "      <td>566000.0</td>\n",
       "      <td>Seattle</td>\n",
       "      <td>United States</td>\n",
       "      <td>56000000.0</td>\n",
       "      <td>48000000.0</td>\n",
       "      <td>1997-05-15</td>\n",
       "      <td>IPO</td>\n",
       "      <td>NaN</td>\n",
       "      <td>NaN</td>\n",
       "      <td>NaN</td>\n",
       "    </tr>\n",
       "    <tr>\n",
       "      <th>1</th>\n",
       "      <td>16</td>\n",
       "      <td>Networking, Internet &gt; Social Media, Mobile, E...</td>\n",
       "      <td>2003.0</td>\n",
       "      <td>10001.0</td>\n",
       "      <td>Sunnyvale</td>\n",
       "      <td>United States</td>\n",
       "      <td>206121421.0</td>\n",
       "      <td>81713488.0</td>\n",
       "      <td>2013-05-01</td>\n",
       "      <td>Post-IPO equity</td>\n",
       "      <td>Microsoft</td>\n",
       "      <td>2016-06-13</td>\n",
       "      <td>2.600000e+10</td>\n",
       "    </tr>\n",
       "    <tr>\n",
       "      <th>2</th>\n",
       "      <td>125</td>\n",
       "      <td>Mobile, Technology &gt; Artificial Intelligence, ...</td>\n",
       "      <td>1991.0</td>\n",
       "      <td>22000.0</td>\n",
       "      <td>Tokyo</td>\n",
       "      <td>Japan</td>\n",
       "      <td>NaN</td>\n",
       "      <td>NaN</td>\n",
       "      <td>NaN</td>\n",
       "      <td>NaN</td>\n",
       "      <td>NaN</td>\n",
       "      <td>NaN</td>\n",
       "      <td>NaN</td>\n",
       "    </tr>\n",
       "    <tr>\n",
       "      <th>3</th>\n",
       "      <td>213</td>\n",
       "      <td>Mobile, Technology, Mobile &gt; Mobile Software T...</td>\n",
       "      <td>2008.0</td>\n",
       "      <td>90.0</td>\n",
       "      <td>London</td>\n",
       "      <td>United Kingdom</td>\n",
       "      <td>21579688.0</td>\n",
       "      <td>17500000.0</td>\n",
       "      <td>2013-09-04</td>\n",
       "      <td>Series B</td>\n",
       "      <td>Microsoft</td>\n",
       "      <td>2016-02-02</td>\n",
       "      <td>2.500000e+08</td>\n",
       "    </tr>\n",
       "    <tr>\n",
       "      <th>4</th>\n",
       "      <td>215</td>\n",
       "      <td>Technology &gt; Artificial Intelligence, Telecomm...</td>\n",
       "      <td>1984.0</td>\n",
       "      <td>1001.0</td>\n",
       "      <td>Seoul</td>\n",
       "      <td>South Korea</td>\n",
       "      <td>NaN</td>\n",
       "      <td>NaN</td>\n",
       "      <td>NaN</td>\n",
       "      <td>NaN</td>\n",
       "      <td>NaN</td>\n",
       "      <td>NaN</td>\n",
       "      <td>NaN</td>\n",
       "    </tr>\n",
       "  </tbody>\n",
       "</table>\n",
       "</div>"
      ],
      "text/plain": [
       "    id                                            markets  founded in  \\\n",
       "0   14  Internet > Cloud Computing, Big Data > Storage...      1994.0   \n",
       "1   16  Networking, Internet > Social Media, Mobile, E...      2003.0   \n",
       "2  125  Mobile, Technology > Artificial Intelligence, ...      1991.0   \n",
       "3  213  Mobile, Technology, Mobile > Mobile Software T...      2008.0   \n",
       "4  215  Technology > Artificial Intelligence, Telecomm...      1984.0   \n",
       "\n",
       "   employees headquarters         country  total raised (USD)  \\\n",
       "0   566000.0      Seattle   United States          56000000.0   \n",
       "1    10001.0    Sunnyvale   United States         206121421.0   \n",
       "2    22000.0        Tokyo           Japan                 NaN   \n",
       "3       90.0       London  United Kingdom          21579688.0   \n",
       "4     1001.0        Seoul     South Korea                 NaN   \n",
       "\n",
       "   latest_round_amount (USD) latest_round_date latest_round_type acquired_by  \\\n",
       "0                 48000000.0        1997-05-15               IPO         NaN   \n",
       "1                 81713488.0        2013-05-01   Post-IPO equity   Microsoft   \n",
       "2                        NaN               NaN               NaN         NaN   \n",
       "3                 17500000.0        2013-09-04          Series B   Microsoft   \n",
       "4                        NaN               NaN               NaN         NaN   \n",
       "\n",
       "  acquired_at  acquired_amount (USD)  \n",
       "0         NaN                    NaN  \n",
       "1  2016-06-13           2.600000e+10  \n",
       "2         NaN                    NaN  \n",
       "3  2016-02-02           2.500000e+08  \n",
       "4         NaN                    NaN  "
      ]
     },
     "execution_count": 387,
     "metadata": {},
     "output_type": "execute_result"
    }
   ],
   "source": [
    "#Let's have a first look at data\n",
    "ai.head()"
   ]
  },
  {
   "cell_type": "code",
   "execution_count": 388,
   "metadata": {},
   "outputs": [],
   "source": [
    "#replace spaces in column names by '_'\n",
    "ai.columns = [c.replace(' ', '_') for c in ai.columns]\n",
    "# remove '()' from column names\n",
    "ai.columns = [c.replace('(', '') for c in ai.columns]\n",
    "ai.columns = [c.replace(')', '') for c in ai.columns]"
   ]
  },
  {
   "cell_type": "code",
   "execution_count": 389,
   "metadata": {},
   "outputs": [
    {
     "data": {
      "text/html": [
       "<div>\n",
       "<style scoped>\n",
       "    .dataframe tbody tr th:only-of-type {\n",
       "        vertical-align: middle;\n",
       "    }\n",
       "\n",
       "    .dataframe tbody tr th {\n",
       "        vertical-align: top;\n",
       "    }\n",
       "\n",
       "    .dataframe thead th {\n",
       "        text-align: right;\n",
       "    }\n",
       "</style>\n",
       "<table border=\"1\" class=\"dataframe\">\n",
       "  <thead>\n",
       "    <tr style=\"text-align: right;\">\n",
       "      <th></th>\n",
       "      <th>id</th>\n",
       "      <th>markets</th>\n",
       "      <th>founded_in</th>\n",
       "      <th>employees</th>\n",
       "      <th>headquarters</th>\n",
       "      <th>country</th>\n",
       "      <th>total_raised_USD</th>\n",
       "      <th>latest_round_amount_USD</th>\n",
       "      <th>latest_round_date</th>\n",
       "      <th>latest_round_type</th>\n",
       "      <th>acquired_by</th>\n",
       "      <th>acquired_at</th>\n",
       "      <th>acquired_amount_USD</th>\n",
       "    </tr>\n",
       "  </thead>\n",
       "  <tbody>\n",
       "    <tr>\n",
       "      <th>0</th>\n",
       "      <td>14</td>\n",
       "      <td>Internet &gt; Cloud Computing, Big Data &gt; Storage...</td>\n",
       "      <td>1994.0</td>\n",
       "      <td>566000.0</td>\n",
       "      <td>Seattle</td>\n",
       "      <td>United States</td>\n",
       "      <td>56000000.0</td>\n",
       "      <td>48000000.0</td>\n",
       "      <td>1997-05-15</td>\n",
       "      <td>IPO</td>\n",
       "      <td>NaN</td>\n",
       "      <td>NaN</td>\n",
       "      <td>NaN</td>\n",
       "    </tr>\n",
       "  </tbody>\n",
       "</table>\n",
       "</div>"
      ],
      "text/plain": [
       "   id                                            markets  founded_in  \\\n",
       "0  14  Internet > Cloud Computing, Big Data > Storage...      1994.0   \n",
       "\n",
       "   employees headquarters        country  total_raised_USD  \\\n",
       "0   566000.0      Seattle  United States        56000000.0   \n",
       "\n",
       "   latest_round_amount_USD latest_round_date latest_round_type acquired_by  \\\n",
       "0               48000000.0        1997-05-15               IPO         NaN   \n",
       "\n",
       "  acquired_at  acquired_amount_USD  \n",
       "0         NaN                  NaN  "
      ]
     },
     "execution_count": 389,
     "metadata": {},
     "output_type": "execute_result"
    }
   ],
   "source": [
    "ai.head(1)"
   ]
  },
  {
   "cell_type": "code",
   "execution_count": 390,
   "metadata": {},
   "outputs": [
    {
     "name": "stdout",
     "output_type": "stream",
     "text": [
      "<class 'pandas.core.frame.DataFrame'>\n",
      "RangeIndex: 3269 entries, 0 to 3268\n",
      "Data columns (total 13 columns):\n",
      "id                         3269 non-null int64\n",
      "markets                    3269 non-null object\n",
      "founded_in                 2601 non-null float64\n",
      "employees                  2350 non-null float64\n",
      "headquarters               2899 non-null object\n",
      "country                    2930 non-null object\n",
      "total_raised_USD           1708 non-null float64\n",
      "latest_round_amount_USD    1748 non-null float64\n",
      "latest_round_date          1684 non-null object\n",
      "latest_round_type          1721 non-null object\n",
      "acquired_by                133 non-null object\n",
      "acquired_at                133 non-null object\n",
      "acquired_amount_USD        129 non-null float64\n",
      "dtypes: float64(5), int64(1), object(7)\n",
      "memory usage: 332.1+ KB\n"
     ]
    }
   ],
   "source": [
    "ai.info()"
   ]
  },
  {
   "cell_type": "code",
   "execution_count": 391,
   "metadata": {},
   "outputs": [
    {
     "data": {
      "text/plain": [
       "id                                                                        14\n",
       "markets                    Internet > Cloud Computing, Big Data > Storage...\n",
       "founded_in                                                              1994\n",
       "employees                                                             566000\n",
       "headquarters                                                         Seattle\n",
       "country                                                        United States\n",
       "total_raised_USD                                                     5.6e+07\n",
       "latest_round_amount_USD                                              4.8e+07\n",
       "latest_round_date                                                 1997-05-15\n",
       "latest_round_type                                                        IPO\n",
       "acquired_by                                                              NaN\n",
       "acquired_at                                                              NaN\n",
       "acquired_amount_USD                                                      NaN\n",
       "Name: 0, dtype: object"
      ]
     },
     "execution_count": 391,
     "metadata": {},
     "output_type": "execute_result"
    }
   ],
   "source": [
    "#Have a look at the first record\n",
    "ai.iloc[0]"
   ]
  },
  {
   "cell_type": "markdown",
   "metadata": {
    "heading_collapsed": true
   },
   "source": [
    "# Data preparation"
   ]
  },
  {
   "cell_type": "markdown",
   "metadata": {
    "heading_collapsed": true,
    "hidden": true
   },
   "source": [
    "## Clean-up and prepare the main dataframe\n"
   ]
  },
  {
   "cell_type": "code",
   "execution_count": 392,
   "metadata": {
    "hidden": true
   },
   "outputs": [
    {
     "name": "stdout",
     "output_type": "stream",
     "text": [
      "<class 'pandas.core.frame.DataFrame'>\n",
      "RangeIndex: 3269 entries, 0 to 3268\n",
      "Data columns (total 8 columns):\n",
      "markets                    3269 non-null object\n",
      "founded_in                 2601 non-null float64\n",
      "total_raised_USD           1708 non-null float64\n",
      "country                    2930 non-null object\n",
      "headquarters               2899 non-null object\n",
      "employees                  2350 non-null float64\n",
      "latest_round_amount_USD    1748 non-null float64\n",
      "latest_round_type          1721 non-null object\n",
      "dtypes: float64(4), object(4)\n",
      "memory usage: 204.4+ KB\n"
     ]
    }
   ],
   "source": [
    "#Prepare a basic dataframe (without unnecessary columns) \n",
    "ai_clean = ai[[\"markets\", 'founded_in', \"total_raised_USD\", 'country','headquarters', 'employees', \n",
    "              'latest_round_amount_USD', 'latest_round_type']]\n",
    "ai_clean.info()"
   ]
  },
  {
   "cell_type": "code",
   "execution_count": 393,
   "metadata": {
    "hidden": true
   },
   "outputs": [
    {
     "name": "stdout",
     "output_type": "stream",
     "text": [
      "<class 'pandas.core.frame.DataFrame'>\n",
      "RangeIndex: 3269 entries, 0 to 3268\n",
      "Data columns (total 13 columns):\n",
      "id                         3269 non-null int64\n",
      "markets                    3269 non-null object\n",
      "founded_in                 2601 non-null float64\n",
      "employees                  2350 non-null float64\n",
      "headquarters               2899 non-null object\n",
      "country                    2930 non-null object\n",
      "total_raised_USD           1708 non-null float64\n",
      "latest_round_amount_USD    1748 non-null float64\n",
      "latest_round_date          1684 non-null object\n",
      "latest_round_type          1721 non-null object\n",
      "acquired_by                133 non-null object\n",
      "acquired_at                133 non-null object\n",
      "acquired_amount_USD        129 non-null float64\n",
      "dtypes: float64(5), int64(1), object(7)\n",
      "memory usage: 332.1+ KB\n"
     ]
    }
   ],
   "source": [
    "ai.info()"
   ]
  },
  {
   "cell_type": "code",
   "execution_count": 394,
   "metadata": {
    "hidden": true
   },
   "outputs": [],
   "source": [
    "# convert funds raised from USD to USD milions\n",
    "pd.options.mode.chained_assignment = None  # disable some warnings\n",
    "\n",
    "ai_clean['total_raised_USD_milions'] = ai_clean['total_raised_USD']/1000000\n",
    "ai_clean['latest_round_amount_USD_milions'] = ai_clean['latest_round_amount_USD']/1000000"
   ]
  },
  {
   "cell_type": "code",
   "execution_count": 395,
   "metadata": {
    "hidden": true
   },
   "outputs": [],
   "source": [
    "ai_clean.drop(['total_raised_USD'], axis = 1, inplace = True)\n",
    "ai_clean.drop(['latest_round_amount_USD'], axis = 1, inplace = True)"
   ]
  },
  {
   "cell_type": "code",
   "execution_count": 396,
   "metadata": {
    "hidden": true
   },
   "outputs": [
    {
     "data": {
      "text/html": [
       "<div>\n",
       "<style scoped>\n",
       "    .dataframe tbody tr th:only-of-type {\n",
       "        vertical-align: middle;\n",
       "    }\n",
       "\n",
       "    .dataframe tbody tr th {\n",
       "        vertical-align: top;\n",
       "    }\n",
       "\n",
       "    .dataframe thead th {\n",
       "        text-align: right;\n",
       "    }\n",
       "</style>\n",
       "<table border=\"1\" class=\"dataframe\">\n",
       "  <thead>\n",
       "    <tr style=\"text-align: right;\">\n",
       "      <th></th>\n",
       "      <th>markets</th>\n",
       "      <th>founded_in</th>\n",
       "      <th>country</th>\n",
       "      <th>headquarters</th>\n",
       "      <th>employees</th>\n",
       "      <th>latest_round_type</th>\n",
       "      <th>total_raised_USD_milions</th>\n",
       "      <th>latest_round_amount_USD_milions</th>\n",
       "    </tr>\n",
       "  </thead>\n",
       "  <tbody>\n",
       "    <tr>\n",
       "      <th>0</th>\n",
       "      <td>Internet &gt; Cloud Computing, Big Data &gt; Storage...</td>\n",
       "      <td>1994.0</td>\n",
       "      <td>United States</td>\n",
       "      <td>Seattle</td>\n",
       "      <td>566000.0</td>\n",
       "      <td>IPO</td>\n",
       "      <td>56.000000</td>\n",
       "      <td>48.000000</td>\n",
       "    </tr>\n",
       "    <tr>\n",
       "      <th>1</th>\n",
       "      <td>Networking, Internet &gt; Social Media, Mobile, E...</td>\n",
       "      <td>2003.0</td>\n",
       "      <td>United States</td>\n",
       "      <td>Sunnyvale</td>\n",
       "      <td>10001.0</td>\n",
       "      <td>Post-IPO equity</td>\n",
       "      <td>206.121421</td>\n",
       "      <td>81.713488</td>\n",
       "    </tr>\n",
       "    <tr>\n",
       "      <th>2</th>\n",
       "      <td>Mobile, Technology &gt; Artificial Intelligence, ...</td>\n",
       "      <td>1991.0</td>\n",
       "      <td>Japan</td>\n",
       "      <td>Tokyo</td>\n",
       "      <td>22000.0</td>\n",
       "      <td>NaN</td>\n",
       "      <td>NaN</td>\n",
       "      <td>NaN</td>\n",
       "    </tr>\n",
       "  </tbody>\n",
       "</table>\n",
       "</div>"
      ],
      "text/plain": [
       "                                             markets  founded_in  \\\n",
       "0  Internet > Cloud Computing, Big Data > Storage...      1994.0   \n",
       "1  Networking, Internet > Social Media, Mobile, E...      2003.0   \n",
       "2  Mobile, Technology > Artificial Intelligence, ...      1991.0   \n",
       "\n",
       "         country headquarters  employees latest_round_type  \\\n",
       "0  United States      Seattle   566000.0               IPO   \n",
       "1  United States    Sunnyvale    10001.0   Post-IPO equity   \n",
       "2          Japan        Tokyo    22000.0               NaN   \n",
       "\n",
       "   total_raised_USD_milions  latest_round_amount_USD_milions  \n",
       "0                 56.000000                        48.000000  \n",
       "1                206.121421                        81.713488  \n",
       "2                       NaN                              NaN  "
      ]
     },
     "execution_count": 396,
     "metadata": {},
     "output_type": "execute_result"
    }
   ],
   "source": [
    "ai_clean.head(3)"
   ]
  },
  {
   "cell_type": "markdown",
   "metadata": {
    "heading_collapsed": true,
    "hidden": true
   },
   "source": [
    "## Identify and categorise technologies and markets"
   ]
  },
  {
   "cell_type": "markdown",
   "metadata": {
    "hidden": true
   },
   "source": [
    "In this section we extract technologies and industries from \"markets\" column.\n",
    "\n",
    "At the moment it is a string of unordered tags. We will transform it into a large set of \"dummy\" variables: columns with names equal to tags and value = 1 in case company has it in a \"market\" column and 0 in case a given tag is absent."
   ]
  },
  {
   "cell_type": "markdown",
   "metadata": {
    "heading_collapsed": true,
    "hidden": true
   },
   "source": [
    "### Visualize TAGs with wordcloud\n",
    "\n",
    "Pure statistics are boring... Let's visualize the most popular TAGs with wordcloud!"
   ]
  },
  {
   "cell_type": "code",
   "execution_count": 397,
   "metadata": {
    "hidden": true
   },
   "outputs": [],
   "source": [
    "from PIL import Image\n",
    "from wordcloud import WordCloud, STOPWORDS, ImageColorGenerator"
   ]
  },
  {
   "cell_type": "code",
   "execution_count": 398,
   "metadata": {
    "hidden": true
   },
   "outputs": [],
   "source": [
    "text = ''\n",
    "r = ai.shape[0]\n",
    "for i in range(0, r):\n",
    "    text = text + ai['markets'][i]"
   ]
  },
  {
   "cell_type": "code",
   "execution_count": 399,
   "metadata": {
    "hidden": true
   },
   "outputs": [
    {
     "data": {
      "image/png": "[encoded data removed]",
      "text/plain": [
       "<Figure size 432x288 with 1 Axes>"
      ]
     },
     "metadata": {
      "needs_background": "light"
     },
     "output_type": "display_data"
    }
   ],
   "source": [
    "# Create and generate a word cloud image:\n",
    "wordcloud = WordCloud(width=1600, height=800).generate(text)\n",
    "\n",
    "# Display the generated image:\n",
    "plt.imshow(wordcloud, interpolation='bilinear')\n",
    "plt.axis(\"off\")\n",
    "plt.show()\n",
    "\n",
    "#uncomment to store a picture ine a \"wordclouds\" subdir (have it created beforehand)\n",
    "#wordcloud.to_file(\"wordclouds/1.png\")"
   ]
  },
  {
   "cell_type": "markdown",
   "metadata": {
    "hidden": true
   },
   "source": [
    "As you can see, \"Big Data\" dominates. Let's strip it to see what's under the cover..."
   ]
  },
  {
   "cell_type": "code",
   "execution_count": 400,
   "metadata": {
    "hidden": true
   },
   "outputs": [
    {
     "data": {
      "image/png": "[encoded data removed]",
      "text/plain": [
       "<Figure size 432x288 with 1 Axes>"
      ]
     },
     "metadata": {
      "needs_background": "light"
     },
     "output_type": "display_data"
    }
   ],
   "source": [
    "stripped = text.replace('Big Data', \"\")\n",
    "wordcloud = WordCloud(width=1600, height=800).generate(stripped)\n",
    "\n",
    "# Display the generated image:\n",
    "plt.imshow(wordcloud, interpolation='bilinear')\n",
    "plt.axis(\"off\")\n",
    "plt.show()\n",
    "\n",
    "#wordcloud.to_file(\"wordclouds/2.png\")\n"
   ]
  },
  {
   "cell_type": "markdown",
   "metadata": {
    "hidden": true
   },
   "source": [
    "I encourage you to continue stripping the most visible TAGs. A very interesting patterns appear and, last but not least, that's a \"real\" data MINING :)"
   ]
  },
  {
   "cell_type": "markdown",
   "metadata": {
    "heading_collapsed": true,
    "hidden": true
   },
   "source": [
    "### Clean-up markets entries\n",
    "\n",
    "Now it's time to identify TAGs out of the chaotic, large strings. We start with some basic cleansing."
   ]
  },
  {
   "cell_type": "code",
   "execution_count": 401,
   "metadata": {
    "hidden": true
   },
   "outputs": [
    {
     "name": "stdout",
     "output_type": "stream",
     "text": [
      "0    Internet > Cloud Computing, Big Data > Storage...\n",
      "1    Networking, Internet > Social Media, Mobile, E...\n",
      "2    Mobile, Technology > Artificial Intelligence, ...\n",
      "3    Mobile, Technology, Mobile > Mobile Software T...\n",
      "4    Technology > Artificial Intelligence, Telecomm...\n",
      "Name: markets, dtype: object\n",
      "(3269,)\n"
     ]
    }
   ],
   "source": [
    "# First, we extract a market column\n",
    "markets = ai_clean['markets']\n",
    "print(markets.head())\n",
    "print(markets.shape)"
   ]
  },
  {
   "cell_type": "code",
   "execution_count": 402,
   "metadata": {
    "hidden": true
   },
   "outputs": [
    {
     "data": {
      "text/plain": [
       "0    internet,cloud computing,big data,storage,inte...\n",
       "1    networking,internet,social media,mobile,e-comm...\n",
       "2    mobile,technology,artificial intelligence,tele...\n",
       "3    mobile,technology,mobile,mobile software tools...\n",
       "4    technology,artificial intelligence,telecommuni...\n",
       "Name: markets, dtype: object"
      ]
     },
     "execution_count": 402,
     "metadata": {},
     "output_type": "execute_result"
    }
   ],
   "source": [
    "#Let's strip whitespaces and \">\"\n",
    "markets = markets.str.strip()\n",
    "markets = markets.str.replace('>',',').str.lower()\n",
    "markets = markets.str.replace(' ,',',')\n",
    "markets = markets.str.replace(', ',',')\n",
    "markets.head()"
   ]
  },
  {
   "cell_type": "code",
   "execution_count": 403,
   "metadata": {
    "hidden": true
   },
   "outputs": [
    {
     "data": {
      "text/plain": [
       "technology,artificial intelligence                                                                                                                                                                                                                                                           101\n",
       "big data,machine learning                                                                                                                                                                                                                                                                     44\n",
       "big data,machine learning,technology,artificial intelligence                                                                                                                                                                                                                                  33\n",
       "robotics,technology,artificial intelligence                                                                                                                                                                                                                                                   22\n",
       "technology,artificial intelligence,software                                                                                                                                                                                                                                                   17\n",
       "technology,artificial intelligence,health care                                                                                                                                                                                                                                                12\n",
       "big data,big data,machine learning                                                                                                                                                                                                                                                            11\n",
       "big data,machine learning,natural language processing,big data,machine learning,technology,artificial intelligence                                                                                                                                                                            10\n",
       "recruiting,technology,artificial intelligence,businesses,human resources                                                                                                                                                                                                                       9\n",
       "services,customer service,technology,artificial intelligence                                                                                                                                                                                                                                   9\n",
       "big data,machine learning,technology,artificial intelligence,software                                                                                                                                                                                                                          9\n",
       "big data,machine learning,software                                                                                                                                                                                                                                                             8\n",
       "technology,artificial intelligence,finance,fintech,blockchain                                                                                                                                                                                                                                  8\n",
       "mobile,technology,artificial intelligence                                                                                                                                                                                                                                                      8\n",
       "big data,big data,machine learning,technology,artificial intelligence                                                                                                                                                                                                                          8\n",
       "analytics,technology,artificial intelligence                                                                                                                                                                                                                                                   7\n",
       "software,enterprise software,analytics,big data,technology,artificial intelligence                                                                                                                                                                                                             7\n",
       "education,technology,artificial intelligence                                                                                                                                                                                                                                                   6\n",
       "technology,technology,artificial intelligence                                                                                                                                                                                                                                                  6\n",
       "analytics,big data,technology,artificial intelligence,internet of things                                                                                                                                                                                                                       6\n",
       "analytics,big data,technology,artificial intelligence                                                                                                                                                                                                                                          6\n",
       "technology,artificial intelligence,data science,computer vision                                                                                                                                                                                                                                6\n",
       "analytics,big data,big data,machine learning                                                                                                                                                                                                                                                   6\n",
       "software,enterprise software,technology,artificial intelligence                                                                                                                                                                                                                                5\n",
       "big data,machine learning,natural language processing,big data,machine learning                                                                                                                                                                                                                5\n",
       "big data,machine learning,natural language processing,speech recognition,software                                                                                                                                                                                                              5\n",
       "technology,artificial intelligence,technology,biotechnology                                                                                                                                                                                                                                    5\n",
       "big data,machine learning,security,cyber security                                                                                                                                                                                                                                              5\n",
       "recruiting,technology,artificial intelligence                                                                                                                                                                                                                                                  5\n",
       "technology,artificial intelligence,health care,medical                                                                                                                                                                                                                                         5\n",
       "                                                                                                                                                                                                                                                                                            ... \n",
       "businesses,venture capital,robotics,technology,artificial intelligence,internet of things                                                                                                                                                                                                      1\n",
       "analytics,big data,technology,artificial intelligence,software,enterprise software,market research,psychology                                                                                                                                                                                  1\n",
       "analytics,marketing,crm,technology,artificial intelligence,internet of things                                                                                                                                                                                                                  1\n",
       "software,enterprise software,collaboration,technology,artificial intelligence                                                                                                                                                                                                                  1\n",
       "e-commerce,consumer goods,fashion,big data,machine learning                                                                                                                                                                                                                                    1\n",
       "big data,machine learning,technology,artificial intelligence,software,communication,chat                                                                                                                                                                                                       1\n",
       "technology,big data,image recognition,big data,machine learning,technology,artificial intelligence                                                                                                                                                                                             1\n",
       "mobile,consumer goods,fashion,big data,big data,machine learning,retail,retail technology                                                                                                                                                                                                      1\n",
       "recruiting,big data,machine learning,recruiting,employment,gamification                                                                                                                                                                                                                        1\n",
       "internet,search,internet,social media,social,communities,reviews and recommendations,big data,social,social search,big data,machine learning                                                                                                                                                   1\n",
       "technology,artificial intelligence,pets,monitoring                                                                                                                                                                                                                                             1\n",
       "media,music,internet,saas,media,audio,technology,artificial intelligence,media,social network media,music services                                                                                                                                                                             1\n",
       "mobile,technology,mobile,mobile software tools,software,enterprise software,big data,big data,machine learning,natural language processing,big data,machine learning,software,technology,deep tech                                                                                             1\n",
       "software,enterprise software,internet,saas,analytics,big data,technology,artificial intelligence,sales and marketing,sales automation,sales and marketing,lead generation,sales and marketing,sales tools                                                                                      1\n",
       "internet,cloud computing,technology,finance,internet,big data,big data,machine learning,technology,artificial intelligence,technology,deep tech                                                                                                                                                1\n",
       "technology,internet,big data,big data,machine learning,natural language processing,big data,machine learning,technology,data mining,robotics,technology,artificial intelligence,internet,consumer internet,privacy,internet,consumer internet,development,research                             1\n",
       "services,business services,big data,machine learning                                                                                                                                                                                                                                           1\n",
       "health,personal health,technology,artificial intelligence,health care,communication,chat                                                                                                                                                                                                       1\n",
       "big data,big data analytics,internet,saas,analytics,technology,artificial intelligence                                                                                                                                                                                                         1\n",
       "internet,social media,internet,consumer internet,browser extensions,big data,machine learning,internet,web browsers,software                                                                                                                                                                   1\n",
       "photography,photo sharing,technology,artificial intelligence,internet,social network                                                                                                                                                                                                           1\n",
       "big data,big data,machine learning,natural language processing,big data,machine learning,robotics,data science,computer vision,data science                                                                                                                                                    1\n",
       "internet,technology,artificial intelligence,hardware + software                                                                                                                                                                                                                                1\n",
       "software,enterprise software,internet,saas,collaboration,big data,machine learning                                                                                                                                                                                                             1\n",
       "big data,machine learning,natural language processing,big data,machine learning,technology,artificial intelligence,internet of things,analytics,text analytics                                                                                                                                 1\n",
       "services,business services,industry,manufacturing,technology,artificial intelligence,consumer electronics,wearables,augmented reality,services,business services,agency,software,apps,app development                                                                                          1\n",
       "technology,artificial intelligence,information services                                                                                                                                                                                                                                        1\n",
       "personalization,big data,big data,machine learning,internet,consumer internet,privacy,api                                                                                                                                                                                                      1\n",
       "technology,information technology,software,enterprise software,internet,saas,marketing,business intelligence,technology,artificial intelligence,legal,finance,financial services,professional services,finance,insurance,telecommunications,sales and marketing,sales automation,software      1\n",
       "big data,education,big data,machine learning,analytics,predictive analytics,data science                                                                                                                                                                                                       1\n",
       "Name: markets, Length: 2662, dtype: int64"
      ]
     },
     "execution_count": 403,
     "metadata": {},
     "output_type": "execute_result"
    }
   ],
   "source": [
    "#Let's look at frequency of different phrases\n",
    "markets.value_counts()"
   ]
  },
  {
   "cell_type": "markdown",
   "metadata": {
    "heading_collapsed": true,
    "hidden": true
   },
   "source": [
    "### Create dummy variables\n",
    "\n",
    "Now it's time to create dummy variables. We will apply a dedicated Pandas function (pd.get_dummies())"
   ]
  },
  {
   "cell_type": "code",
   "execution_count": 404,
   "metadata": {
    "hidden": true
   },
   "outputs": [
    {
     "data": {
      "text/plain": [
       "(3269, 507)"
      ]
     },
     "execution_count": 404,
     "metadata": {},
     "output_type": "execute_result"
    }
   ],
   "source": [
    "markets = markets.str.get_dummies(sep=',')\n",
    "markets.shape"
   ]
  },
  {
   "cell_type": "markdown",
   "metadata": {
    "hidden": true
   },
   "source": [
    "We obtain more than 500 different tags..."
   ]
  },
  {
   "cell_type": "code",
   "execution_count": 405,
   "metadata": {
    "hidden": true
   },
   "outputs": [
    {
     "data": {
      "text/html": [
       "<div>\n",
       "<style scoped>\n",
       "    .dataframe tbody tr th:only-of-type {\n",
       "        vertical-align: middle;\n",
       "    }\n",
       "\n",
       "    .dataframe tbody tr th {\n",
       "        vertical-align: top;\n",
       "    }\n",
       "\n",
       "    .dataframe thead th {\n",
       "        text-align: right;\n",
       "    }\n",
       "</style>\n",
       "<table border=\"1\" class=\"dataframe\">\n",
       "  <thead>\n",
       "    <tr style=\"text-align: right;\">\n",
       "      <th></th>\n",
       "      <th>3d</th>\n",
       "      <th>3d printing</th>\n",
       "      <th>3d technology</th>\n",
       "      <th>accelerator</th>\n",
       "      <th>accounting</th>\n",
       "      <th>adtech</th>\n",
       "      <th>advertising</th>\n",
       "      <th>advertising platforms</th>\n",
       "      <th>aerospace</th>\n",
       "      <th>affiliates</th>\n",
       "      <th>...</th>\n",
       "      <th>web development</th>\n",
       "      <th>web hosting</th>\n",
       "      <th>web scraping</th>\n",
       "      <th>web service</th>\n",
       "      <th>web tools</th>\n",
       "      <th>webcare</th>\n",
       "      <th>weddings</th>\n",
       "      <th>wifi</th>\n",
       "      <th>wireless</th>\n",
       "      <th>writers</th>\n",
       "    </tr>\n",
       "  </thead>\n",
       "  <tbody>\n",
       "    <tr>\n",
       "      <th>0</th>\n",
       "      <td>0</td>\n",
       "      <td>0</td>\n",
       "      <td>0</td>\n",
       "      <td>0</td>\n",
       "      <td>0</td>\n",
       "      <td>0</td>\n",
       "      <td>0</td>\n",
       "      <td>0</td>\n",
       "      <td>0</td>\n",
       "      <td>0</td>\n",
       "      <td>...</td>\n",
       "      <td>1</td>\n",
       "      <td>0</td>\n",
       "      <td>0</td>\n",
       "      <td>0</td>\n",
       "      <td>0</td>\n",
       "      <td>0</td>\n",
       "      <td>0</td>\n",
       "      <td>0</td>\n",
       "      <td>0</td>\n",
       "      <td>0</td>\n",
       "    </tr>\n",
       "    <tr>\n",
       "      <th>1</th>\n",
       "      <td>0</td>\n",
       "      <td>0</td>\n",
       "      <td>0</td>\n",
       "      <td>0</td>\n",
       "      <td>0</td>\n",
       "      <td>0</td>\n",
       "      <td>0</td>\n",
       "      <td>0</td>\n",
       "      <td>0</td>\n",
       "      <td>0</td>\n",
       "      <td>...</td>\n",
       "      <td>0</td>\n",
       "      <td>0</td>\n",
       "      <td>0</td>\n",
       "      <td>0</td>\n",
       "      <td>0</td>\n",
       "      <td>0</td>\n",
       "      <td>0</td>\n",
       "      <td>0</td>\n",
       "      <td>0</td>\n",
       "      <td>0</td>\n",
       "    </tr>\n",
       "    <tr>\n",
       "      <th>2</th>\n",
       "      <td>0</td>\n",
       "      <td>0</td>\n",
       "      <td>0</td>\n",
       "      <td>0</td>\n",
       "      <td>0</td>\n",
       "      <td>0</td>\n",
       "      <td>0</td>\n",
       "      <td>0</td>\n",
       "      <td>0</td>\n",
       "      <td>0</td>\n",
       "      <td>...</td>\n",
       "      <td>0</td>\n",
       "      <td>0</td>\n",
       "      <td>0</td>\n",
       "      <td>0</td>\n",
       "      <td>0</td>\n",
       "      <td>0</td>\n",
       "      <td>0</td>\n",
       "      <td>0</td>\n",
       "      <td>0</td>\n",
       "      <td>0</td>\n",
       "    </tr>\n",
       "    <tr>\n",
       "      <th>3</th>\n",
       "      <td>0</td>\n",
       "      <td>0</td>\n",
       "      <td>0</td>\n",
       "      <td>0</td>\n",
       "      <td>0</td>\n",
       "      <td>0</td>\n",
       "      <td>0</td>\n",
       "      <td>0</td>\n",
       "      <td>0</td>\n",
       "      <td>0</td>\n",
       "      <td>...</td>\n",
       "      <td>0</td>\n",
       "      <td>0</td>\n",
       "      <td>0</td>\n",
       "      <td>0</td>\n",
       "      <td>0</td>\n",
       "      <td>0</td>\n",
       "      <td>0</td>\n",
       "      <td>0</td>\n",
       "      <td>0</td>\n",
       "      <td>0</td>\n",
       "    </tr>\n",
       "    <tr>\n",
       "      <th>4</th>\n",
       "      <td>0</td>\n",
       "      <td>0</td>\n",
       "      <td>0</td>\n",
       "      <td>0</td>\n",
       "      <td>0</td>\n",
       "      <td>0</td>\n",
       "      <td>0</td>\n",
       "      <td>0</td>\n",
       "      <td>0</td>\n",
       "      <td>0</td>\n",
       "      <td>...</td>\n",
       "      <td>0</td>\n",
       "      <td>0</td>\n",
       "      <td>0</td>\n",
       "      <td>0</td>\n",
       "      <td>0</td>\n",
       "      <td>0</td>\n",
       "      <td>0</td>\n",
       "      <td>0</td>\n",
       "      <td>0</td>\n",
       "      <td>0</td>\n",
       "    </tr>\n",
       "  </tbody>\n",
       "</table>\n",
       "<p>5 rows × 507 columns</p>\n",
       "</div>"
      ],
      "text/plain": [
       "   3d  3d printing  3d technology  accelerator  accounting  adtech  \\\n",
       "0   0            0              0            0           0       0   \n",
       "1   0            0              0            0           0       0   \n",
       "2   0            0              0            0           0       0   \n",
       "3   0            0              0            0           0       0   \n",
       "4   0            0              0            0           0       0   \n",
       "\n",
       "   advertising  advertising platforms  aerospace  affiliates   ...     \\\n",
       "0            0                      0          0           0   ...      \n",
       "1            0                      0          0           0   ...      \n",
       "2            0                      0          0           0   ...      \n",
       "3            0                      0          0           0   ...      \n",
       "4            0                      0          0           0   ...      \n",
       "\n",
       "   web development  web hosting  web scraping  web service  web tools  \\\n",
       "0                1            0             0            0          0   \n",
       "1                0            0             0            0          0   \n",
       "2                0            0             0            0          0   \n",
       "3                0            0             0            0          0   \n",
       "4                0            0             0            0          0   \n",
       "\n",
       "   webcare  weddings  wifi  wireless  writers  \n",
       "0        0         0     0         0        0  \n",
       "1        0         0     0         0        0  \n",
       "2        0         0     0         0        0  \n",
       "3        0         0     0         0        0  \n",
       "4        0         0     0         0        0  \n",
       "\n",
       "[5 rows x 507 columns]"
      ]
     },
     "execution_count": 405,
     "metadata": {},
     "output_type": "execute_result"
    }
   ],
   "source": [
    "markets.head()"
   ]
  },
  {
   "cell_type": "markdown",
   "metadata": {
    "hidden": true
   },
   "source": [
    "### Identify tags"
   ]
  },
  {
   "cell_type": "code",
   "execution_count": 406,
   "metadata": {
    "hidden": true
   },
   "outputs": [
    {
     "data": {
      "text/plain": [
       "Index(['3d', '3d printing', '3d technology', 'accelerator', 'accounting',\n",
       "       'adtech', 'advertising', 'advertising platforms', 'aerospace',\n",
       "       'affiliates',\n",
       "       ...\n",
       "       'web development', 'web hosting', 'web scraping', 'web service',\n",
       "       'web tools', 'webcare', 'weddings', 'wifi', 'wireless', 'writers'],\n",
       "      dtype='object', length=507)"
      ]
     },
     "execution_count": 406,
     "metadata": {},
     "output_type": "execute_result"
    }
   ],
   "source": [
    "markets.columns"
   ]
  },
  {
   "cell_type": "code",
   "execution_count": 407,
   "metadata": {
    "hidden": true
   },
   "outputs": [
    {
     "data": {
      "text/plain": [
       "(3269, 507)"
      ]
     },
     "execution_count": 407,
     "metadata": {},
     "output_type": "execute_result"
    }
   ],
   "source": [
    "markets.shape"
   ]
  },
  {
   "cell_type": "markdown",
   "metadata": {
    "heading_collapsed": true,
    "hidden": true
   },
   "source": [
    "### Identify categories"
   ]
  },
  {
   "cell_type": "markdown",
   "metadata": {
    "hidden": true
   },
   "source": [
    "As you can see, there are some phrases (eg. '3d', 'advertising', etc.) which repeat over and over ...\n",
    "These repeating words are good candidates for meta-categories. Let's find them."
   ]
  },
  {
   "cell_type": "markdown",
   "metadata": {
    "hidden": true
   },
   "source": [
    "First, let's identify these repeating words by counting their freqencies."
   ]
  },
  {
   "cell_type": "code",
   "execution_count": 408,
   "metadata": {
    "hidden": true
   },
   "outputs": [
    {
     "data": {
      "text/plain": [
       "array(['3d', '3d printing', '3d technology', 'accelerator', 'accounting',\n",
       "       'adtech', 'advertising', 'advertising platforms', 'aerospace',\n",
       "       'affiliates', 'agency', 'agriculture', 'algorithms', 'analytics',\n",
       "       'android', 'api', 'app', 'app design', 'app development',\n",
       "       'app marketing', 'app stores', 'application platforms', 'apps',\n",
       "       'architecture', 'art', 'artificial intelligence', 'auctions',\n",
       "       'audio', 'augmented reality', 'automotive', 'autonomous vehicles',\n",
       "       'banking', 'beauty', 'beer', 'big data', 'big data analytics',\n",
       "       'biometrics', 'biotechnology', 'bitcoin', 'blockchain',\n",
       "       'blogging platforms', 'booking', 'brand marketing', 'broadcasting',\n",
       "       'brokers', 'browser extensions', 'business analytics',\n",
       "       'business development', 'business information systems',\n",
       "       'business intelligence', 'business productivity',\n",
       "       'business services', 'businesses', 'cad', 'calendars', 'cannabis',\n",
       "       'career management', 'career planning', 'cars', 'chat',\n",
       "       'classifieds', 'clean energy', 'clean technology',\n",
       "       'clinical trials', 'cloud computing', 'cloud data services',\n",
       "       'cloud infrastructure', 'cloud management', 'cloud security',\n",
       "       'cloud storage', 'coffee', 'collaboration',\n",
       "       'collaborative consumption', 'college recruiting', 'colleges',\n",
       "       'commercial real estate', 'communication', 'communications',\n",
       "       'communications hardware', 'communications infrastructure',\n",
       "       'communities', 'community management', 'computer vision',\n",
       "       'computers', 'construction', 'consulting', 'consumer electronics',\n",
       "       'consumer goods', 'consumer internet', 'consumer lending',\n",
       "       'consumers', 'contact management', 'content', 'content creators',\n",
       "       'content delivery', 'content delivery networks',\n",
       "       'content discovery', 'content marketing', 'content planning',\n",
       "       'content syndication', 'contests', 'conversion optimization',\n",
       "       'cooking', 'cosmetics', 'coupons', 'coworking', 'creative', 'crm',\n",
       "       'crowdfunding', 'crowdsourcing', 'cryptocurrency', 'curated web',\n",
       "       'customer service', 'customer support tools', 'cyber security',\n",
       "       'data architecture', 'data centers', 'data integration',\n",
       "       'data mining', 'data science', 'data security',\n",
       "       'data visualization', 'databases', 'dating', 'deals',\n",
       "       'deep learning', 'deep tech', 'delivery', 'design',\n",
       "       'desktop automation', 'developer apis', 'developer tools',\n",
       "       'development', 'development platforms', 'diagnostics', 'digital',\n",
       "       'digital marketing', 'digital media', 'direct marketing',\n",
       "       'discounts', 'discovery', 'document management', 'drones',\n",
       "       'e-commerce', 'e-commerce platforms', 'e-learning', 'ediscovery',\n",
       "       'edtech', 'education', 'educational games', 'electric vehicles',\n",
       "       'electronics', 'email', 'email marketing', 'emerging markets',\n",
       "       'employment', 'energy', 'energy efficiency', 'enterprise',\n",
       "       'enterprise search', 'enterprise software', 'enterprises',\n",
       "       'entertainment', 'entertainment service provider', 'entrepreneur',\n",
       "       'esports', 'event management', 'event marketing', 'events',\n",
       "       'exchanges', 'face recognition', 'facebook applications',\n",
       "       'fashion', 'file sharing', 'film', 'finance', 'financial services',\n",
       "       'fintech', 'fitness', 'fleet management', 'food',\n",
       "       'food and drinks', 'food delivery', 'food processing', 'food tech',\n",
       "       'fraud detection', 'freelancers', 'games', 'gamification',\n",
       "       'gaming', 'genealogy', 'gis', 'governments', 'gps', 'graphics',\n",
       "       'green', 'groceries', 'hardware', 'hardware + software', 'health',\n",
       "       'health and insurance', 'health and wellness', 'health care',\n",
       "       'health care information technology', 'health diagnostics',\n",
       "       'healthcare services', 'home & garden', 'home automation',\n",
       "       'home decor', 'homeland security', 'hospitality', 'hospitals',\n",
       "       'hotels', 'human resource automation', 'human resources',\n",
       "       'humanitarian', 'idea management', 'identity',\n",
       "       'identity management', 'image recognition',\n",
       "       'industrial automation', 'industry', 'influencer relations',\n",
       "       'information security', 'information services',\n",
       "       'information technology', 'infrastructure',\n",
       "       'innovation engineering', 'insurance',\n",
       "       'intellectual asset management', 'intelligent systems',\n",
       "       'interior design', 'internet', 'internet marketing',\n",
       "       'internet of things', 'internet tv', 'investment',\n",
       "       'investment management', 'ios', 'iphone', 'it management',\n",
       "       'journalism', 'k-12 education', 'kids', 'knowledge management',\n",
       "       'language learning', 'lasers', 'lead generation', 'learning',\n",
       "       'legal', 'legal tech', 'leisure', 'licensing', 'life sciences',\n",
       "       'lifestyle', 'local advertising', 'local based services',\n",
       "       'local businesses', 'local search', 'localization',\n",
       "       'location based services', 'logistics', 'loyalty programs',\n",
       "       'luxury', 'm2m', 'machine learning', 'management', 'manufacturing',\n",
       "       'maps', 'maritime', 'market research', 'marketing',\n",
       "       'marketing automation', 'marketing communications',\n",
       "       'marketing intelligence', 'marketplaces', 'media', 'mediatech',\n",
       "       'medical', 'medical devices', 'meeting software', 'messaging',\n",
       "       'microservices', 'mobile', 'mobile advertising',\n",
       "       'mobile analytics', 'mobile applications', 'mobile commerce',\n",
       "       'mobile enterprise', 'mobile games', 'mobile health',\n",
       "       'mobile marketing', 'mobile payments', 'mobile security',\n",
       "       'mobile software tools', 'monetization', 'monitoring', 'music',\n",
       "       'music services', 'nanotechnology', 'natural language processing',\n",
       "       'navigation', 'network security', 'networking',\n",
       "       'new product development', 'news', 'nfc', 'nightlife',\n",
       "       'nonprofits', 'nutrition', 'office space', 'on demand services',\n",
       "       'online booking', 'online dating', 'online marketing',\n",
       "       'online rental', 'online reservations', 'online shopping',\n",
       "       'online travel', 'online video advertising', 'open source',\n",
       "       'optimization', 'organizational tools', 'outsourcing', 'paas',\n",
       "       'parenting', 'parking', 'payments', 'peer-to-peer',\n",
       "       'performance marketing', 'personal data', 'personal finance',\n",
       "       'personal health', 'personalization', 'pets', 'pharmaceuticals',\n",
       "       'photo editing', 'photo sharing', 'photo tech', 'photography',\n",
       "       'podcasting', 'politics', 'predictive analytics',\n",
       "       'price comparison', 'printing', 'privacy',\n",
       "       'private social networking', 'product design', 'product discovery',\n",
       "       'productivity software', 'professional networking',\n",
       "       'professional services', 'project management',\n",
       "       'property management', 'prototyping', 'psychology',\n",
       "       'public relations', 'public safety', 'public transportation',\n",
       "       'publishers', 'publishing', 'quantified self', 'quantum computing',\n",
       "       'radio', 'reading apps', 'real estate', 'real time', 'recipes',\n",
       "       'recruiting', 'recycling', 'renewable energies', 'reputation',\n",
       "       'research', 'restaurants', 'retail', 'retail technology',\n",
       "       'revenue drivers', 'reviews and recommendations', 'ride sharing',\n",
       "       'risk management', 'robotics', 'saas', 'sales and marketing',\n",
       "       'sales automation', 'sales enablement', 'sales tools',\n",
       "       'scheduling', 'science', 'search', 'search marketing', 'security',\n",
       "       'seed capital', 'semantic search', 'semantic web',\n",
       "       'semiconductors', 'seniors', 'sensors', 'seo', 'service providers',\n",
       "       'services', 'sharing economy', 'shipping', 'shopping',\n",
       "       'skill assessment', 'small and medium businesses',\n",
       "       'small business', 'smart grids', 'smart home', 'sms', 'social',\n",
       "       'social + mobile + local', 'social bookmarking', 'social business',\n",
       "       'social commerce', 'social crm', 'social entrepreneurship',\n",
       "       'social games', 'social learning', 'social media',\n",
       "       'social media advertising', 'social media management',\n",
       "       'social media marketing', 'social media monitoring',\n",
       "       'social media platforms', 'social network', 'social network media',\n",
       "       'social recruiting', 'social search', 'social travel',\n",
       "       'societal impact', 'software', 'software compliance',\n",
       "       'spam filtering', 'speech recognition', 'sponsorship',\n",
       "       'sporting goods', 'sports', 'sports technology', 'startups',\n",
       "       'stock exchanges', 'storage', 'storytelling', 'strategy',\n",
       "       'subscription service', 'supply chain management', 'surveys',\n",
       "       'sustainability', 'tablets', 'task management', 'teachers',\n",
       "       'teaching', 'tech field support', 'tech support', 'technology',\n",
       "       'telecommunications', 'television', 'testing', 'text analytics',\n",
       "       'therapeutics', 'ticketing', 'tourism', 'toys', 'tracking',\n",
       "       'trading', 'training', 'translation', 'translation services',\n",
       "       'transportation', 'travel', 'travel & tourism', 'tutoring',\n",
       "       'unified communications', 'usability', 'user experience design',\n",
       "       'user testing', 'utilities', 'vehicles', 'venture capital',\n",
       "       'vertical search', 'video', 'video chat', 'video conferencing',\n",
       "       'video editing', 'video games', 'video on demand',\n",
       "       'video streaming', 'virtual currency', 'virtual reality',\n",
       "       'virtual worlds', 'virtualization', 'visual search',\n",
       "       'visualization', 'voip', 'wearables', 'web apps', 'web browsers',\n",
       "       'web design', 'web development', 'web hosting', 'web scraping',\n",
       "       'web service', 'web tools', 'webcare', 'weddings', 'wifi',\n",
       "       'wireless', 'writers'], dtype=object)"
      ]
     },
     "execution_count": 408,
     "metadata": {},
     "output_type": "execute_result"
    }
   ],
   "source": [
    "tags_list = []\n",
    "for x in markets.columns:\n",
    "    tags_list.extend(x.split(','))\n",
    "    \n",
    "tags_list = pd.unique(tags_list)\n",
    "tags_list"
   ]
  },
  {
   "cell_type": "code",
   "execution_count": 409,
   "metadata": {
    "hidden": true
   },
   "outputs": [],
   "source": [
    "# Let's convert tags_list to sting and remove comma's\n",
    "tags_list_string = ','.join(tags_list)\n",
    "tags_list_string_no_comma = tags_list_string.replace(',',' ')"
   ]
  },
  {
   "cell_type": "code",
   "execution_count": 410,
   "metadata": {
    "hidden": true
   },
   "outputs": [],
   "source": [
    "# ... and create a dictionary of tags with their counts\n",
    "from collections import defaultdict\n",
    "categories = defaultdict(int)\n",
    "for w in tags_list_string_no_comma.split(' '):\n",
    "    categories[w] += 1"
   ]
  },
  {
   "cell_type": "code",
   "execution_count": 411,
   "metadata": {
    "hidden": true
   },
   "outputs": [
    {
     "name": "stdout",
     "output_type": "stream",
     "text": [
      "social 21\n",
      "management 20\n",
      "marketing 18\n",
      "mobile 13\n",
      "services 12\n",
      "data 11\n",
      "web 10\n",
      "media 9\n",
      "business 8\n",
      "security 8\n",
      "content 8\n",
      "search 8\n",
      "health 8\n",
      "online 8\n",
      "video 8\n",
      "technology 7\n",
      "software 7\n",
      "advertising 6\n",
      "platforms 6\n",
      "analytics 6\n",
      "design 6\n",
      "development 6\n",
      "cloud 6\n",
      "tools 6\n",
      "tech 6\n",
      "automation 6\n",
      "and 6\n",
      "app 5\n",
      "information 5\n",
      "communications 5\n",
      "internet 5\n",
      "service 5\n",
      "learning 5\n",
      "games 5\n",
      "food 5\n",
      "local 5\n",
      "consumer 4\n",
      "delivery 4\n",
      "enterprise 4\n",
      "sharing 4\n",
      "home 4\n",
      "travel 4\n",
      "sales 4\n",
      "3d 3\n",
      "apps 3\n",
      "intelligence 3\n",
      "vehicles 3\n",
      "businesses 3\n",
      "energy 3\n",
      "infrastructure 3\n",
      "recruiting 3\n",
      "real 3\n",
      "hardware 3\n",
      "discovery 3\n",
      "support 3\n",
      "digital 3\n",
      "recognition 3\n",
      "+ 3\n",
      "network 3\n",
      "networking 3\n",
      "product 3\n",
      "personal 3\n",
      "photo 3\n",
      "public 3\n",
      "virtual 3\n",
      "printing 2\n",
      "architecture 2\n",
      "reality 2\n",
      "big 2\n",
      "booking 2\n",
      "systems 2\n",
      "productivity 2\n",
      "career 2\n",
      "planning 2\n",
      "chat 2\n",
      "clean 2\n",
      "computing 2\n",
      "storage 2\n",
      "estate 2\n",
      "electronics 2\n",
      "goods 2\n",
      "optimization 2\n",
      "crm 2\n",
      "customer 2\n",
      "science 2\n",
      "visualization 2\n",
      "dating 2\n",
      "deep 2\n",
      "developer 2\n",
      "diagnostics 2\n",
      "e-commerce 2\n",
      "education 2\n",
      "email 2\n",
      "entertainment 2\n",
      "event 2\n",
      "exchanges 2\n",
      "applications 2\n",
      "finance 2\n",
      "processing 2\n",
      "insurance 2\n",
      "care 2\n",
      "& 2\n",
      "human 2\n",
      "identity 2\n",
      "relations 2\n",
      "investment 2\n",
      "language 2\n",
      "legal 2\n",
      "based 2\n",
      "research 2\n",
      "medical 2\n",
      "commerce 2\n",
      "payments 2\n",
      "monitoring 2\n",
      "music 2\n",
      "on 2\n",
      "demand 2\n",
      "shopping 2\n",
      "editing 2\n",
      "professional 2\n",
      "transportation 2\n",
      "retail 2\n",
      "capital 2\n",
      "semantic 2\n",
      "small 2\n",
      "smart 2\n",
      "sports 2\n",
      "testing 2\n",
      "tourism 2\n",
      "translation 2\n",
      "user 2\n",
      "accelerator 1\n",
      "accounting 1\n",
      "adtech 1\n",
      "aerospace 1\n",
      "affiliates 1\n",
      "agency 1\n",
      "agriculture 1\n",
      "algorithms 1\n",
      "android 1\n",
      "api 1\n",
      "stores 1\n",
      "application 1\n",
      "art 1\n",
      "artificial 1\n",
      "auctions 1\n",
      "audio 1\n",
      "augmented 1\n",
      "automotive 1\n",
      "autonomous 1\n",
      "banking 1\n",
      "beauty 1\n",
      "beer 1\n",
      "biometrics 1\n",
      "biotechnology 1\n",
      "bitcoin 1\n",
      "blockchain 1\n",
      "blogging 1\n",
      "brand 1\n",
      "broadcasting 1\n",
      "brokers 1\n",
      "browser 1\n",
      "extensions 1\n",
      "cad 1\n",
      "calendars 1\n",
      "cannabis 1\n",
      "cars 1\n",
      "classifieds 1\n",
      "clinical 1\n",
      "trials 1\n",
      "coffee 1\n",
      "collaboration 1\n",
      "collaborative 1\n",
      "consumption 1\n",
      "college 1\n",
      "colleges 1\n",
      "commercial 1\n",
      "communication 1\n",
      "communities 1\n",
      "community 1\n",
      "computer 1\n",
      "vision 1\n",
      "computers 1\n",
      "construction 1\n",
      "consulting 1\n",
      "lending 1\n",
      "consumers 1\n",
      "contact 1\n",
      "creators 1\n",
      "networks 1\n",
      "syndication 1\n",
      "contests 1\n",
      "conversion 1\n",
      "cooking 1\n",
      "cosmetics 1\n",
      "coupons 1\n",
      "coworking 1\n",
      "creative 1\n",
      "crowdfunding 1\n",
      "crowdsourcing 1\n",
      "cryptocurrency 1\n",
      "curated 1\n",
      "cyber 1\n",
      "centers 1\n",
      "integration 1\n",
      "mining 1\n",
      "databases 1\n",
      "deals 1\n",
      "desktop 1\n",
      "apis 1\n",
      "direct 1\n",
      "discounts 1\n",
      "document 1\n",
      "drones 1\n",
      "e-learning 1\n",
      "ediscovery 1\n",
      "edtech 1\n",
      "educational 1\n",
      "electric 1\n",
      "emerging 1\n",
      "markets 1\n",
      "employment 1\n",
      "efficiency 1\n",
      "enterprises 1\n",
      "provider 1\n",
      "entrepreneur 1\n",
      "esports 1\n",
      "events 1\n",
      "face 1\n",
      "facebook 1\n",
      "fashion 1\n",
      "file 1\n",
      "film 1\n",
      "financial 1\n",
      "fintech 1\n",
      "fitness 1\n",
      "fleet 1\n",
      "drinks 1\n",
      "fraud 1\n",
      "detection 1\n",
      "freelancers 1\n",
      "gamification 1\n",
      "gaming 1\n",
      "genealogy 1\n",
      "gis 1\n",
      "governments 1\n",
      "gps 1\n",
      "graphics 1\n",
      "green 1\n",
      "groceries 1\n",
      "wellness 1\n",
      "healthcare 1\n",
      "garden 1\n",
      "decor 1\n",
      "homeland 1\n",
      "hospitality 1\n",
      "hospitals 1\n",
      "hotels 1\n",
      "resource 1\n",
      "resources 1\n",
      "humanitarian 1\n",
      "idea 1\n",
      "image 1\n",
      "industrial 1\n",
      "industry 1\n",
      "influencer 1\n",
      "innovation 1\n",
      "engineering 1\n",
      "intellectual 1\n",
      "asset 1\n",
      "intelligent 1\n",
      "interior 1\n",
      "of 1\n",
      "things 1\n",
      "tv 1\n",
      "ios 1\n",
      "iphone 1\n",
      "it 1\n",
      "journalism 1\n",
      "k-12 1\n",
      "kids 1\n",
      "knowledge 1\n",
      "lasers 1\n",
      "lead 1\n",
      "generation 1\n",
      "leisure 1\n",
      "licensing 1\n",
      "life 1\n",
      "sciences 1\n",
      "lifestyle 1\n",
      "localization 1\n",
      "location 1\n",
      "logistics 1\n",
      "loyalty 1\n",
      "programs 1\n",
      "luxury 1\n",
      "m2m 1\n",
      "machine 1\n",
      "manufacturing 1\n",
      "maps 1\n",
      "maritime 1\n",
      "market 1\n",
      "marketplaces 1\n",
      "mediatech 1\n",
      "devices 1\n",
      "meeting 1\n",
      "messaging 1\n",
      "microservices 1\n",
      "monetization 1\n",
      "nanotechnology 1\n",
      "natural 1\n",
      "navigation 1\n",
      "new 1\n",
      "news 1\n",
      "nfc 1\n",
      "nightlife 1\n",
      "nonprofits 1\n",
      "nutrition 1\n",
      "office 1\n",
      "space 1\n",
      "rental 1\n",
      "reservations 1\n",
      "open 1\n",
      "source 1\n",
      "organizational 1\n",
      "outsourcing 1\n",
      "paas 1\n",
      "parenting 1\n",
      "parking 1\n",
      "peer-to-peer 1\n",
      "performance 1\n",
      "personalization 1\n",
      "pets 1\n",
      "pharmaceuticals 1\n",
      "photography 1\n",
      "podcasting 1\n",
      "politics 1\n",
      "predictive 1\n",
      "price 1\n",
      "comparison 1\n",
      "privacy 1\n",
      "private 1\n",
      "project 1\n",
      "property 1\n",
      "prototyping 1\n",
      "psychology 1\n",
      "safety 1\n",
      "publishers 1\n",
      "publishing 1\n",
      "quantified 1\n",
      "self 1\n",
      "quantum 1\n",
      "radio 1\n",
      "reading 1\n",
      "time 1\n",
      "recipes 1\n",
      "recycling 1\n",
      "renewable 1\n",
      "energies 1\n",
      "reputation 1\n",
      "restaurants 1\n",
      "revenue 1\n",
      "drivers 1\n",
      "reviews 1\n",
      "recommendations 1\n",
      "ride 1\n",
      "risk 1\n",
      "robotics 1\n",
      "saas 1\n",
      "enablement 1\n",
      "scheduling 1\n",
      "seed 1\n",
      "semiconductors 1\n",
      "seniors 1\n",
      "sensors 1\n",
      "seo 1\n",
      "providers 1\n",
      "economy 1\n",
      "shipping 1\n",
      "skill 1\n",
      "assessment 1\n",
      "medium 1\n",
      "grids 1\n",
      "sms 1\n",
      "bookmarking 1\n",
      "entrepreneurship 1\n",
      "societal 1\n",
      "impact 1\n",
      "compliance 1\n",
      "spam 1\n",
      "filtering 1\n",
      "speech 1\n",
      "sponsorship 1\n",
      "sporting 1\n",
      "startups 1\n",
      "stock 1\n",
      "storytelling 1\n",
      "strategy 1\n",
      "subscription 1\n",
      "supply 1\n",
      "chain 1\n",
      "surveys 1\n",
      "sustainability 1\n",
      "tablets 1\n",
      "task 1\n",
      "teachers 1\n",
      "teaching 1\n",
      "field 1\n",
      "telecommunications 1\n",
      "television 1\n",
      "text 1\n",
      "therapeutics 1\n",
      "ticketing 1\n",
      "toys 1\n",
      "tracking 1\n",
      "trading 1\n",
      "training 1\n",
      "tutoring 1\n",
      "unified 1\n",
      "usability 1\n",
      "experience 1\n",
      "utilities 1\n",
      "venture 1\n",
      "vertical 1\n",
      "conferencing 1\n",
      "streaming 1\n",
      "currency 1\n",
      "worlds 1\n",
      "virtualization 1\n",
      "visual 1\n",
      "voip 1\n",
      "wearables 1\n",
      "browsers 1\n",
      "hosting 1\n",
      "scraping 1\n",
      "webcare 1\n",
      "weddings 1\n",
      "wifi 1\n",
      "wireless 1\n",
      "writers 1\n"
     ]
    }
   ],
   "source": [
    "# let's identify category candidates by sorting them by their counts\n",
    "for w in sorted(categories, key=categories.get, reverse=True):\n",
    "    print(w, categories[w])"
   ]
  },
  {
   "cell_type": "code",
   "execution_count": 412,
   "metadata": {
    "hidden": true
   },
   "outputs": [
    {
     "name": "stdout",
     "output_type": "stream",
     "text": [
      "app marketing\n",
      "brand marketing\n",
      "content marketing\n",
      "digital marketing\n",
      "direct marketing\n",
      "email marketing\n",
      "event marketing\n",
      "internet marketing\n",
      "marketing\n",
      "marketing automation\n",
      "marketing communications\n",
      "marketing intelligence\n",
      "mobile marketing\n",
      "online marketing\n",
      "performance marketing\n",
      "sales and marketing\n",
      "search marketing\n",
      "social media marketing\n"
     ]
    }
   ],
   "source": [
    "#Now, let's identify members of a given category\n",
    "category = 'marketing'  # < change \"marketing\" to try different categories\n",
    "for i in tags_list:\n",
    "    if category in i:\n",
    "        print(i)"
   ]
  },
  {
   "cell_type": "code",
   "execution_count": 413,
   "metadata": {
    "hidden": true
   },
   "outputs": [],
   "source": [
    "# Here we create a list of the most \"populated\" categories and assign \"C_\" at their beginning.\n",
    "top_categories = ['C_'+i for i in categories if categories[i] > 3]"
   ]
  },
  {
   "cell_type": "code",
   "execution_count": 414,
   "metadata": {
    "hidden": true
   },
   "outputs": [
    {
     "name": "stdout",
     "output_type": "stream",
     "text": [
      "['C_technology', 'C_advertising', 'C_platforms', 'C_analytics', 'C_app', 'C_design', 'C_development', 'C_marketing', 'C_data', 'C_business']\n",
      "Our top_categories list contains  43  elements\n"
     ]
    }
   ],
   "source": [
    "print(top_categories[0:10])\n",
    "print(\"Our top_categories list contains \", len(top_categories), \" elements\")"
   ]
  },
  {
   "cell_type": "code",
   "execution_count": 415,
   "metadata": {
    "hidden": true
   },
   "outputs": [],
   "source": [
    "# let's make some cleaning, and remove non-informative categories\n",
    "top_categories.remove('C_and')\n",
    "top_categories.remove('C_technology')\n",
    "top_categories.remove('C_tech')\n",
    "top_categories.remove('C_services')"
   ]
  },
  {
   "cell_type": "code",
   "execution_count": 416,
   "metadata": {
    "hidden": true
   },
   "outputs": [],
   "source": [
    "#Now it's time to compute aggregates: for a given category sum-up dummy variables from it's members\n",
    "# We start by creating a dictionary with lists of category members for each category\n",
    "\n",
    "cat_members = {}\n",
    "for c in top_categories:\n",
    "    cat_members[c] = []\n",
    "    for t in tags_list: \n",
    "        if c[2:] in t:\n",
    "            cat_members[c].append(t)"
   ]
  },
  {
   "cell_type": "code",
   "execution_count": 417,
   "metadata": {
    "hidden": true
   },
   "outputs": [],
   "source": [
    "# Let's create columns summarizing dummy variables for each category\n",
    "for c in cat_members:\n",
    "        markets[c] = markets[cat_members[c]].sum(axis = 1)"
   ]
  },
  {
   "cell_type": "code",
   "execution_count": 418,
   "metadata": {
    "hidden": true
   },
   "outputs": [
    {
     "data": {
      "text/plain": [
       "(3269, 546)"
      ]
     },
     "execution_count": 418,
     "metadata": {},
     "output_type": "execute_result"
    }
   ],
   "source": [
    "markets.shape"
   ]
  },
  {
   "cell_type": "code",
   "execution_count": 419,
   "metadata": {
    "hidden": true
   },
   "outputs": [],
   "source": [
    "#Let's identify categories with the highest number of companies\n",
    "top_cats = {}\n",
    "for i in markets.columns:\n",
    "    if 'C_' in i:\n",
    "        top_cats[i] = markets[i].sum()"
   ]
  },
  {
   "cell_type": "code",
   "execution_count": 420,
   "metadata": {
    "hidden": true
   },
   "outputs": [
    {
     "name": "stdout",
     "output_type": "stream",
     "text": [
      "C_data 2485\n",
      "C_learning 1829\n",
      "C_internet 1032\n",
      "C_software 937\n",
      "C_analytics 873\n",
      "C_health 488\n",
      "C_marketing 438\n",
      "C_mobile 390\n",
      "C_service 365\n",
      "C_business 354\n",
      "C_media 309\n",
      "C_consumer 292\n",
      "C_social 247\n",
      "C_enterprise 233\n",
      "C_search 184\n",
      "C_app 179\n",
      "C_security 171\n",
      "C_information 149\n",
      "C_advertising 130\n",
      "C_web 112\n",
      "C_management 110\n",
      "C_cloud 103\n",
      "C_development 102\n",
      "C_sales 84\n",
      "C_tools 74\n",
      "C_online 73\n",
      "C_travel 73\n",
      "C_automation 71\n",
      "C_content 61\n",
      "C_video 58\n",
      "C_platforms 54\n",
      "C_communications 54\n",
      "C_design 53\n",
      "C_food 49\n",
      "C_home 49\n",
      "C_games 36\n",
      "C_sharing 16\n",
      "C_delivery 15\n",
      "C_local 12\n"
     ]
    }
   ],
   "source": [
    "#Let's find the most popular categories\n",
    "for w in sorted(top_cats, key=top_cats.get, reverse=True):\n",
    "    print(w, top_cats[w])"
   ]
  },
  {
   "cell_type": "code",
   "execution_count": 421,
   "metadata": {
    "hidden": true
   },
   "outputs": [
    {
     "name": "stdout",
     "output_type": "stream",
     "text": [
      "C_analytics ['analytics', 'big data analytics', 'business analytics', 'mobile analytics', 'predictive analytics', 'text analytics'] \n",
      "\n",
      "C_marketing ['app marketing', 'brand marketing', 'content marketing', 'digital marketing', 'direct marketing', 'email marketing', 'event marketing', 'internet marketing', 'marketing', 'marketing automation', 'marketing communications', 'marketing intelligence', 'mobile marketing', 'online marketing', 'performance marketing', 'sales and marketing', 'search marketing', 'social media marketing'] \n",
      "\n",
      "C_data ['big data', 'big data analytics', 'cloud data services', 'data architecture', 'data centers', 'data integration', 'data mining', 'data science', 'data security', 'data visualization', 'databases', 'personal data'] \n",
      "\n",
      "C_business ['business analytics', 'business development', 'business information systems', 'business intelligence', 'business productivity', 'business services', 'businesses', 'local businesses', 'small and medium businesses', 'small business', 'social business'] \n",
      "\n",
      "C_consumer ['consumer electronics', 'consumer goods', 'consumer internet', 'consumer lending', 'consumers'] \n",
      "\n",
      "C_internet ['consumer internet', 'internet', 'internet marketing', 'internet of things', 'internet tv'] \n",
      "\n",
      "C_service ['business services', 'cloud data services', 'customer service', 'entertainment service provider', 'financial services', 'healthcare services', 'information services', 'local based services', 'location based services', 'microservices', 'music services', 'on demand services', 'professional services', 'service providers', 'services', 'subscription service', 'translation services', 'web service'] \n",
      "\n",
      "C_learning ['deep learning', 'e-learning', 'language learning', 'learning', 'machine learning', 'social learning'] \n",
      "\n",
      "C_media ['digital media', 'media', 'mediatech', 'social media', 'social media advertising', 'social media management', 'social media marketing', 'social media monitoring', 'social media platforms', 'social network media'] \n",
      "\n",
      "C_enterprise ['enterprise', 'enterprise search', 'enterprise software', 'enterprises', 'mobile enterprise'] \n",
      "\n",
      "C_software ['enterprise software', 'hardware + software', 'meeting software', 'mobile software tools', 'productivity software', 'software', 'software compliance'] \n",
      "\n",
      "C_health ['health', 'health and insurance', 'health and wellness', 'health care', 'health care information technology', 'health diagnostics', 'healthcare services', 'mobile health', 'personal health'] \n",
      "\n",
      "C_mobile ['mobile', 'mobile advertising', 'mobile analytics', 'mobile applications', 'mobile commerce', 'mobile enterprise', 'mobile games', 'mobile health', 'mobile marketing', 'mobile payments', 'mobile security', 'mobile software tools', 'social + mobile + local'] \n",
      "\n",
      "C_social ['private social networking', 'social', 'social + mobile + local', 'social bookmarking', 'social business', 'social commerce', 'social crm', 'social entrepreneurship', 'social games', 'social learning', 'social media', 'social media advertising', 'social media management', 'social media marketing', 'social media monitoring', 'social media platforms', 'social network', 'social network media', 'social recruiting', 'social search', 'social travel'] \n",
      "\n"
     ]
    }
   ],
   "source": [
    "#For the most common categories, let's see their members\n",
    "for w in top_cats:\n",
    "    if top_cats[w] > 200:\n",
    "        print(w, cat_members[w], '\\n')"
   ]
  },
  {
   "cell_type": "markdown",
   "metadata": {
    "hidden": true
   },
   "source": [
    "We see that category \"learning\" should be split into education and technological sub-categories. \n",
    "\n",
    "That will require:\n",
    "1. removing column \"C_learning\" from markets dataframe\n",
    "2. adding to columns to markets dataframe: \n",
    "- \"C_edu\" with sum over 'e-learning', 'language learning','learning','social learning' \n",
    "- \"C_machine_learning\" with sum over 'machine learning', 'deep learning'"
   ]
  },
  {
   "cell_type": "code",
   "execution_count": 422,
   "metadata": {
    "hidden": true
   },
   "outputs": [],
   "source": [
    "top_categories.remove('C_learning')"
   ]
  },
  {
   "cell_type": "code",
   "execution_count": 423,
   "metadata": {
    "hidden": true
   },
   "outputs": [],
   "source": [
    "top_categories.append('C_edu')\n",
    "top_categories.append('C_machine_learning')"
   ]
  },
  {
   "cell_type": "code",
   "execution_count": 424,
   "metadata": {
    "hidden": true
   },
   "outputs": [],
   "source": [
    "#top_categories"
   ]
  },
  {
   "cell_type": "code",
   "execution_count": 425,
   "metadata": {
    "hidden": true
   },
   "outputs": [
    {
     "data": {
      "text/plain": [
       "['deep learning',\n",
       " 'e-learning',\n",
       " 'language learning',\n",
       " 'learning',\n",
       " 'machine learning',\n",
       " 'social learning']"
      ]
     },
     "execution_count": 425,
     "metadata": {},
     "output_type": "execute_result"
    }
   ],
   "source": [
    "cat_members['C_learning']"
   ]
  },
  {
   "cell_type": "code",
   "execution_count": 426,
   "metadata": {
    "hidden": true
   },
   "outputs": [],
   "source": [
    "del cat_members['C_learning']"
   ]
  },
  {
   "cell_type": "code",
   "execution_count": 427,
   "metadata": {
    "hidden": true
   },
   "outputs": [],
   "source": [
    "cat_members['C_edu'] = ['e-learning', 'language learning','learning','social learning']\n",
    "cat_members['C_machine_learning'] = ['machine learning', 'deep learning']"
   ]
  },
  {
   "cell_type": "code",
   "execution_count": 428,
   "metadata": {
    "hidden": true
   },
   "outputs": [],
   "source": [
    "# Let's make some clearing\n",
    "for i in markets.columns:\n",
    "    if 'C_' in i:\n",
    "        markets = markets.drop(i, axis = 1)\n",
    "\n",
    "# Let's create columns summarizing dummy variables for each category\n",
    "for c in cat_members:\n",
    "        markets[c] = markets[cat_members[c]].sum(axis = 1)"
   ]
  },
  {
   "cell_type": "code",
   "execution_count": 429,
   "metadata": {
    "hidden": true
   },
   "outputs": [],
   "source": [
    "top_cats = {}\n",
    "for i in markets.columns:\n",
    "    if 'C_' in i:\n",
    "        top_cats[i] = markets[i].sum()"
   ]
  },
  {
   "cell_type": "code",
   "execution_count": 430,
   "metadata": {
    "hidden": true
   },
   "outputs": [
    {
     "name": "stdout",
     "output_type": "stream",
     "text": [
      "C_data 2485\n",
      "C_machine_learning 1792\n",
      "C_internet 1032\n",
      "C_software 937\n",
      "C_analytics 873\n",
      "C_health 488\n",
      "C_marketing 438\n",
      "C_mobile 390\n",
      "C_service 365\n",
      "C_business 354\n",
      "C_media 309\n",
      "C_consumer 292\n",
      "C_social 247\n",
      "C_enterprise 233\n",
      "C_search 184\n",
      "C_app 179\n",
      "C_security 171\n",
      "C_information 149\n",
      "C_advertising 130\n",
      "C_web 112\n",
      "C_management 110\n",
      "C_cloud 103\n",
      "C_development 102\n",
      "C_sales 84\n",
      "C_tools 74\n",
      "C_online 73\n",
      "C_travel 73\n",
      "C_automation 71\n",
      "C_content 61\n",
      "C_video 58\n",
      "C_platforms 54\n",
      "C_communications 54\n",
      "C_design 53\n",
      "C_food 49\n",
      "C_home 49\n",
      "C_edu 37\n",
      "C_games 36\n",
      "C_sharing 16\n",
      "C_delivery 15\n",
      "C_local 12\n"
     ]
    }
   ],
   "source": [
    "for w in sorted(top_cats, key=top_cats.get, reverse=True):\n",
    "    print(w, top_cats[w])"
   ]
  },
  {
   "cell_type": "markdown",
   "metadata": {
    "hidden": true
   },
   "source": [
    "### Merge markets with main dataframe\n",
    "\n",
    "Now, having a set of tags prepared for further computation, we will merge markets dataframe with our basic one."
   ]
  },
  {
   "cell_type": "code",
   "execution_count": 431,
   "metadata": {
    "hidden": true
   },
   "outputs": [
    {
     "data": {
      "text/html": [
       "<div>\n",
       "<style scoped>\n",
       "    .dataframe tbody tr th:only-of-type {\n",
       "        vertical-align: middle;\n",
       "    }\n",
       "\n",
       "    .dataframe tbody tr th {\n",
       "        vertical-align: top;\n",
       "    }\n",
       "\n",
       "    .dataframe thead th {\n",
       "        text-align: right;\n",
       "    }\n",
       "</style>\n",
       "<table border=\"1\" class=\"dataframe\">\n",
       "  <thead>\n",
       "    <tr style=\"text-align: right;\">\n",
       "      <th></th>\n",
       "      <th>markets</th>\n",
       "      <th>founded_in</th>\n",
       "      <th>country</th>\n",
       "      <th>headquarters</th>\n",
       "      <th>employees</th>\n",
       "      <th>latest_round_type</th>\n",
       "      <th>total_raised_USD_milions</th>\n",
       "      <th>latest_round_amount_USD_milions</th>\n",
       "    </tr>\n",
       "  </thead>\n",
       "  <tbody>\n",
       "    <tr>\n",
       "      <th>0</th>\n",
       "      <td>Internet &gt; Cloud Computing, Big Data &gt; Storage...</td>\n",
       "      <td>1994.0</td>\n",
       "      <td>United States</td>\n",
       "      <td>Seattle</td>\n",
       "      <td>566000.0</td>\n",
       "      <td>IPO</td>\n",
       "      <td>56.0</td>\n",
       "      <td>48.0</td>\n",
       "    </tr>\n",
       "  </tbody>\n",
       "</table>\n",
       "</div>"
      ],
      "text/plain": [
       "                                             markets  founded_in  \\\n",
       "0  Internet > Cloud Computing, Big Data > Storage...      1994.0   \n",
       "\n",
       "         country headquarters  employees latest_round_type  \\\n",
       "0  United States      Seattle   566000.0               IPO   \n",
       "\n",
       "   total_raised_USD_milions  latest_round_amount_USD_milions  \n",
       "0                      56.0                             48.0  "
      ]
     },
     "execution_count": 431,
     "metadata": {},
     "output_type": "execute_result"
    }
   ],
   "source": [
    "ai_clean.head(1)"
   ]
  },
  {
   "cell_type": "code",
   "execution_count": 432,
   "metadata": {
    "hidden": true
   },
   "outputs": [
    {
     "data": {
      "text/html": [
       "<div>\n",
       "<style scoped>\n",
       "    .dataframe tbody tr th:only-of-type {\n",
       "        vertical-align: middle;\n",
       "    }\n",
       "\n",
       "    .dataframe tbody tr th {\n",
       "        vertical-align: top;\n",
       "    }\n",
       "\n",
       "    .dataframe thead th {\n",
       "        text-align: right;\n",
       "    }\n",
       "</style>\n",
       "<table border=\"1\" class=\"dataframe\">\n",
       "  <thead>\n",
       "    <tr style=\"text-align: right;\">\n",
       "      <th></th>\n",
       "      <th>3d</th>\n",
       "      <th>3d printing</th>\n",
       "      <th>3d technology</th>\n",
       "      <th>accelerator</th>\n",
       "      <th>accounting</th>\n",
       "      <th>adtech</th>\n",
       "      <th>advertising</th>\n",
       "      <th>advertising platforms</th>\n",
       "      <th>aerospace</th>\n",
       "      <th>affiliates</th>\n",
       "      <th>...</th>\n",
       "      <th>C_home</th>\n",
       "      <th>C_local</th>\n",
       "      <th>C_mobile</th>\n",
       "      <th>C_online</th>\n",
       "      <th>C_travel</th>\n",
       "      <th>C_video</th>\n",
       "      <th>C_social</th>\n",
       "      <th>C_sales</th>\n",
       "      <th>C_edu</th>\n",
       "      <th>C_machine_learning</th>\n",
       "    </tr>\n",
       "  </thead>\n",
       "  <tbody>\n",
       "    <tr>\n",
       "      <th>0</th>\n",
       "      <td>0</td>\n",
       "      <td>0</td>\n",
       "      <td>0</td>\n",
       "      <td>0</td>\n",
       "      <td>0</td>\n",
       "      <td>0</td>\n",
       "      <td>0</td>\n",
       "      <td>0</td>\n",
       "      <td>0</td>\n",
       "      <td>0</td>\n",
       "      <td>...</td>\n",
       "      <td>0</td>\n",
       "      <td>0</td>\n",
       "      <td>0</td>\n",
       "      <td>0</td>\n",
       "      <td>0</td>\n",
       "      <td>0</td>\n",
       "      <td>0</td>\n",
       "      <td>0</td>\n",
       "      <td>0</td>\n",
       "      <td>0</td>\n",
       "    </tr>\n",
       "  </tbody>\n",
       "</table>\n",
       "<p>1 rows × 547 columns</p>\n",
       "</div>"
      ],
      "text/plain": [
       "   3d  3d printing  3d technology  accelerator  accounting  adtech  \\\n",
       "0   0            0              0            0           0       0   \n",
       "\n",
       "   advertising  advertising platforms  aerospace  affiliates  \\\n",
       "0            0                      0          0           0   \n",
       "\n",
       "          ...          C_home  C_local  C_mobile  C_online  C_travel  C_video  \\\n",
       "0         ...               0        0         0         0         0        0   \n",
       "\n",
       "   C_social  C_sales  C_edu  C_machine_learning  \n",
       "0         0        0      0                   0  \n",
       "\n",
       "[1 rows x 547 columns]"
      ]
     },
     "execution_count": 432,
     "metadata": {},
     "output_type": "execute_result"
    }
   ],
   "source": [
    "markets.head(1)"
   ]
  },
  {
   "cell_type": "code",
   "execution_count": 433,
   "metadata": {
    "hidden": true
   },
   "outputs": [
    {
     "data": {
      "text/html": [
       "<div>\n",
       "<style scoped>\n",
       "    .dataframe tbody tr th:only-of-type {\n",
       "        vertical-align: middle;\n",
       "    }\n",
       "\n",
       "    .dataframe tbody tr th {\n",
       "        vertical-align: top;\n",
       "    }\n",
       "\n",
       "    .dataframe thead th {\n",
       "        text-align: right;\n",
       "    }\n",
       "</style>\n",
       "<table border=\"1\" class=\"dataframe\">\n",
       "  <thead>\n",
       "    <tr style=\"text-align: right;\">\n",
       "      <th></th>\n",
       "      <th>founded_in</th>\n",
       "      <th>country</th>\n",
       "      <th>headquarters</th>\n",
       "      <th>employees</th>\n",
       "      <th>latest_round_type</th>\n",
       "      <th>total_raised_USD_milions</th>\n",
       "      <th>latest_round_amount_USD_milions</th>\n",
       "    </tr>\n",
       "  </thead>\n",
       "  <tbody>\n",
       "    <tr>\n",
       "      <th>0</th>\n",
       "      <td>1994.0</td>\n",
       "      <td>United States</td>\n",
       "      <td>Seattle</td>\n",
       "      <td>566000.0</td>\n",
       "      <td>IPO</td>\n",
       "      <td>56.000000</td>\n",
       "      <td>48.000000</td>\n",
       "    </tr>\n",
       "    <tr>\n",
       "      <th>1</th>\n",
       "      <td>2003.0</td>\n",
       "      <td>United States</td>\n",
       "      <td>Sunnyvale</td>\n",
       "      <td>10001.0</td>\n",
       "      <td>Post-IPO equity</td>\n",
       "      <td>206.121421</td>\n",
       "      <td>81.713488</td>\n",
       "    </tr>\n",
       "    <tr>\n",
       "      <th>2</th>\n",
       "      <td>1991.0</td>\n",
       "      <td>Japan</td>\n",
       "      <td>Tokyo</td>\n",
       "      <td>22000.0</td>\n",
       "      <td>NaN</td>\n",
       "      <td>NaN</td>\n",
       "      <td>NaN</td>\n",
       "    </tr>\n",
       "    <tr>\n",
       "      <th>3</th>\n",
       "      <td>2008.0</td>\n",
       "      <td>United Kingdom</td>\n",
       "      <td>London</td>\n",
       "      <td>90.0</td>\n",
       "      <td>Series B</td>\n",
       "      <td>21.579688</td>\n",
       "      <td>17.500000</td>\n",
       "    </tr>\n",
       "    <tr>\n",
       "      <th>4</th>\n",
       "      <td>1984.0</td>\n",
       "      <td>South Korea</td>\n",
       "      <td>Seoul</td>\n",
       "      <td>1001.0</td>\n",
       "      <td>NaN</td>\n",
       "      <td>NaN</td>\n",
       "      <td>NaN</td>\n",
       "    </tr>\n",
       "  </tbody>\n",
       "</table>\n",
       "</div>"
      ],
      "text/plain": [
       "   founded_in         country headquarters  employees latest_round_type  \\\n",
       "0      1994.0   United States      Seattle   566000.0               IPO   \n",
       "1      2003.0   United States    Sunnyvale    10001.0   Post-IPO equity   \n",
       "2      1991.0           Japan        Tokyo    22000.0               NaN   \n",
       "3      2008.0  United Kingdom       London       90.0          Series B   \n",
       "4      1984.0     South Korea        Seoul     1001.0               NaN   \n",
       "\n",
       "   total_raised_USD_milions  latest_round_amount_USD_milions  \n",
       "0                 56.000000                        48.000000  \n",
       "1                206.121421                        81.713488  \n",
       "2                       NaN                              NaN  \n",
       "3                 21.579688                        17.500000  \n",
       "4                       NaN                              NaN  "
      ]
     },
     "execution_count": 433,
     "metadata": {},
     "output_type": "execute_result"
    }
   ],
   "source": [
    "ai_clean = ai_clean.drop('markets', axis = 1)\n",
    "ai_clean.head()"
   ]
  },
  {
   "cell_type": "code",
   "execution_count": 434,
   "metadata": {
    "hidden": true
   },
   "outputs": [],
   "source": [
    "# Let's merge both dataframes\n",
    "ai_clean = pd.concat([ai_clean, markets], axis = 1)"
   ]
  },
  {
   "cell_type": "code",
   "execution_count": 435,
   "metadata": {
    "hidden": true
   },
   "outputs": [
    {
     "data": {
      "text/html": [
       "<div>\n",
       "<style scoped>\n",
       "    .dataframe tbody tr th:only-of-type {\n",
       "        vertical-align: middle;\n",
       "    }\n",
       "\n",
       "    .dataframe tbody tr th {\n",
       "        vertical-align: top;\n",
       "    }\n",
       "\n",
       "    .dataframe thead th {\n",
       "        text-align: right;\n",
       "    }\n",
       "</style>\n",
       "<table border=\"1\" class=\"dataframe\">\n",
       "  <thead>\n",
       "    <tr style=\"text-align: right;\">\n",
       "      <th></th>\n",
       "      <th>founded_in</th>\n",
       "      <th>country</th>\n",
       "      <th>headquarters</th>\n",
       "      <th>employees</th>\n",
       "      <th>latest_round_type</th>\n",
       "      <th>total_raised_USD_milions</th>\n",
       "      <th>latest_round_amount_USD_milions</th>\n",
       "      <th>3d</th>\n",
       "      <th>3d printing</th>\n",
       "      <th>3d technology</th>\n",
       "      <th>...</th>\n",
       "      <th>C_home</th>\n",
       "      <th>C_local</th>\n",
       "      <th>C_mobile</th>\n",
       "      <th>C_online</th>\n",
       "      <th>C_travel</th>\n",
       "      <th>C_video</th>\n",
       "      <th>C_social</th>\n",
       "      <th>C_sales</th>\n",
       "      <th>C_edu</th>\n",
       "      <th>C_machine_learning</th>\n",
       "    </tr>\n",
       "  </thead>\n",
       "  <tbody>\n",
       "    <tr>\n",
       "      <th>0</th>\n",
       "      <td>1994.0</td>\n",
       "      <td>United States</td>\n",
       "      <td>Seattle</td>\n",
       "      <td>566000.0</td>\n",
       "      <td>IPO</td>\n",
       "      <td>56.0</td>\n",
       "      <td>48.0</td>\n",
       "      <td>0</td>\n",
       "      <td>0</td>\n",
       "      <td>0</td>\n",
       "      <td>...</td>\n",
       "      <td>0</td>\n",
       "      <td>0</td>\n",
       "      <td>0</td>\n",
       "      <td>0</td>\n",
       "      <td>0</td>\n",
       "      <td>0</td>\n",
       "      <td>0</td>\n",
       "      <td>0</td>\n",
       "      <td>0</td>\n",
       "      <td>0</td>\n",
       "    </tr>\n",
       "  </tbody>\n",
       "</table>\n",
       "<p>1 rows × 554 columns</p>\n",
       "</div>"
      ],
      "text/plain": [
       "   founded_in        country headquarters  employees latest_round_type  \\\n",
       "0      1994.0  United States      Seattle   566000.0               IPO   \n",
       "\n",
       "   total_raised_USD_milions  latest_round_amount_USD_milions  3d  3d printing  \\\n",
       "0                      56.0                             48.0   0            0   \n",
       "\n",
       "   3d technology         ...          C_home  C_local  C_mobile  C_online  \\\n",
       "0              0         ...               0        0         0         0   \n",
       "\n",
       "   C_travel  C_video  C_social  C_sales  C_edu  C_machine_learning  \n",
       "0         0        0         0        0      0                   0  \n",
       "\n",
       "[1 rows x 554 columns]"
      ]
     },
     "execution_count": 435,
     "metadata": {},
     "output_type": "execute_result"
    }
   ],
   "source": [
    "ai_clean.head(1)"
   ]
  },
  {
   "cell_type": "code",
   "execution_count": 436,
   "metadata": {
    "hidden": true
   },
   "outputs": [
    {
     "data": {
      "text/plain": [
       "(3269, 554)"
      ]
     },
     "execution_count": 436,
     "metadata": {},
     "output_type": "execute_result"
    }
   ],
   "source": [
    "ai_clean.shape"
   ]
  },
  {
   "cell_type": "markdown",
   "metadata": {
    "heading_collapsed": true,
    "hidden": true
   },
   "source": [
    "## Prepare dedicated dataframes\n",
    "\n",
    "Our questions address topics like investments, geography, employments, etc. Unfortunately, our dataset doesn't contain complete informations for each company - it's rather sparse."
   ]
  },
  {
   "cell_type": "code",
   "execution_count": 437,
   "metadata": {
    "hidden": true
   },
   "outputs": [
    {
     "name": "stdout",
     "output_type": "stream",
     "text": [
      "<class 'pandas.core.frame.DataFrame'>\n",
      "RangeIndex: 3269 entries, 0 to 3268\n",
      "Data columns (total 7 columns):\n",
      "founded_in                         2601 non-null float64\n",
      "total_raised_USD_milions           1708 non-null float64\n",
      "country                            2930 non-null object\n",
      "headquarters                       2899 non-null object\n",
      "employees                          2350 non-null float64\n",
      "latest_round_amount_USD_milions    1748 non-null float64\n",
      "latest_round_type                  1721 non-null object\n",
      "dtypes: float64(4), object(3)\n",
      "memory usage: 178.9+ KB\n"
     ]
    }
   ],
   "source": [
    "biz_cols = ['founded_in', \"total_raised_USD_milions\", 'country','headquarters', 'employees', \n",
    "              'latest_round_amount_USD_milions', 'latest_round_type']\n",
    "ai_clean[biz_cols].info()"
   ]
  },
  {
   "cell_type": "markdown",
   "metadata": {
    "hidden": true
   },
   "source": [
    "That's why in order to answer our questions we will prepare dedicated dataframes."
   ]
  },
  {
   "cell_type": "code",
   "execution_count": 438,
   "metadata": {
    "hidden": true
   },
   "outputs": [],
   "source": [
    "ai_emp = ai_clean[ai_clean['employees'] > 0]\n",
    "ai_fund = ai_clean[ai_clean['total_raised_USD_milions'] > 0]\n",
    "ai_geo = ai_clean[ai_clean['country'].notnull()]\n",
    "ai_age = ai_clean[ai_clean['founded_in'] > 1900]"
   ]
  },
  {
   "cell_type": "code",
   "execution_count": 439,
   "metadata": {
    "hidden": true
   },
   "outputs": [
    {
     "name": "stdout",
     "output_type": "stream",
     "text": [
      "<class 'pandas.core.frame.DataFrame'>\n",
      "Int64Index: 2350 entries, 0 to 3266\n",
      "Data columns (total 7 columns):\n",
      "founded_in                         2269 non-null float64\n",
      "total_raised_USD_milions           1144 non-null float64\n",
      "country                            2066 non-null object\n",
      "headquarters                       2140 non-null object\n",
      "employees                          2350 non-null float64\n",
      "latest_round_amount_USD_milions    1156 non-null float64\n",
      "latest_round_type                  1130 non-null object\n",
      "dtypes: float64(4), object(3)\n",
      "memory usage: 146.9+ KB\n"
     ]
    }
   ],
   "source": [
    "ai_emp[biz_cols].info()\n",
    "#ai_fund[biz_cols].info()\n",
    "#ai_geo[biz_cols].info()\n",
    "#ai_age[biz_cols].info()"
   ]
  },
  {
   "cell_type": "markdown",
   "metadata": {},
   "source": [
    "# Data analysis"
   ]
  },
  {
   "cell_type": "markdown",
   "metadata": {},
   "source": [
    "Let's answer our questions"
   ]
  },
  {
   "cell_type": "markdown",
   "metadata": {},
   "source": [
    "## Q1. Which technologies and markets are the most popular?"
   ]
  },
  {
   "cell_type": "markdown",
   "metadata": {
    "heading_collapsed": true
   },
   "source": [
    "### Top tech and markets by number of companies\n",
    "We will identify them by counting the number of companies using given technology"
   ]
  },
  {
   "cell_type": "code",
   "execution_count": 440,
   "metadata": {
    "hidden": true
   },
   "outputs": [],
   "source": [
    "top_markets = markets.sum()"
   ]
  },
  {
   "cell_type": "code",
   "execution_count": 441,
   "metadata": {
    "hidden": true
   },
   "outputs": [
    {
     "data": {
      "text/plain": [
       "C_data                         2485\n",
       "technology                     2278\n",
       "artificial intelligence        2170\n",
       "big data                       1947\n",
       "C_machine_learning             1792\n",
       "machine learning               1724\n",
       "C_internet                     1032\n",
       "C_software                      937\n",
       "C_analytics                     873\n",
       "internet                        682\n",
       "software                        644\n",
       "analytics                       527\n",
       "C_health                        488\n",
       "C_marketing                     438\n",
       "C_mobile                        390\n",
       "natural language processing     375\n",
       "C_service                       365\n",
       "C_business                      354\n",
       "finance                         350\n",
       "C_media                         309\n",
       "dtype: int64"
      ]
     },
     "execution_count": 441,
     "metadata": {},
     "output_type": "execute_result"
    }
   ],
   "source": [
    "top_markets.nlargest(20)"
   ]
  },
  {
   "cell_type": "markdown",
   "metadata": {
    "hidden": true
   },
   "source": [
    "As we can see, in our computations categories (starting wi \"C_\") mix with TAGs. So let's split them."
   ]
  },
  {
   "cell_type": "code",
   "execution_count": 442,
   "metadata": {
    "hidden": true
   },
   "outputs": [
    {
     "data": {
      "text/plain": [
       "['C_advertising', 'C_platforms', 'C_analytics', 'C_app', 'C_design']"
      ]
     },
     "execution_count": 442,
     "metadata": {},
     "output_type": "execute_result"
    }
   ],
   "source": [
    "# split categories and tag's\n",
    "cats = [col for col in markets.columns if 'C_' in col]\n",
    "cats[0:5]"
   ]
  },
  {
   "cell_type": "code",
   "execution_count": 443,
   "metadata": {
    "hidden": true
   },
   "outputs": [
    {
     "data": {
      "text/plain": [
       "['3d', '3d printing', '3d technology', 'accelerator', 'accounting']"
      ]
     },
     "execution_count": 443,
     "metadata": {},
     "output_type": "execute_result"
    }
   ],
   "source": [
    "tags = [col for col in markets.columns if 'C_' not in col]\n",
    "tags[0:5]"
   ]
  },
  {
   "cell_type": "code",
   "execution_count": 444,
   "metadata": {
    "hidden": true
   },
   "outputs": [],
   "source": [
    "top_markets = markets[tags].sum()\n",
    "top_categories = markets[cats].sum()"
   ]
  },
  {
   "cell_type": "markdown",
   "metadata": {
    "hidden": true
   },
   "source": [
    "TOP 20 markets (in terms of number of companies) are:"
   ]
  },
  {
   "cell_type": "code",
   "execution_count": 445,
   "metadata": {
    "hidden": true
   },
   "outputs": [
    {
     "data": {
      "text/plain": [
       "technology                     2278\n",
       "artificial intelligence        2170\n",
       "big data                       1947\n",
       "machine learning               1724\n",
       "internet                        682\n",
       "software                        644\n",
       "analytics                       527\n",
       "natural language processing     375\n",
       "finance                         350\n",
       "data science                    245\n",
       "saas                            242\n",
       "marketing                       238\n",
       "mobile                          236\n",
       "internet of things              220\n",
       "enterprise software             208\n",
       "fintech                         208\n",
       "health care                     199\n",
       "businesses                      195\n",
       "e-commerce                      194\n",
       "predictive analytics            178\n",
       "dtype: int64"
      ]
     },
     "execution_count": 445,
     "metadata": {},
     "output_type": "execute_result"
    }
   ],
   "source": [
    "top_markets.nlargest(20)"
   ]
  },
  {
   "cell_type": "markdown",
   "metadata": {
    "hidden": true
   },
   "source": [
    "TOP 20 categories (in terms of number of companies) are:"
   ]
  },
  {
   "cell_type": "code",
   "execution_count": 446,
   "metadata": {
    "hidden": true
   },
   "outputs": [
    {
     "data": {
      "text/plain": [
       "C_data                2485\n",
       "C_machine_learning    1792\n",
       "C_internet            1032\n",
       "C_software             937\n",
       "C_analytics            873\n",
       "C_health               488\n",
       "C_marketing            438\n",
       "C_mobile               390\n",
       "C_service              365\n",
       "C_business             354\n",
       "C_media                309\n",
       "C_consumer             292\n",
       "C_social               247\n",
       "C_enterprise           233\n",
       "C_search               184\n",
       "C_app                  179\n",
       "C_security             171\n",
       "C_information          149\n",
       "C_advertising          130\n",
       "C_web                  112\n",
       "dtype: int64"
      ]
     },
     "execution_count": 446,
     "metadata": {},
     "output_type": "execute_result"
    }
   ],
   "source": [
    "top_categories.nlargest(20)"
   ]
  },
  {
   "cell_type": "markdown",
   "metadata": {
    "heading_collapsed": true
   },
   "source": [
    "### Top tech and markets by investments\n",
    "Now let's find categories and TAGs with largest investments."
   ]
  },
  {
   "cell_type": "markdown",
   "metadata": {
    "hidden": true
   },
   "source": [
    "We take tag_value as a sum of total_rised_USD by all companies having this tag"
   ]
  },
  {
   "cell_type": "markdown",
   "metadata": {
    "hidden": true
   },
   "source": [
    "Let's start with TOP invested TAGs (technnologies and markets)"
   ]
  },
  {
   "cell_type": "code",
   "execution_count": 447,
   "metadata": {
    "hidden": true
   },
   "outputs": [],
   "source": [
    "tag_invest_total = {}\n",
    "for i in pd.Index(tags):\n",
    "    tag_invest_total[i] = (ai_fund[i]*ai_fund['total_raised_USD_milions']).sum()"
   ]
  },
  {
   "cell_type": "code",
   "execution_count": 448,
   "metadata": {
    "hidden": true
   },
   "outputs": [
    {
     "data": {
      "text/plain": [
       "{'3d': 52.453272000000005,\n",
       " '3d printing': 10.08427,\n",
       " '3d technology': 11.65,\n",
       " 'accelerator': 103.0,\n",
       " 'accounting': 63.830386000000004,\n",
       " 'adtech': 113.124078,\n",
       " 'advertising': 628.541718,\n",
       " 'advertising platforms': 112.535845,\n",
       " 'aerospace': 26.234457999999997,\n",
       " 'affiliates': 0.0,\n",
       " 'agency': 0.07,\n",
       " 'agriculture': 275.704362,\n",
       " 'algorithms': 28.258493999999995,\n",
       " 'analytics': 4697.467885,\n",
       " 'android': 0.0,\n",
       " 'api': 7.890621,\n",
       " 'app': 1.6495,\n",
       " 'app design': 1.525,\n",
       " 'app development': 14.624835000000001,\n",
       " 'app marketing': 0.0,\n",
       " 'app stores': 0.0,\n",
       " 'application platforms': 3.749861,\n",
       " 'apps': 288.31826800000005,\n",
       " 'architecture': 24.4,\n",
       " 'art': 2.0,\n",
       " 'artificial intelligence': 17104.713749000002,\n",
       " 'auctions': 0.0,\n",
       " 'audio': 240.775612,\n",
       " 'augmented reality': 764.1164900000001,\n",
       " 'automotive': 823.937696,\n",
       " 'autonomous vehicles': 739.436256,\n",
       " 'banking': 50.075742000000005,\n",
       " 'beauty': 16.009639,\n",
       " 'beer': 0.0,\n",
       " 'big data': 16523.189415,\n",
       " 'big data analytics': 641.7138389999999,\n",
       " 'biometrics': 43.05,\n",
       " 'biotechnology': 664.6815009999999,\n",
       " 'bitcoin': 14.702,\n",
       " 'blockchain': 139.59689,\n",
       " 'blogging platforms': 39.83,\n",
       " 'booking': 8.0,\n",
       " 'brand marketing': 42.12,\n",
       " 'broadcasting': 0.3,\n",
       " 'brokers': 8.489683,\n",
       " 'browser extensions': 39.875,\n",
       " 'business analytics': 10.557027000000001,\n",
       " 'business development': 2.3077270000000003,\n",
       " 'business information systems': 0.017647,\n",
       " 'business intelligence': 321.440934,\n",
       " 'business productivity': 0.3,\n",
       " 'business services': 1.163791,\n",
       " 'businesses': 683.2855549999999,\n",
       " 'cad': 10.0735,\n",
       " 'calendars': 1.732165,\n",
       " 'cannabis': 0.0,\n",
       " 'career management': 10.4,\n",
       " 'career planning': 5.4,\n",
       " 'cars': 54.52486599999999,\n",
       " 'chat': 53.304421,\n",
       " 'classifieds': 0.0,\n",
       " 'clean energy': 2.333,\n",
       " 'clean technology': 12.849807,\n",
       " 'clinical trials': 94.680946,\n",
       " 'cloud computing': 718.5223980000001,\n",
       " 'cloud data services': 9.07973,\n",
       " 'cloud infrastructure': 25.5,\n",
       " 'cloud management': 0.6651,\n",
       " 'cloud security': 0.0,\n",
       " 'cloud storage': 0.0,\n",
       " 'coffee': 0.0,\n",
       " 'collaboration': 45.44902,\n",
       " 'collaborative consumption': 18.850695,\n",
       " 'college recruiting': 1.6749999999999998,\n",
       " 'colleges': 0.0,\n",
       " 'commercial real estate': 18.850695,\n",
       " 'communication': 124.568303,\n",
       " 'communications': 40.791721,\n",
       " 'communications hardware': 0.0,\n",
       " 'communications infrastructure': 2.7,\n",
       " 'communities': 67.8553,\n",
       " 'community management': 0.25,\n",
       " 'computer vision': 2497.678113,\n",
       " 'computers': 182.471555,\n",
       " 'construction': 5.2,\n",
       " 'consulting': 128.157482,\n",
       " 'consumer electronics': 988.223275,\n",
       " 'consumer goods': 68.835292,\n",
       " 'consumer internet': 346.160708,\n",
       " 'consumer lending': 9.210526,\n",
       " 'consumers': 9.838702999999999,\n",
       " 'contact management': 0.0,\n",
       " 'content': 29.562557,\n",
       " 'content creators': 2.939024,\n",
       " 'content delivery': 0.25,\n",
       " 'content delivery networks': 0.0,\n",
       " 'content discovery': 13.564459,\n",
       " 'content marketing': 11.364459,\n",
       " 'content planning': 0.0,\n",
       " 'content syndication': 1.958903,\n",
       " 'contests': 1.958903,\n",
       " 'conversion optimization': 5.2666699999999995,\n",
       " 'cooking': 17.116215999999998,\n",
       " 'cosmetics': 11.6,\n",
       " 'coupons': 8.4,\n",
       " 'coworking': 0.0,\n",
       " 'creative': 262.958903,\n",
       " 'crm': 94.352465,\n",
       " 'crowdfunding': 13.9225,\n",
       " 'crowdsourcing': 37.778903,\n",
       " 'cryptocurrency': 22.36,\n",
       " 'curated web': 9.175,\n",
       " 'customer service': 304.154559,\n",
       " 'customer support tools': 76.454394,\n",
       " 'cyber security': 548.076423,\n",
       " 'data architecture': 4.0,\n",
       " 'data centers': 21.4,\n",
       " 'data integration': 285.159128,\n",
       " 'data mining': 188.645194,\n",
       " 'data science': 3033.2535980000002,\n",
       " 'data security': 37.920049999999996,\n",
       " 'data visualization': 111.345768,\n",
       " 'databases': 18.206744,\n",
       " 'dating': 2.0,\n",
       " 'deals': 0.053191,\n",
       " 'deep learning': 194.547153,\n",
       " 'deep tech': 753.1826529999998,\n",
       " 'delivery': 24.308481,\n",
       " 'design': 301.399042,\n",
       " 'desktop automation': 2.0,\n",
       " 'developer apis': 24.813377,\n",
       " 'developer tools': 87.317274,\n",
       " 'development': 105.52,\n",
       " 'development platforms': 104.02,\n",
       " 'diagnostics': 199.997669,\n",
       " 'digital': 0.0,\n",
       " 'digital marketing': 29.664572999999997,\n",
       " 'digital media': 39.670106,\n",
       " 'direct marketing': 0.0,\n",
       " 'discounts': 0.053191,\n",
       " 'discovery': 9.790348,\n",
       " 'document management': 61.785054,\n",
       " 'drones': 72.759882,\n",
       " 'e-commerce': 904.704725,\n",
       " 'e-commerce platforms': 44.645897,\n",
       " 'e-learning': 29.666776,\n",
       " 'ediscovery': 28.354807,\n",
       " 'edtech': 253.56102199999998,\n",
       " 'education': 600.2473610000001,\n",
       " 'educational games': 3.45,\n",
       " 'electric vehicles': 23.25,\n",
       " 'electronics': 0.0,\n",
       " 'email': 169.16024800000002,\n",
       " 'email marketing': 7.903333,\n",
       " 'emerging markets': 11.601,\n",
       " 'employment': 41.001205,\n",
       " 'energy': 155.83546199999998,\n",
       " 'energy efficiency': 96.57842199999999,\n",
       " 'enterprise': 142.906257,\n",
       " 'enterprise search': 56.1799,\n",
       " 'enterprise software': 1406.4500799999998,\n",
       " 'enterprises': 0.38,\n",
       " 'entertainment': 203.70334699999998,\n",
       " 'entertainment service provider': 0.011,\n",
       " 'entrepreneur': 0.0,\n",
       " 'esports': 16.175,\n",
       " 'event management': 2.275484,\n",
       " 'event marketing': 0.0,\n",
       " 'events': 11.001622,\n",
       " 'exchanges': 0.0,\n",
       " 'face recognition': 1352.790313,\n",
       " 'facebook applications': 0.0,\n",
       " 'fashion': 65.045292,\n",
       " 'file sharing': 0.8,\n",
       " 'film': 199.47381,\n",
       " 'finance': 1950.8984020000003,\n",
       " 'financial services': 370.79843500000004,\n",
       " 'fintech': 901.708027,\n",
       " 'fitness': 23.841144,\n",
       " 'fleet management': 3.025936,\n",
       " 'food': 18.846216,\n",
       " 'food and drinks': 54.275946000000005,\n",
       " 'food delivery': 16.03,\n",
       " 'food processing': 1.3,\n",
       " 'food tech': 1.116216,\n",
       " 'fraud detection': 304.959284,\n",
       " 'freelancers': 3.25,\n",
       " 'games': 506.236633,\n",
       " 'gamification': 4.17,\n",
       " 'gaming': 30.768303,\n",
       " 'genealogy': 165.195,\n",
       " 'gis': 0.0,\n",
       " 'governments': 0.101,\n",
       " 'gps': 0.6,\n",
       " 'graphics': 10.0735,\n",
       " 'green': 42.096242000000004,\n",
       " 'groceries': 0.0,\n",
       " 'hardware': 1035.358935,\n",
       " 'hardware + software': 239.73101400000002,\n",
       " 'health': 364.521229,\n",
       " 'health and insurance': 27.54575,\n",
       " 'health and wellness': 186.488695,\n",
       " 'health care': 1955.961599,\n",
       " 'health care information technology': 261.714362,\n",
       " 'health diagnostics': 89.108578,\n",
       " 'healthcare services': 0.018947,\n",
       " 'home & garden': 1.554054,\n",
       " 'home automation': 81.609016,\n",
       " 'home decor': 1.554054,\n",
       " 'homeland security': 6.9,\n",
       " 'hospitality': 11.326066,\n",
       " 'hospitals': 7.66,\n",
       " 'hotels': 3.9189559999999997,\n",
       " 'human resource automation': 0.33,\n",
       " 'human resources': 164.566872,\n",
       " 'humanitarian': 5.1,\n",
       " 'idea management': 0.0,\n",
       " 'identity': 2998.75,\n",
       " 'identity management': 68.1,\n",
       " 'image recognition': 2993.832136,\n",
       " 'industrial automation': 31.807831999999998,\n",
       " 'industry': 897.345022,\n",
       " 'influencer relations': 0.0,\n",
       " 'information security': 34.934134,\n",
       " 'information services': 401.921409,\n",
       " 'information technology': 1842.794858,\n",
       " 'infrastructure': 30.271158,\n",
       " 'innovation engineering': 1.1,\n",
       " 'insurance': 702.502196,\n",
       " 'intellectual asset management': 1.1,\n",
       " 'intelligent systems': 53.017171,\n",
       " 'interior design': 1.554054,\n",
       " 'internet': 5175.871937,\n",
       " 'internet marketing': 33.57694,\n",
       " 'internet of things': 651.647739,\n",
       " 'internet tv': 2.65,\n",
       " 'investment': 77.463757,\n",
       " 'investment management': 26.547724000000002,\n",
       " 'ios': 26.2,\n",
       " 'iphone': 14.991381,\n",
       " 'it management': 0.0,\n",
       " 'journalism': 1.9,\n",
       " 'k-12 education': 1.51,\n",
       " 'kids': 5.593278,\n",
       " 'knowledge management': 69.29417799999999,\n",
       " 'language learning': 38.899359,\n",
       " 'lasers': 10.0,\n",
       " 'lead generation': 15.431473,\n",
       " 'learning': 9.0405,\n",
       " 'legal': 153.325703,\n",
       " 'legal tech': 68.21,\n",
       " 'leisure': 0.0,\n",
       " 'licensing': 0.0,\n",
       " 'life sciences': 81.825849,\n",
       " 'lifestyle': 6.687396,\n",
       " 'local advertising': 0.0,\n",
       " 'local based services': 0.22,\n",
       " 'local businesses': 1.43,\n",
       " 'local search': 0.0,\n",
       " 'localization': 0.438032,\n",
       " 'location based services': 11.923266000000002,\n",
       " 'logistics': 166.942984,\n",
       " 'loyalty programs': 0.0,\n",
       " 'luxury': 0.0,\n",
       " 'm2m': 0.0,\n",
       " 'machine learning': 15532.393455,\n",
       " 'management': 6.0,\n",
       " 'manufacturing': 668.371108,\n",
       " 'maps': 100.75,\n",
       " 'maritime': 0.78,\n",
       " 'market research': 80.151549,\n",
       " 'marketing': 580.080441,\n",
       " 'marketing automation': 35.694833,\n",
       " 'marketing communications': 0.0,\n",
       " 'marketing intelligence': 34.005051,\n",
       " 'marketplaces': 6.10313,\n",
       " 'media': 920.918069,\n",
       " 'mediatech': 0.3,\n",
       " 'medical': 753.1679160000001,\n",
       " 'medical devices': 50.234393,\n",
       " 'meeting software': 67.634238,\n",
       " 'messaging': 165.425708,\n",
       " 'microservices': 0.0,\n",
       " 'mobile': 1723.3207689999997,\n",
       " 'mobile advertising': 353.234802,\n",
       " 'mobile analytics': 11.911566,\n",
       " 'mobile applications': 54.82772,\n",
       " 'mobile commerce': 9.681351,\n",
       " 'mobile enterprise': 1.456,\n",
       " 'mobile games': 0.0,\n",
       " 'mobile health': 47.017083,\n",
       " 'mobile marketing': 2.891566,\n",
       " 'mobile payments': 0.0,\n",
       " 'mobile security': 0.0,\n",
       " 'mobile software tools': 23.079688,\n",
       " 'monetization': 12.08,\n",
       " 'monitoring': 8.1,\n",
       " 'music': 213.86137399999998,\n",
       " 'music services': 32.187829,\n",
       " 'nanotechnology': 0.0,\n",
       " 'natural language processing': 1523.396309,\n",
       " 'navigation': 228.827194,\n",
       " 'network security': 0.0,\n",
       " 'networking': 223.171421,\n",
       " 'new product development': 179.637358,\n",
       " 'news': 32.528269,\n",
       " 'nfc': 0.0,\n",
       " 'nightlife': 1.853933,\n",
       " 'nonprofits': 6.0600000000000005,\n",
       " 'nutrition': 0.0,\n",
       " 'office space': 24.864209000000002,\n",
       " 'on demand services': 2.67,\n",
       " 'online booking': 10.843374,\n",
       " 'online dating': 0.0,\n",
       " 'online marketing': 206.121421,\n",
       " 'online rental': 0.025936,\n",
       " 'online reservations': 2.252181,\n",
       " 'online shopping': 122.27121400000001,\n",
       " 'online travel': 12.687263000000002,\n",
       " 'online video advertising': 3.45,\n",
       " 'open source': 13.912219,\n",
       " 'optimization': 36.504,\n",
       " 'organizational tools': 8.273069,\n",
       " 'outsourcing': 1.3,\n",
       " 'paas': 18.462135,\n",
       " 'parenting': 1.766047,\n",
       " 'parking': 2.029935,\n",
       " 'payments': 123.609479,\n",
       " 'peer-to-peer': 23.0625,\n",
       " 'performance marketing': 3.5,\n",
       " 'personal data': 171.92991,\n",
       " 'personal finance': 87.42226600000001,\n",
       " 'personal health': 141.90394199999997,\n",
       " 'personalization': 237.55886,\n",
       " 'pets': 3.026506,\n",
       " 'pharmaceuticals': 95.13626500000001,\n",
       " 'photo editing': 0.0,\n",
       " 'photo sharing': 15.720036,\n",
       " 'photo tech': 6.5160979999999995,\n",
       " 'photography': 43.292301,\n",
       " 'podcasting': 3.5,\n",
       " 'politics': 0.201,\n",
       " 'predictive analytics': 1137.837814,\n",
       " 'price comparison': 0.0,\n",
       " 'printing': 15.991645,\n",
       " 'privacy': 15.0,\n",
       " 'private social networking': 1.25044,\n",
       " 'product design': 179.20000000000002,\n",
       " 'product discovery': 0.0,\n",
       " 'productivity software': 148.13040299999997,\n",
       " 'professional networking': 2.314727,\n",
       " 'professional services': 148.364246,\n",
       " 'project management': 3.9,\n",
       " 'property management': 21.490759,\n",
       " 'prototyping': 0.0,\n",
       " 'psychology': 50.195575,\n",
       " 'public relations': 0.026215,\n",
       " 'public safety': 566.033152,\n",
       " 'public transportation': 19.378593,\n",
       " 'publishers': 9.607863,\n",
       " 'publishing': 6.429729999999999,\n",
       " 'quantified self': 110.838722,\n",
       " 'quantum computing': 0.0,\n",
       " 'radio': 1.170412,\n",
       " 'reading apps': 1.9774710000000002,\n",
       " 'real estate': 61.337865,\n",
       " 'real time': 299.43356400000005,\n",
       " 'recipes': 1.116216,\n",
       " 'recruiting': 369.359958,\n",
       " 'recycling': 0.0,\n",
       " 'renewable energies': 2.263158,\n",
       " 'reputation': 0.0,\n",
       " 'research': 1122.275068,\n",
       " 'restaurants': 3.5106729999999997,\n",
       " 'retail': 281.957965,\n",
       " 'retail technology': 192.46639900000002,\n",
       " 'revenue drivers': 9.802589000000001,\n",
       " 'reviews and recommendations': 5.639283,\n",
       " 'ride sharing': 38.30241,\n",
       " 'risk management': 133.29443500000002,\n",
       " 'robotics': 2499.276239,\n",
       " 'saas': 1222.7759760000001,\n",
       " 'sales and marketing': 335.301614,\n",
       " 'sales automation': 68.595332,\n",
       " 'sales enablement': 17.218182,\n",
       " 'sales tools': 211.259603,\n",
       " 'scheduling': 8.273069,\n",
       " 'science': 0.0,\n",
       " 'search': 400.69109100000003,\n",
       " 'search marketing': 0.9,\n",
       " 'security': 3957.19718,\n",
       " 'seed capital': 0.0,\n",
       " 'semantic search': 62.77204999999999,\n",
       " 'semantic web': 5.347227,\n",
       " 'semiconductors': 508.12,\n",
       " 'seniors': 0.0,\n",
       " 'sensors': 47.934516,\n",
       " 'seo': 1.04,\n",
       " 'service providers': 3.4110000000000005,\n",
       " 'services': 381.228806,\n",
       " 'sharing economy': 38.30241,\n",
       " 'shipping': 3.012048,\n",
       " 'shopping': 43.120291,\n",
       " 'skill assessment': 4.659999999999999,\n",
       " 'small and medium businesses': 46.134417,\n",
       " 'small business': 0.0,\n",
       " 'smart grids': 22.0,\n",
       " 'smart home': 107.11933400000001,\n",
       " 'sms': 0.25,\n",
       " 'social': 102.123278,\n",
       " 'social + mobile + local': 0.0,\n",
       " 'social bookmarking': 0.0,\n",
       " 'social business': 0.0,\n",
       " 'social commerce': 21.114768,\n",
       " 'social crm': 13.5,\n",
       " 'social entrepreneurship': 7.658,\n",
       " 'social games': 2.352941,\n",
       " 'social learning': 0.0,\n",
       " 'social media': 447.42839799999996,\n",
       " 'social media advertising': 7.458903,\n",
       " 'social media management': 0.81203,\n",
       " 'social media marketing': 19.413245,\n",
       " 'social media monitoring': 16.363,\n",
       " 'social media platforms': 3.08,\n",
       " 'social network': 5.431070000000001,\n",
       " 'social network media': 0.167856,\n",
       " 'social recruiting': 1.3800000000000001,\n",
       " 'social search': 4.138999999999999,\n",
       " 'social travel': 0.0,\n",
       " 'societal impact': 3.243716,\n",
       " 'software': 4296.439063,\n",
       " 'software compliance': 0.0,\n",
       " 'spam filtering': 0.35,\n",
       " 'speech recognition': 553.857981,\n",
       " 'sponsorship': 0.0,\n",
       " 'sporting goods': 0.0,\n",
       " 'sports': 252.18740599999998,\n",
       " 'sports technology': 0.0,\n",
       " 'startups': 368.206537,\n",
       " 'stock exchanges': 8.45,\n",
       " 'storage': 58.0,\n",
       " 'storytelling': 0.0,\n",
       " 'strategy': 5.2405,\n",
       " 'subscription service': 0.0,\n",
       " 'supply chain management': 150.125,\n",
       " 'surveys': 2.7,\n",
       " 'sustainability': 60.572241999999996,\n",
       " 'tablets': 0.1,\n",
       " 'task management': 0.0,\n",
       " 'teachers': 0.186047,\n",
       " 'teaching': 0.0,\n",
       " 'tech field support': 0.0,\n",
       " 'tech support': 36.0,\n",
       " 'technology': 18171.910257,\n",
       " 'telecommunications': 19.676477,\n",
       " 'television': 0.738636,\n",
       " 'testing': 43.571135000000005,\n",
       " 'text analytics': 86.927856,\n",
       " 'therapeutics': 15.49,\n",
       " 'ticketing': 1.853933,\n",
       " 'tourism': 2.275484,\n",
       " 'toys': 0.0,\n",
       " 'tracking': 1.6487,\n",
       " 'trading': 32.932767,\n",
       " 'training': 83.578363,\n",
       " 'translation': 14.725062,\n",
       " 'translation services': 0.0,\n",
       " 'transportation': 1805.864109,\n",
       " 'travel': 81.282933,\n",
       " 'travel & tourism': 6.738328999999999,\n",
       " 'tutoring': 0.0,\n",
       " 'unified communications': 0.53098,\n",
       " 'usability': 21.3,\n",
       " 'user experience design': 21.3,\n",
       " 'user testing': 9.498162,\n",
       " 'utilities': 6.5,\n",
       " 'vehicles': 1188.486696,\n",
       " 'venture capital': 7.235754,\n",
       " 'vertical search': 0.0,\n",
       " 'video': 99.655734,\n",
       " 'video chat': 3.738636,\n",
       " 'video conferencing': 19.842857,\n",
       " 'video editing': 2.8,\n",
       " 'video games': 0.8,\n",
       " 'video on demand': 2.67,\n",
       " 'video streaming': 2.02,\n",
       " 'virtual currency': 2.08063,\n",
       " 'virtual reality': 36.948501,\n",
       " 'virtual worlds': 9.01858,\n",
       " 'virtualization': 2.84061,\n",
       " 'visual search': 36.453783,\n",
       " 'visualization': 61.177747000000004,\n",
       " 'voip': 0.0,\n",
       " 'wearables': 820.2718419999999,\n",
       " 'web apps': 0.05,\n",
       " 'web browsers': 42.375,\n",
       " 'web design': 0.025,\n",
       " 'web development': 1885.27183,\n",
       " 'web hosting': 10.0735,\n",
       " 'web scraping': 0.0,\n",
       " 'web service': 0.0,\n",
       " 'web tools': 3.0,\n",
       " 'webcare': 0.0,\n",
       " 'weddings': 0.011,\n",
       " 'wifi': 10.0,\n",
       " 'wireless': 36.277651,\n",
       " 'writers': 0.0}"
      ]
     },
     "execution_count": 448,
     "metadata": {},
     "output_type": "execute_result"
    }
   ],
   "source": [
    "tag_invest_total"
   ]
  },
  {
   "cell_type": "markdown",
   "metadata": {
    "hidden": true
   },
   "source": [
    "Let's sort TAGs to indentify these with largest investments."
   ]
  },
  {
   "cell_type": "code",
   "execution_count": 449,
   "metadata": {
    "hidden": true,
    "scrolled": false
   },
   "outputs": [],
   "source": [
    "sorted_tag_invest_total = sorted(tag_invest_total.items(), key=lambda x: x[1], reverse = True)"
   ]
  },
  {
   "cell_type": "markdown",
   "metadata": {
    "hidden": true
   },
   "source": [
    "TOP 20 technologies and markets are:"
   ]
  },
  {
   "cell_type": "code",
   "execution_count": 450,
   "metadata": {
    "hidden": true
   },
   "outputs": [
    {
     "data": {
      "text/plain": [
       "[('technology', 18171.910257),\n",
       " ('artificial intelligence', 17104.713749000002),\n",
       " ('big data', 16523.189415),\n",
       " ('machine learning', 15532.393455),\n",
       " ('internet', 5175.871937),\n",
       " ('analytics', 4697.467885),\n",
       " ('software', 4296.439063),\n",
       " ('security', 3957.19718),\n",
       " ('data science', 3033.2535980000002),\n",
       " ('identity', 2998.75),\n",
       " ('image recognition', 2993.832136),\n",
       " ('robotics', 2499.276239),\n",
       " ('computer vision', 2497.678113),\n",
       " ('health care', 1955.961599),\n",
       " ('finance', 1950.8984020000003),\n",
       " ('web development', 1885.27183),\n",
       " ('information technology', 1842.794858),\n",
       " ('transportation', 1805.864109),\n",
       " ('mobile', 1723.3207689999997),\n",
       " ('natural language processing', 1523.396309)]"
      ]
     },
     "execution_count": 450,
     "metadata": {},
     "output_type": "execute_result"
    }
   ],
   "source": [
    "sorted_tag_invest_total[0:20]"
   ]
  },
  {
   "cell_type": "markdown",
   "metadata": {
    "hidden": true
   },
   "source": [
    "Now, let's look at categories."
   ]
  },
  {
   "cell_type": "code",
   "execution_count": 451,
   "metadata": {
    "hidden": true
   },
   "outputs": [],
   "source": [
    "cats_invest_total = {}\n",
    "for i in pd.Index(cats):\n",
    "    cats_invest_total[i] = (ai_fund[i]*ai_fund['total_raised_USD_milions']).sum()\n",
    "\n",
    "sorted_cats_invest_total = sorted(cats_invest_total.items(), key=lambda x: x[1], reverse = True)"
   ]
  },
  {
   "cell_type": "markdown",
   "metadata": {
    "hidden": true
   },
   "source": [
    "TOP 20 categories are:"
   ]
  },
  {
   "cell_type": "code",
   "execution_count": 452,
   "metadata": {
    "hidden": true
   },
   "outputs": [
    {
     "data": {
      "text/plain": [
       "[('C_data', 21045.843376),\n",
       " ('C_machine_learning', 15726.940607999999),\n",
       " ('C_analytics', 6586.415987),\n",
       " ('C_internet', 6209.907324000001),\n",
       " ('C_software', 6181.464486000001),\n",
       " ('C_security', 4585.027787000001),\n",
       " ('C_health', 3074.280185),\n",
       " ('C_information', 2541.3824099999997),\n",
       " ('C_development', 2291.3817499999996),\n",
       " ('C_mobile', 2227.420545),\n",
       " ('C_web', 1955.3175569999999),\n",
       " ('C_search', 1763.562441),\n",
       " ('C_service', 1667.153018),\n",
       " ('C_enterprise', 1607.372237),\n",
       " ('C_media', 1455.6116069999998),\n",
       " ('C_consumer', 1422.2685040000001),\n",
       " ('C_marketing', 1342.537476),\n",
       " ('C_advertising', 1105.221268),\n",
       " ('C_business', 1066.6370980000002),\n",
       " ('C_cloud', 753.767228)]"
      ]
     },
     "execution_count": 452,
     "metadata": {},
     "output_type": "execute_result"
    }
   ],
   "source": [
    "sorted_cats_invest_total[0:20]"
   ]
  },
  {
   "cell_type": "markdown",
   "metadata": {
    "heading_collapsed": true
   },
   "source": [
    "### Which markets attract most of employees?"
   ]
  },
  {
   "cell_type": "markdown",
   "metadata": {
    "hidden": true
   },
   "source": [
    "Now, let's find which technologies and markets attract the largest number of employees. \n",
    "\n",
    "We will compute # employees employed by companies described by this tag."
   ]
  },
  {
   "cell_type": "code",
   "execution_count": 453,
   "metadata": {
    "hidden": true
   },
   "outputs": [
    {
     "data": {
      "text/plain": [
       "1208344.0"
      ]
     },
     "execution_count": 453,
     "metadata": {},
     "output_type": "execute_result"
    }
   ],
   "source": [
    "# App. 1,2 mln of employees work in AI companies\n",
    "ai_emp['employees'].sum()"
   ]
  },
  {
   "cell_type": "markdown",
   "metadata": {
    "hidden": true
   },
   "source": [
    "Let's identify most populated categories"
   ]
  },
  {
   "cell_type": "code",
   "execution_count": 454,
   "metadata": {
    "hidden": true
   },
   "outputs": [],
   "source": [
    "cats_emp_total = {}\n",
    "for i in pd.Index(cats):\n",
    "    cats_emp_total[i] = (ai_emp[i]*ai_emp['employees']).sum()\n",
    "\n",
    "sorted_cats_emp_total = sorted(cats_emp_total.items(), key=lambda x: x[1], reverse = True)"
   ]
  },
  {
   "cell_type": "code",
   "execution_count": 455,
   "metadata": {
    "hidden": true
   },
   "outputs": [
    {
     "data": {
      "text/plain": [
       "[('technology', 1060177.0),\n",
       " ('artificial intelligence', 1058748.0),\n",
       " ('big data', 767717.0),\n",
       " ('internet', 587750.0),\n",
       " ('cloud computing', 568436.0),\n",
       " ('web development', 567307.0),\n",
       " ('information services', 567221.0),\n",
       " ('storage', 566009.0),\n",
       " ('finance', 377160.0),\n",
       " ('services', 372678.0),\n",
       " ('businesses', 365388.0),\n",
       " ('financial services', 363345.0),\n",
       " ('health', 360836.0),\n",
       " ('business services', 360081.0),\n",
       " ('consulting', 353540.0),\n",
       " ('communications', 350099.0),\n",
       " ('machine learning', 179085.0),\n",
       " ('big data analytics', 92318.0),\n",
       " ('deep learning', 90701.0),\n",
       " ('telecommunications', 62262.0),\n",
       " ('mobile', 45317.0),\n",
       " ('information technology', 31508.0),\n",
       " ('natural language processing', 26296.0),\n",
       " ('speech recognition', 23411.0),\n",
       " ('e-commerce', 22130.0),\n",
       " ('transportation', 21751.0),\n",
       " ('consumer electronics', 21436.0),\n",
       " ('vehicles', 21350.0),\n",
       " ('wearables', 21039.0),\n",
       " ('automotive', 21038.0),\n",
       " ('energy', 20213.0),\n",
       " ('security', 20205.0),\n",
       " ('analytics', 18218.0),\n",
       " ('internet of things', 14379.0),\n",
       " ('data science', 13645.0),\n",
       " ('fintech', 13004.0),\n",
       " ('health care', 12397.0),\n",
       " ('software', 12333.0),\n",
       " ('customer service', 12270.0),\n",
       " ('education', 11428.0),\n",
       " ('sales and marketing', 10817.0),\n",
       " ('augmented reality', 10693.0),\n",
       " ('social media', 10555.0),\n",
       " ('recruiting', 10521.0),\n",
       " ('edtech', 10480.0),\n",
       " ('data security', 10292.0),\n",
       " ('venture capital', 10267.0),\n",
       " ('sales tools', 10250.0),\n",
       " ('sports', 10181.0),\n",
       " ('online marketing', 10124.0),\n",
       " ('aerospace', 10049.0),\n",
       " ('translation', 10048.0),\n",
       " ('networking', 10018.0),\n",
       " ('localization', 10014.0),\n",
       " ('construction', 10012.0),\n",
       " ('marketing', 7385.0),\n",
       " ('business intelligence', 5872.0),\n",
       " ('enterprise software', 3755.0),\n",
       " ('saas', 2791.0),\n",
       " ('robotics', 2330.0),\n",
       " ('predictive analytics', 2151.0),\n",
       " ('computer vision', 2092.0),\n",
       " ('media', 2042.0),\n",
       " ('virtual reality', 1898.0),\n",
       " ('consumer internet', 1861.0),\n",
       " ('messaging', 1616.0),\n",
       " ('blockchain', 1440.0),\n",
       " ('medical', 1277.0),\n",
       " ('mobile applications', 1190.0),\n",
       " ('photography', 1165.0),\n",
       " ('ediscovery', 1134.0),\n",
       " ('photo sharing', 1118.0),\n",
       " ('deep tech', 1070.0),\n",
       " ('social network', 1069.0),\n",
       " ('nanotechnology', 1012.0),\n",
       " ('customer support tools', 933.0),\n",
       " ('advertising', 901.0),\n",
       " ('apps', 882.0),\n",
       " ('design', 807.0),\n",
       " ('data mining', 791.0),\n",
       " ('image recognition', 757.0),\n",
       " ('health and wellness', 698.0),\n",
       " ('social', 675.0),\n",
       " ('news', 661.0),\n",
       " ('business analytics', 639.0),\n",
       " ('search', 627.0),\n",
       " ('cyber security', 608.0),\n",
       " ('outsourcing', 606.0),\n",
       " ('content discovery', 578.0),\n",
       " ('industry', 577.0),\n",
       " ('retail', 574.0),\n",
       " ('data visualization', 565.0),\n",
       " ('productivity software', 564.0),\n",
       " ('web design', 563.0),\n",
       " ('clinical trials', 561.0),\n",
       " ('communication', 557.0),\n",
       " ('user experience design', 553.0),\n",
       " ('identity', 542.0),\n",
       " ('podcasting', 503.0),\n",
       " ('video', 499.0),\n",
       " ('drones', 459.0),\n",
       " ('biotechnology', 442.0),\n",
       " ('risk management', 437.0),\n",
       " ('startups', 400.0),\n",
       " ('autonomous vehicles', 398.0),\n",
       " ('health care information technology', 392.0),\n",
       " ('trading', 390.0),\n",
       " ('mobile advertising', 386.0),\n",
       " ('research', 377.0),\n",
       " ('fraud detection', 375.0),\n",
       " ('online shopping', 370.0),\n",
       " ('text analytics', 370.0),\n",
       " ('insurance', 354.0),\n",
       " ('manufacturing', 347.0),\n",
       " ('retail technology', 345.0),\n",
       " ('algorithms', 343.0),\n",
       " ('digital marketing', 328.0),\n",
       " ('personalization', 328.0),\n",
       " ('chat', 327.0),\n",
       " ('legal', 317.0),\n",
       " ('communities', 312.0),\n",
       " ('travel', 309.0),\n",
       " ('crm', 307.0),\n",
       " ('lead generation', 302.0),\n",
       " ('advertising platforms', 301.0),\n",
       " ('events', 297.0),\n",
       " ('social media marketing', 288.0),\n",
       " ('meeting software', 276.0),\n",
       " ('e-learning', 274.0),\n",
       " ('data integration', 273.0),\n",
       " ('paas', 268.0),\n",
       " ('human resources', 267.0),\n",
       " ('digital media', 264.0),\n",
       " ('app development', 260.0),\n",
       " ('marketplaces', 255.0),\n",
       " ('music', 254.0),\n",
       " ('network security', 252.0),\n",
       " ('smart home', 248.0),\n",
       " ('mobile health', 240.0),\n",
       " ('ios', 239.0),\n",
       " ('consumer goods', 238.0),\n",
       " ('hardware', 232.0),\n",
       " ('infrastructure', 232.0),\n",
       " ('intelligent systems', 227.0),\n",
       " ('public safety', 225.0),\n",
       " ('market research', 217.0),\n",
       " ('sales automation', 216.0),\n",
       " ('agriculture', 214.0),\n",
       " ('architecture', 214.0),\n",
       " ('gaming', 212.0),\n",
       " ('personal data', 212.0),\n",
       " ('android', 211.0),\n",
       " ('3d', 210.0),\n",
       " ('legal tech', 207.0),\n",
       " ('genealogy', 201.0),\n",
       " ('marketing automation', 198.0),\n",
       " ('sensors', 196.0),\n",
       " ('accounting', 194.0),\n",
       " ('e-commerce platforms', 189.0),\n",
       " ('sustainability', 184.0),\n",
       " ('developer apis', 182.0),\n",
       " ('investment', 175.0),\n",
       " ('real estate', 175.0),\n",
       " ('api', 174.0),\n",
       " ('audio', 173.0),\n",
       " ('payments', 173.0),\n",
       " ('email marketing', 171.0),\n",
       " ('real time', 168.0),\n",
       " ('enterprise', 165.0),\n",
       " ('sales enablement', 165.0),\n",
       " ('mobile commerce', 164.0),\n",
       " ('politics', 162.0),\n",
       " ('cars', 161.0),\n",
       " ('knowledge management', 161.0),\n",
       " ('internet marketing', 160.0),\n",
       " ('learning', 159.0),\n",
       " ('semiconductors', 157.0),\n",
       " ('pharmaceuticals', 156.0),\n",
       " ('training', 156.0),\n",
       " ('blogging platforms', 154.0),\n",
       " ('semantic search', 154.0),\n",
       " ('fashion', 153.0),\n",
       " ('logistics', 151.0),\n",
       " ('developer tools', 150.0),\n",
       " ('diagnostics', 150.0),\n",
       " ('employment', 147.0),\n",
       " ('banking', 143.0),\n",
       " ('content marketing', 138.0),\n",
       " ('cloud data services', 137.0),\n",
       " ('visual search', 134.0),\n",
       " ('iphone', 132.0),\n",
       " ('collaboration', 130.0),\n",
       " ('adtech', 129.0),\n",
       " ('semantic web', 129.0),\n",
       " ('wireless', 128.0),\n",
       " ('content', 126.0),\n",
       " ('psychology', 123.0),\n",
       " ('marketing intelligence', 122.0),\n",
       " ('games', 118.0),\n",
       " ('crowdsourcing', 116.0),\n",
       " ('development', 116.0),\n",
       " ('entertainment', 115.0),\n",
       " ('publishing', 115.0),\n",
       " ('visualization', 114.0),\n",
       " ('organizational tools', 113.0),\n",
       " ('scheduling', 113.0),\n",
       " ('social + mobile + local', 110.0),\n",
       " ('green', 107.0),\n",
       " ('navigation', 107.0),\n",
       " ('food and drinks', 105.0),\n",
       " ('cryptocurrency', 104.0),\n",
       " ('mobile software tools', 104.0),\n",
       " ('small and medium businesses', 104.0),\n",
       " ('revenue drivers', 103.0),\n",
       " ('gamification', 101.0),\n",
       " ('personal finance', 101.0),\n",
       " ('personal health', 97.0),\n",
       " ('social media monitoring', 97.0),\n",
       " ('travel & tourism', 97.0),\n",
       " ('databases', 96.0),\n",
       " ('monetization', 96.0),\n",
       " ('professional services', 94.0),\n",
       " ('performance marketing', 93.0),\n",
       " ('optimization', 92.0),\n",
       " ('hospitality', 91.0),\n",
       " ('social recruiting', 91.0),\n",
       " ('information security', 89.0),\n",
       " ('energy efficiency', 88.0),\n",
       " ('medical devices', 87.0),\n",
       " ('social commerce', 87.0),\n",
       " ('stock exchanges', 86.0),\n",
       " ('face recognition', 85.0),\n",
       " ('photo tech', 85.0),\n",
       " ('investment management', 84.0),\n",
       " ('reviews and recommendations', 83.0),\n",
       " ('clean technology', 81.0),\n",
       " ('business development', 79.0),\n",
       " ('industrial automation', 79.0),\n",
       " ('shopping', 79.0),\n",
       " ('sms', 79.0),\n",
       " ('virtual worlds', 79.0),\n",
       " ('seo', 78.0),\n",
       " ('document management', 77.0),\n",
       " ('email', 77.0),\n",
       " ('mobile marketing', 76.0),\n",
       " ('3d technology', 75.0),\n",
       " ('social crm', 75.0),\n",
       " ('health diagnostics', 74.0),\n",
       " ('consumer lending', 72.0),\n",
       " ('cloud infrastructure', 69.0),\n",
       " ('video streaming', 69.0),\n",
       " ('electronics', 68.0),\n",
       " ('mobile payments', 68.0),\n",
       " ('video chat', 68.0),\n",
       " ('agency', 67.0),\n",
       " ('creative', 67.0),\n",
       " ('food', 67.0),\n",
       " ('biometrics', 66.0),\n",
       " ('health and insurance', 66.0),\n",
       " ('unified communications', 66.0),\n",
       " ('life sciences', 65.0),\n",
       " ('lifestyle', 65.0),\n",
       " ('location based services', 63.0),\n",
       " ('new product development', 61.0),\n",
       " ('enterprise search', 60.0),\n",
       " ('privacy', 60.0),\n",
       " ('home automation', 59.0),\n",
       " ('strategy', 59.0),\n",
       " ('microservices', 56.0),\n",
       " ('property management', 56.0),\n",
       " ('healthcare services', 54.0),\n",
       " ('printing', 54.0),\n",
       " ('cannabis', 53.0),\n",
       " ('cloud security', 53.0),\n",
       " ('data architecture', 53.0),\n",
       " ('esports', 53.0),\n",
       " ('intellectual asset management', 53.0),\n",
       " ('voip', 53.0),\n",
       " ('brokers', 51.0),\n",
       " ('entrepreneur', 51.0),\n",
       " ('event marketing', 51.0),\n",
       " ('hotels', 51.0),\n",
       " ('on demand services', 51.0),\n",
       " ('open source', 51.0),\n",
       " ('search marketing', 51.0),\n",
       " ('sponsorship', 51.0),\n",
       " ('storytelling', 51.0),\n",
       " ('video on demand', 51.0),\n",
       " ('virtual currency', 51.0),\n",
       " ('curated web', 50.0),\n",
       " ('computers', 48.0),\n",
       " ('price comparison', 47.0),\n",
       " ('social media advertising', 47.0),\n",
       " ('hardware + software', 46.0),\n",
       " ('mobile analytics', 46.0),\n",
       " ('food tech', 45.0),\n",
       " ('reading apps', 44.0),\n",
       " ('content delivery', 43.0),\n",
       " ('sports technology', 43.0),\n",
       " ('3d printing', 41.0),\n",
       " ('coupons', 41.0),\n",
       " ('testing', 41.0),\n",
       " ('usability', 41.0),\n",
       " ('bitcoin', 40.0),\n",
       " ('exchanges', 40.0),\n",
       " ('language learning', 40.0),\n",
       " ('supply chain management', 40.0),\n",
       " ('conversion optimization', 39.0),\n",
       " ('quantified self', 39.0),\n",
       " ('brand marketing', 38.0),\n",
       " ('loyalty programs', 37.0),\n",
       " ('app', 36.0),\n",
       " ('project management', 36.0),\n",
       " ('skill assessment', 36.0),\n",
       " ('fitness', 35.0),\n",
       " ('maps', 35.0),\n",
       " ('tourism', 35.0),\n",
       " ('freelancers', 34.0),\n",
       " ('music services', 33.0),\n",
       " ('shipping', 33.0),\n",
       " ('art', 32.0),\n",
       " ('kids', 32.0),\n",
       " ('product design', 32.0),\n",
       " ('video conferencing', 32.0),\n",
       " ('accelerator', 31.0),\n",
       " ('application platforms', 31.0),\n",
       " ('delivery', 31.0),\n",
       " ('online travel', 31.0),\n",
       " ('societal impact', 31.0),\n",
       " ('cooking', 30.0),\n",
       " ('recipes', 30.0),\n",
       " ('translation services', 30.0),\n",
       " ('pets', 29.0),\n",
       " ('public transportation', 29.0),\n",
       " ('service providers', 29.0),\n",
       " ('web apps', 27.0),\n",
       " ('m2m', 26.0),\n",
       " ('nightlife', 26.0),\n",
       " ('ticketing', 26.0),\n",
       " ('event management', 25.0),\n",
       " ('prototyping', 25.0),\n",
       " ('discovery', 24.0),\n",
       " ('management', 24.0),\n",
       " ('public relations', 24.0),\n",
       " ('restaurants', 23.0),\n",
       " ('clean energy', 22.0),\n",
       " ('enterprises', 22.0),\n",
       " ('monitoring', 22.0),\n",
       " ('online reservations', 22.0),\n",
       " ('publishers', 22.0),\n",
       " ('therapeutics', 22.0),\n",
       " ('content creators', 21.0),\n",
       " ('gps', 21.0),\n",
       " ('governments', 20.0),\n",
       " ('professional networking', 20.0),\n",
       " ('smart grids', 19.0),\n",
       " ('task management', 19.0),\n",
       " ('development platforms', 18.0),\n",
       " ('electric vehicles', 18.0),\n",
       " ('home & garden', 18.0),\n",
       " ('local based services', 18.0),\n",
       " ('maritime', 18.0),\n",
       " ('consumers', 17.0),\n",
       " ('educational games', 17.0),\n",
       " ('graphics', 17.0),\n",
       " ('k-12 education', 17.0),\n",
       " ('social business', 17.0),\n",
       " ('subscription service', 17.0),\n",
       " ('video games', 17.0),\n",
       " ('web hosting', 17.0),\n",
       " ('home decor', 16.0),\n",
       " ('influencer relations', 16.0),\n",
       " ('journalism', 16.0),\n",
       " ('mobile games', 16.0),\n",
       " ('business productivity', 15.0),\n",
       " ('cad', 15.0),\n",
       " ('calendars', 15.0),\n",
       " ('classifieds', 15.0),\n",
       " ('colleges', 15.0),\n",
       " ('digital', 15.0),\n",
       " ('emerging markets', 15.0),\n",
       " ('parking', 15.0),\n",
       " ('science', 15.0),\n",
       " ('social media management', 15.0),\n",
       " ('tracking', 15.0),\n",
       " ('user testing', 15.0),\n",
       " ('contact management', 14.0),\n",
       " ('online booking', 14.0),\n",
       " ('social media platforms', 14.0),\n",
       " ('social search', 14.0),\n",
       " ('career management', 13.0),\n",
       " ('humanitarian', 13.0),\n",
       " ('identity management', 13.0),\n",
       " ('online dating', 13.0),\n",
       " ('peer-to-peer', 13.0),\n",
       " ('reputation', 13.0),\n",
       " ('ride sharing', 13.0),\n",
       " ('sharing economy', 13.0),\n",
       " ('social entrepreneurship', 13.0),\n",
       " ('social games', 13.0),\n",
       " ('software compliance', 13.0),\n",
       " ('web browsers', 13.0),\n",
       " ('commercial real estate', 12.0),\n",
       " ('film', 12.0),\n",
       " ('marketing communications', 12.0),\n",
       " ('affiliates', 11.0),\n",
       " ('app stores', 11.0),\n",
       " ('browser extensions', 11.0),\n",
       " ('career planning', 11.0),\n",
       " ('college recruiting', 11.0),\n",
       " ('content delivery networks', 11.0),\n",
       " ('content planning', 11.0),\n",
       " ('data centers', 11.0),\n",
       " ('direct marketing', 11.0),\n",
       " ('groceries', 11.0),\n",
       " ('homeland security', 11.0),\n",
       " ('lasers', 11.0),\n",
       " ('licensing', 11.0),\n",
       " ('nfc', 11.0),\n",
       " ('quantum computing', 11.0),\n",
       " ('seniors', 11.0),\n",
       " ('surveys', 11.0),\n",
       " ('tablets', 11.0),\n",
       " ('utilities', 11.0),\n",
       " ('video editing', 11.0),\n",
       " ('writers', 11.0),\n",
       " ('broadcasting', 10.0),\n",
       " ('collaborative consumption', 10.0),\n",
       " ('content syndication', 10.0),\n",
       " ('contests', 10.0),\n",
       " ('coworking', 10.0),\n",
       " ('crowdfunding', 10.0),\n",
       " ('office space', 10.0),\n",
       " ('web scraping', 10.0),\n",
       " ('web tools', 10.0),\n",
       " ('human resource automation', 9.0),\n",
       " ('innovation engineering', 9.0),\n",
       " ('tutoring', 9.0),\n",
       " ('it management', 8.0),\n",
       " ('coffee', 7.0),\n",
       " ('interior design', 7.0),\n",
       " ('private social networking', 7.0),\n",
       " ('social learning', 7.0),\n",
       " ('social travel', 7.0),\n",
       " ('tech support', 7.0),\n",
       " ('beauty', 6.0),\n",
       " ('dating', 6.0),\n",
       " ('online video advertising', 6.0),\n",
       " ('parenting', 6.0),\n",
       " ('renewable energies', 6.0),\n",
       " ('webcare', 6.0),\n",
       " ('community management', 5.0),\n",
       " ('entertainment service provider', 5.0),\n",
       " ('nonprofits', 5.0),\n",
       " ('social network media', 5.0),\n",
       " ('tech field support', 5.0),\n",
       " ('web service', 5.0),\n",
       " ('weddings', 5.0),\n",
       " ('cloud management', 4.0),\n",
       " ('deals', 4.0),\n",
       " ('file sharing', 4.0),\n",
       " ('fleet management', 4.0),\n",
       " ('gis', 4.0),\n",
       " ('hospitals', 4.0),\n",
       " ('mediatech', 4.0),\n",
       " ('mobile enterprise', 4.0),\n",
       " ('online rental', 4.0),\n",
       " ('virtualization', 4.0),\n",
       " ('app design', 3.0),\n",
       " ('facebook applications', 3.0),\n",
       " ('local businesses', 3.0),\n",
       " ('auctions', 2.0),\n",
       " ('cloud storage', 2.0),\n",
       " ('cosmetics', 2.0),\n",
       " ('discounts', 2.0),\n",
       " ('food delivery', 2.0),\n",
       " ('food processing', 2.0),\n",
       " ('idea management', 2.0),\n",
       " ('leisure', 2.0),\n",
       " ('local search', 2.0),\n",
       " ('mobile security', 2.0),\n",
       " ('nutrition', 2.0),\n",
       " ('recycling', 2.0),\n",
       " ('seed capital', 2.0),\n",
       " ('small business', 2.0),\n",
       " ('social bookmarking', 2.0),\n",
       " ('spam filtering', 2.0),\n",
       " ('sporting goods', 2.0),\n",
       " ('teaching', 2.0),\n",
       " ('toys', 2.0),\n",
       " ('vertical search', 2.0),\n",
       " ('wifi', 2.0),\n",
       " ('beer', 1.0),\n",
       " ('app marketing', 0.0),\n",
       " ('booking', 0.0),\n",
       " ('business information systems', 0.0),\n",
       " ('communications hardware', 0.0),\n",
       " ('communications infrastructure', 0.0),\n",
       " ('desktop automation', 0.0),\n",
       " ('internet tv', 0.0),\n",
       " ('local advertising', 0.0),\n",
       " ('luxury', 0.0),\n",
       " ('photo editing', 0.0),\n",
       " ('product discovery', 0.0),\n",
       " ('radio', 0.0),\n",
       " ('teachers', 0.0),\n",
       " ('television', 0.0)]"
      ]
     },
     "execution_count": 455,
     "metadata": {},
     "output_type": "execute_result"
    }
   ],
   "source": [
    "tags_emp_total = {}\n",
    "for i in pd.Index(tags):\n",
    "    tags_emp_total[i] = (ai_emp[i]*ai_emp['employees']).sum()\n",
    "\n",
    "sorted_tags_emp_total = sorted(tags_emp_total.items(), key=lambda x: x[1], reverse = True)\n",
    "sorted_tags_emp_total"
   ]
  },
  {
   "cell_type": "markdown",
   "metadata": {
    "hidden": true
   },
   "source": [
    "TOP 20 most populated categories are:"
   ]
  },
  {
   "cell_type": "code",
   "execution_count": 456,
   "metadata": {
    "hidden": true
   },
   "outputs": [
    {
     "data": {
      "text/plain": [
       "[('C_service', 1676187.0),\n",
       " ('C_data', 886110.0),\n",
       " ('C_business', 732200.0),\n",
       " ('C_internet', 604150.0),\n",
       " ('C_information', 599210.0),\n",
       " ('C_cloud', 568701.0),\n",
       " ('C_web', 568137.0),\n",
       " ('C_development', 567841.0),\n",
       " ('C_communications', 412439.0),\n",
       " ('C_health', 374854.0),\n",
       " ('C_machine_learning', 269786.0),\n",
       " ('C_analytics', 113742.0),\n",
       " ('C_mobile', 47723.0),\n",
       " ('C_security', 31512.0),\n",
       " ('C_marketing', 30063.0),\n",
       " ('C_consumer', 23624.0),\n",
       " ('C_sales', 21448.0),\n",
       " ('C_software', 17091.0),\n",
       " ('C_media', 13331.0),\n",
       " ('C_social', 13208.0)]"
      ]
     },
     "execution_count": 456,
     "metadata": {},
     "output_type": "execute_result"
    }
   ],
   "source": [
    "sorted_cats_emp_total[0:20]"
   ]
  },
  {
   "cell_type": "markdown",
   "metadata": {},
   "source": [
    "## Q2. How do AI investors invest their funds?\n"
   ]
  },
  {
   "cell_type": "markdown",
   "metadata": {},
   "source": [
    "### Basic investments statistics\n",
    "\n",
    "Let's start with basic investment statistics"
   ]
  },
  {
   "cell_type": "code",
   "execution_count": 457,
   "metadata": {},
   "outputs": [
    {
     "data": {
      "text/plain": [
       "count    1481.000000\n",
       "mean       18.141217\n",
       "std       103.993026\n",
       "min         0.000001\n",
       "25%         0.780000\n",
       "50%         3.000000\n",
       "75%        11.000000\n",
       "max      2917.000000\n",
       "Name: total_raised_USD_milions, dtype: float64"
      ]
     },
     "execution_count": 457,
     "metadata": {},
     "output_type": "execute_result"
    }
   ],
   "source": [
    "ai_fund['total_raised_USD_milions'].describe()"
   ]
  },
  {
   "cell_type": "markdown",
   "metadata": {},
   "source": [
    "Let's classify companies investment size basing on terciles"
   ]
  },
  {
   "cell_type": "code",
   "execution_count": 458,
   "metadata": {},
   "outputs": [],
   "source": [
    "ai_fund['inv_size'] = pd.qcut(ai_fund['total_raised_USD_milions'], 3, labels=[\"small\", \"medium\", \"large\"])"
   ]
  },
  {
   "cell_type": "code",
   "execution_count": 459,
   "metadata": {},
   "outputs": [
    {
     "data": {
      "text/html": [
       "<div>\n",
       "<style scoped>\n",
       "    .dataframe tbody tr th:only-of-type {\n",
       "        vertical-align: middle;\n",
       "    }\n",
       "\n",
       "    .dataframe tbody tr th {\n",
       "        vertical-align: top;\n",
       "    }\n",
       "\n",
       "    .dataframe thead th {\n",
       "        text-align: right;\n",
       "    }\n",
       "</style>\n",
       "<table border=\"1\" class=\"dataframe\">\n",
       "  <thead>\n",
       "    <tr style=\"text-align: right;\">\n",
       "      <th></th>\n",
       "      <th>founded_in</th>\n",
       "      <th>total_raised_USD_milions</th>\n",
       "      <th>employees</th>\n",
       "      <th>latest_round_amount_USD_milions</th>\n",
       "    </tr>\n",
       "  </thead>\n",
       "  <tbody>\n",
       "    <tr>\n",
       "      <th>count</th>\n",
       "      <td>407.000000</td>\n",
       "      <td>494.000000</td>\n",
       "      <td>347.000000</td>\n",
       "      <td>487.000000</td>\n",
       "    </tr>\n",
       "    <tr>\n",
       "      <th>mean</th>\n",
       "      <td>2013.609337</td>\n",
       "      <td>0.478176</td>\n",
       "      <td>9.394813</td>\n",
       "      <td>0.410192</td>\n",
       "    </tr>\n",
       "    <tr>\n",
       "      <th>std</th>\n",
       "      <td>7.758181</td>\n",
       "      <td>0.410840</td>\n",
       "      <td>31.274050</td>\n",
       "      <td>0.397275</td>\n",
       "    </tr>\n",
       "    <tr>\n",
       "      <th>min</th>\n",
       "      <td>1868.000000</td>\n",
       "      <td>0.000001</td>\n",
       "      <td>2.000000</td>\n",
       "      <td>0.000000</td>\n",
       "    </tr>\n",
       "    <tr>\n",
       "      <th>25%</th>\n",
       "      <td>2013.000000</td>\n",
       "      <td>0.106500</td>\n",
       "      <td>2.000000</td>\n",
       "      <td>0.065444</td>\n",
       "    </tr>\n",
       "    <tr>\n",
       "      <th>50%</th>\n",
       "      <td>2014.000000</td>\n",
       "      <td>0.372335</td>\n",
       "      <td>3.000000</td>\n",
       "      <td>0.250000</td>\n",
       "    </tr>\n",
       "    <tr>\n",
       "      <th>75%</th>\n",
       "      <td>2016.000000</td>\n",
       "      <td>0.779540</td>\n",
       "      <td>11.000000</td>\n",
       "      <td>0.700000</td>\n",
       "    </tr>\n",
       "    <tr>\n",
       "      <th>max</th>\n",
       "      <td>2019.000000</td>\n",
       "      <td>1.351351</td>\n",
       "      <td>501.000000</td>\n",
       "      <td>1.351351</td>\n",
       "    </tr>\n",
       "  </tbody>\n",
       "</table>\n",
       "</div>"
      ],
      "text/plain": [
       "        founded_in  total_raised_USD_milions   employees  \\\n",
       "count   407.000000                494.000000  347.000000   \n",
       "mean   2013.609337                  0.478176    9.394813   \n",
       "std       7.758181                  0.410840   31.274050   \n",
       "min    1868.000000                  0.000001    2.000000   \n",
       "25%    2013.000000                  0.106500    2.000000   \n",
       "50%    2014.000000                  0.372335    3.000000   \n",
       "75%    2016.000000                  0.779540   11.000000   \n",
       "max    2019.000000                  1.351351  501.000000   \n",
       "\n",
       "       latest_round_amount_USD_milions  \n",
       "count                       487.000000  \n",
       "mean                          0.410192  \n",
       "std                           0.397275  \n",
       "min                           0.000000  \n",
       "25%                           0.065444  \n",
       "50%                           0.250000  \n",
       "75%                           0.700000  \n",
       "max                           1.351351  "
      ]
     },
     "execution_count": 459,
     "metadata": {},
     "output_type": "execute_result"
    }
   ],
   "source": [
    "# Want more stats?\n",
    "ai_fund[ai_fund['inv_size'] == 'small'][biz_cols].describe()\n",
    "#ai_fund[ai_fund['inv_size'] == 'medium'][biz_cols].describe()\n",
    "#ai_fund[ai_fund['inv_size'] == 'large'][biz_cols].describe()"
   ]
  },
  {
   "cell_type": "markdown",
   "metadata": {},
   "source": [
    "### Investments by Geography"
   ]
  },
  {
   "cell_type": "markdown",
   "metadata": {},
   "source": [
    "#### Which countries has the largest number of AI companies?"
   ]
  },
  {
   "cell_type": "code",
   "execution_count": 460,
   "metadata": {},
   "outputs": [
    {
     "data": {
      "text/plain": [
       "United States      1067\n",
       "United Kingdom      340\n",
       "The Netherlands     147\n",
       "Germany             116\n",
       "Canada              109\n",
       "India               107\n",
       "France              107\n",
       "Finland              98\n",
       "Spain                84\n",
       "China                81\n",
       "Israel               77\n",
       "Sweden               58\n",
       "Switzerland          28\n",
       "Denmark              27\n",
       "Italy                27\n",
       "Name: country, dtype: int64"
      ]
     },
     "execution_count": 460,
     "metadata": {},
     "output_type": "execute_result"
    }
   ],
   "source": [
    "ai_clean['country'].value_counts().head(15)"
   ]
  },
  {
   "cell_type": "markdown",
   "metadata": {},
   "source": [
    "It looks like China is underrepresented..."
   ]
  },
  {
   "cell_type": "markdown",
   "metadata": {},
   "source": [
    "#### Which countries invest most in AI?"
   ]
  },
  {
   "cell_type": "code",
   "execution_count": 461,
   "metadata": {},
   "outputs": [],
   "source": [
    "inv_by_country = ai_fund.groupby('country')['total_raised_USD_milions'].sum()"
   ]
  },
  {
   "cell_type": "markdown",
   "metadata": {},
   "source": [
    "TOP 15 countries investing in AI:"
   ]
  },
  {
   "cell_type": "code",
   "execution_count": 462,
   "metadata": {},
   "outputs": [
    {
     "data": {
      "text/plain": [
       "country\n",
       "United States     12816.463248\n",
       "China              7984.260078\n",
       "United Kingdom     1809.631208\n",
       "Israel              753.917280\n",
       "Canada              614.921299\n",
       "France              571.492984\n",
       "Germany             389.898256\n",
       "Sweden              319.253152\n",
       "Japan               273.675637\n",
       "India               143.586644\n",
       "Finland             126.353360\n",
       "Spain               121.472980\n",
       "Estonia             116.098927\n",
       "Taiwan               84.906977\n",
       "Singapore            71.860360\n",
       "Name: total_raised_USD_milions, dtype: float64"
      ]
     },
     "execution_count": 462,
     "metadata": {},
     "output_type": "execute_result"
    }
   ],
   "source": [
    "inv_by_country.sort_values(ascending = False).head(15)"
   ]
  },
  {
   "cell_type": "markdown",
   "metadata": {},
   "source": [
    "Now, let's plot these investments on the map...\n",
    "\n",
    "We start with reading in a file with geo-coordinates of different countries."
   ]
  },
  {
   "cell_type": "code",
   "execution_count": 464,
   "metadata": {},
   "outputs": [
    {
     "data": {
      "text/html": [
       "<div>\n",
       "<style scoped>\n",
       "    .dataframe tbody tr th:only-of-type {\n",
       "        vertical-align: middle;\n",
       "    }\n",
       "\n",
       "    .dataframe tbody tr th {\n",
       "        vertical-align: top;\n",
       "    }\n",
       "\n",
       "    .dataframe thead th {\n",
       "        text-align: right;\n",
       "    }\n",
       "</style>\n",
       "<table border=\"1\" class=\"dataframe\">\n",
       "  <thead>\n",
       "    <tr style=\"text-align: right;\">\n",
       "      <th></th>\n",
       "      <th>country</th>\n",
       "      <th>lat</th>\n",
       "      <th>lon</th>\n",
       "    </tr>\n",
       "  </thead>\n",
       "  <tbody>\n",
       "    <tr>\n",
       "      <th>0</th>\n",
       "      <td>Afghanistan</td>\n",
       "      <td>33.939110</td>\n",
       "      <td>67.709953</td>\n",
       "    </tr>\n",
       "    <tr>\n",
       "      <th>1</th>\n",
       "      <td>Albania</td>\n",
       "      <td>41.153332</td>\n",
       "      <td>20.168331</td>\n",
       "    </tr>\n",
       "    <tr>\n",
       "      <th>2</th>\n",
       "      <td>Algeria</td>\n",
       "      <td>28.033886</td>\n",
       "      <td>1.659626</td>\n",
       "    </tr>\n",
       "    <tr>\n",
       "      <th>3</th>\n",
       "      <td>Andorra</td>\n",
       "      <td>42.506285</td>\n",
       "      <td>1.521801</td>\n",
       "    </tr>\n",
       "    <tr>\n",
       "      <th>4</th>\n",
       "      <td>Angola</td>\n",
       "      <td>-11.202692</td>\n",
       "      <td>17.873887</td>\n",
       "    </tr>\n",
       "  </tbody>\n",
       "</table>\n",
       "</div>"
      ],
      "text/plain": [
       "       country        lat        lon\n",
       "0  Afghanistan  33.939110  67.709953\n",
       "1      Albania  41.153332  20.168331\n",
       "2      Algeria  28.033886   1.659626\n",
       "3      Andorra  42.506285   1.521801\n",
       "4       Angola -11.202692  17.873887"
      ]
     },
     "execution_count": 464,
     "metadata": {},
     "output_type": "execute_result"
    }
   ],
   "source": [
    "countries = pd.read_csv('countries.csv', names=['country', 'lat', 'lon'])\n",
    "countries.head()"
   ]
  },
  {
   "cell_type": "code",
   "execution_count": 465,
   "metadata": {},
   "outputs": [
    {
     "data": {
      "text/html": [
       "<div>\n",
       "<style scoped>\n",
       "    .dataframe tbody tr th:only-of-type {\n",
       "        vertical-align: middle;\n",
       "    }\n",
       "\n",
       "    .dataframe tbody tr th {\n",
       "        vertical-align: top;\n",
       "    }\n",
       "\n",
       "    .dataframe thead th {\n",
       "        text-align: right;\n",
       "    }\n",
       "</style>\n",
       "<table border=\"1\" class=\"dataframe\">\n",
       "  <thead>\n",
       "    <tr style=\"text-align: right;\">\n",
       "      <th></th>\n",
       "      <th>country</th>\n",
       "      <th>lat</th>\n",
       "      <th>lon</th>\n",
       "    </tr>\n",
       "  </thead>\n",
       "  <tbody>\n",
       "    <tr>\n",
       "      <th>185</th>\n",
       "      <td>United States of America</td>\n",
       "      <td>37.09024</td>\n",
       "      <td>-95.712891</td>\n",
       "    </tr>\n",
       "  </tbody>\n",
       "</table>\n",
       "</div>"
      ],
      "text/plain": [
       "                      country       lat        lon\n",
       "185  United States of America  37.09024 -95.712891"
      ]
     },
     "execution_count": 465,
     "metadata": {},
     "output_type": "execute_result"
    }
   ],
   "source": [
    "countries[countries['country'] == 'United States of America']"
   ]
  },
  {
   "cell_type": "code",
   "execution_count": 466,
   "metadata": {},
   "outputs": [
    {
     "data": {
      "text/html": [
       "<div>\n",
       "<style scoped>\n",
       "    .dataframe tbody tr th:only-of-type {\n",
       "        vertical-align: middle;\n",
       "    }\n",
       "\n",
       "    .dataframe tbody tr th {\n",
       "        vertical-align: top;\n",
       "    }\n",
       "\n",
       "    .dataframe thead th {\n",
       "        text-align: right;\n",
       "    }\n",
       "</style>\n",
       "<table border=\"1\" class=\"dataframe\">\n",
       "  <thead>\n",
       "    <tr style=\"text-align: right;\">\n",
       "      <th></th>\n",
       "      <th>country</th>\n",
       "      <th>lat</th>\n",
       "      <th>lon</th>\n",
       "    </tr>\n",
       "  </thead>\n",
       "  <tbody>\n",
       "    <tr>\n",
       "      <th>185</th>\n",
       "      <td>United States</td>\n",
       "      <td>37.09024</td>\n",
       "      <td>-95.712891</td>\n",
       "    </tr>\n",
       "  </tbody>\n",
       "</table>\n",
       "</div>"
      ],
      "text/plain": [
       "           country       lat        lon\n",
       "185  United States  37.09024 -95.712891"
      ]
     },
     "execution_count": 466,
     "metadata": {},
     "output_type": "execute_result"
    }
   ],
   "source": [
    "# must change a name of USA in \"country\" column\n",
    "countries.country.replace('United States of America', 'United States', inplace = True)\n",
    "countries[countries['country'] == 'United States']"
   ]
  },
  {
   "cell_type": "code",
   "execution_count": 467,
   "metadata": {},
   "outputs": [],
   "source": [
    "inv_by_country_top_15 = inv_by_country.sort_values(ascending = False).head(15).to_frame()"
   ]
  },
  {
   "cell_type": "code",
   "execution_count": 468,
   "metadata": {},
   "outputs": [
    {
     "data": {
      "text/html": [
       "<div>\n",
       "<style scoped>\n",
       "    .dataframe tbody tr th:only-of-type {\n",
       "        vertical-align: middle;\n",
       "    }\n",
       "\n",
       "    .dataframe tbody tr th {\n",
       "        vertical-align: top;\n",
       "    }\n",
       "\n",
       "    .dataframe thead th {\n",
       "        text-align: right;\n",
       "    }\n",
       "</style>\n",
       "<table border=\"1\" class=\"dataframe\">\n",
       "  <thead>\n",
       "    <tr style=\"text-align: right;\">\n",
       "      <th></th>\n",
       "      <th>total_raised_USD_milions</th>\n",
       "      <th>country</th>\n",
       "    </tr>\n",
       "    <tr>\n",
       "      <th>country</th>\n",
       "      <th></th>\n",
       "      <th></th>\n",
       "    </tr>\n",
       "  </thead>\n",
       "  <tbody>\n",
       "    <tr>\n",
       "      <th>United States</th>\n",
       "      <td>12816.463248</td>\n",
       "      <td>United States</td>\n",
       "    </tr>\n",
       "    <tr>\n",
       "      <th>China</th>\n",
       "      <td>7984.260078</td>\n",
       "      <td>China</td>\n",
       "    </tr>\n",
       "    <tr>\n",
       "      <th>United Kingdom</th>\n",
       "      <td>1809.631208</td>\n",
       "      <td>United Kingdom</td>\n",
       "    </tr>\n",
       "    <tr>\n",
       "      <th>Israel</th>\n",
       "      <td>753.917280</td>\n",
       "      <td>Israel</td>\n",
       "    </tr>\n",
       "    <tr>\n",
       "      <th>Canada</th>\n",
       "      <td>614.921299</td>\n",
       "      <td>Canada</td>\n",
       "    </tr>\n",
       "    <tr>\n",
       "      <th>France</th>\n",
       "      <td>571.492984</td>\n",
       "      <td>France</td>\n",
       "    </tr>\n",
       "    <tr>\n",
       "      <th>Germany</th>\n",
       "      <td>389.898256</td>\n",
       "      <td>Germany</td>\n",
       "    </tr>\n",
       "    <tr>\n",
       "      <th>Sweden</th>\n",
       "      <td>319.253152</td>\n",
       "      <td>Sweden</td>\n",
       "    </tr>\n",
       "    <tr>\n",
       "      <th>Japan</th>\n",
       "      <td>273.675637</td>\n",
       "      <td>Japan</td>\n",
       "    </tr>\n",
       "    <tr>\n",
       "      <th>India</th>\n",
       "      <td>143.586644</td>\n",
       "      <td>India</td>\n",
       "    </tr>\n",
       "    <tr>\n",
       "      <th>Finland</th>\n",
       "      <td>126.353360</td>\n",
       "      <td>Finland</td>\n",
       "    </tr>\n",
       "    <tr>\n",
       "      <th>Spain</th>\n",
       "      <td>121.472980</td>\n",
       "      <td>Spain</td>\n",
       "    </tr>\n",
       "    <tr>\n",
       "      <th>Estonia</th>\n",
       "      <td>116.098927</td>\n",
       "      <td>Estonia</td>\n",
       "    </tr>\n",
       "    <tr>\n",
       "      <th>Taiwan</th>\n",
       "      <td>84.906977</td>\n",
       "      <td>Taiwan</td>\n",
       "    </tr>\n",
       "    <tr>\n",
       "      <th>Singapore</th>\n",
       "      <td>71.860360</td>\n",
       "      <td>Singapore</td>\n",
       "    </tr>\n",
       "  </tbody>\n",
       "</table>\n",
       "</div>"
      ],
      "text/plain": [
       "                total_raised_USD_milions         country\n",
       "country                                                 \n",
       "United States               12816.463248   United States\n",
       "China                        7984.260078           China\n",
       "United Kingdom               1809.631208  United Kingdom\n",
       "Israel                        753.917280          Israel\n",
       "Canada                        614.921299          Canada\n",
       "France                        571.492984          France\n",
       "Germany                       389.898256         Germany\n",
       "Sweden                        319.253152          Sweden\n",
       "Japan                         273.675637           Japan\n",
       "India                         143.586644           India\n",
       "Finland                       126.353360         Finland\n",
       "Spain                         121.472980           Spain\n",
       "Estonia                       116.098927         Estonia\n",
       "Taiwan                         84.906977          Taiwan\n",
       "Singapore                      71.860360       Singapore"
      ]
     },
     "execution_count": 468,
     "metadata": {},
     "output_type": "execute_result"
    }
   ],
   "source": [
    "inv_by_country_top_15['country'] = inv_by_country_top_15.index\n",
    "inv_by_country_top_15"
   ]
  },
  {
   "cell_type": "code",
   "execution_count": 469,
   "metadata": {},
   "outputs": [
    {
     "name": "stderr",
     "output_type": "stream",
     "text": [
      "/Applications/Anaconda/anaconda/envs/drlnd/lib/python3.6/site-packages/IPython/core/interactiveshell.py:3267: FutureWarning: 'country' is both an index level and a column label.\n",
      "Defaulting to column, but this will raise an ambiguity error in a future version\n",
      "  exec(code_obj, self.user_global_ns, self.user_ns)\n"
     ]
    }
   ],
   "source": [
    "inv_by_country_top_15_geo = pd.merge(inv_by_country_top_15, countries,on='country',how='inner')"
   ]
  },
  {
   "cell_type": "markdown",
   "metadata": {},
   "source": [
    "TOP 15 countries investing most in AI are [values in USD milions]:"
   ]
  },
  {
   "cell_type": "code",
   "execution_count": 470,
   "metadata": {},
   "outputs": [
    {
     "data": {
      "text/html": [
       "<div>\n",
       "<style scoped>\n",
       "    .dataframe tbody tr th:only-of-type {\n",
       "        vertical-align: middle;\n",
       "    }\n",
       "\n",
       "    .dataframe tbody tr th {\n",
       "        vertical-align: top;\n",
       "    }\n",
       "\n",
       "    .dataframe thead th {\n",
       "        text-align: right;\n",
       "    }\n",
       "</style>\n",
       "<table border=\"1\" class=\"dataframe\">\n",
       "  <thead>\n",
       "    <tr style=\"text-align: right;\">\n",
       "      <th></th>\n",
       "      <th>total_raised_USD_milions</th>\n",
       "      <th>country</th>\n",
       "      <th>lat</th>\n",
       "      <th>lon</th>\n",
       "    </tr>\n",
       "  </thead>\n",
       "  <tbody>\n",
       "    <tr>\n",
       "      <th>0</th>\n",
       "      <td>12816.463248</td>\n",
       "      <td>United States</td>\n",
       "      <td>37.090240</td>\n",
       "      <td>-95.712891</td>\n",
       "    </tr>\n",
       "    <tr>\n",
       "      <th>1</th>\n",
       "      <td>7984.260078</td>\n",
       "      <td>China</td>\n",
       "      <td>35.861660</td>\n",
       "      <td>104.195397</td>\n",
       "    </tr>\n",
       "    <tr>\n",
       "      <th>2</th>\n",
       "      <td>1809.631208</td>\n",
       "      <td>United Kingdom</td>\n",
       "      <td>55.378051</td>\n",
       "      <td>-3.435973</td>\n",
       "    </tr>\n",
       "    <tr>\n",
       "      <th>3</th>\n",
       "      <td>753.917280</td>\n",
       "      <td>Israel</td>\n",
       "      <td>31.046051</td>\n",
       "      <td>34.851612</td>\n",
       "    </tr>\n",
       "    <tr>\n",
       "      <th>4</th>\n",
       "      <td>614.921299</td>\n",
       "      <td>Canada</td>\n",
       "      <td>56.130366</td>\n",
       "      <td>-106.346771</td>\n",
       "    </tr>\n",
       "    <tr>\n",
       "      <th>5</th>\n",
       "      <td>571.492984</td>\n",
       "      <td>France</td>\n",
       "      <td>46.227638</td>\n",
       "      <td>2.213749</td>\n",
       "    </tr>\n",
       "    <tr>\n",
       "      <th>6</th>\n",
       "      <td>389.898256</td>\n",
       "      <td>Germany</td>\n",
       "      <td>51.165691</td>\n",
       "      <td>10.451526</td>\n",
       "    </tr>\n",
       "    <tr>\n",
       "      <th>7</th>\n",
       "      <td>319.253152</td>\n",
       "      <td>Sweden</td>\n",
       "      <td>60.128161</td>\n",
       "      <td>18.643501</td>\n",
       "    </tr>\n",
       "    <tr>\n",
       "      <th>8</th>\n",
       "      <td>273.675637</td>\n",
       "      <td>Japan</td>\n",
       "      <td>36.204824</td>\n",
       "      <td>138.252924</td>\n",
       "    </tr>\n",
       "    <tr>\n",
       "      <th>9</th>\n",
       "      <td>143.586644</td>\n",
       "      <td>India</td>\n",
       "      <td>20.593684</td>\n",
       "      <td>78.962880</td>\n",
       "    </tr>\n",
       "    <tr>\n",
       "      <th>10</th>\n",
       "      <td>126.353360</td>\n",
       "      <td>Finland</td>\n",
       "      <td>61.924110</td>\n",
       "      <td>25.748151</td>\n",
       "    </tr>\n",
       "    <tr>\n",
       "      <th>11</th>\n",
       "      <td>121.472980</td>\n",
       "      <td>Spain</td>\n",
       "      <td>40.463667</td>\n",
       "      <td>-3.749220</td>\n",
       "    </tr>\n",
       "    <tr>\n",
       "      <th>12</th>\n",
       "      <td>116.098927</td>\n",
       "      <td>Estonia</td>\n",
       "      <td>58.595272</td>\n",
       "      <td>25.013607</td>\n",
       "    </tr>\n",
       "    <tr>\n",
       "      <th>13</th>\n",
       "      <td>84.906977</td>\n",
       "      <td>Taiwan</td>\n",
       "      <td>23.697810</td>\n",
       "      <td>120.960515</td>\n",
       "    </tr>\n",
       "    <tr>\n",
       "      <th>14</th>\n",
       "      <td>71.860360</td>\n",
       "      <td>Singapore</td>\n",
       "      <td>1.352083</td>\n",
       "      <td>103.819836</td>\n",
       "    </tr>\n",
       "  </tbody>\n",
       "</table>\n",
       "</div>"
      ],
      "text/plain": [
       "    total_raised_USD_milions         country        lat         lon\n",
       "0               12816.463248   United States  37.090240  -95.712891\n",
       "1                7984.260078           China  35.861660  104.195397\n",
       "2                1809.631208  United Kingdom  55.378051   -3.435973\n",
       "3                 753.917280          Israel  31.046051   34.851612\n",
       "4                 614.921299          Canada  56.130366 -106.346771\n",
       "5                 571.492984          France  46.227638    2.213749\n",
       "6                 389.898256         Germany  51.165691   10.451526\n",
       "7                 319.253152          Sweden  60.128161   18.643501\n",
       "8                 273.675637           Japan  36.204824  138.252924\n",
       "9                 143.586644           India  20.593684   78.962880\n",
       "10                126.353360         Finland  61.924110   25.748151\n",
       "11                121.472980           Spain  40.463667   -3.749220\n",
       "12                116.098927         Estonia  58.595272   25.013607\n",
       "13                 84.906977          Taiwan  23.697810  120.960515\n",
       "14                 71.860360       Singapore   1.352083  103.819836"
      ]
     },
     "execution_count": 470,
     "metadata": {},
     "output_type": "execute_result"
    }
   ],
   "source": [
    "inv_by_country_top_15_geo"
   ]
  },
  {
   "cell_type": "code",
   "execution_count": 471,
   "metadata": {},
   "outputs": [
    {
     "data": {
      "text/html": [
       "<div style=\"width:100%;\"><div style=\"position:relative;width:100%;height:0;padding-bottom:60%;\"><iframe src=\"data:text/html;charset=utf-8;base64,PCFET0NUWVBFIGh0bWw+CjxoZWFkPiAgICAKICAgIDxtZXRhIGh0dHAtZXF1aXY9ImNvbnRlbnQtdHlwZSIgY29udGVudD0idGV4dC9odG1sOyBjaGFyc2V0PVVURi04IiAvPgogICAgPHNjcmlwdD5MX1BSRUZFUl9DQU5WQVM9ZmFsc2U7IExfTk9fVE9VQ0g9ZmFsc2U7IExfRElTQUJMRV8zRD1mYWxzZTs8L3NjcmlwdD4KICAgIDxzY3JpcHQgc3JjPSJodHRwczovL2Nkbi5qc2RlbGl2ci5uZXQvbnBtL2xlYWZsZXRAMS40LjAvZGlzdC9sZWFmbGV0LmpzIj48L3NjcmlwdD4KICAgIDxzY3JpcHQgc3JjPSJodHRwczovL2NvZGUuanF1ZXJ5LmNvbS9qcXVlcnktMS4xMi40Lm1pbi5qcyI+PC9zY3JpcHQ+CiAgICA8c2NyaXB0IHNyYz0iaHR0cHM6Ly9tYXhjZG4uYm9vdHN0cmFwY2RuLmNvbS9ib290c3RyYXAvMy4yLjAvanMvYm9vdHN0cmFwLm1pbi5qcyI+PC9zY3JpcHQ+CiAgICA8c2NyaXB0IHNyYz0iaHR0cHM6Ly9jZG5qcy5jbG91ZGZsYXJlLmNvbS9hamF4L2xpYnMvTGVhZmxldC5hd2Vzb21lLW1hcmtlcnMvMi4wLjIvbGVhZmxldC5hd2Vzb21lLW1hcmtlcnMuanMiPjwvc2NyaXB0PgogICAgPGxpbmsgcmVsPSJzdHlsZXNoZWV0IiBocmVmPSJodHRwczovL2Nkbi5qc2RlbGl2ci5uZXQvbnBtL2xlYWZsZXRAMS40LjAvZGlzdC9sZWFmbGV0LmNzcyIvPgogICAgPGxpbmsgcmVsPSJzdHlsZXNoZWV0IiBocmVmPSJodHRwczovL21heGNkbi5ib290c3RyYXBjZG4uY29tL2Jvb3RzdHJhcC8zLjIuMC9jc3MvYm9vdHN0cmFwLm1pbi5jc3MiLz4KICAgIDxsaW5rIHJlbD0ic3R5bGVzaGVldCIgaHJlZj0iaHR0cHM6Ly9tYXhjZG4uYm9vdHN0cmFwY2RuLmNvbS9ib290c3RyYXAvMy4yLjAvY3NzL2Jvb3RzdHJhcC10aGVtZS5taW4uY3NzIi8+CiAgICA8bGluayByZWw9InN0eWxlc2hlZXQiIGhyZWY9Imh0dHBzOi8vbWF4Y2RuLmJvb3RzdHJhcGNkbi5jb20vZm9udC1hd2Vzb21lLzQuNi4zL2Nzcy9mb250LWF3ZXNvbWUubWluLmNzcyIvPgogICAgPGxpbmsgcmVsPSJzdHlsZXNoZWV0IiBocmVmPSJodHRwczovL2NkbmpzLmNsb3VkZmxhcmUuY29tL2FqYXgvbGlicy9MZWFmbGV0LmF3ZXNvbWUtbWFya2Vycy8yLjAuMi9sZWFmbGV0LmF3ZXNvbWUtbWFya2Vycy5jc3MiLz4KICAgIDxsaW5rIHJlbD0ic3R5bGVzaGVldCIgaHJlZj0iaHR0cHM6Ly9yYXdjZG4uZ2l0aGFjay5jb20vcHl0aG9uLXZpc3VhbGl6YXRpb24vZm9saXVtL21hc3Rlci9mb2xpdW0vdGVtcGxhdGVzL2xlYWZsZXQuYXdlc29tZS5yb3RhdGUuY3NzIi8+CiAgICA8c3R5bGU+aHRtbCwgYm9keSB7d2lkdGg6IDEwMCU7aGVpZ2h0OiAxMDAlO21hcmdpbjogMDtwYWRkaW5nOiAwO308L3N0eWxlPgogICAgPHN0eWxlPiNtYXAge3Bvc2l0aW9uOmFic29sdXRlO3RvcDowO2JvdHRvbTowO3JpZ2h0OjA7bGVmdDowO308L3N0eWxlPgogICAgCiAgICA8bWV0YSBuYW1lPSJ2aWV3cG9ydCIgY29udGVudD0id2lkdGg9ZGV2aWNlLXdpZHRoLAogICAgICAgIGluaXRpYWwtc2NhbGU9MS4wLCBtYXhpbXVtLXNjYWxlPTEuMCwgdXNlci1zY2FsYWJsZT1ubyIgLz4KICAgIDxzdHlsZT4jbWFwXzcyNDFiYWVhNzM5MzQwNTQ4ZDkzMmMzOWMzZWY3ZTljIHsKICAgICAgICBwb3NpdGlvbjogcmVsYXRpdmU7CiAgICAgICAgd2lkdGg6IDEwMC4wJTsKICAgICAgICBoZWlnaHQ6IDEwMC4wJTsKICAgICAgICBsZWZ0OiAwLjAlOwogICAgICAgIHRvcDogMC4wJTsKICAgICAgICB9CiAgICA8L3N0eWxlPgo8L2hlYWQ+Cjxib2R5PiAgICAKICAgIAogICAgPGRpdiBjbGFzcz0iZm9saXVtLW1hcCIgaWQ9Im1hcF83MjQxYmFlYTczOTM0MDU0OGQ5MzJjMzljM2VmN2U5YyIgPjwvZGl2Pgo8L2JvZHk+CjxzY3JpcHQ+ICAgIAogICAgCiAgICAKICAgICAgICB2YXIgYm91bmRzID0gbnVsbDsKICAgIAoKICAgIHZhciBtYXBfNzI0MWJhZWE3MzkzNDA1NDhkOTMyYzM5YzNlZjdlOWMgPSBMLm1hcCgKICAgICAgICAnbWFwXzcyNDFiYWVhNzM5MzQwNTQ4ZDkzMmMzOWMzZWY3ZTljJywgewogICAgICAgIGNlbnRlcjogWzIwLCAwXSwKICAgICAgICB6b29tOiAyLAogICAgICAgIG1heEJvdW5kczogYm91bmRzLAogICAgICAgIGxheWVyczogW10sCiAgICAgICAgd29ybGRDb3B5SnVtcDogZmFsc2UsCiAgICAgICAgY3JzOiBMLkNSUy5FUFNHMzg1NywKICAgICAgICB6b29tQ29udHJvbDogdHJ1ZSwKICAgICAgICB9KTsKCgogICAgCiAgICB2YXIgdGlsZV9sYXllcl9kNTUxODgyM2NhMDI0MmI1YWMwM2IwMDJmZmJmNmM2YiA9IEwudGlsZUxheWVyKAogICAgICAgICdodHRwczovL3tzfS50aWxlcy5tYXBib3guY29tL3YzL21hcGJveC53b3JsZC1icmlnaHQve3p9L3t4fS97eX0ucG5nJywKICAgICAgICB7CiAgICAgICAgImF0dHJpYnV0aW9uIjogbnVsbCwKICAgICAgICAiZGV0ZWN0UmV0aW5hIjogZmFsc2UsCiAgICAgICAgIm1heE5hdGl2ZVpvb20iOiAxOCwKICAgICAgICAibWF4Wm9vbSI6IDE4LAogICAgICAgICJtaW5ab29tIjogMCwKICAgICAgICAibm9XcmFwIjogZmFsc2UsCiAgICAgICAgIm9wYWNpdHkiOiAxLAogICAgICAgICJzdWJkb21haW5zIjogImFiYyIsCiAgICAgICAgInRtcyI6IGZhbHNlCn0pLmFkZFRvKG1hcF83MjQxYmFlYTczOTM0MDU0OGQ5MzJjMzljM2VmN2U5Yyk7CiAgICAKICAgICAgICAgICAgdmFyIGNpcmNsZV9tYXJrZXJfYzg5MzM2OWM0OWFkNGI3MGI1YWFkMjg2MzdmZTVmNmIgPSBMLmNpcmNsZU1hcmtlcigKICAgICAgICAgICAgICAgIFszNy4wOTAyNCwgLTk1LjcxMjg5MV0sCiAgICAgICAgICAgICAgICB7CiAgImJ1YmJsaW5nTW91c2VFdmVudHMiOiB0cnVlLAogICJjb2xvciI6ICJjcmltc29uIiwKICAiZGFzaEFycmF5IjogbnVsbCwKICAiZGFzaE9mZnNldCI6IG51bGwsCiAgImZpbGwiOiB0cnVlLAogICJmaWxsQ29sb3IiOiAiY3JpbXNvbiIsCiAgImZpbGxPcGFjaXR5IjogMC4yLAogICJmaWxsUnVsZSI6ICJldmVub2RkIiwKICAibGluZUNhcCI6ICJyb3VuZCIsCiAgImxpbmVKb2luIjogInJvdW5kIiwKICAib3BhY2l0eSI6IDEuMCwKICAicmFkaXVzIjogMTYwLAogICJzdHJva2UiOiB0cnVlLAogICJ3ZWlnaHQiOiAzCn0KICAgICAgICAgICAgICAgICkKICAgICAgICAgICAgICAgIC5hZGRUbyhtYXBfNzI0MWJhZWE3MzkzNDA1NDhkOTMyYzM5YzNlZjdlOWMpOwogICAgICAgICAgICAKICAgIAogICAgICAgICAgICB2YXIgcG9wdXBfOTU2ZGIwYzM0ODVlNGQyMTgxOTY3M2U0YzNmNGZhMjcgPSBMLnBvcHVwKHttYXhXaWR0aDogJzEwMCUnCiAgICAgICAgICAgIAogICAgICAgICAgICB9KTsKCiAgICAgICAgICAgIAogICAgICAgICAgICAgICAgdmFyIGh0bWxfN2ZiOTc0NmZkY2E2NGNmMzkxYWVmMGM0ZWY4NGQwMTQgPSAkKGA8ZGl2IGlkPSJodG1sXzdmYjk3NDZmZGNhNjRjZjM5MWFlZjBjNGVmODRkMDE0IiBzdHlsZT0id2lkdGg6IDEwMC4wJTsgaGVpZ2h0OiAxMDAuMCU7Ij5Vbml0ZWQgU3RhdGVzPC9kaXY+YClbMF07CiAgICAgICAgICAgICAgICBwb3B1cF85NTZkYjBjMzQ4NWU0ZDIxODE5NjczZTRjM2Y0ZmEyNy5zZXRDb250ZW50KGh0bWxfN2ZiOTc0NmZkY2E2NGNmMzkxYWVmMGM0ZWY4NGQwMTQpOwogICAgICAgICAgICAKCiAgICAgICAgICAgIGNpcmNsZV9tYXJrZXJfYzg5MzM2OWM0OWFkNGI3MGI1YWFkMjg2MzdmZTVmNmIuYmluZFBvcHVwKHBvcHVwXzk1NmRiMGMzNDg1ZTRkMjE4MTk2NzNlNGMzZjRmYTI3KQogICAgICAgICAgICA7CgogICAgICAgICAgICAKICAgICAgICAKICAgIAogICAgICAgICAgICB2YXIgY2lyY2xlX21hcmtlcl9kYzE2MDMxYzdjYjE0YzE0OTVmZGFkYjZiYTkzOWNmZCA9IEwuY2lyY2xlTWFya2VyKAogICAgICAgICAgICAgICAgWzM1Ljg2MTY2LCAxMDQuMTk1Mzk3XSwKICAgICAgICAgICAgICAgIHsKICAiYnViYmxpbmdNb3VzZUV2ZW50cyI6IHRydWUsCiAgImNvbG9yIjogImNyaW1zb24iLAogICJkYXNoQXJyYXkiOiBudWxsLAogICJkYXNoT2Zmc2V0IjogbnVsbCwKICAiZmlsbCI6IHRydWUsCiAgImZpbGxDb2xvciI6ICJjcmltc29uIiwKICAiZmlsbE9wYWNpdHkiOiAwLjIsCiAgImZpbGxSdWxlIjogImV2ZW5vZGQiLAogICJsaW5lQ2FwIjogInJvdW5kIiwKICAibGluZUpvaW4iOiAicm91bmQiLAogICJvcGFjaXR5IjogMS4wLAogICJyYWRpdXMiOiA5OSwKICAic3Ryb2tlIjogdHJ1ZSwKICAid2VpZ2h0IjogMwp9CiAgICAgICAgICAgICAgICApCiAgICAgICAgICAgICAgICAuYWRkVG8obWFwXzcyNDFiYWVhNzM5MzQwNTQ4ZDkzMmMzOWMzZWY3ZTljKTsKICAgICAgICAgICAgCiAgICAKICAgICAgICAgICAgdmFyIHBvcHVwX2IyODc4NWU0NTZlMDQ1MGE4NGViMDNlNjlmNmM1NWU3ID0gTC5wb3B1cCh7bWF4V2lkdGg6ICcxMDAlJwogICAgICAgICAgICAKICAgICAgICAgICAgfSk7CgogICAgICAgICAgICAKICAgICAgICAgICAgICAgIHZhciBodG1sXzRjMzdhNGFkZDVmMjQ3YzE5NmRkM2RhZjYxODI1ZDc3ID0gJChgPGRpdiBpZD0iaHRtbF80YzM3YTRhZGQ1ZjI0N2MxOTZkZDNkYWY2MTgyNWQ3NyIgc3R5bGU9IndpZHRoOiAxMDAuMCU7IGhlaWdodDogMTAwLjAlOyI+Q2hpbmE8L2Rpdj5gKVswXTsKICAgICAgICAgICAgICAgIHBvcHVwX2IyODc4NWU0NTZlMDQ1MGE4NGViMDNlNjlmNmM1NWU3LnNldENvbnRlbnQoaHRtbF80YzM3YTRhZGQ1ZjI0N2MxOTZkZDNkYWY2MTgyNWQ3Nyk7CiAgICAgICAgICAgIAoKICAgICAgICAgICAgY2lyY2xlX21hcmtlcl9kYzE2MDMxYzdjYjE0YzE0OTVmZGFkYjZiYTkzOWNmZC5iaW5kUG9wdXAocG9wdXBfYjI4Nzg1ZTQ1NmUwNDUwYTg0ZWIwM2U2OWY2YzU1ZTcpCiAgICAgICAgICAgIDsKCiAgICAgICAgICAgIAogICAgICAgIAogICAgCiAgICAgICAgICAgIHZhciBjaXJjbGVfbWFya2VyXzE3MDU2Yjc3YjM3NTQxMmNiNTQ1YzBjYzhjZTZhNDk3ID0gTC5jaXJjbGVNYXJrZXIoCiAgICAgICAgICAgICAgICBbNTUuMzc4MDUxLCAtMy40MzU5NzNdLAogICAgICAgICAgICAgICAgewogICJidWJibGluZ01vdXNlRXZlbnRzIjogdHJ1ZSwKICAiY29sb3IiOiAiY3JpbXNvbiIsCiAgImRhc2hBcnJheSI6IG51bGwsCiAgImRhc2hPZmZzZXQiOiBudWxsLAogICJmaWxsIjogdHJ1ZSwKICAiZmlsbENvbG9yIjogImNyaW1zb24iLAogICJmaWxsT3BhY2l0eSI6IDAuMiwKICAiZmlsbFJ1bGUiOiAiZXZlbm9kZCIsCiAgImxpbmVDYXAiOiAicm91bmQiLAogICJsaW5lSm9pbiI6ICJyb3VuZCIsCiAgIm9wYWNpdHkiOiAxLjAsCiAgInJhZGl1cyI6IDIyLAogICJzdHJva2UiOiB0cnVlLAogICJ3ZWlnaHQiOiAzCn0KICAgICAgICAgICAgICAgICkKICAgICAgICAgICAgICAgIC5hZGRUbyhtYXBfNzI0MWJhZWE3MzkzNDA1NDhkOTMyYzM5YzNlZjdlOWMpOwogICAgICAgICAgICAKICAgIAogICAgICAgICAgICB2YXIgcG9wdXBfOWIxZGUzNjkzMjE2NGY1MWFjZTAwZTVjMWE1YzJmOTggPSBMLnBvcHVwKHttYXhXaWR0aDogJzEwMCUnCiAgICAgICAgICAgIAogICAgICAgICAgICB9KTsKCiAgICAgICAgICAgIAogICAgICAgICAgICAgICAgdmFyIGh0bWxfOWZlOGQyMGFlNDQwNDNlNzkyZGQ5ODUzOWE2NmQzMjIgPSAkKGA8ZGl2IGlkPSJodG1sXzlmZThkMjBhZTQ0MDQzZTc5MmRkOTg1MzlhNjZkMzIyIiBzdHlsZT0id2lkdGg6IDEwMC4wJTsgaGVpZ2h0OiAxMDAuMCU7Ij5Vbml0ZWQgS2luZ2RvbTwvZGl2PmApWzBdOwogICAgICAgICAgICAgICAgcG9wdXBfOWIxZGUzNjkzMjE2NGY1MWFjZTAwZTVjMWE1YzJmOTguc2V0Q29udGVudChodG1sXzlmZThkMjBhZTQ0MDQzZTc5MmRkOTg1MzlhNjZkMzIyKTsKICAgICAgICAgICAgCgogICAgICAgICAgICBjaXJjbGVfbWFya2VyXzE3MDU2Yjc3YjM3NTQxMmNiNTQ1YzBjYzhjZTZhNDk3LmJpbmRQb3B1cChwb3B1cF85YjFkZTM2OTMyMTY0ZjUxYWNlMDBlNWMxYTVjMmY5OCkKICAgICAgICAgICAgOwoKICAgICAgICAgICAgCiAgICAgICAgCiAgICAKICAgICAgICAgICAgdmFyIGNpcmNsZV9tYXJrZXJfYzhlNTE1NWNkZWFmNGQ2NTg4Y2ZkMzIzYjcxNTI0NmIgPSBMLmNpcmNsZU1hcmtlcigKICAgICAgICAgICAgICAgIFszMS4wNDYwNTEwMDAwMDAwMDIsIDM0Ljg1MTYxMl0sCiAgICAgICAgICAgICAgICB7CiAgImJ1YmJsaW5nTW91c2VFdmVudHMiOiB0cnVlLAogICJjb2xvciI6ICJjcmltc29uIiwKICAiZGFzaEFycmF5IjogbnVsbCwKICAiZGFzaE9mZnNldCI6IG51bGwsCiAgImZpbGwiOiB0cnVlLAogICJmaWxsQ29sb3IiOiAiY3JpbXNvbiIsCiAgImZpbGxPcGFjaXR5IjogMC4yLAogICJmaWxsUnVsZSI6ICJldmVub2RkIiwKICAibGluZUNhcCI6ICJyb3VuZCIsCiAgImxpbmVKb2luIjogInJvdW5kIiwKICAib3BhY2l0eSI6IDEuMCwKICAicmFkaXVzIjogOSwKICAic3Ryb2tlIjogdHJ1ZSwKICAid2VpZ2h0IjogMwp9CiAgICAgICAgICAgICAgICApCiAgICAgICAgICAgICAgICAuYWRkVG8obWFwXzcyNDFiYWVhNzM5MzQwNTQ4ZDkzMmMzOWMzZWY3ZTljKTsKICAgICAgICAgICAgCiAgICAKICAgICAgICAgICAgdmFyIHBvcHVwX2FlNDU0YzIwZTVmMjRkZjY5NjFhNTIxYjU2OTI5ZjAxID0gTC5wb3B1cCh7bWF4V2lkdGg6ICcxMDAlJwogICAgICAgICAgICAKICAgICAgICAgICAgfSk7CgogICAgICAgICAgICAKICAgICAgICAgICAgICAgIHZhciBodG1sXzE4OTU0ZDg4Yjg3NzQxNjZhNDU4YWMzOThlZTAwNjBjID0gJChgPGRpdiBpZD0iaHRtbF8xODk1NGQ4OGI4Nzc0MTY2YTQ1OGFjMzk4ZWUwMDYwYyIgc3R5bGU9IndpZHRoOiAxMDAuMCU7IGhlaWdodDogMTAwLjAlOyI+SXNyYWVsPC9kaXY+YClbMF07CiAgICAgICAgICAgICAgICBwb3B1cF9hZTQ1NGMyMGU1ZjI0ZGY2OTYxYTUyMWI1NjkyOWYwMS5zZXRDb250ZW50KGh0bWxfMTg5NTRkODhiODc3NDE2NmE0NThhYzM5OGVlMDA2MGMpOwogICAgICAgICAgICAKCiAgICAgICAgICAgIGNpcmNsZV9tYXJrZXJfYzhlNTE1NWNkZWFmNGQ2NTg4Y2ZkMzIzYjcxNTI0NmIuYmluZFBvcHVwKHBvcHVwX2FlNDU0YzIwZTVmMjRkZjY5NjFhNTIxYjU2OTI5ZjAxKQogICAgICAgICAgICA7CgogICAgICAgICAgICAKICAgICAgICAKICAgIAogICAgICAgICAgICB2YXIgY2lyY2xlX21hcmtlcl9kZWYyZmRjYTU5MTQ0ZThjOTgxMmY5ZGY5NjZiNzlkMyA9IEwuY2lyY2xlTWFya2VyKAogICAgICAgICAgICAgICAgWzU2LjEzMDM2NiwgLTEwNi4zNDY3NzA5OTk5OTk5OV0sCiAgICAgICAgICAgICAgICB7CiAgImJ1YmJsaW5nTW91c2VFdmVudHMiOiB0cnVlLAogICJjb2xvciI6ICJjcmltc29uIiwKICAiZGFzaEFycmF5IjogbnVsbCwKICAiZGFzaE9mZnNldCI6IG51bGwsCiAgImZpbGwiOiB0cnVlLAogICJmaWxsQ29sb3IiOiAiY3JpbXNvbiIsCiAgImZpbGxPcGFjaXR5IjogMC4yLAogICJmaWxsUnVsZSI6ICJldmVub2RkIiwKICAibGluZUNhcCI6ICJyb3VuZCIsCiAgImxpbmVKb2luIjogInJvdW5kIiwKICAib3BhY2l0eSI6IDEuMCwKICAicmFkaXVzIjogNywKICAic3Ryb2tlIjogdHJ1ZSwKICAid2VpZ2h0IjogMwp9CiAgICAgICAgICAgICAgICApCiAgICAgICAgICAgICAgICAuYWRkVG8obWFwXzcyNDFiYWVhNzM5MzQwNTQ4ZDkzMmMzOWMzZWY3ZTljKTsKICAgICAgICAgICAgCiAgICAKICAgICAgICAgICAgdmFyIHBvcHVwXzAwNTEzYjgyZWJiNDQ1Nzc4NTNjNzQ2MzA0MDAwYjMyID0gTC5wb3B1cCh7bWF4V2lkdGg6ICcxMDAlJwogICAgICAgICAgICAKICAgICAgICAgICAgfSk7CgogICAgICAgICAgICAKICAgICAgICAgICAgICAgIHZhciBodG1sXzY2NTY2ZGFjOWY0YTRkYjI4NDA0YmZiYzBiODc5MDJmID0gJChgPGRpdiBpZD0iaHRtbF82NjU2NmRhYzlmNGE0ZGIyODQwNGJmYmMwYjg3OTAyZiIgc3R5bGU9IndpZHRoOiAxMDAuMCU7IGhlaWdodDogMTAwLjAlOyI+Q2FuYWRhPC9kaXY+YClbMF07CiAgICAgICAgICAgICAgICBwb3B1cF8wMDUxM2I4MmViYjQ0NTc3ODUzYzc0NjMwNDAwMGIzMi5zZXRDb250ZW50KGh0bWxfNjY1NjZkYWM5ZjRhNGRiMjg0MDRiZmJjMGI4NzkwMmYpOwogICAgICAgICAgICAKCiAgICAgICAgICAgIGNpcmNsZV9tYXJrZXJfZGVmMmZkY2E1OTE0NGU4Yzk4MTJmOWRmOTY2Yjc5ZDMuYmluZFBvcHVwKHBvcHVwXzAwNTEzYjgyZWJiNDQ1Nzc4NTNjNzQ2MzA0MDAwYjMyKQogICAgICAgICAgICA7CgogICAgICAgICAgICAKICAgICAgICAKICAgIAogICAgICAgICAgICB2YXIgY2lyY2xlX21hcmtlcl9jYmE2NjM3YWQ1NGU0MTRhOGE0ZDJlMzA5MzFlOWZkZiA9IEwuY2lyY2xlTWFya2VyKAogICAgICAgICAgICAgICAgWzQ2LjIyNzYzOCwgMi4yMTM3NDldLAogICAgICAgICAgICAgICAgewogICJidWJibGluZ01vdXNlRXZlbnRzIjogdHJ1ZSwKICAiY29sb3IiOiAiY3JpbXNvbiIsCiAgImRhc2hBcnJheSI6IG51bGwsCiAgImRhc2hPZmZzZXQiOiBudWxsLAogICJmaWxsIjogdHJ1ZSwKICAiZmlsbENvbG9yIjogImNyaW1zb24iLAogICJmaWxsT3BhY2l0eSI6IDAuMiwKICAiZmlsbFJ1bGUiOiAiZXZlbm9kZCIsCiAgImxpbmVDYXAiOiAicm91bmQiLAogICJsaW5lSm9pbiI6ICJyb3VuZCIsCiAgIm9wYWNpdHkiOiAxLjAsCiAgInJhZGl1cyI6IDcsCiAgInN0cm9rZSI6IHRydWUsCiAgIndlaWdodCI6IDMKfQogICAgICAgICAgICAgICAgKQogICAgICAgICAgICAgICAgLmFkZFRvKG1hcF83MjQxYmFlYTczOTM0MDU0OGQ5MzJjMzljM2VmN2U5Yyk7CiAgICAgICAgICAgIAogICAgCiAgICAgICAgICAgIHZhciBwb3B1cF82MTcwYzI5MzBlZWU0ZjUzOTE3ZDdlZDk3MTc1Y2M3MSA9IEwucG9wdXAoe21heFdpZHRoOiAnMTAwJScKICAgICAgICAgICAgCiAgICAgICAgICAgIH0pOwoKICAgICAgICAgICAgCiAgICAgICAgICAgICAgICB2YXIgaHRtbF84NmY5YTcxNDY3ZjE0MDA4YjhmZDliOWE5MzVhMzNkMCA9ICQoYDxkaXYgaWQ9Imh0bWxfODZmOWE3MTQ2N2YxNDAwOGI4ZmQ5YjlhOTM1YTMzZDAiIHN0eWxlPSJ3aWR0aDogMTAwLjAlOyBoZWlnaHQ6IDEwMC4wJTsiPkZyYW5jZTwvZGl2PmApWzBdOwogICAgICAgICAgICAgICAgcG9wdXBfNjE3MGMyOTMwZWVlNGY1MzkxN2Q3ZWQ5NzE3NWNjNzEuc2V0Q29udGVudChodG1sXzg2ZjlhNzE0NjdmMTQwMDhiOGZkOWI5YTkzNWEzM2QwKTsKICAgICAgICAgICAgCgogICAgICAgICAgICBjaXJjbGVfbWFya2VyX2NiYTY2MzdhZDU0ZTQxNGE4YTRkMmUzMDkzMWU5ZmRmLmJpbmRQb3B1cChwb3B1cF82MTcwYzI5MzBlZWU0ZjUzOTE3ZDdlZDk3MTc1Y2M3MSkKICAgICAgICAgICAgOwoKICAgICAgICAgICAgCiAgICAgICAgCiAgICAKICAgICAgICAgICAgdmFyIGNpcmNsZV9tYXJrZXJfMjFiNjY0YWFjNGU3NDQyOGI2MWM4YzVjOGYwMjFhODcgPSBMLmNpcmNsZU1hcmtlcigKICAgICAgICAgICAgICAgIFs1MS4xNjU2OTA5OTk5OTk5OTUsIDEwLjQ1MTUyNl0sCiAgICAgICAgICAgICAgICB7CiAgImJ1YmJsaW5nTW91c2VFdmVudHMiOiB0cnVlLAogICJjb2xvciI6ICJjcmltc29uIiwKICAiZGFzaEFycmF5IjogbnVsbCwKICAiZGFzaE9mZnNldCI6IG51bGwsCiAgImZpbGwiOiB0cnVlLAogICJmaWxsQ29sb3IiOiAiY3JpbXNvbiIsCiAgImZpbGxPcGFjaXR5IjogMC4yLAogICJmaWxsUnVsZSI6ICJldmVub2RkIiwKICAibGluZUNhcCI6ICJyb3VuZCIsCiAgImxpbmVKb2luIjogInJvdW5kIiwKICAib3BhY2l0eSI6IDEuMCwKICAicmFkaXVzIjogNCwKICAic3Ryb2tlIjogdHJ1ZSwKICAid2VpZ2h0IjogMwp9CiAgICAgICAgICAgICAgICApCiAgICAgICAgICAgICAgICAuYWRkVG8obWFwXzcyNDFiYWVhNzM5MzQwNTQ4ZDkzMmMzOWMzZWY3ZTljKTsKICAgICAgICAgICAgCiAgICAKICAgICAgICAgICAgdmFyIHBvcHVwXzVkODc3OTI3NTE4MDRjZjNiM2UxMDc3YjQ2MjRmM2VhID0gTC5wb3B1cCh7bWF4V2lkdGg6ICcxMDAlJwogICAgICAgICAgICAKICAgICAgICAgICAgfSk7CgogICAgICAgICAgICAKICAgICAgICAgICAgICAgIHZhciBodG1sX2EzZDYxYWI0ZmQ0MjQ0MDE5ODg2OWJhMTRiZGIyYmUxID0gJChgPGRpdiBpZD0iaHRtbF9hM2Q2MWFiNGZkNDI0NDAxOTg4NjliYTE0YmRiMmJlMSIgc3R5bGU9IndpZHRoOiAxMDAuMCU7IGhlaWdodDogMTAwLjAlOyI+R2VybWFueTwvZGl2PmApWzBdOwogICAgICAgICAgICAgICAgcG9wdXBfNWQ4Nzc5Mjc1MTgwNGNmM2IzZTEwNzdiNDYyNGYzZWEuc2V0Q29udGVudChodG1sX2EzZDYxYWI0ZmQ0MjQ0MDE5ODg2OWJhMTRiZGIyYmUxKTsKICAgICAgICAgICAgCgogICAgICAgICAgICBjaXJjbGVfbWFya2VyXzIxYjY2NGFhYzRlNzQ0MjhiNjFjOGM1YzhmMDIxYTg3LmJpbmRQb3B1cChwb3B1cF81ZDg3NzkyNzUxODA0Y2YzYjNlMTA3N2I0NjI0ZjNlYSkKICAgICAgICAgICAgOwoKICAgICAgICAgICAgCiAgICAgICAgCiAgICAKICAgICAgICAgICAgdmFyIGNpcmNsZV9tYXJrZXJfZDQwYmE0NjNlNDI2NGEyNGEzMGE1OTBiNzliMjNiZTIgPSBMLmNpcmNsZU1hcmtlcigKICAgICAgICAgICAgICAgIFs2MC4xMjgxNjEsIDE4LjY0MzUwMV0sCiAgICAgICAgICAgICAgICB7CiAgImJ1YmJsaW5nTW91c2VFdmVudHMiOiB0cnVlLAogICJjb2xvciI6ICJjcmltc29uIiwKICAiZGFzaEFycmF5IjogbnVsbCwKICAiZGFzaE9mZnNldCI6IG51bGwsCiAgImZpbGwiOiB0cnVlLAogICJmaWxsQ29sb3IiOiAiY3JpbXNvbiIsCiAgImZpbGxPcGFjaXR5IjogMC4yLAogICJmaWxsUnVsZSI6ICJldmVub2RkIiwKICAibGluZUNhcCI6ICJyb3VuZCIsCiAgImxpbmVKb2luIjogInJvdW5kIiwKICAib3BhY2l0eSI6IDEuMCwKICAicmFkaXVzIjogMywKICAic3Ryb2tlIjogdHJ1ZSwKICAid2VpZ2h0IjogMwp9CiAgICAgICAgICAgICAgICApCiAgICAgICAgICAgICAgICAuYWRkVG8obWFwXzcyNDFiYWVhNzM5MzQwNTQ4ZDkzMmMzOWMzZWY3ZTljKTsKICAgICAgICAgICAgCiAgICAKICAgICAgICAgICAgdmFyIHBvcHVwX2I5NTM1Yjg2ZjBiZTQ0MjM4NmNjZWFjNjI4Y2U4M2I5ID0gTC5wb3B1cCh7bWF4V2lkdGg6ICcxMDAlJwogICAgICAgICAgICAKICAgICAgICAgICAgfSk7CgogICAgICAgICAgICAKICAgICAgICAgICAgICAgIHZhciBodG1sXzAzNzE3YTJkNDdiMjQ5MGE5YThmZjUwM2JmNWU3OWZjID0gJChgPGRpdiBpZD0iaHRtbF8wMzcxN2EyZDQ3YjI0OTBhOWE4ZmY1MDNiZjVlNzlmYyIgc3R5bGU9IndpZHRoOiAxMDAuMCU7IGhlaWdodDogMTAwLjAlOyI+U3dlZGVuPC9kaXY+YClbMF07CiAgICAgICAgICAgICAgICBwb3B1cF9iOTUzNWI4NmYwYmU0NDIzODZjY2VhYzYyOGNlODNiOS5zZXRDb250ZW50KGh0bWxfMDM3MTdhMmQ0N2IyNDkwYTlhOGZmNTAzYmY1ZTc5ZmMpOwogICAgICAgICAgICAKCiAgICAgICAgICAgIGNpcmNsZV9tYXJrZXJfZDQwYmE0NjNlNDI2NGEyNGEzMGE1OTBiNzliMjNiZTIuYmluZFBvcHVwKHBvcHVwX2I5NTM1Yjg2ZjBiZTQ0MjM4NmNjZWFjNjI4Y2U4M2I5KQogICAgICAgICAgICA7CgogICAgICAgICAgICAKICAgICAgICAKICAgIAogICAgICAgICAgICB2YXIgY2lyY2xlX21hcmtlcl8xZWQ5NjY1NWI5NzE0M2UwOGFjZjE3ZmMzNTM1MTllYSA9IEwuY2lyY2xlTWFya2VyKAogICAgICAgICAgICAgICAgWzM2LjIwNDgyNCwgMTM4LjI1MjkyNF0sCiAgICAgICAgICAgICAgICB7CiAgImJ1YmJsaW5nTW91c2VFdmVudHMiOiB0cnVlLAogICJjb2xvciI6ICJjcmltc29uIiwKICAiZGFzaEFycmF5IjogbnVsbCwKICAiZGFzaE9mZnNldCI6IG51bGwsCiAgImZpbGwiOiB0cnVlLAogICJmaWxsQ29sb3IiOiAiY3JpbXNvbiIsCiAgImZpbGxPcGFjaXR5IjogMC4yLAogICJmaWxsUnVsZSI6ICJldmVub2RkIiwKICAibGluZUNhcCI6ICJyb3VuZCIsCiAgImxpbmVKb2luIjogInJvdW5kIiwKICAib3BhY2l0eSI6IDEuMCwKICAicmFkaXVzIjogMywKICAic3Ryb2tlIjogdHJ1ZSwKICAid2VpZ2h0IjogMwp9CiAgICAgICAgICAgICAgICApCiAgICAgICAgICAgICAgICAuYWRkVG8obWFwXzcyNDFiYWVhNzM5MzQwNTQ4ZDkzMmMzOWMzZWY3ZTljKTsKICAgICAgICAgICAgCiAgICAKICAgICAgICAgICAgdmFyIHBvcHVwX2IzMThjNDE1MzQ4MjQ4YjM4OWYwZTM3OGVkYmRkNGViID0gTC5wb3B1cCh7bWF4V2lkdGg6ICcxMDAlJwogICAgICAgICAgICAKICAgICAgICAgICAgfSk7CgogICAgICAgICAgICAKICAgICAgICAgICAgICAgIHZhciBodG1sXzExNDhlNmRkMTE0NDRjMGViMzI0YWFiZDQ1Y2EzOGRkID0gJChgPGRpdiBpZD0iaHRtbF8xMTQ4ZTZkZDExNDQ0YzBlYjMyNGFhYmQ0NWNhMzhkZCIgc3R5bGU9IndpZHRoOiAxMDAuMCU7IGhlaWdodDogMTAwLjAlOyI+SmFwYW48L2Rpdj5gKVswXTsKICAgICAgICAgICAgICAgIHBvcHVwX2IzMThjNDE1MzQ4MjQ4YjM4OWYwZTM3OGVkYmRkNGViLnNldENvbnRlbnQoaHRtbF8xMTQ4ZTZkZDExNDQ0YzBlYjMyNGFhYmQ0NWNhMzhkZCk7CiAgICAgICAgICAgIAoKICAgICAgICAgICAgY2lyY2xlX21hcmtlcl8xZWQ5NjY1NWI5NzE0M2UwOGFjZjE3ZmMzNTM1MTllYS5iaW5kUG9wdXAocG9wdXBfYjMxOGM0MTUzNDgyNDhiMzg5ZjBlMzc4ZWRiZGQ0ZWIpCiAgICAgICAgICAgIDsKCiAgICAgICAgICAgIAogICAgICAgIAogICAgCiAgICAgICAgICAgIHZhciBjaXJjbGVfbWFya2VyX2E4MDFiMjUzNmJkNDQ2MGRhNGM0Y2NmNzJkZWViMDVlID0gTC5jaXJjbGVNYXJrZXIoCiAgICAgICAgICAgICAgICBbMjAuNTkzNjg0LCA3OC45NjI4OF0sCiAgICAgICAgICAgICAgICB7CiAgImJ1YmJsaW5nTW91c2VFdmVudHMiOiB0cnVlLAogICJjb2xvciI6ICJjcmltc29uIiwKICAiZGFzaEFycmF5IjogbnVsbCwKICAiZGFzaE9mZnNldCI6IG51bGwsCiAgImZpbGwiOiB0cnVlLAogICJmaWxsQ29sb3IiOiAiY3JpbXNvbiIsCiAgImZpbGxPcGFjaXR5IjogMC4yLAogICJmaWxsUnVsZSI6ICJldmVub2RkIiwKICAibGluZUNhcCI6ICJyb3VuZCIsCiAgImxpbmVKb2luIjogInJvdW5kIiwKICAib3BhY2l0eSI6IDEuMCwKICAicmFkaXVzIjogMSwKICAic3Ryb2tlIjogdHJ1ZSwKICAid2VpZ2h0IjogMwp9CiAgICAgICAgICAgICAgICApCiAgICAgICAgICAgICAgICAuYWRkVG8obWFwXzcyNDFiYWVhNzM5MzQwNTQ4ZDkzMmMzOWMzZWY3ZTljKTsKICAgICAgICAgICAgCiAgICAKICAgICAgICAgICAgdmFyIHBvcHVwXzI2NWU1NDI2YTcwMDRjNDBhYjhhMTRjYTgzN2Q1Yjg2ID0gTC5wb3B1cCh7bWF4V2lkdGg6ICcxMDAlJwogICAgICAgICAgICAKICAgICAgICAgICAgfSk7CgogICAgICAgICAgICAKICAgICAgICAgICAgICAgIHZhciBodG1sXzM3MGJlZjcyM2Q3YjQzNGQ5MmRiMGFjYTRhZDExODc1ID0gJChgPGRpdiBpZD0iaHRtbF8zNzBiZWY3MjNkN2I0MzRkOTJkYjBhY2E0YWQxMTg3NSIgc3R5bGU9IndpZHRoOiAxMDAuMCU7IGhlaWdodDogMTAwLjAlOyI+SW5kaWE8L2Rpdj5gKVswXTsKICAgICAgICAgICAgICAgIHBvcHVwXzI2NWU1NDI2YTcwMDRjNDBhYjhhMTRjYTgzN2Q1Yjg2LnNldENvbnRlbnQoaHRtbF8zNzBiZWY3MjNkN2I0MzRkOTJkYjBhY2E0YWQxMTg3NSk7CiAgICAgICAgICAgIAoKICAgICAgICAgICAgY2lyY2xlX21hcmtlcl9hODAxYjI1MzZiZDQ0NjBkYTRjNGNjZjcyZGVlYjA1ZS5iaW5kUG9wdXAocG9wdXBfMjY1ZTU0MjZhNzAwNGM0MGFiOGExNGNhODM3ZDViODYpCiAgICAgICAgICAgIDsKCiAgICAgICAgICAgIAogICAgICAgIAogICAgCiAgICAgICAgICAgIHZhciBjaXJjbGVfbWFya2VyXzMyNzA0OGZhZjMyYTQxN2RiNzc4ODcxYmY3OThlYTE5ID0gTC5jaXJjbGVNYXJrZXIoCiAgICAgICAgICAgICAgICBbNjEuOTI0MTEsIDI1Ljc0ODE1MV0sCiAgICAgICAgICAgICAgICB7CiAgImJ1YmJsaW5nTW91c2VFdmVudHMiOiB0cnVlLAogICJjb2xvciI6ICJjcmltc29uIiwKICAiZGFzaEFycmF5IjogbnVsbCwKICAiZGFzaE9mZnNldCI6IG51bGwsCiAgImZpbGwiOiB0cnVlLAogICJmaWxsQ29sb3IiOiAiY3JpbXNvbiIsCiAgImZpbGxPcGFjaXR5IjogMC4yLAogICJmaWxsUnVsZSI6ICJldmVub2RkIiwKICAibGluZUNhcCI6ICJyb3VuZCIsCiAgImxpbmVKb2luIjogInJvdW5kIiwKICAib3BhY2l0eSI6IDEuMCwKICAicmFkaXVzIjogMSwKICAic3Ryb2tlIjogdHJ1ZSwKICAid2VpZ2h0IjogMwp9CiAgICAgICAgICAgICAgICApCiAgICAgICAgICAgICAgICAuYWRkVG8obWFwXzcyNDFiYWVhNzM5MzQwNTQ4ZDkzMmMzOWMzZWY3ZTljKTsKICAgICAgICAgICAgCiAgICAKICAgICAgICAgICAgdmFyIHBvcHVwXzBlNWZkNTVlYzNiYjRiNTI4MWJkMDZlODBiZjUyY2M4ID0gTC5wb3B1cCh7bWF4V2lkdGg6ICcxMDAlJwogICAgICAgICAgICAKICAgICAgICAgICAgfSk7CgogICAgICAgICAgICAKICAgICAgICAgICAgICAgIHZhciBodG1sX2ZhNGUyZDI1NjgyNDQxZmJiNmFhN2E1NjRkNjAzNzdmID0gJChgPGRpdiBpZD0iaHRtbF9mYTRlMmQyNTY4MjQ0MWZiYjZhYTdhNTY0ZDYwMzc3ZiIgc3R5bGU9IndpZHRoOiAxMDAuMCU7IGhlaWdodDogMTAwLjAlOyI+RmlubGFuZDwvZGl2PmApWzBdOwogICAgICAgICAgICAgICAgcG9wdXBfMGU1ZmQ1NWVjM2JiNGI1MjgxYmQwNmU4MGJmNTJjYzguc2V0Q29udGVudChodG1sX2ZhNGUyZDI1NjgyNDQxZmJiNmFhN2E1NjRkNjAzNzdmKTsKICAgICAgICAgICAgCgogICAgICAgICAgICBjaXJjbGVfbWFya2VyXzMyNzA0OGZhZjMyYTQxN2RiNzc4ODcxYmY3OThlYTE5LmJpbmRQb3B1cChwb3B1cF8wZTVmZDU1ZWMzYmI0YjUyODFiZDA2ZTgwYmY1MmNjOCkKICAgICAgICAgICAgOwoKICAgICAgICAgICAgCiAgICAgICAgCiAgICAKICAgICAgICAgICAgdmFyIGNpcmNsZV9tYXJrZXJfMTJkNmIzMjYzMzFkNDYzZDg1OWUxMjk5M2NhZjc2ZTggPSBMLmNpcmNsZU1hcmtlcigKICAgICAgICAgICAgICAgIFs0MC40NjM2NjcsIC0zLjc0OTIxOTk5OTk5OTk5OThdLAogICAgICAgICAgICAgICAgewogICJidWJibGluZ01vdXNlRXZlbnRzIjogdHJ1ZSwKICAiY29sb3IiOiAiY3JpbXNvbiIsCiAgImRhc2hBcnJheSI6IG51bGwsCiAgImRhc2hPZmZzZXQiOiBudWxsLAogICJmaWxsIjogdHJ1ZSwKICAiZmlsbENvbG9yIjogImNyaW1zb24iLAogICJmaWxsT3BhY2l0eSI6IDAuMiwKICAiZmlsbFJ1bGUiOiAiZXZlbm9kZCIsCiAgImxpbmVDYXAiOiAicm91bmQiLAogICJsaW5lSm9pbiI6ICJyb3VuZCIsCiAgIm9wYWNpdHkiOiAxLjAsCiAgInJhZGl1cyI6IDEsCiAgInN0cm9rZSI6IHRydWUsCiAgIndlaWdodCI6IDMKfQogICAgICAgICAgICAgICAgKQogICAgICAgICAgICAgICAgLmFkZFRvKG1hcF83MjQxYmFlYTczOTM0MDU0OGQ5MzJjMzljM2VmN2U5Yyk7CiAgICAgICAgICAgIAogICAgCiAgICAgICAgICAgIHZhciBwb3B1cF8wMTE0OTg0YzJiOTg0MmY2OGI5MjEyYjFjMTQ4ZmM0YiA9IEwucG9wdXAoe21heFdpZHRoOiAnMTAwJScKICAgICAgICAgICAgCiAgICAgICAgICAgIH0pOwoKICAgICAgICAgICAgCiAgICAgICAgICAgICAgICB2YXIgaHRtbF8zZmQ2MTI5OTQ0Y2Q0NTZlYjYyMzE2ZmMxOTE4MjA0NCA9ICQoYDxkaXYgaWQ9Imh0bWxfM2ZkNjEyOTk0NGNkNDU2ZWI2MjMxNmZjMTkxODIwNDQiIHN0eWxlPSJ3aWR0aDogMTAwLjAlOyBoZWlnaHQ6IDEwMC4wJTsiPlNwYWluPC9kaXY+YClbMF07CiAgICAgICAgICAgICAgICBwb3B1cF8wMTE0OTg0YzJiOTg0MmY2OGI5MjEyYjFjMTQ4ZmM0Yi5zZXRDb250ZW50KGh0bWxfM2ZkNjEyOTk0NGNkNDU2ZWI2MjMxNmZjMTkxODIwNDQpOwogICAgICAgICAgICAKCiAgICAgICAgICAgIGNpcmNsZV9tYXJrZXJfMTJkNmIzMjYzMzFkNDYzZDg1OWUxMjk5M2NhZjc2ZTguYmluZFBvcHVwKHBvcHVwXzAxMTQ5ODRjMmI5ODQyZjY4YjkyMTJiMWMxNDhmYzRiKQogICAgICAgICAgICA7CgogICAgICAgICAgICAKICAgICAgICAKICAgIAogICAgICAgICAgICB2YXIgY2lyY2xlX21hcmtlcl8yNGExMzY5ZDM5OTc0ZjJlYjhjYTk1YjM5OWMyYjIzNiA9IEwuY2lyY2xlTWFya2VyKAogICAgICAgICAgICAgICAgWzU4LjU5NTI3MTk5OTk5OTk5NCwgMjUuMDEzNjA3XSwKICAgICAgICAgICAgICAgIHsKICAiYnViYmxpbmdNb3VzZUV2ZW50cyI6IHRydWUsCiAgImNvbG9yIjogImNyaW1zb24iLAogICJkYXNoQXJyYXkiOiBudWxsLAogICJkYXNoT2Zmc2V0IjogbnVsbCwKICAiZmlsbCI6IHRydWUsCiAgImZpbGxDb2xvciI6ICJjcmltc29uIiwKICAiZmlsbE9wYWNpdHkiOiAwLjIsCiAgImZpbGxSdWxlIjogImV2ZW5vZGQiLAogICJsaW5lQ2FwIjogInJvdW5kIiwKICAibGluZUpvaW4iOiAicm91bmQiLAogICJvcGFjaXR5IjogMS4wLAogICJyYWRpdXMiOiAxLAogICJzdHJva2UiOiB0cnVlLAogICJ3ZWlnaHQiOiAzCn0KICAgICAgICAgICAgICAgICkKICAgICAgICAgICAgICAgIC5hZGRUbyhtYXBfNzI0MWJhZWE3MzkzNDA1NDhkOTMyYzM5YzNlZjdlOWMpOwogICAgICAgICAgICAKICAgIAogICAgICAgICAgICB2YXIgcG9wdXBfMjE3ZmY2OGM2ZTljNGE0MmJkZDNhODlmOWI0ZWQxMjEgPSBMLnBvcHVwKHttYXhXaWR0aDogJzEwMCUnCiAgICAgICAgICAgIAogICAgICAgICAgICB9KTsKCiAgICAgICAgICAgIAogICAgICAgICAgICAgICAgdmFyIGh0bWxfOWNlY2RlMTQ3MjExNGY3Njg3YWZlZjNjMTZmOGZiMWQgPSAkKGA8ZGl2IGlkPSJodG1sXzljZWNkZTE0NzIxMTRmNzY4N2FmZWYzYzE2ZjhmYjFkIiBzdHlsZT0id2lkdGg6IDEwMC4wJTsgaGVpZ2h0OiAxMDAuMCU7Ij5Fc3RvbmlhPC9kaXY+YClbMF07CiAgICAgICAgICAgICAgICBwb3B1cF8yMTdmZjY4YzZlOWM0YTQyYmRkM2E4OWY5YjRlZDEyMS5zZXRDb250ZW50KGh0bWxfOWNlY2RlMTQ3MjExNGY3Njg3YWZlZjNjMTZmOGZiMWQpOwogICAgICAgICAgICAKCiAgICAgICAgICAgIGNpcmNsZV9tYXJrZXJfMjRhMTM2OWQzOTk3NGYyZWI4Y2E5NWIzOTljMmIyMzYuYmluZFBvcHVwKHBvcHVwXzIxN2ZmNjhjNmU5YzRhNDJiZGQzYTg5ZjliNGVkMTIxKQogICAgICAgICAgICA7CgogICAgICAgICAgICAKICAgICAgICAKICAgIAogICAgICAgICAgICB2YXIgY2lyY2xlX21hcmtlcl8zZTY0NjQ1OWVlM2U0ZmZkYWNhMzYxMjNiMzI4MzIzZSA9IEwuY2lyY2xlTWFya2VyKAogICAgICAgICAgICAgICAgWzIzLjY5NzgxLCAxMjAuOTYwNTE0OTk5OTk5OTldLAogICAgICAgICAgICAgICAgewogICJidWJibGluZ01vdXNlRXZlbnRzIjogdHJ1ZSwKICAiY29sb3IiOiAiY3JpbXNvbiIsCiAgImRhc2hBcnJheSI6IG51bGwsCiAgImRhc2hPZmZzZXQiOiBudWxsLAogICJmaWxsIjogdHJ1ZSwKICAiZmlsbENvbG9yIjogImNyaW1zb24iLAogICJmaWxsT3BhY2l0eSI6IDAuMiwKICAiZmlsbFJ1bGUiOiAiZXZlbm9kZCIsCiAgImxpbmVDYXAiOiAicm91bmQiLAogICJsaW5lSm9pbiI6ICJyb3VuZCIsCiAgIm9wYWNpdHkiOiAxLjAsCiAgInJhZGl1cyI6IDEsCiAgInN0cm9rZSI6IHRydWUsCiAgIndlaWdodCI6IDMKfQogICAgICAgICAgICAgICAgKQogICAgICAgICAgICAgICAgLmFkZFRvKG1hcF83MjQxYmFlYTczOTM0MDU0OGQ5MzJjMzljM2VmN2U5Yyk7CiAgICAgICAgICAgIAogICAgCiAgICAgICAgICAgIHZhciBwb3B1cF82ODUwZWFlMmY1YTU0MmY5YWMyYzU1ZjhiYjVlYjMyMSA9IEwucG9wdXAoe21heFdpZHRoOiAnMTAwJScKICAgICAgICAgICAgCiAgICAgICAgICAgIH0pOwoKICAgICAgICAgICAgCiAgICAgICAgICAgICAgICB2YXIgaHRtbF82MjViZWFkNzYwNjc0NzFmYTM1MjRiNTVhZDVkODIwMiA9ICQoYDxkaXYgaWQ9Imh0bWxfNjI1YmVhZDc2MDY3NDcxZmEzNTI0YjU1YWQ1ZDgyMDIiIHN0eWxlPSJ3aWR0aDogMTAwLjAlOyBoZWlnaHQ6IDEwMC4wJTsiPlRhaXdhbjwvZGl2PmApWzBdOwogICAgICAgICAgICAgICAgcG9wdXBfNjg1MGVhZTJmNWE1NDJmOWFjMmM1NWY4YmI1ZWIzMjEuc2V0Q29udGVudChodG1sXzYyNWJlYWQ3NjA2NzQ3MWZhMzUyNGI1NWFkNWQ4MjAyKTsKICAgICAgICAgICAgCgogICAgICAgICAgICBjaXJjbGVfbWFya2VyXzNlNjQ2NDU5ZWUzZTRmZmRhY2EzNjEyM2IzMjgzMjNlLmJpbmRQb3B1cChwb3B1cF82ODUwZWFlMmY1YTU0MmY5YWMyYzU1ZjhiYjVlYjMyMSkKICAgICAgICAgICAgOwoKICAgICAgICAgICAgCiAgICAgICAgCiAgICAKICAgICAgICAgICAgdmFyIGNpcmNsZV9tYXJrZXJfYzcyMzdmNWM2NjNhNDZiNGE0M2U5NGUyNzliNmNjOTMgPSBMLmNpcmNsZU1hcmtlcigKICAgICAgICAgICAgICAgIFsxLjM1MjA4MywgMTAzLjgxOTgzNl0sCiAgICAgICAgICAgICAgICB7CiAgImJ1YmJsaW5nTW91c2VFdmVudHMiOiB0cnVlLAogICJjb2xvciI6ICJjcmltc29uIiwKICAiZGFzaEFycmF5IjogbnVsbCwKICAiZGFzaE9mZnNldCI6IG51bGwsCiAgImZpbGwiOiB0cnVlLAogICJmaWxsQ29sb3IiOiAiY3JpbXNvbiIsCiAgImZpbGxPcGFjaXR5IjogMC4yLAogICJmaWxsUnVsZSI6ICJldmVub2RkIiwKICAibGluZUNhcCI6ICJyb3VuZCIsCiAgImxpbmVKb2luIjogInJvdW5kIiwKICAib3BhY2l0eSI6IDEuMCwKICAic3Ryb2tlIjogdHJ1ZSwKICAid2VpZ2h0IjogMwp9CiAgICAgICAgICAgICAgICApCiAgICAgICAgICAgICAgICAuYWRkVG8obWFwXzcyNDFiYWVhNzM5MzQwNTQ4ZDkzMmMzOWMzZWY3ZTljKTsKICAgICAgICAgICAgCiAgICAKICAgICAgICAgICAgdmFyIHBvcHVwX2I5MTZkMzM2N2M4YjQ1NDdiM2VkOGQzMmIyNmI2OTFmID0gTC5wb3B1cCh7bWF4V2lkdGg6ICcxMDAlJwogICAgICAgICAgICAKICAgICAgICAgICAgfSk7CgogICAgICAgICAgICAKICAgICAgICAgICAgICAgIHZhciBodG1sX2Y3MjFhOTFkMmUxZDRlMjRhZmIwOThiMTM5MzM0ZWEwID0gJChgPGRpdiBpZD0iaHRtbF9mNzIxYTkxZDJlMWQ0ZTI0YWZiMDk4YjEzOTMzNGVhMCIgc3R5bGU9IndpZHRoOiAxMDAuMCU7IGhlaWdodDogMTAwLjAlOyI+U2luZ2Fwb3JlPC9kaXY+YClbMF07CiAgICAgICAgICAgICAgICBwb3B1cF9iOTE2ZDMzNjdjOGI0NTQ3YjNlZDhkMzJiMjZiNjkxZi5zZXRDb250ZW50KGh0bWxfZjcyMWE5MWQyZTFkNGUyNGFmYjA5OGIxMzkzMzRlYTApOwogICAgICAgICAgICAKCiAgICAgICAgICAgIGNpcmNsZV9tYXJrZXJfYzcyMzdmNWM2NjNhNDZiNGE0M2U5NGUyNzliNmNjOTMuYmluZFBvcHVwKHBvcHVwX2I5MTZkMzM2N2M4YjQ1NDdiM2VkOGQzMmIyNmI2OTFmKQogICAgICAgICAgICA7CgogICAgICAgICAgICAKICAgICAgICAKPC9zY3JpcHQ+\" style=\"position:absolute;width:100%;height:100%;left:0;top:0;border:none !important;\" allowfullscreen webkitallowfullscreen mozallowfullscreen></iframe></div></div>"
      ],
      "text/plain": [
       "<folium.folium.Map at 0x12136c550>"
      ]
     },
     "execution_count": 471,
     "metadata": {},
     "output_type": "execute_result"
    }
   ],
   "source": [
    "import folium\n",
    "data = inv_by_country_top_15_geo\n",
    "m = folium.Map(location=[20,0], tiles=\"Mapbox Bright\", zoom_start=2)\n",
    "\n",
    "for i in range(0, len(data)):\n",
    "    folium.CircleMarker(\n",
    "        location=[data.iloc[i]['lat'], data.iloc[i]['lon']],\n",
    "        popup = data.iloc[i]['country'],\n",
    "        radius = int(data.iloc[i]['total_raised_USD_milions']/80),\n",
    "        color='crimson',\n",
    "        fill=True,\n",
    "        fill_color='crimson'\n",
    "        ).add_to(m)\n",
    "    \n",
    "m\n"
   ]
  },
  {
   "cell_type": "markdown",
   "metadata": {},
   "source": [
    "#### Where is the best place to set-up an AI company?"
   ]
  },
  {
   "cell_type": "code",
   "execution_count": 472,
   "metadata": {},
   "outputs": [],
   "source": [
    "# Investments by city\n",
    "inv_by_hq = ai_clean.groupby('headquarters')['total_raised_USD_milions'].sum()"
   ]
  },
  {
   "cell_type": "markdown",
   "metadata": {},
   "source": [
    "Top 15 cities investing most in AI are:"
   ]
  },
  {
   "cell_type": "code",
   "execution_count": 473,
   "metadata": {},
   "outputs": [
    {
     "data": {
      "text/plain": [
       "headquarters\n",
       "Beijing                6414.354979\n",
       "San Francisco          1966.617663\n",
       "Chicago                1894.870000\n",
       "London                 1097.827790\n",
       "New York               1055.813421\n",
       "Cambridge               702.196933\n",
       "Seattle                 565.529719\n",
       "Palo Alto               537.116762\n",
       "Boston                  536.657033\n",
       "Paris                   488.343241\n",
       "Tel Aviv                383.697280\n",
       "Santa Clara             373.485000\n",
       "South San Francisco     365.195000\n",
       "Bristol                 347.714342\n",
       "Sunnyvale               291.997694\n",
       "Name: total_raised_USD_milions, dtype: float64"
      ]
     },
     "execution_count": 473,
     "metadata": {},
     "output_type": "execute_result"
    }
   ],
   "source": [
    "inv_by_hq.sort_values(ascending = False).head(15)"
   ]
  },
  {
   "cell_type": "markdown",
   "metadata": {},
   "source": [
    "Top 15 cities with the largest number of AI companies are:"
   ]
  },
  {
   "cell_type": "code",
   "execution_count": 474,
   "metadata": {},
   "outputs": [
    {
     "data": {
      "text/plain": [
       "London           237\n",
       "San Francisco    206\n",
       "New York         141\n",
       "Amsterdam         77\n",
       "Paris             74\n",
       "Berlin            63\n",
       "Palo Alto         56\n",
       "Helsinki          54\n",
       "Toronto           42\n",
       "Tel Aviv          34\n",
       "Boston            31\n",
       "Seattle           29\n",
       "Cambridge         28\n",
       "Barcelona         28\n",
       "Madrid            27\n",
       "Name: headquarters, dtype: int64"
      ]
     },
     "execution_count": 474,
     "metadata": {},
     "output_type": "execute_result"
    }
   ],
   "source": [
    "# No of companies by city\n",
    "ai_clean['headquarters'].value_counts().head(15)"
   ]
  },
  {
   "cell_type": "markdown",
   "metadata": {},
   "source": [
    "### Investment rounds"
   ]
  },
  {
   "cell_type": "markdown",
   "metadata": {},
   "source": [
    "#### What are the most common latest round types?"
   ]
  },
  {
   "cell_type": "markdown",
   "metadata": {},
   "source": []
  },
  {
   "cell_type": "code",
   "execution_count": 475,
   "metadata": {
    "scrolled": true
   },
   "outputs": [
    {
     "data": {
      "text/plain": [
       "Seed fund                680\n",
       "Series A                 319\n",
       "Venture Capital          177\n",
       "Series B                 129\n",
       "Angel                    123\n",
       "Undisclosed funding       60\n",
       "Undisclosed               47\n",
       "Venture capital           36\n",
       "Series C                  34\n",
       "Grant                     25\n",
       "Debt financing            24\n",
       "Private equity            16\n",
       "Series D                  15\n",
       "Equity crowdfunding        9\n",
       "Convertible Note           8\n",
       "ICO                        4\n",
       "Post-IPO equity            4\n",
       "Crowdfunding               3\n",
       "Series E                   3\n",
       "Series UNDISCLOSED         2\n",
       "IPO                        1\n",
       "Token sale                 1\n",
       "Non Equity Assistance      1\n",
       "Name: latest_round_type, dtype: int64"
      ]
     },
     "execution_count": 475,
     "metadata": {},
     "output_type": "execute_result"
    }
   ],
   "source": [
    "ai_clean['latest_round_type'].value_counts()"
   ]
  },
  {
   "cell_type": "markdown",
   "metadata": {},
   "source": [
    "#### Which round types attract most funds?"
   ]
  },
  {
   "cell_type": "code",
   "execution_count": 476,
   "metadata": {},
   "outputs": [
    {
     "data": {
      "text/plain": [
       "latest_round_type\n",
       "Series B                 5652.564144\n",
       "Series D                 4827.004750\n",
       "Series A                 4391.270360\n",
       "Venture Capital          4239.202192\n",
       "Series C                 2486.521016\n",
       "Private equity           2138.392954\n",
       "Seed fund                1066.113997\n",
       "Series E                  392.900000\n",
       "Undisclosed funding       376.832186\n",
       "Angel                     265.396567\n",
       "Post-IPO equity           244.201421\n",
       "Venture capital           240.005618\n",
       "Debt financing            239.847395\n",
       "Undisclosed               108.814415\n",
       "IPO                        56.000000\n",
       "ICO                        50.120000\n",
       "Equity crowdfunding        32.250127\n",
       "Series UNDISCLOSED         17.975000\n",
       "Grant                      12.103461\n",
       "Token sale                  5.500000\n",
       "Convertible Note            3.728295\n",
       "Crowdfunding                2.813743\n",
       "Non Equity Assistance       0.300000\n",
       "Name: total_raised_USD_milions, dtype: float64"
      ]
     },
     "execution_count": 476,
     "metadata": {},
     "output_type": "execute_result"
    }
   ],
   "source": [
    "# Investments by latest round - total\n",
    "inv_by_round = ai_clean.groupby('latest_round_type')['total_raised_USD_milions'].sum()\n",
    "inv_by_round.sort_values(ascending = False)"
   ]
  },
  {
   "cell_type": "code",
   "execution_count": 477,
   "metadata": {},
   "outputs": [
    {
     "data": {
      "text/plain": [
       "latest_round_type\n",
       "Series D                 321.800317\n",
       "Private equity           133.649560\n",
       "Series E                 130.966667\n",
       "Series C                  73.132971\n",
       "Post-IPO equity           61.050355\n",
       "IPO                       56.000000\n",
       "Series B                  43.818327\n",
       "Venture Capital           24.224013\n",
       "Series A                  14.029618\n",
       "ICO                       12.530000\n",
       "Debt financing            10.902154\n",
       "Series UNDISCLOSED         8.987500\n",
       "Undisclosed funding        8.972195\n",
       "Venture capital            6.857303\n",
       "Token sale                 5.500000\n",
       "Equity crowdfunding        3.583347\n",
       "Undisclosed                2.315200\n",
       "Angel                      2.230223\n",
       "Seed fund                  1.642703\n",
       "Crowdfunding               0.937914\n",
       "Grant                      0.526237\n",
       "Convertible Note           0.466037\n",
       "Non Equity Assistance      0.300000\n",
       "Name: total_raised_USD_milions, dtype: float64"
      ]
     },
     "execution_count": 477,
     "metadata": {},
     "output_type": "execute_result"
    }
   ],
   "source": [
    "# Investments by latest round - mean\n",
    "inv_by_round_mean = ai_clean.groupby('latest_round_type')['total_raised_USD_milions'].mean()\n",
    "inv_by_round_mean.sort_values(ascending = False)"
   ]
  },
  {
   "cell_type": "code",
   "execution_count": 478,
   "metadata": {},
   "outputs": [
    {
     "name": "stdout",
     "output_type": "stream",
     "text": [
      "<class 'pandas.core.frame.DataFrame'>\n",
      "Int64Index: 129 entries, 3 to 3259\n",
      "Columns: 554 entries, founded_in to C_machine_learning\n",
      "dtypes: float64(4), int64(547), object(3)\n",
      "memory usage: 559.3+ KB\n"
     ]
    }
   ],
   "source": [
    "#Now, let's take a closer look at the Series B investments\n",
    "ai_seriesB = ai_clean[ai_clean['latest_round_type'] == 'Series B']\n",
    "ai_seriesB.info()"
   ]
  },
  {
   "cell_type": "code",
   "execution_count": 479,
   "metadata": {},
   "outputs": [],
   "source": [
    "top_markets_seriesB = ai_seriesB[tags].sum()\n",
    "top_categories_seriesB = ai_seriesB[cats].sum()"
   ]
  },
  {
   "cell_type": "markdown",
   "metadata": {},
   "source": [
    "TOP 10 technologies/markets with Series B investments are:"
   ]
  },
  {
   "cell_type": "code",
   "execution_count": 480,
   "metadata": {},
   "outputs": [
    {
     "data": {
      "text/plain": [
       "technology                     82\n",
       "artificial intelligence        80\n",
       "big data                       77\n",
       "machine learning               71\n",
       "software                       30\n",
       "analytics                      22\n",
       "internet                       18\n",
       "enterprise software            12\n",
       "natural language processing    12\n",
       "data science                    9\n",
       "dtype: int64"
      ]
     },
     "execution_count": 480,
     "metadata": {},
     "output_type": "execute_result"
    }
   ],
   "source": [
    "top_markets_seriesB.nlargest(10)"
   ]
  },
  {
   "cell_type": "markdown",
   "metadata": {},
   "source": [
    "TOP 10 TAG categories with Series B investments are:"
   ]
  },
  {
   "cell_type": "code",
   "execution_count": 481,
   "metadata": {},
   "outputs": [
    {
     "data": {
      "text/plain": [
       "C_data                96\n",
       "C_machine_learning    72\n",
       "C_software            47\n",
       "C_analytics           37\n",
       "C_internet            28\n",
       "C_enterprise          14\n",
       "C_health              14\n",
       "C_security            13\n",
       "C_marketing           10\n",
       "C_consumer            10\n",
       "dtype: int64"
      ]
     },
     "execution_count": 481,
     "metadata": {},
     "output_type": "execute_result"
    }
   ],
   "source": [
    "top_categories_seriesB.nlargest(10)"
   ]
  },
  {
   "cell_type": "markdown",
   "metadata": {},
   "source": [
    "## Q3. What are the employment patterns?"
   ]
  },
  {
   "cell_type": "markdown",
   "metadata": {},
   "source": [
    "### Basic employment statistics"
   ]
  },
  {
   "cell_type": "code",
   "execution_count": 482,
   "metadata": {},
   "outputs": [
    {
     "data": {
      "text/plain": [
       "count      2350.000000\n",
       "mean        514.188936\n",
       "std       13876.360424\n",
       "min           1.000000\n",
       "25%           2.000000\n",
       "50%           8.000000\n",
       "75%          11.000000\n",
       "max      566000.000000\n",
       "Name: employees, dtype: float64"
      ]
     },
     "execution_count": 482,
     "metadata": {},
     "output_type": "execute_result"
    }
   ],
   "source": [
    "ai_emp['employees'].describe()"
   ]
  },
  {
   "cell_type": "markdown",
   "metadata": {},
   "source": [
    "Let's classify companies employment size basing on terciles"
   ]
  },
  {
   "cell_type": "code",
   "execution_count": 483,
   "metadata": {},
   "outputs": [],
   "source": [
    "ai_emp['emp_size'] = pd.qcut(ai_emp['employees'], 3, labels=[\"small\", \"medium\", \"large\"])"
   ]
  },
  {
   "cell_type": "code",
   "execution_count": 484,
   "metadata": {},
   "outputs": [
    {
     "data": {
      "text/html": [
       "<div>\n",
       "<style scoped>\n",
       "    .dataframe tbody tr th:only-of-type {\n",
       "        vertical-align: middle;\n",
       "    }\n",
       "\n",
       "    .dataframe tbody tr th {\n",
       "        vertical-align: top;\n",
       "    }\n",
       "\n",
       "    .dataframe thead th {\n",
       "        text-align: right;\n",
       "    }\n",
       "</style>\n",
       "<table border=\"1\" class=\"dataframe\">\n",
       "  <thead>\n",
       "    <tr style=\"text-align: right;\">\n",
       "      <th></th>\n",
       "      <th>employees</th>\n",
       "      <th>total_raised_USD_milions</th>\n",
       "    </tr>\n",
       "  </thead>\n",
       "  <tbody>\n",
       "    <tr>\n",
       "      <th>count</th>\n",
       "      <td>898.000000</td>\n",
       "      <td>392.000000</td>\n",
       "    </tr>\n",
       "    <tr>\n",
       "      <th>mean</th>\n",
       "      <td>1.986637</td>\n",
       "      <td>4.066185</td>\n",
       "    </tr>\n",
       "    <tr>\n",
       "      <th>std</th>\n",
       "      <td>0.114888</td>\n",
       "      <td>8.777535</td>\n",
       "    </tr>\n",
       "    <tr>\n",
       "      <th>min</th>\n",
       "      <td>1.000000</td>\n",
       "      <td>0.000000</td>\n",
       "    </tr>\n",
       "    <tr>\n",
       "      <th>25%</th>\n",
       "      <td>2.000000</td>\n",
       "      <td>0.059368</td>\n",
       "    </tr>\n",
       "    <tr>\n",
       "      <th>50%</th>\n",
       "      <td>2.000000</td>\n",
       "      <td>0.928684</td>\n",
       "    </tr>\n",
       "    <tr>\n",
       "      <th>75%</th>\n",
       "      <td>2.000000</td>\n",
       "      <td>3.025000</td>\n",
       "    </tr>\n",
       "    <tr>\n",
       "      <th>max</th>\n",
       "      <td>2.000000</td>\n",
       "      <td>55.500000</td>\n",
       "    </tr>\n",
       "  </tbody>\n",
       "</table>\n",
       "</div>"
      ],
      "text/plain": [
       "        employees  total_raised_USD_milions\n",
       "count  898.000000                392.000000\n",
       "mean     1.986637                  4.066185\n",
       "std      0.114888                  8.777535\n",
       "min      1.000000                  0.000000\n",
       "25%      2.000000                  0.059368\n",
       "50%      2.000000                  0.928684\n",
       "75%      2.000000                  3.025000\n",
       "max      2.000000                 55.500000"
      ]
     },
     "execution_count": 484,
     "metadata": {},
     "output_type": "execute_result"
    }
   ],
   "source": [
    "ai_emp[['employees', 'total_raised_USD_milions']][ai_emp['emp_size'] == 'small'].describe()\n",
    "#ai_emp[['employees', 'total_raised_USD_milions']][ai_emp['emp_size'] == 'medium'].describe()\n",
    "#ai_emp[['employees', 'total_raised_USD_milions']][ai_emp['emp_size'] == 'large'].describe()"
   ]
  },
  {
   "cell_type": "markdown",
   "metadata": {},
   "source": [
    "Now, let's check employment statistics of small, medium and large (in terms of investments) companies."
   ]
  },
  {
   "cell_type": "code",
   "execution_count": 485,
   "metadata": {},
   "outputs": [
    {
     "data": {
      "text/html": [
       "<div>\n",
       "<style scoped>\n",
       "    .dataframe tbody tr th:only-of-type {\n",
       "        vertical-align: middle;\n",
       "    }\n",
       "\n",
       "    .dataframe tbody tr th {\n",
       "        vertical-align: top;\n",
       "    }\n",
       "\n",
       "    .dataframe thead th {\n",
       "        text-align: right;\n",
       "    }\n",
       "</style>\n",
       "<table border=\"1\" class=\"dataframe\">\n",
       "  <thead>\n",
       "    <tr style=\"text-align: right;\">\n",
       "      <th></th>\n",
       "      <th>employees</th>\n",
       "      <th>total_raised_USD_milions</th>\n",
       "    </tr>\n",
       "  </thead>\n",
       "  <tbody>\n",
       "    <tr>\n",
       "      <th>count</th>\n",
       "      <td>347.000000</td>\n",
       "      <td>494.000000</td>\n",
       "    </tr>\n",
       "    <tr>\n",
       "      <th>mean</th>\n",
       "      <td>9.394813</td>\n",
       "      <td>0.478176</td>\n",
       "    </tr>\n",
       "    <tr>\n",
       "      <th>std</th>\n",
       "      <td>31.274050</td>\n",
       "      <td>0.410840</td>\n",
       "    </tr>\n",
       "    <tr>\n",
       "      <th>min</th>\n",
       "      <td>2.000000</td>\n",
       "      <td>0.000001</td>\n",
       "    </tr>\n",
       "    <tr>\n",
       "      <th>25%</th>\n",
       "      <td>2.000000</td>\n",
       "      <td>0.106500</td>\n",
       "    </tr>\n",
       "    <tr>\n",
       "      <th>50%</th>\n",
       "      <td>3.000000</td>\n",
       "      <td>0.372335</td>\n",
       "    </tr>\n",
       "    <tr>\n",
       "      <th>75%</th>\n",
       "      <td>11.000000</td>\n",
       "      <td>0.779540</td>\n",
       "    </tr>\n",
       "    <tr>\n",
       "      <th>max</th>\n",
       "      <td>501.000000</td>\n",
       "      <td>1.351351</td>\n",
       "    </tr>\n",
       "  </tbody>\n",
       "</table>\n",
       "</div>"
      ],
      "text/plain": [
       "        employees  total_raised_USD_milions\n",
       "count  347.000000                494.000000\n",
       "mean     9.394813                  0.478176\n",
       "std     31.274050                  0.410840\n",
       "min      2.000000                  0.000001\n",
       "25%      2.000000                  0.106500\n",
       "50%      3.000000                  0.372335\n",
       "75%     11.000000                  0.779540\n",
       "max    501.000000                  1.351351"
      ]
     },
     "execution_count": 485,
     "metadata": {},
     "output_type": "execute_result"
    }
   ],
   "source": [
    "ai_fund[['employees', 'total_raised_USD_milions']][ai_fund['inv_size'] == 'small'].describe()"
   ]
  },
  {
   "cell_type": "code",
   "execution_count": 486,
   "metadata": {},
   "outputs": [
    {
     "data": {
      "text/html": [
       "<div>\n",
       "<style scoped>\n",
       "    .dataframe tbody tr th:only-of-type {\n",
       "        vertical-align: middle;\n",
       "    }\n",
       "\n",
       "    .dataframe tbody tr th {\n",
       "        vertical-align: top;\n",
       "    }\n",
       "\n",
       "    .dataframe thead th {\n",
       "        text-align: right;\n",
       "    }\n",
       "</style>\n",
       "<table border=\"1\" class=\"dataframe\">\n",
       "  <thead>\n",
       "    <tr style=\"text-align: right;\">\n",
       "      <th></th>\n",
       "      <th>employees</th>\n",
       "      <th>total_raised_USD_milions</th>\n",
       "    </tr>\n",
       "  </thead>\n",
       "  <tbody>\n",
       "    <tr>\n",
       "      <th>count</th>\n",
       "      <td>331.000000</td>\n",
       "      <td>494.000000</td>\n",
       "    </tr>\n",
       "    <tr>\n",
       "      <th>mean</th>\n",
       "      <td>17.274924</td>\n",
       "      <td>3.356404</td>\n",
       "    </tr>\n",
       "    <tr>\n",
       "      <th>std</th>\n",
       "      <td>63.693584</td>\n",
       "      <td>1.653068</td>\n",
       "    </tr>\n",
       "    <tr>\n",
       "      <th>min</th>\n",
       "      <td>2.000000</td>\n",
       "      <td>1.353791</td>\n",
       "    </tr>\n",
       "    <tr>\n",
       "      <th>25%</th>\n",
       "      <td>2.000000</td>\n",
       "      <td>2.000000</td>\n",
       "    </tr>\n",
       "    <tr>\n",
       "      <th>50%</th>\n",
       "      <td>11.000000</td>\n",
       "      <td>3.000000</td>\n",
       "    </tr>\n",
       "    <tr>\n",
       "      <th>75%</th>\n",
       "      <td>11.000000</td>\n",
       "      <td>4.500000</td>\n",
       "    </tr>\n",
       "    <tr>\n",
       "      <th>max</th>\n",
       "      <td>1001.000000</td>\n",
       "      <td>7.500000</td>\n",
       "    </tr>\n",
       "  </tbody>\n",
       "</table>\n",
       "</div>"
      ],
      "text/plain": [
       "         employees  total_raised_USD_milions\n",
       "count   331.000000                494.000000\n",
       "mean     17.274924                  3.356404\n",
       "std      63.693584                  1.653068\n",
       "min       2.000000                  1.353791\n",
       "25%       2.000000                  2.000000\n",
       "50%      11.000000                  3.000000\n",
       "75%      11.000000                  4.500000\n",
       "max    1001.000000                  7.500000"
      ]
     },
     "execution_count": 486,
     "metadata": {},
     "output_type": "execute_result"
    }
   ],
   "source": [
    "ai_fund[['employees', 'total_raised_USD_milions']][ai_fund['inv_size'] == 'medium'].describe()"
   ]
  },
  {
   "cell_type": "code",
   "execution_count": 487,
   "metadata": {},
   "outputs": [
    {
     "data": {
      "text/html": [
       "<div>\n",
       "<style scoped>\n",
       "    .dataframe tbody tr th:only-of-type {\n",
       "        vertical-align: middle;\n",
       "    }\n",
       "\n",
       "    .dataframe tbody tr th {\n",
       "        vertical-align: top;\n",
       "    }\n",
       "\n",
       "    .dataframe thead th {\n",
       "        text-align: right;\n",
       "    }\n",
       "</style>\n",
       "<table border=\"1\" class=\"dataframe\">\n",
       "  <thead>\n",
       "    <tr style=\"text-align: right;\">\n",
       "      <th></th>\n",
       "      <th>employees</th>\n",
       "      <th>total_raised_USD_milions</th>\n",
       "    </tr>\n",
       "  </thead>\n",
       "  <tbody>\n",
       "    <tr>\n",
       "      <th>count</th>\n",
       "      <td>318.000000</td>\n",
       "      <td>493.000000</td>\n",
       "    </tr>\n",
       "    <tr>\n",
       "      <th>mean</th>\n",
       "      <td>1857.990566</td>\n",
       "      <td>50.654888</td>\n",
       "    </tr>\n",
       "    <tr>\n",
       "      <th>std</th>\n",
       "      <td>31740.465551</td>\n",
       "      <td>175.888164</td>\n",
       "    </tr>\n",
       "    <tr>\n",
       "      <th>min</th>\n",
       "      <td>2.000000</td>\n",
       "      <td>7.516981</td>\n",
       "    </tr>\n",
       "    <tr>\n",
       "      <th>25%</th>\n",
       "      <td>11.000000</td>\n",
       "      <td>11.000000</td>\n",
       "    </tr>\n",
       "    <tr>\n",
       "      <th>50%</th>\n",
       "      <td>11.000000</td>\n",
       "      <td>18.000000</td>\n",
       "    </tr>\n",
       "    <tr>\n",
       "      <th>75%</th>\n",
       "      <td>51.000000</td>\n",
       "      <td>37.120000</td>\n",
       "    </tr>\n",
       "    <tr>\n",
       "      <th>max</th>\n",
       "      <td>566000.000000</td>\n",
       "      <td>2917.000000</td>\n",
       "    </tr>\n",
       "  </tbody>\n",
       "</table>\n",
       "</div>"
      ],
      "text/plain": [
       "           employees  total_raised_USD_milions\n",
       "count     318.000000                493.000000\n",
       "mean     1857.990566                 50.654888\n",
       "std     31740.465551                175.888164\n",
       "min         2.000000                  7.516981\n",
       "25%        11.000000                 11.000000\n",
       "50%        11.000000                 18.000000\n",
       "75%        51.000000                 37.120000\n",
       "max    566000.000000               2917.000000"
      ]
     },
     "execution_count": 487,
     "metadata": {},
     "output_type": "execute_result"
    }
   ],
   "source": [
    "ai_fund[['employees', 'total_raised_USD_milions']][ai_fund['inv_size'] == 'large'].describe()"
   ]
  },
  {
   "cell_type": "markdown",
   "metadata": {},
   "source": [
    "### How much one AI employee is worth, on average?"
   ]
  },
  {
   "cell_type": "code",
   "execution_count": 488,
   "metadata": {},
   "outputs": [],
   "source": [
    "# Let's define \"employee value\" as a ratio of investment by # of employees. \n",
    "# And create a dedicated column\n",
    "ai_fund['employee_value'] = ai_fund['total_raised_USD_milions']/ai_fund['employees']"
   ]
  },
  {
   "cell_type": "code",
   "execution_count": 489,
   "metadata": {},
   "outputs": [
    {
     "data": {
      "text/plain": [
       "count    9.960000e+02\n",
       "mean     1.470643e+00\n",
       "std      3.731062e+00\n",
       "min      5.000000e-07\n",
       "25%      9.318495e-02\n",
       "50%      3.258333e-01\n",
       "75%      1.073346e+00\n",
       "max      4.568182e+01\n",
       "Name: employee_value, dtype: float64"
      ]
     },
     "execution_count": 489,
     "metadata": {},
     "output_type": "execute_result"
    }
   ],
   "source": [
    "ai_fund['employee_value'].describe()"
   ]
  },
  {
   "cell_type": "markdown",
   "metadata": {},
   "source": [
    "What is the highest employee valuation?"
   ]
  },
  {
   "cell_type": "code",
   "execution_count": 490,
   "metadata": {},
   "outputs": [
    {
     "data": {
      "text/plain": [
       "798     45.681818\n",
       "254     42.727273\n",
       "1920    27.750000\n",
       "1993    27.350000\n",
       "178     25.785000\n",
       "151     25.000000\n",
       "1354    24.000000\n",
       "1336    20.396187\n",
       "752     19.500000\n",
       "2192    19.454545\n",
       "Name: employee_value, dtype: float64"
      ]
     },
     "execution_count": 490,
     "metadata": {},
     "output_type": "execute_result"
    }
   ],
   "source": [
    "ai_fund['employee_value'].nlargest(10)"
   ]
  },
  {
   "cell_type": "markdown",
   "metadata": {},
   "source": [
    "### Which competencies are the most valuable?"
   ]
  },
  {
   "cell_type": "markdown",
   "metadata": {},
   "source": [
    "Let's identify tags and categories most popular among companies in the 4th quartile of employee value (4-th quartile = 1 mln USD)\n"
   ]
  },
  {
   "cell_type": "code",
   "execution_count": 491,
   "metadata": {},
   "outputs": [],
   "source": [
    "top_markets_emp_value = ai_fund[ai_fund['employee_value'] > 1][tags].sum()"
   ]
  },
  {
   "cell_type": "markdown",
   "metadata": {},
   "source": [
    "TOP 10 most popular markets and technologies among companies with the highest valuation of employee are:"
   ]
  },
  {
   "cell_type": "code",
   "execution_count": 492,
   "metadata": {},
   "outputs": [
    {
     "data": {
      "text/plain": [
       "big data                       184\n",
       "machine learning               173\n",
       "technology                     147\n",
       "artificial intelligence        138\n",
       "software                        65\n",
       "analytics                       56\n",
       "internet                        49\n",
       "data science                    28\n",
       "health care                     26\n",
       "natural language processing     24\n",
       "dtype: int64"
      ]
     },
     "execution_count": 492,
     "metadata": {},
     "output_type": "execute_result"
    }
   ],
   "source": [
    "top_markets_emp_value.nlargest(10)"
   ]
  },
  {
   "cell_type": "code",
   "execution_count": 493,
   "metadata": {},
   "outputs": [],
   "source": [
    "top_categories_emp_value = ai_fund[ai_fund['employee_value'] > 1][cats].sum()"
   ]
  },
  {
   "cell_type": "markdown",
   "metadata": {},
   "source": [
    "TOP 10 most popular TAG categories among companies with the highest valuation of employee are:"
   ]
  },
  {
   "cell_type": "code",
   "execution_count": 494,
   "metadata": {},
   "outputs": [
    {
     "data": {
      "text/plain": [
       "C_data                232\n",
       "C_machine_learning    173\n",
       "C_software             92\n",
       "C_analytics            81\n",
       "C_internet             65\n",
       "C_health               39\n",
       "C_security             32\n",
       "C_marketing            28\n",
       "C_enterprise           25\n",
       "C_mobile               22\n",
       "dtype: int64"
      ]
     },
     "execution_count": 494,
     "metadata": {},
     "output_type": "execute_result"
    }
   ],
   "source": [
    "top_categories_emp_value.nlargest(10)"
   ]
  },
  {
   "cell_type": "code",
   "execution_count": null,
   "metadata": {},
   "outputs": [],
   "source": []
  }
 ],
 "metadata": {
  "kernelspec": {
   "display_name": "drlnd",
   "language": "python",
   "name": "drlnd"
  },
  "language_info": {
   "codemirror_mode": {
    "name": "ipython",
    "version": 3
   },
   "file_extension": ".py",
   "mimetype": "text/x-python",
   "name": "python",
   "nbconvert_exporter": "python",
   "pygments_lexer": "ipython3",
   "version": "3.6.2"
  },
  "latex_envs": {
   "LaTeX_envs_menu_present": true,
   "autoclose": false,
   "autocomplete": true,
   "bibliofile": "biblio.bib",
   "cite_by": "apalike",
   "current_citInitial": 1,
   "eqLabelWithNumbers": true,
   "eqNumInitial": 1,
   "hotkeys": {
    "equation": "Ctrl-E",
    "itemize": "Ctrl-I"
   },
   "labels_anchors": false,
   "latex_user_defs": false,
   "report_style_numbering": false,
   "user_envs_cfg": false
  },
  "toc": {
   "base_numbering": 1,
   "nav_menu": {
    "height": "420px",
    "width": "234px"
   },
   "number_sections": true,
   "sideBar": true,
   "skip_h1_title": false,
   "title_cell": "Table of Contents",
   "title_sidebar": "Contents",
   "toc_cell": false,
   "toc_position": {
    "height": "calc(100% - 180px)",
    "left": "10px",
    "top": "150px",
    "width": "349px"
   },
   "toc_section_display": true,
   "toc_window_display": true
  }
 },
 "nbformat": 4,
 "nbformat_minor": 2
}
