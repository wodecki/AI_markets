{
 "cells": [
  {
   "cell_type": "markdown",
   "metadata": {},
   "source": [
    "# Business <> Data Understanding"
   ]
  },
  {
   "cell_type": "markdown",
   "metadata": {},
   "source": [
    "## Import & read"
   ]
  },
  {
   "cell_type": "code",
   "execution_count": 497,
   "metadata": {},
   "outputs": [],
   "source": [
    "import numpy as np\n",
    "import pandas as pd\n",
    "import matplotlib.pyplot as plt\n",
    "\n",
    "ai = pd.read_csv('ai.csv')"
   ]
  },
  {
   "cell_type": "markdown",
   "metadata": {},
   "source": [
    "## Examine"
   ]
  },
  {
   "cell_type": "code",
   "execution_count": 498,
   "metadata": {},
   "outputs": [
    {
     "data": {
      "text/html": [
       "<div>\n",
       "<style scoped>\n",
       "    .dataframe tbody tr th:only-of-type {\n",
       "        vertical-align: middle;\n",
       "    }\n",
       "\n",
       "    .dataframe tbody tr th {\n",
       "        vertical-align: top;\n",
       "    }\n",
       "\n",
       "    .dataframe thead th {\n",
       "        text-align: right;\n",
       "    }\n",
       "</style>\n",
       "<table border=\"1\" class=\"dataframe\">\n",
       "  <thead>\n",
       "    <tr style=\"text-align: right;\">\n",
       "      <th></th>\n",
       "      <th>id</th>\n",
       "      <th>markets</th>\n",
       "      <th>founded in</th>\n",
       "      <th>employees</th>\n",
       "      <th>headquarters</th>\n",
       "      <th>country</th>\n",
       "      <th>total raised (USD)</th>\n",
       "      <th>latest_round_amount (USD)</th>\n",
       "      <th>latest_round_date</th>\n",
       "      <th>latest_round_type</th>\n",
       "      <th>acquired_by</th>\n",
       "      <th>acquired_at</th>\n",
       "      <th>acquired_amount (USD)</th>\n",
       "    </tr>\n",
       "  </thead>\n",
       "  <tbody>\n",
       "    <tr>\n",
       "      <th>0</th>\n",
       "      <td>14</td>\n",
       "      <td>Internet &gt; Cloud Computing, Big Data &gt; Storage...</td>\n",
       "      <td>1994.0</td>\n",
       "      <td>566000.0</td>\n",
       "      <td>Seattle</td>\n",
       "      <td>United States</td>\n",
       "      <td>56000000.0</td>\n",
       "      <td>48000000.0</td>\n",
       "      <td>1997-05-15</td>\n",
       "      <td>IPO</td>\n",
       "      <td>NaN</td>\n",
       "      <td>NaN</td>\n",
       "      <td>NaN</td>\n",
       "    </tr>\n",
       "    <tr>\n",
       "      <th>1</th>\n",
       "      <td>16</td>\n",
       "      <td>Networking, Internet &gt; Social Media, Mobile, E...</td>\n",
       "      <td>2003.0</td>\n",
       "      <td>10001.0</td>\n",
       "      <td>Sunnyvale</td>\n",
       "      <td>United States</td>\n",
       "      <td>206121421.0</td>\n",
       "      <td>81713488.0</td>\n",
       "      <td>2013-05-01</td>\n",
       "      <td>Post-IPO equity</td>\n",
       "      <td>Microsoft</td>\n",
       "      <td>2016-06-13</td>\n",
       "      <td>2.600000e+10</td>\n",
       "    </tr>\n",
       "    <tr>\n",
       "      <th>2</th>\n",
       "      <td>125</td>\n",
       "      <td>Mobile, Technology &gt; Artificial Intelligence, ...</td>\n",
       "      <td>1991.0</td>\n",
       "      <td>22000.0</td>\n",
       "      <td>Tokyo</td>\n",
       "      <td>Japan</td>\n",
       "      <td>NaN</td>\n",
       "      <td>NaN</td>\n",
       "      <td>NaN</td>\n",
       "      <td>NaN</td>\n",
       "      <td>NaN</td>\n",
       "      <td>NaN</td>\n",
       "      <td>NaN</td>\n",
       "    </tr>\n",
       "    <tr>\n",
       "      <th>3</th>\n",
       "      <td>213</td>\n",
       "      <td>Mobile, Technology, Mobile &gt; Mobile Software T...</td>\n",
       "      <td>2008.0</td>\n",
       "      <td>90.0</td>\n",
       "      <td>London</td>\n",
       "      <td>United Kingdom</td>\n",
       "      <td>21579688.0</td>\n",
       "      <td>17500000.0</td>\n",
       "      <td>2013-09-04</td>\n",
       "      <td>Series B</td>\n",
       "      <td>Microsoft</td>\n",
       "      <td>2016-02-02</td>\n",
       "      <td>2.500000e+08</td>\n",
       "    </tr>\n",
       "    <tr>\n",
       "      <th>4</th>\n",
       "      <td>215</td>\n",
       "      <td>Technology &gt; Artificial Intelligence, Telecomm...</td>\n",
       "      <td>1984.0</td>\n",
       "      <td>1001.0</td>\n",
       "      <td>Seoul</td>\n",
       "      <td>South Korea</td>\n",
       "      <td>NaN</td>\n",
       "      <td>NaN</td>\n",
       "      <td>NaN</td>\n",
       "      <td>NaN</td>\n",
       "      <td>NaN</td>\n",
       "      <td>NaN</td>\n",
       "      <td>NaN</td>\n",
       "    </tr>\n",
       "  </tbody>\n",
       "</table>\n",
       "</div>"
      ],
      "text/plain": [
       "    id                                            markets  founded in  \\\n",
       "0   14  Internet > Cloud Computing, Big Data > Storage...      1994.0   \n",
       "1   16  Networking, Internet > Social Media, Mobile, E...      2003.0   \n",
       "2  125  Mobile, Technology > Artificial Intelligence, ...      1991.0   \n",
       "3  213  Mobile, Technology, Mobile > Mobile Software T...      2008.0   \n",
       "4  215  Technology > Artificial Intelligence, Telecomm...      1984.0   \n",
       "\n",
       "   employees headquarters         country  total raised (USD)  \\\n",
       "0   566000.0      Seattle   United States          56000000.0   \n",
       "1    10001.0    Sunnyvale   United States         206121421.0   \n",
       "2    22000.0        Tokyo           Japan                 NaN   \n",
       "3       90.0       London  United Kingdom          21579688.0   \n",
       "4     1001.0        Seoul     South Korea                 NaN   \n",
       "\n",
       "   latest_round_amount (USD) latest_round_date latest_round_type acquired_by  \\\n",
       "0                 48000000.0        1997-05-15               IPO         NaN   \n",
       "1                 81713488.0        2013-05-01   Post-IPO equity   Microsoft   \n",
       "2                        NaN               NaN               NaN         NaN   \n",
       "3                 17500000.0        2013-09-04          Series B   Microsoft   \n",
       "4                        NaN               NaN               NaN         NaN   \n",
       "\n",
       "  acquired_at  acquired_amount (USD)  \n",
       "0         NaN                    NaN  \n",
       "1  2016-06-13           2.600000e+10  \n",
       "2         NaN                    NaN  \n",
       "3  2016-02-02           2.500000e+08  \n",
       "4         NaN                    NaN  "
      ]
     },
     "execution_count": 498,
     "metadata": {},
     "output_type": "execute_result"
    }
   ],
   "source": [
    "#Let's have a first look at data\n",
    "ai.head()"
   ]
  },
  {
   "cell_type": "code",
   "execution_count": 499,
   "metadata": {},
   "outputs": [],
   "source": [
    "#replace spaces in column names by '_'\n",
    "ai.columns = [c.replace(' ', '_') for c in ai.columns]\n",
    "# remove '()' from column names\n",
    "ai.columns = [c.replace('(', '') for c in ai.columns]\n",
    "ai.columns = [c.replace(')', '') for c in ai.columns]"
   ]
  },
  {
   "cell_type": "code",
   "execution_count": 500,
   "metadata": {},
   "outputs": [
    {
     "data": {
      "text/html": [
       "<div>\n",
       "<style scoped>\n",
       "    .dataframe tbody tr th:only-of-type {\n",
       "        vertical-align: middle;\n",
       "    }\n",
       "\n",
       "    .dataframe tbody tr th {\n",
       "        vertical-align: top;\n",
       "    }\n",
       "\n",
       "    .dataframe thead th {\n",
       "        text-align: right;\n",
       "    }\n",
       "</style>\n",
       "<table border=\"1\" class=\"dataframe\">\n",
       "  <thead>\n",
       "    <tr style=\"text-align: right;\">\n",
       "      <th></th>\n",
       "      <th>id</th>\n",
       "      <th>markets</th>\n",
       "      <th>founded_in</th>\n",
       "      <th>employees</th>\n",
       "      <th>headquarters</th>\n",
       "      <th>country</th>\n",
       "      <th>total_raised_USD</th>\n",
       "      <th>latest_round_amount_USD</th>\n",
       "      <th>latest_round_date</th>\n",
       "      <th>latest_round_type</th>\n",
       "      <th>acquired_by</th>\n",
       "      <th>acquired_at</th>\n",
       "      <th>acquired_amount_USD</th>\n",
       "    </tr>\n",
       "  </thead>\n",
       "  <tbody>\n",
       "    <tr>\n",
       "      <th>0</th>\n",
       "      <td>14</td>\n",
       "      <td>Internet &gt; Cloud Computing, Big Data &gt; Storage...</td>\n",
       "      <td>1994.0</td>\n",
       "      <td>566000.0</td>\n",
       "      <td>Seattle</td>\n",
       "      <td>United States</td>\n",
       "      <td>56000000.0</td>\n",
       "      <td>48000000.0</td>\n",
       "      <td>1997-05-15</td>\n",
       "      <td>IPO</td>\n",
       "      <td>NaN</td>\n",
       "      <td>NaN</td>\n",
       "      <td>NaN</td>\n",
       "    </tr>\n",
       "  </tbody>\n",
       "</table>\n",
       "</div>"
      ],
      "text/plain": [
       "   id                                            markets  founded_in  \\\n",
       "0  14  Internet > Cloud Computing, Big Data > Storage...      1994.0   \n",
       "\n",
       "   employees headquarters        country  total_raised_USD  \\\n",
       "0   566000.0      Seattle  United States        56000000.0   \n",
       "\n",
       "   latest_round_amount_USD latest_round_date latest_round_type acquired_by  \\\n",
       "0               48000000.0        1997-05-15               IPO         NaN   \n",
       "\n",
       "  acquired_at  acquired_amount_USD  \n",
       "0         NaN                  NaN  "
      ]
     },
     "execution_count": 500,
     "metadata": {},
     "output_type": "execute_result"
    }
   ],
   "source": [
    "ai.head(1)"
   ]
  },
  {
   "cell_type": "code",
   "execution_count": 501,
   "metadata": {},
   "outputs": [
    {
     "name": "stdout",
     "output_type": "stream",
     "text": [
      "<class 'pandas.core.frame.DataFrame'>\n",
      "RangeIndex: 3269 entries, 0 to 3268\n",
      "Data columns (total 13 columns):\n",
      "id                         3269 non-null int64\n",
      "markets                    3269 non-null object\n",
      "founded_in                 2601 non-null float64\n",
      "employees                  2350 non-null float64\n",
      "headquarters               2899 non-null object\n",
      "country                    2930 non-null object\n",
      "total_raised_USD           1708 non-null float64\n",
      "latest_round_amount_USD    1748 non-null float64\n",
      "latest_round_date          1684 non-null object\n",
      "latest_round_type          1721 non-null object\n",
      "acquired_by                133 non-null object\n",
      "acquired_at                133 non-null object\n",
      "acquired_amount_USD        129 non-null float64\n",
      "dtypes: float64(5), int64(1), object(7)\n",
      "memory usage: 332.1+ KB\n"
     ]
    }
   ],
   "source": [
    "ai.info()"
   ]
  },
  {
   "cell_type": "code",
   "execution_count": 502,
   "metadata": {},
   "outputs": [
    {
     "data": {
      "text/plain": [
       "id                                                                        14\n",
       "markets                    Internet > Cloud Computing, Big Data > Storage...\n",
       "founded_in                                                              1994\n",
       "employees                                                             566000\n",
       "headquarters                                                         Seattle\n",
       "country                                                        United States\n",
       "total_raised_USD                                                     5.6e+07\n",
       "latest_round_amount_USD                                              4.8e+07\n",
       "latest_round_date                                                 1997-05-15\n",
       "latest_round_type                                                        IPO\n",
       "acquired_by                                                              NaN\n",
       "acquired_at                                                              NaN\n",
       "acquired_amount_USD                                                      NaN\n",
       "Name: 0, dtype: object"
      ]
     },
     "execution_count": 502,
     "metadata": {},
     "output_type": "execute_result"
    }
   ],
   "source": [
    "#Have a look at the first record\n",
    "ai.iloc[0]"
   ]
  },
  {
   "cell_type": "markdown",
   "metadata": {},
   "source": [
    "# Data preparation"
   ]
  },
  {
   "cell_type": "markdown",
   "metadata": {},
   "source": [
    "## Clean-up and prepare the main dataframe\n"
   ]
  },
  {
   "cell_type": "code",
   "execution_count": 503,
   "metadata": {},
   "outputs": [
    {
     "name": "stdout",
     "output_type": "stream",
     "text": [
      "<class 'pandas.core.frame.DataFrame'>\n",
      "RangeIndex: 3269 entries, 0 to 3268\n",
      "Data columns (total 8 columns):\n",
      "markets                    3269 non-null object\n",
      "founded_in                 2601 non-null float64\n",
      "total_raised_USD           1708 non-null float64\n",
      "country                    2930 non-null object\n",
      "headquarters               2899 non-null object\n",
      "employees                  2350 non-null float64\n",
      "latest_round_amount_USD    1748 non-null float64\n",
      "latest_round_type          1721 non-null object\n",
      "dtypes: float64(4), object(4)\n",
      "memory usage: 204.4+ KB\n"
     ]
    }
   ],
   "source": [
    "#Prepare a basic dataframe (without unnecessary columns) \n",
    "ai_clean = ai[[\"markets\", 'founded_in', \"total_raised_USD\", 'country','headquarters', 'employees', \n",
    "              'latest_round_amount_USD', 'latest_round_type']]\n",
    "ai_clean.info()"
   ]
  },
  {
   "cell_type": "code",
   "execution_count": 504,
   "metadata": {},
   "outputs": [
    {
     "name": "stdout",
     "output_type": "stream",
     "text": [
      "<class 'pandas.core.frame.DataFrame'>\n",
      "RangeIndex: 3269 entries, 0 to 3268\n",
      "Data columns (total 13 columns):\n",
      "id                         3269 non-null int64\n",
      "markets                    3269 non-null object\n",
      "founded_in                 2601 non-null float64\n",
      "employees                  2350 non-null float64\n",
      "headquarters               2899 non-null object\n",
      "country                    2930 non-null object\n",
      "total_raised_USD           1708 non-null float64\n",
      "latest_round_amount_USD    1748 non-null float64\n",
      "latest_round_date          1684 non-null object\n",
      "latest_round_type          1721 non-null object\n",
      "acquired_by                133 non-null object\n",
      "acquired_at                133 non-null object\n",
      "acquired_amount_USD        129 non-null float64\n",
      "dtypes: float64(5), int64(1), object(7)\n",
      "memory usage: 332.1+ KB\n"
     ]
    }
   ],
   "source": [
    "ai.info()"
   ]
  },
  {
   "cell_type": "code",
   "execution_count": 505,
   "metadata": {},
   "outputs": [],
   "source": [
    "# convert funds raised from USD to USD milions\n",
    "pd.options.mode.chained_assignment = None  # disable some warnings\n",
    "\n",
    "ai_clean['total_raised_USD_milions'] = ai_clean['total_raised_USD']/1000000\n",
    "ai_clean['latest_round_amount_USD_milions'] = ai_clean['latest_round_amount_USD']/1000000"
   ]
  },
  {
   "cell_type": "code",
   "execution_count": 506,
   "metadata": {},
   "outputs": [],
   "source": [
    "ai_clean.drop(['total_raised_USD'], axis = 1, inplace = True)\n",
    "ai_clean.drop(['latest_round_amount_USD'], axis = 1, inplace = True)"
   ]
  },
  {
   "cell_type": "code",
   "execution_count": 507,
   "metadata": {},
   "outputs": [
    {
     "data": {
      "text/html": [
       "<div>\n",
       "<style scoped>\n",
       "    .dataframe tbody tr th:only-of-type {\n",
       "        vertical-align: middle;\n",
       "    }\n",
       "\n",
       "    .dataframe tbody tr th {\n",
       "        vertical-align: top;\n",
       "    }\n",
       "\n",
       "    .dataframe thead th {\n",
       "        text-align: right;\n",
       "    }\n",
       "</style>\n",
       "<table border=\"1\" class=\"dataframe\">\n",
       "  <thead>\n",
       "    <tr style=\"text-align: right;\">\n",
       "      <th></th>\n",
       "      <th>markets</th>\n",
       "      <th>founded_in</th>\n",
       "      <th>country</th>\n",
       "      <th>headquarters</th>\n",
       "      <th>employees</th>\n",
       "      <th>latest_round_type</th>\n",
       "      <th>total_raised_USD_milions</th>\n",
       "      <th>latest_round_amount_USD_milions</th>\n",
       "    </tr>\n",
       "  </thead>\n",
       "  <tbody>\n",
       "    <tr>\n",
       "      <th>0</th>\n",
       "      <td>Internet &gt; Cloud Computing, Big Data &gt; Storage...</td>\n",
       "      <td>1994.0</td>\n",
       "      <td>United States</td>\n",
       "      <td>Seattle</td>\n",
       "      <td>566000.0</td>\n",
       "      <td>IPO</td>\n",
       "      <td>56.000000</td>\n",
       "      <td>48.000000</td>\n",
       "    </tr>\n",
       "    <tr>\n",
       "      <th>1</th>\n",
       "      <td>Networking, Internet &gt; Social Media, Mobile, E...</td>\n",
       "      <td>2003.0</td>\n",
       "      <td>United States</td>\n",
       "      <td>Sunnyvale</td>\n",
       "      <td>10001.0</td>\n",
       "      <td>Post-IPO equity</td>\n",
       "      <td>206.121421</td>\n",
       "      <td>81.713488</td>\n",
       "    </tr>\n",
       "    <tr>\n",
       "      <th>2</th>\n",
       "      <td>Mobile, Technology &gt; Artificial Intelligence, ...</td>\n",
       "      <td>1991.0</td>\n",
       "      <td>Japan</td>\n",
       "      <td>Tokyo</td>\n",
       "      <td>22000.0</td>\n",
       "      <td>NaN</td>\n",
       "      <td>NaN</td>\n",
       "      <td>NaN</td>\n",
       "    </tr>\n",
       "  </tbody>\n",
       "</table>\n",
       "</div>"
      ],
      "text/plain": [
       "                                             markets  founded_in  \\\n",
       "0  Internet > Cloud Computing, Big Data > Storage...      1994.0   \n",
       "1  Networking, Internet > Social Media, Mobile, E...      2003.0   \n",
       "2  Mobile, Technology > Artificial Intelligence, ...      1991.0   \n",
       "\n",
       "         country headquarters  employees latest_round_type  \\\n",
       "0  United States      Seattle   566000.0               IPO   \n",
       "1  United States    Sunnyvale    10001.0   Post-IPO equity   \n",
       "2          Japan        Tokyo    22000.0               NaN   \n",
       "\n",
       "   total_raised_USD_milions  latest_round_amount_USD_milions  \n",
       "0                 56.000000                        48.000000  \n",
       "1                206.121421                        81.713488  \n",
       "2                       NaN                              NaN  "
      ]
     },
     "execution_count": 507,
     "metadata": {},
     "output_type": "execute_result"
    }
   ],
   "source": [
    "ai_clean.head(3)"
   ]
  },
  {
   "cell_type": "markdown",
   "metadata": {},
   "source": [
    "## Identify and categorise technologies and markets"
   ]
  },
  {
   "cell_type": "markdown",
   "metadata": {},
   "source": [
    "In this section we extract technologies and industries from \"markets\" column.\n",
    "\n",
    "At the moment it is a string of unordered tags. We will transform it into a large set of \"dummy\" variables: columns with names equal to tags and value = 1 in case company has it in a \"market\" column and 0 in case a given tag is absent."
   ]
  },
  {
   "cell_type": "markdown",
   "metadata": {
    "heading_collapsed": true
   },
   "source": [
    "### Visualize TAGs with wordcloud\n",
    "\n",
    "Pure statistics are boring... Let's visualize the most popular TAGs with wordcloud!"
   ]
  },
  {
   "cell_type": "code",
   "execution_count": 508,
   "metadata": {
    "hidden": true
   },
   "outputs": [],
   "source": [
    "from PIL import Image\n",
    "from wordcloud import WordCloud, STOPWORDS, ImageColorGenerator"
   ]
  },
  {
   "cell_type": "code",
   "execution_count": 509,
   "metadata": {
    "hidden": true
   },
   "outputs": [],
   "source": [
    "text = ''\n",
    "r = ai.shape[0]\n",
    "for i in range(0, r):\n",
    "    text = text + ai['markets'][i]"
   ]
  },
  {
   "cell_type": "code",
   "execution_count": 510,
   "metadata": {
    "hidden": true
   },
   "outputs": [
    {
     "data": {
      "image/png": "[encoded data removed]",
      "text/plain": [
       "<Figure size 432x288 with 1 Axes>"
      ]
     },
     "metadata": {
      "needs_background": "light"
     },
     "output_type": "display_data"
    }
   ],
   "source": [
    "# Create and generate a word cloud image:\n",
    "wordcloud = WordCloud(width=1600, height=800).generate(text)\n",
    "\n",
    "# Display the generated image:\n",
    "plt.imshow(wordcloud, interpolation='bilinear')\n",
    "plt.axis(\"off\")\n",
    "plt.show()\n",
    "\n",
    "#uncomment to store a picture ine a \"wordclouds\" subdir (have it created beforehand)\n",
    "#wordcloud.to_file(\"wordclouds/1.png\")"
   ]
  },
  {
   "cell_type": "markdown",
   "metadata": {
    "hidden": true
   },
   "source": [
    "As you can see, \"Big Data\" dominates. Let's strip it to see what's under the cover..."
   ]
  },
  {
   "cell_type": "code",
   "execution_count": 511,
   "metadata": {
    "hidden": true
   },
   "outputs": [
    {
     "data": {
      "image/png": "[encoded data removed]",
      "text/plain": [
       "<Figure size 432x288 with 1 Axes>"
      ]
     },
     "metadata": {
      "needs_background": "light"
     },
     "output_type": "display_data"
    }
   ],
   "source": [
    "stripped = text.replace('Big Data', \"\")\n",
    "wordcloud = WordCloud(width=1600, height=800).generate(stripped)\n",
    "\n",
    "# Display the generated image:\n",
    "plt.imshow(wordcloud, interpolation='bilinear')\n",
    "plt.axis(\"off\")\n",
    "plt.show()\n",
    "\n",
    "#wordcloud.to_file(\"wordclouds/2.png\")\n"
   ]
  },
  {
   "cell_type": "markdown",
   "metadata": {
    "hidden": true
   },
   "source": [
    "I encourage you to continue stripping the most visible TAGs. A very interesting patterns appear and, last but not least, that's a \"real\" data MINING :)"
   ]
  },
  {
   "cell_type": "markdown",
   "metadata": {},
   "source": [
    "### Clean-up markets entries\n",
    "\n",
    "Now it's time to identify TAGs out of the chaotic, large strings. We start with some basic cleansing."
   ]
  },
  {
   "cell_type": "code",
   "execution_count": 527,
   "metadata": {},
   "outputs": [
    {
     "name": "stdout",
     "output_type": "stream",
     "text": [
      "0    Internet > Cloud Computing, Big Data > Storage...\n",
      "1    Networking, Internet > Social Media, Mobile, E...\n",
      "2    Mobile, Technology > Artificial Intelligence, ...\n",
      "3    Mobile, Technology, Mobile > Mobile Software T...\n",
      "4    Technology > Artificial Intelligence, Telecomm...\n",
      "Name: markets, dtype: object\n",
      "(3269,)\n"
     ]
    }
   ],
   "source": [
    "# First, we extract a market column\n",
    "markets = ai_clean['markets']\n",
    "print(markets.head())\n",
    "print(markets.shape)"
   ]
  },
  {
   "cell_type": "code",
   "execution_count": 528,
   "metadata": {},
   "outputs": [
    {
     "data": {
      "text/plain": [
       "0    internet,cloud computing,big data,storage,inte...\n",
       "1    networking,internet,social media,mobile,e-comm...\n",
       "2    mobile,technology,artificial intelligence,tele...\n",
       "3    mobile,technology,mobile,mobile software tools...\n",
       "4    technology,artificial intelligence,telecommuni...\n",
       "Name: markets, dtype: object"
      ]
     },
     "execution_count": 528,
     "metadata": {},
     "output_type": "execute_result"
    }
   ],
   "source": [
    "#Let's strip whitespaces and \">\"\n",
    "markets = markets.str.strip()\n",
    "markets = markets.str.replace('>',',').str.lower()\n",
    "markets = markets.str.replace(' ,',',')\n",
    "markets = markets.str.replace(', ',',')\n",
    "markets.head()"
   ]
  },
  {
   "cell_type": "code",
   "execution_count": 529,
   "metadata": {},
   "outputs": [
    {
     "data": {
      "text/plain": [
       "technology,artificial intelligence                                                                                    101\n",
       "big data,machine learning                                                                                              44\n",
       "big data,machine learning,technology,artificial intelligence                                                           33\n",
       "robotics,technology,artificial intelligence                                                                            22\n",
       "technology,artificial intelligence,software                                                                            17\n",
       "technology,artificial intelligence,health care                                                                         12\n",
       "big data,big data,machine learning                                                                                     11\n",
       "big data,machine learning,natural language processing,big data,machine learning,technology,artificial intelligence     10\n",
       "recruiting,technology,artificial intelligence,businesses,human resources                                                9\n",
       "services,customer service,technology,artificial intelligence                                                            9\n",
       "Name: markets, dtype: int64"
      ]
     },
     "execution_count": 529,
     "metadata": {},
     "output_type": "execute_result"
    }
   ],
   "source": [
    "#Let's look at the TOP 10 most frequent phrases\n",
    "markets.value_counts().nlargest(10)"
   ]
  },
  {
   "cell_type": "markdown",
   "metadata": {},
   "source": [
    "### Create dummy variables\n",
    "\n",
    "Now it's time to create dummy variables. We will apply a dedicated Pandas function (pd.get_dummies())"
   ]
  },
  {
   "cell_type": "code",
   "execution_count": 530,
   "metadata": {},
   "outputs": [
    {
     "data": {
      "text/plain": [
       "(3269, 507)"
      ]
     },
     "execution_count": 530,
     "metadata": {},
     "output_type": "execute_result"
    }
   ],
   "source": [
    "markets = markets.str.get_dummies(sep=',')\n",
    "markets.shape"
   ]
  },
  {
   "cell_type": "markdown",
   "metadata": {},
   "source": [
    "We obtain more than 500 different tags..."
   ]
  },
  {
   "cell_type": "code",
   "execution_count": 531,
   "metadata": {},
   "outputs": [
    {
     "data": {
      "text/html": [
       "<div>\n",
       "<style scoped>\n",
       "    .dataframe tbody tr th:only-of-type {\n",
       "        vertical-align: middle;\n",
       "    }\n",
       "\n",
       "    .dataframe tbody tr th {\n",
       "        vertical-align: top;\n",
       "    }\n",
       "\n",
       "    .dataframe thead th {\n",
       "        text-align: right;\n",
       "    }\n",
       "</style>\n",
       "<table border=\"1\" class=\"dataframe\">\n",
       "  <thead>\n",
       "    <tr style=\"text-align: right;\">\n",
       "      <th></th>\n",
       "      <th>3d</th>\n",
       "      <th>3d printing</th>\n",
       "      <th>3d technology</th>\n",
       "      <th>accelerator</th>\n",
       "      <th>accounting</th>\n",
       "      <th>adtech</th>\n",
       "      <th>advertising</th>\n",
       "      <th>advertising platforms</th>\n",
       "      <th>aerospace</th>\n",
       "      <th>affiliates</th>\n",
       "      <th>...</th>\n",
       "      <th>web development</th>\n",
       "      <th>web hosting</th>\n",
       "      <th>web scraping</th>\n",
       "      <th>web service</th>\n",
       "      <th>web tools</th>\n",
       "      <th>webcare</th>\n",
       "      <th>weddings</th>\n",
       "      <th>wifi</th>\n",
       "      <th>wireless</th>\n",
       "      <th>writers</th>\n",
       "    </tr>\n",
       "  </thead>\n",
       "  <tbody>\n",
       "    <tr>\n",
       "      <th>0</th>\n",
       "      <td>0</td>\n",
       "      <td>0</td>\n",
       "      <td>0</td>\n",
       "      <td>0</td>\n",
       "      <td>0</td>\n",
       "      <td>0</td>\n",
       "      <td>0</td>\n",
       "      <td>0</td>\n",
       "      <td>0</td>\n",
       "      <td>0</td>\n",
       "      <td>...</td>\n",
       "      <td>1</td>\n",
       "      <td>0</td>\n",
       "      <td>0</td>\n",
       "      <td>0</td>\n",
       "      <td>0</td>\n",
       "      <td>0</td>\n",
       "      <td>0</td>\n",
       "      <td>0</td>\n",
       "      <td>0</td>\n",
       "      <td>0</td>\n",
       "    </tr>\n",
       "    <tr>\n",
       "      <th>1</th>\n",
       "      <td>0</td>\n",
       "      <td>0</td>\n",
       "      <td>0</td>\n",
       "      <td>0</td>\n",
       "      <td>0</td>\n",
       "      <td>0</td>\n",
       "      <td>0</td>\n",
       "      <td>0</td>\n",
       "      <td>0</td>\n",
       "      <td>0</td>\n",
       "      <td>...</td>\n",
       "      <td>0</td>\n",
       "      <td>0</td>\n",
       "      <td>0</td>\n",
       "      <td>0</td>\n",
       "      <td>0</td>\n",
       "      <td>0</td>\n",
       "      <td>0</td>\n",
       "      <td>0</td>\n",
       "      <td>0</td>\n",
       "      <td>0</td>\n",
       "    </tr>\n",
       "    <tr>\n",
       "      <th>2</th>\n",
       "      <td>0</td>\n",
       "      <td>0</td>\n",
       "      <td>0</td>\n",
       "      <td>0</td>\n",
       "      <td>0</td>\n",
       "      <td>0</td>\n",
       "      <td>0</td>\n",
       "      <td>0</td>\n",
       "      <td>0</td>\n",
       "      <td>0</td>\n",
       "      <td>...</td>\n",
       "      <td>0</td>\n",
       "      <td>0</td>\n",
       "      <td>0</td>\n",
       "      <td>0</td>\n",
       "      <td>0</td>\n",
       "      <td>0</td>\n",
       "      <td>0</td>\n",
       "      <td>0</td>\n",
       "      <td>0</td>\n",
       "      <td>0</td>\n",
       "    </tr>\n",
       "    <tr>\n",
       "      <th>3</th>\n",
       "      <td>0</td>\n",
       "      <td>0</td>\n",
       "      <td>0</td>\n",
       "      <td>0</td>\n",
       "      <td>0</td>\n",
       "      <td>0</td>\n",
       "      <td>0</td>\n",
       "      <td>0</td>\n",
       "      <td>0</td>\n",
       "      <td>0</td>\n",
       "      <td>...</td>\n",
       "      <td>0</td>\n",
       "      <td>0</td>\n",
       "      <td>0</td>\n",
       "      <td>0</td>\n",
       "      <td>0</td>\n",
       "      <td>0</td>\n",
       "      <td>0</td>\n",
       "      <td>0</td>\n",
       "      <td>0</td>\n",
       "      <td>0</td>\n",
       "    </tr>\n",
       "    <tr>\n",
       "      <th>4</th>\n",
       "      <td>0</td>\n",
       "      <td>0</td>\n",
       "      <td>0</td>\n",
       "      <td>0</td>\n",
       "      <td>0</td>\n",
       "      <td>0</td>\n",
       "      <td>0</td>\n",
       "      <td>0</td>\n",
       "      <td>0</td>\n",
       "      <td>0</td>\n",
       "      <td>...</td>\n",
       "      <td>0</td>\n",
       "      <td>0</td>\n",
       "      <td>0</td>\n",
       "      <td>0</td>\n",
       "      <td>0</td>\n",
       "      <td>0</td>\n",
       "      <td>0</td>\n",
       "      <td>0</td>\n",
       "      <td>0</td>\n",
       "      <td>0</td>\n",
       "    </tr>\n",
       "  </tbody>\n",
       "</table>\n",
       "<p>5 rows × 507 columns</p>\n",
       "</div>"
      ],
      "text/plain": [
       "   3d  3d printing  3d technology  accelerator  accounting  adtech  \\\n",
       "0   0            0              0            0           0       0   \n",
       "1   0            0              0            0           0       0   \n",
       "2   0            0              0            0           0       0   \n",
       "3   0            0              0            0           0       0   \n",
       "4   0            0              0            0           0       0   \n",
       "\n",
       "   advertising  advertising platforms  aerospace  affiliates   ...     \\\n",
       "0            0                      0          0           0   ...      \n",
       "1            0                      0          0           0   ...      \n",
       "2            0                      0          0           0   ...      \n",
       "3            0                      0          0           0   ...      \n",
       "4            0                      0          0           0   ...      \n",
       "\n",
       "   web development  web hosting  web scraping  web service  web tools  \\\n",
       "0                1            0             0            0          0   \n",
       "1                0            0             0            0          0   \n",
       "2                0            0             0            0          0   \n",
       "3                0            0             0            0          0   \n",
       "4                0            0             0            0          0   \n",
       "\n",
       "   webcare  weddings  wifi  wireless  writers  \n",
       "0        0         0     0         0        0  \n",
       "1        0         0     0         0        0  \n",
       "2        0         0     0         0        0  \n",
       "3        0         0     0         0        0  \n",
       "4        0         0     0         0        0  \n",
       "\n",
       "[5 rows x 507 columns]"
      ]
     },
     "execution_count": 531,
     "metadata": {},
     "output_type": "execute_result"
    }
   ],
   "source": [
    "markets.head()"
   ]
  },
  {
   "cell_type": "markdown",
   "metadata": {},
   "source": [
    "### Identify tags"
   ]
  },
  {
   "cell_type": "code",
   "execution_count": 532,
   "metadata": {},
   "outputs": [
    {
     "data": {
      "text/plain": [
       "Index(['3d', '3d printing', '3d technology', 'accelerator', 'accounting',\n",
       "       'adtech', 'advertising', 'advertising platforms', 'aerospace',\n",
       "       'affiliates',\n",
       "       ...\n",
       "       'web development', 'web hosting', 'web scraping', 'web service',\n",
       "       'web tools', 'webcare', 'weddings', 'wifi', 'wireless', 'writers'],\n",
       "      dtype='object', length=507)"
      ]
     },
     "execution_count": 532,
     "metadata": {},
     "output_type": "execute_result"
    }
   ],
   "source": [
    "markets.columns"
   ]
  },
  {
   "cell_type": "code",
   "execution_count": 533,
   "metadata": {},
   "outputs": [
    {
     "data": {
      "text/plain": [
       "(3269, 507)"
      ]
     },
     "execution_count": 533,
     "metadata": {},
     "output_type": "execute_result"
    }
   ],
   "source": [
    "markets.shape"
   ]
  },
  {
   "cell_type": "markdown",
   "metadata": {},
   "source": [
    "### Identify categories"
   ]
  },
  {
   "cell_type": "markdown",
   "metadata": {},
   "source": [
    "As you can see, there are some phrases (eg. '3d', 'advertising', etc.) which repeat over and over ...\n",
    "These repeating words are good candidates for meta-categories. Let's find them."
   ]
  },
  {
   "cell_type": "markdown",
   "metadata": {},
   "source": [
    "First, let's identify these repeating words by counting their freqencies."
   ]
  },
  {
   "cell_type": "code",
   "execution_count": 534,
   "metadata": {},
   "outputs": [
    {
     "data": {
      "text/plain": [
       "array(['3d', '3d printing', '3d technology', 'accelerator', 'accounting',\n",
       "       'adtech', 'advertising', 'advertising platforms', 'aerospace',\n",
       "       'affiliates'], dtype=object)"
      ]
     },
     "execution_count": 534,
     "metadata": {},
     "output_type": "execute_result"
    }
   ],
   "source": [
    "tags_list = []\n",
    "for x in markets.columns:\n",
    "    tags_list.extend(x.split(','))\n",
    "    \n",
    "tags_list = pd.unique(tags_list)\n",
    "tags_list[0:10]"
   ]
  },
  {
   "cell_type": "code",
   "execution_count": 409,
   "metadata": {},
   "outputs": [],
   "source": [
    "# Let's convert tags_list to sting and remove comma's\n",
    "tags_list_string = ','.join(tags_list)\n",
    "tags_list_string_no_comma = tags_list_string.replace(',',' ')"
   ]
  },
  {
   "cell_type": "code",
   "execution_count": 410,
   "metadata": {},
   "outputs": [],
   "source": [
    "# ... and create a dictionary of tags with their counts\n",
    "from collections import defaultdict\n",
    "categories = defaultdict(int)\n",
    "for w in tags_list_string_no_comma.split(' '):\n",
    "    categories[w] += 1"
   ]
  },
  {
   "cell_type": "code",
   "execution_count": 538,
   "metadata": {},
   "outputs": [
    {
     "name": "stdout",
     "output_type": "stream",
     "text": [
      "social 21\n",
      "management 20\n",
      "marketing 18\n",
      "mobile 13\n",
      "services 12\n",
      "data 11\n",
      "web 10\n",
      "media 9\n",
      "business 8\n",
      "security 8\n",
      "content 8\n",
      "search 8\n",
      "health 8\n",
      "online 8\n",
      "video 8\n",
      "technology 7\n",
      "software 7\n",
      "advertising 6\n",
      "platforms 6\n",
      "analytics 6\n",
      "design 6\n",
      "development 6\n",
      "cloud 6\n",
      "tools 6\n",
      "tech 6\n",
      "automation 6\n",
      "and 6\n"
     ]
    }
   ],
   "source": [
    "# let's identify category candidates by sorting them by their counts \n",
    "# and limit the printout to categories with more than 5 members\n",
    "for w in sorted(categories, key=categories.get, reverse=True):\n",
    "    if categories[w] > 5:\n",
    "        print(w, categories[w])"
   ]
  },
  {
   "cell_type": "code",
   "execution_count": 412,
   "metadata": {},
   "outputs": [
    {
     "name": "stdout",
     "output_type": "stream",
     "text": [
      "app marketing\n",
      "brand marketing\n",
      "content marketing\n",
      "digital marketing\n",
      "direct marketing\n",
      "email marketing\n",
      "event marketing\n",
      "internet marketing\n",
      "marketing\n",
      "marketing automation\n",
      "marketing communications\n",
      "marketing intelligence\n",
      "mobile marketing\n",
      "online marketing\n",
      "performance marketing\n",
      "sales and marketing\n",
      "search marketing\n",
      "social media marketing\n"
     ]
    }
   ],
   "source": [
    "#Now, let's identify members of a given category\n",
    "category = 'marketing'  # < change \"marketing\" to try different categories\n",
    "for i in tags_list:\n",
    "    if category in i:\n",
    "        print(i)"
   ]
  },
  {
   "cell_type": "code",
   "execution_count": 413,
   "metadata": {},
   "outputs": [],
   "source": [
    "# Here we create a list of the most \"populated\" categories and assign \"C_\" at their beginning.\n",
    "top_categories = ['C_'+i for i in categories if categories[i] > 3]"
   ]
  },
  {
   "cell_type": "code",
   "execution_count": 414,
   "metadata": {},
   "outputs": [
    {
     "name": "stdout",
     "output_type": "stream",
     "text": [
      "['C_technology', 'C_advertising', 'C_platforms', 'C_analytics', 'C_app', 'C_design', 'C_development', 'C_marketing', 'C_data', 'C_business']\n",
      "Our top_categories list contains  43  elements\n"
     ]
    }
   ],
   "source": [
    "print(top_categories[0:10])\n",
    "print(\"Our top_categories list contains \", len(top_categories), \" elements\")"
   ]
  },
  {
   "cell_type": "code",
   "execution_count": 415,
   "metadata": {},
   "outputs": [],
   "source": [
    "# let's make some cleaning, and remove non-informative categories\n",
    "top_categories.remove('C_and')\n",
    "top_categories.remove('C_technology')\n",
    "top_categories.remove('C_tech')\n",
    "top_categories.remove('C_services')"
   ]
  },
  {
   "cell_type": "code",
   "execution_count": 416,
   "metadata": {},
   "outputs": [],
   "source": [
    "#Now it's time to compute aggregates: for a given category sum-up dummy variables from it's members\n",
    "# We start by creating a dictionary with lists of category members for each category\n",
    "\n",
    "cat_members = {}\n",
    "for c in top_categories:\n",
    "    cat_members[c] = []\n",
    "    for t in tags_list: \n",
    "        if c[2:] in t:\n",
    "            cat_members[c].append(t)"
   ]
  },
  {
   "cell_type": "code",
   "execution_count": 417,
   "metadata": {},
   "outputs": [],
   "source": [
    "# Let's create columns summarizing dummy variables for each category\n",
    "for c in cat_members:\n",
    "        markets[c] = markets[cat_members[c]].sum(axis = 1)"
   ]
  },
  {
   "cell_type": "code",
   "execution_count": 418,
   "metadata": {},
   "outputs": [
    {
     "data": {
      "text/plain": [
       "(3269, 546)"
      ]
     },
     "execution_count": 418,
     "metadata": {},
     "output_type": "execute_result"
    }
   ],
   "source": [
    "markets.shape"
   ]
  },
  {
   "cell_type": "code",
   "execution_count": 419,
   "metadata": {},
   "outputs": [],
   "source": [
    "#Let's identify categories with the highest number of companies\n",
    "top_cats = {}\n",
    "for i in markets.columns:\n",
    "    if 'C_' in i:\n",
    "        top_cats[i] = markets[i].sum()"
   ]
  },
  {
   "cell_type": "code",
   "execution_count": 420,
   "metadata": {},
   "outputs": [
    {
     "name": "stdout",
     "output_type": "stream",
     "text": [
      "C_data 2485\n",
      "C_learning 1829\n",
      "C_internet 1032\n",
      "C_software 937\n",
      "C_analytics 873\n",
      "C_health 488\n",
      "C_marketing 438\n",
      "C_mobile 390\n",
      "C_service 365\n",
      "C_business 354\n",
      "C_media 309\n",
      "C_consumer 292\n",
      "C_social 247\n",
      "C_enterprise 233\n",
      "C_search 184\n",
      "C_app 179\n",
      "C_security 171\n",
      "C_information 149\n",
      "C_advertising 130\n",
      "C_web 112\n",
      "C_management 110\n",
      "C_cloud 103\n",
      "C_development 102\n",
      "C_sales 84\n",
      "C_tools 74\n",
      "C_online 73\n",
      "C_travel 73\n",
      "C_automation 71\n",
      "C_content 61\n",
      "C_video 58\n",
      "C_platforms 54\n",
      "C_communications 54\n",
      "C_design 53\n",
      "C_food 49\n",
      "C_home 49\n",
      "C_games 36\n",
      "C_sharing 16\n",
      "C_delivery 15\n",
      "C_local 12\n"
     ]
    }
   ],
   "source": [
    "#Let's find the most popular categories\n",
    "for w in sorted(top_cats, key=top_cats.get, reverse=True):\n",
    "    print(w, top_cats[w])"
   ]
  },
  {
   "cell_type": "code",
   "execution_count": 421,
   "metadata": {},
   "outputs": [
    {
     "name": "stdout",
     "output_type": "stream",
     "text": [
      "C_analytics ['analytics', 'big data analytics', 'business analytics', 'mobile analytics', 'predictive analytics', 'text analytics'] \n",
      "\n",
      "C_marketing ['app marketing', 'brand marketing', 'content marketing', 'digital marketing', 'direct marketing', 'email marketing', 'event marketing', 'internet marketing', 'marketing', 'marketing automation', 'marketing communications', 'marketing intelligence', 'mobile marketing', 'online marketing', 'performance marketing', 'sales and marketing', 'search marketing', 'social media marketing'] \n",
      "\n",
      "C_data ['big data', 'big data analytics', 'cloud data services', 'data architecture', 'data centers', 'data integration', 'data mining', 'data science', 'data security', 'data visualization', 'databases', 'personal data'] \n",
      "\n",
      "C_business ['business analytics', 'business development', 'business information systems', 'business intelligence', 'business productivity', 'business services', 'businesses', 'local businesses', 'small and medium businesses', 'small business', 'social business'] \n",
      "\n",
      "C_consumer ['consumer electronics', 'consumer goods', 'consumer internet', 'consumer lending', 'consumers'] \n",
      "\n",
      "C_internet ['consumer internet', 'internet', 'internet marketing', 'internet of things', 'internet tv'] \n",
      "\n",
      "C_service ['business services', 'cloud data services', 'customer service', 'entertainment service provider', 'financial services', 'healthcare services', 'information services', 'local based services', 'location based services', 'microservices', 'music services', 'on demand services', 'professional services', 'service providers', 'services', 'subscription service', 'translation services', 'web service'] \n",
      "\n",
      "C_learning ['deep learning', 'e-learning', 'language learning', 'learning', 'machine learning', 'social learning'] \n",
      "\n",
      "C_media ['digital media', 'media', 'mediatech', 'social media', 'social media advertising', 'social media management', 'social media marketing', 'social media monitoring', 'social media platforms', 'social network media'] \n",
      "\n",
      "C_enterprise ['enterprise', 'enterprise search', 'enterprise software', 'enterprises', 'mobile enterprise'] \n",
      "\n",
      "C_software ['enterprise software', 'hardware + software', 'meeting software', 'mobile software tools', 'productivity software', 'software', 'software compliance'] \n",
      "\n",
      "C_health ['health', 'health and insurance', 'health and wellness', 'health care', 'health care information technology', 'health diagnostics', 'healthcare services', 'mobile health', 'personal health'] \n",
      "\n",
      "C_mobile ['mobile', 'mobile advertising', 'mobile analytics', 'mobile applications', 'mobile commerce', 'mobile enterprise', 'mobile games', 'mobile health', 'mobile marketing', 'mobile payments', 'mobile security', 'mobile software tools', 'social + mobile + local'] \n",
      "\n",
      "C_social ['private social networking', 'social', 'social + mobile + local', 'social bookmarking', 'social business', 'social commerce', 'social crm', 'social entrepreneurship', 'social games', 'social learning', 'social media', 'social media advertising', 'social media management', 'social media marketing', 'social media monitoring', 'social media platforms', 'social network', 'social network media', 'social recruiting', 'social search', 'social travel'] \n",
      "\n"
     ]
    }
   ],
   "source": [
    "#For the most common categories, let's see their members\n",
    "for w in top_cats:\n",
    "    if top_cats[w] > 200:\n",
    "        print(w, cat_members[w], '\\n')"
   ]
  },
  {
   "cell_type": "markdown",
   "metadata": {},
   "source": [
    "We see that category \"learning\" should be split into education and technological sub-categories. \n",
    "\n",
    "That will require:\n",
    "1. removing column \"C_learning\" from markets dataframe\n",
    "2. adding to columns to markets dataframe: \n",
    "- \"C_edu\" with sum over 'e-learning', 'language learning','learning','social learning' \n",
    "- \"C_machine_learning\" with sum over 'machine learning', 'deep learning'"
   ]
  },
  {
   "cell_type": "code",
   "execution_count": 422,
   "metadata": {},
   "outputs": [],
   "source": [
    "top_categories.remove('C_learning')"
   ]
  },
  {
   "cell_type": "code",
   "execution_count": 423,
   "metadata": {},
   "outputs": [],
   "source": [
    "top_categories.append('C_edu')\n",
    "top_categories.append('C_machine_learning')"
   ]
  },
  {
   "cell_type": "code",
   "execution_count": 424,
   "metadata": {},
   "outputs": [],
   "source": [
    "#top_categories"
   ]
  },
  {
   "cell_type": "code",
   "execution_count": 425,
   "metadata": {},
   "outputs": [
    {
     "data": {
      "text/plain": [
       "['deep learning',\n",
       " 'e-learning',\n",
       " 'language learning',\n",
       " 'learning',\n",
       " 'machine learning',\n",
       " 'social learning']"
      ]
     },
     "execution_count": 425,
     "metadata": {},
     "output_type": "execute_result"
    }
   ],
   "source": [
    "cat_members['C_learning']"
   ]
  },
  {
   "cell_type": "code",
   "execution_count": 426,
   "metadata": {},
   "outputs": [],
   "source": [
    "del cat_members['C_learning']"
   ]
  },
  {
   "cell_type": "code",
   "execution_count": 427,
   "metadata": {},
   "outputs": [],
   "source": [
    "cat_members['C_edu'] = ['e-learning', 'language learning','learning','social learning']\n",
    "cat_members['C_machine_learning'] = ['machine learning', 'deep learning']"
   ]
  },
  {
   "cell_type": "code",
   "execution_count": 428,
   "metadata": {},
   "outputs": [],
   "source": [
    "# Let's make some clearing\n",
    "for i in markets.columns:\n",
    "    if 'C_' in i:\n",
    "        markets = markets.drop(i, axis = 1)\n",
    "\n",
    "# Let's create columns summarizing dummy variables for each category\n",
    "for c in cat_members:\n",
    "        markets[c] = markets[cat_members[c]].sum(axis = 1)"
   ]
  },
  {
   "cell_type": "code",
   "execution_count": 429,
   "metadata": {},
   "outputs": [],
   "source": [
    "top_cats = {}\n",
    "for i in markets.columns:\n",
    "    if 'C_' in i:\n",
    "        top_cats[i] = markets[i].sum()"
   ]
  },
  {
   "cell_type": "code",
   "execution_count": 430,
   "metadata": {},
   "outputs": [
    {
     "name": "stdout",
     "output_type": "stream",
     "text": [
      "C_data 2485\n",
      "C_machine_learning 1792\n",
      "C_internet 1032\n",
      "C_software 937\n",
      "C_analytics 873\n",
      "C_health 488\n",
      "C_marketing 438\n",
      "C_mobile 390\n",
      "C_service 365\n",
      "C_business 354\n",
      "C_media 309\n",
      "C_consumer 292\n",
      "C_social 247\n",
      "C_enterprise 233\n",
      "C_search 184\n",
      "C_app 179\n",
      "C_security 171\n",
      "C_information 149\n",
      "C_advertising 130\n",
      "C_web 112\n",
      "C_management 110\n",
      "C_cloud 103\n",
      "C_development 102\n",
      "C_sales 84\n",
      "C_tools 74\n",
      "C_online 73\n",
      "C_travel 73\n",
      "C_automation 71\n",
      "C_content 61\n",
      "C_video 58\n",
      "C_platforms 54\n",
      "C_communications 54\n",
      "C_design 53\n",
      "C_food 49\n",
      "C_home 49\n",
      "C_edu 37\n",
      "C_games 36\n",
      "C_sharing 16\n",
      "C_delivery 15\n",
      "C_local 12\n"
     ]
    }
   ],
   "source": [
    "for w in sorted(top_cats, key=top_cats.get, reverse=True):\n",
    "    print(w, top_cats[w])"
   ]
  },
  {
   "cell_type": "markdown",
   "metadata": {},
   "source": [
    "### Merge markets with main dataframe\n",
    "\n",
    "Now, having a set of tags prepared for further computation, we will merge markets dataframe with our basic one."
   ]
  },
  {
   "cell_type": "code",
   "execution_count": 431,
   "metadata": {},
   "outputs": [
    {
     "data": {
      "text/html": [
       "<div>\n",
       "<style scoped>\n",
       "    .dataframe tbody tr th:only-of-type {\n",
       "        vertical-align: middle;\n",
       "    }\n",
       "\n",
       "    .dataframe tbody tr th {\n",
       "        vertical-align: top;\n",
       "    }\n",
       "\n",
       "    .dataframe thead th {\n",
       "        text-align: right;\n",
       "    }\n",
       "</style>\n",
       "<table border=\"1\" class=\"dataframe\">\n",
       "  <thead>\n",
       "    <tr style=\"text-align: right;\">\n",
       "      <th></th>\n",
       "      <th>markets</th>\n",
       "      <th>founded_in</th>\n",
       "      <th>country</th>\n",
       "      <th>headquarters</th>\n",
       "      <th>employees</th>\n",
       "      <th>latest_round_type</th>\n",
       "      <th>total_raised_USD_milions</th>\n",
       "      <th>latest_round_amount_USD_milions</th>\n",
       "    </tr>\n",
       "  </thead>\n",
       "  <tbody>\n",
       "    <tr>\n",
       "      <th>0</th>\n",
       "      <td>Internet &gt; Cloud Computing, Big Data &gt; Storage...</td>\n",
       "      <td>1994.0</td>\n",
       "      <td>United States</td>\n",
       "      <td>Seattle</td>\n",
       "      <td>566000.0</td>\n",
       "      <td>IPO</td>\n",
       "      <td>56.0</td>\n",
       "      <td>48.0</td>\n",
       "    </tr>\n",
       "  </tbody>\n",
       "</table>\n",
       "</div>"
      ],
      "text/plain": [
       "                                             markets  founded_in  \\\n",
       "0  Internet > Cloud Computing, Big Data > Storage...      1994.0   \n",
       "\n",
       "         country headquarters  employees latest_round_type  \\\n",
       "0  United States      Seattle   566000.0               IPO   \n",
       "\n",
       "   total_raised_USD_milions  latest_round_amount_USD_milions  \n",
       "0                      56.0                             48.0  "
      ]
     },
     "execution_count": 431,
     "metadata": {},
     "output_type": "execute_result"
    }
   ],
   "source": [
    "ai_clean.head(1)"
   ]
  },
  {
   "cell_type": "code",
   "execution_count": 432,
   "metadata": {},
   "outputs": [
    {
     "data": {
      "text/html": [
       "<div>\n",
       "<style scoped>\n",
       "    .dataframe tbody tr th:only-of-type {\n",
       "        vertical-align: middle;\n",
       "    }\n",
       "\n",
       "    .dataframe tbody tr th {\n",
       "        vertical-align: top;\n",
       "    }\n",
       "\n",
       "    .dataframe thead th {\n",
       "        text-align: right;\n",
       "    }\n",
       "</style>\n",
       "<table border=\"1\" class=\"dataframe\">\n",
       "  <thead>\n",
       "    <tr style=\"text-align: right;\">\n",
       "      <th></th>\n",
       "      <th>3d</th>\n",
       "      <th>3d printing</th>\n",
       "      <th>3d technology</th>\n",
       "      <th>accelerator</th>\n",
       "      <th>accounting</th>\n",
       "      <th>adtech</th>\n",
       "      <th>advertising</th>\n",
       "      <th>advertising platforms</th>\n",
       "      <th>aerospace</th>\n",
       "      <th>affiliates</th>\n",
       "      <th>...</th>\n",
       "      <th>C_home</th>\n",
       "      <th>C_local</th>\n",
       "      <th>C_mobile</th>\n",
       "      <th>C_online</th>\n",
       "      <th>C_travel</th>\n",
       "      <th>C_video</th>\n",
       "      <th>C_social</th>\n",
       "      <th>C_sales</th>\n",
       "      <th>C_edu</th>\n",
       "      <th>C_machine_learning</th>\n",
       "    </tr>\n",
       "  </thead>\n",
       "  <tbody>\n",
       "    <tr>\n",
       "      <th>0</th>\n",
       "      <td>0</td>\n",
       "      <td>0</td>\n",
       "      <td>0</td>\n",
       "      <td>0</td>\n",
       "      <td>0</td>\n",
       "      <td>0</td>\n",
       "      <td>0</td>\n",
       "      <td>0</td>\n",
       "      <td>0</td>\n",
       "      <td>0</td>\n",
       "      <td>...</td>\n",
       "      <td>0</td>\n",
       "      <td>0</td>\n",
       "      <td>0</td>\n",
       "      <td>0</td>\n",
       "      <td>0</td>\n",
       "      <td>0</td>\n",
       "      <td>0</td>\n",
       "      <td>0</td>\n",
       "      <td>0</td>\n",
       "      <td>0</td>\n",
       "    </tr>\n",
       "  </tbody>\n",
       "</table>\n",
       "<p>1 rows × 547 columns</p>\n",
       "</div>"
      ],
      "text/plain": [
       "   3d  3d printing  3d technology  accelerator  accounting  adtech  \\\n",
       "0   0            0              0            0           0       0   \n",
       "\n",
       "   advertising  advertising platforms  aerospace  affiliates  \\\n",
       "0            0                      0          0           0   \n",
       "\n",
       "          ...          C_home  C_local  C_mobile  C_online  C_travel  C_video  \\\n",
       "0         ...               0        0         0         0         0        0   \n",
       "\n",
       "   C_social  C_sales  C_edu  C_machine_learning  \n",
       "0         0        0      0                   0  \n",
       "\n",
       "[1 rows x 547 columns]"
      ]
     },
     "execution_count": 432,
     "metadata": {},
     "output_type": "execute_result"
    }
   ],
   "source": [
    "markets.head(1)"
   ]
  },
  {
   "cell_type": "code",
   "execution_count": 433,
   "metadata": {},
   "outputs": [
    {
     "data": {
      "text/html": [
       "<div>\n",
       "<style scoped>\n",
       "    .dataframe tbody tr th:only-of-type {\n",
       "        vertical-align: middle;\n",
       "    }\n",
       "\n",
       "    .dataframe tbody tr th {\n",
       "        vertical-align: top;\n",
       "    }\n",
       "\n",
       "    .dataframe thead th {\n",
       "        text-align: right;\n",
       "    }\n",
       "</style>\n",
       "<table border=\"1\" class=\"dataframe\">\n",
       "  <thead>\n",
       "    <tr style=\"text-align: right;\">\n",
       "      <th></th>\n",
       "      <th>founded_in</th>\n",
       "      <th>country</th>\n",
       "      <th>headquarters</th>\n",
       "      <th>employees</th>\n",
       "      <th>latest_round_type</th>\n",
       "      <th>total_raised_USD_milions</th>\n",
       "      <th>latest_round_amount_USD_milions</th>\n",
       "    </tr>\n",
       "  </thead>\n",
       "  <tbody>\n",
       "    <tr>\n",
       "      <th>0</th>\n",
       "      <td>1994.0</td>\n",
       "      <td>United States</td>\n",
       "      <td>Seattle</td>\n",
       "      <td>566000.0</td>\n",
       "      <td>IPO</td>\n",
       "      <td>56.000000</td>\n",
       "      <td>48.000000</td>\n",
       "    </tr>\n",
       "    <tr>\n",
       "      <th>1</th>\n",
       "      <td>2003.0</td>\n",
       "      <td>United States</td>\n",
       "      <td>Sunnyvale</td>\n",
       "      <td>10001.0</td>\n",
       "      <td>Post-IPO equity</td>\n",
       "      <td>206.121421</td>\n",
       "      <td>81.713488</td>\n",
       "    </tr>\n",
       "    <tr>\n",
       "      <th>2</th>\n",
       "      <td>1991.0</td>\n",
       "      <td>Japan</td>\n",
       "      <td>Tokyo</td>\n",
       "      <td>22000.0</td>\n",
       "      <td>NaN</td>\n",
       "      <td>NaN</td>\n",
       "      <td>NaN</td>\n",
       "    </tr>\n",
       "    <tr>\n",
       "      <th>3</th>\n",
       "      <td>2008.0</td>\n",
       "      <td>United Kingdom</td>\n",
       "      <td>London</td>\n",
       "      <td>90.0</td>\n",
       "      <td>Series B</td>\n",
       "      <td>21.579688</td>\n",
       "      <td>17.500000</td>\n",
       "    </tr>\n",
       "    <tr>\n",
       "      <th>4</th>\n",
       "      <td>1984.0</td>\n",
       "      <td>South Korea</td>\n",
       "      <td>Seoul</td>\n",
       "      <td>1001.0</td>\n",
       "      <td>NaN</td>\n",
       "      <td>NaN</td>\n",
       "      <td>NaN</td>\n",
       "    </tr>\n",
       "  </tbody>\n",
       "</table>\n",
       "</div>"
      ],
      "text/plain": [
       "   founded_in         country headquarters  employees latest_round_type  \\\n",
       "0      1994.0   United States      Seattle   566000.0               IPO   \n",
       "1      2003.0   United States    Sunnyvale    10001.0   Post-IPO equity   \n",
       "2      1991.0           Japan        Tokyo    22000.0               NaN   \n",
       "3      2008.0  United Kingdom       London       90.0          Series B   \n",
       "4      1984.0     South Korea        Seoul     1001.0               NaN   \n",
       "\n",
       "   total_raised_USD_milions  latest_round_amount_USD_milions  \n",
       "0                 56.000000                        48.000000  \n",
       "1                206.121421                        81.713488  \n",
       "2                       NaN                              NaN  \n",
       "3                 21.579688                        17.500000  \n",
       "4                       NaN                              NaN  "
      ]
     },
     "execution_count": 433,
     "metadata": {},
     "output_type": "execute_result"
    }
   ],
   "source": [
    "ai_clean = ai_clean.drop('markets', axis = 1)\n",
    "ai_clean.head()"
   ]
  },
  {
   "cell_type": "code",
   "execution_count": 434,
   "metadata": {},
   "outputs": [],
   "source": [
    "# Let's merge both dataframes\n",
    "ai_clean = pd.concat([ai_clean, markets], axis = 1)"
   ]
  },
  {
   "cell_type": "code",
   "execution_count": 435,
   "metadata": {},
   "outputs": [
    {
     "data": {
      "text/html": [
       "<div>\n",
       "<style scoped>\n",
       "    .dataframe tbody tr th:only-of-type {\n",
       "        vertical-align: middle;\n",
       "    }\n",
       "\n",
       "    .dataframe tbody tr th {\n",
       "        vertical-align: top;\n",
       "    }\n",
       "\n",
       "    .dataframe thead th {\n",
       "        text-align: right;\n",
       "    }\n",
       "</style>\n",
       "<table border=\"1\" class=\"dataframe\">\n",
       "  <thead>\n",
       "    <tr style=\"text-align: right;\">\n",
       "      <th></th>\n",
       "      <th>founded_in</th>\n",
       "      <th>country</th>\n",
       "      <th>headquarters</th>\n",
       "      <th>employees</th>\n",
       "      <th>latest_round_type</th>\n",
       "      <th>total_raised_USD_milions</th>\n",
       "      <th>latest_round_amount_USD_milions</th>\n",
       "      <th>3d</th>\n",
       "      <th>3d printing</th>\n",
       "      <th>3d technology</th>\n",
       "      <th>...</th>\n",
       "      <th>C_home</th>\n",
       "      <th>C_local</th>\n",
       "      <th>C_mobile</th>\n",
       "      <th>C_online</th>\n",
       "      <th>C_travel</th>\n",
       "      <th>C_video</th>\n",
       "      <th>C_social</th>\n",
       "      <th>C_sales</th>\n",
       "      <th>C_edu</th>\n",
       "      <th>C_machine_learning</th>\n",
       "    </tr>\n",
       "  </thead>\n",
       "  <tbody>\n",
       "    <tr>\n",
       "      <th>0</th>\n",
       "      <td>1994.0</td>\n",
       "      <td>United States</td>\n",
       "      <td>Seattle</td>\n",
       "      <td>566000.0</td>\n",
       "      <td>IPO</td>\n",
       "      <td>56.0</td>\n",
       "      <td>48.0</td>\n",
       "      <td>0</td>\n",
       "      <td>0</td>\n",
       "      <td>0</td>\n",
       "      <td>...</td>\n",
       "      <td>0</td>\n",
       "      <td>0</td>\n",
       "      <td>0</td>\n",
       "      <td>0</td>\n",
       "      <td>0</td>\n",
       "      <td>0</td>\n",
       "      <td>0</td>\n",
       "      <td>0</td>\n",
       "      <td>0</td>\n",
       "      <td>0</td>\n",
       "    </tr>\n",
       "  </tbody>\n",
       "</table>\n",
       "<p>1 rows × 554 columns</p>\n",
       "</div>"
      ],
      "text/plain": [
       "   founded_in        country headquarters  employees latest_round_type  \\\n",
       "0      1994.0  United States      Seattle   566000.0               IPO   \n",
       "\n",
       "   total_raised_USD_milions  latest_round_amount_USD_milions  3d  3d printing  \\\n",
       "0                      56.0                             48.0   0            0   \n",
       "\n",
       "   3d technology         ...          C_home  C_local  C_mobile  C_online  \\\n",
       "0              0         ...               0        0         0         0   \n",
       "\n",
       "   C_travel  C_video  C_social  C_sales  C_edu  C_machine_learning  \n",
       "0         0        0         0        0      0                   0  \n",
       "\n",
       "[1 rows x 554 columns]"
      ]
     },
     "execution_count": 435,
     "metadata": {},
     "output_type": "execute_result"
    }
   ],
   "source": [
    "ai_clean.head(1)"
   ]
  },
  {
   "cell_type": "code",
   "execution_count": 436,
   "metadata": {},
   "outputs": [
    {
     "data": {
      "text/plain": [
       "(3269, 554)"
      ]
     },
     "execution_count": 436,
     "metadata": {},
     "output_type": "execute_result"
    }
   ],
   "source": [
    "ai_clean.shape"
   ]
  },
  {
   "cell_type": "markdown",
   "metadata": {
    "heading_collapsed": true
   },
   "source": [
    "## Prepare dedicated dataframes\n",
    "\n",
    "Our questions address topics like investments, geography, employments, etc. Unfortunately, our dataset doesn't contain complete informations for each company - it's rather sparse."
   ]
  },
  {
   "cell_type": "code",
   "execution_count": 437,
   "metadata": {
    "hidden": true
   },
   "outputs": [
    {
     "name": "stdout",
     "output_type": "stream",
     "text": [
      "<class 'pandas.core.frame.DataFrame'>\n",
      "RangeIndex: 3269 entries, 0 to 3268\n",
      "Data columns (total 7 columns):\n",
      "founded_in                         2601 non-null float64\n",
      "total_raised_USD_milions           1708 non-null float64\n",
      "country                            2930 non-null object\n",
      "headquarters                       2899 non-null object\n",
      "employees                          2350 non-null float64\n",
      "latest_round_amount_USD_milions    1748 non-null float64\n",
      "latest_round_type                  1721 non-null object\n",
      "dtypes: float64(4), object(3)\n",
      "memory usage: 178.9+ KB\n"
     ]
    }
   ],
   "source": [
    "biz_cols = ['founded_in', \"total_raised_USD_milions\", 'country','headquarters', 'employees', \n",
    "              'latest_round_amount_USD_milions', 'latest_round_type']\n",
    "ai_clean[biz_cols].info()"
   ]
  },
  {
   "cell_type": "markdown",
   "metadata": {
    "hidden": true
   },
   "source": [
    "That's why in order to answer our questions we will prepare dedicated dataframes."
   ]
  },
  {
   "cell_type": "code",
   "execution_count": 438,
   "metadata": {
    "hidden": true
   },
   "outputs": [],
   "source": [
    "ai_emp = ai_clean[ai_clean['employees'] > 0]\n",
    "ai_fund = ai_clean[ai_clean['total_raised_USD_milions'] > 0]\n",
    "ai_geo = ai_clean[ai_clean['country'].notnull()]\n",
    "ai_age = ai_clean[ai_clean['founded_in'] > 1900]"
   ]
  },
  {
   "cell_type": "code",
   "execution_count": 439,
   "metadata": {
    "hidden": true
   },
   "outputs": [
    {
     "name": "stdout",
     "output_type": "stream",
     "text": [
      "<class 'pandas.core.frame.DataFrame'>\n",
      "Int64Index: 2350 entries, 0 to 3266\n",
      "Data columns (total 7 columns):\n",
      "founded_in                         2269 non-null float64\n",
      "total_raised_USD_milions           1144 non-null float64\n",
      "country                            2066 non-null object\n",
      "headquarters                       2140 non-null object\n",
      "employees                          2350 non-null float64\n",
      "latest_round_amount_USD_milions    1156 non-null float64\n",
      "latest_round_type                  1130 non-null object\n",
      "dtypes: float64(4), object(3)\n",
      "memory usage: 146.9+ KB\n"
     ]
    }
   ],
   "source": [
    "ai_emp[biz_cols].info()\n",
    "#ai_fund[biz_cols].info()\n",
    "#ai_geo[biz_cols].info()\n",
    "#ai_age[biz_cols].info()"
   ]
  },
  {
   "cell_type": "markdown",
   "metadata": {},
   "source": [
    "# Data analysis"
   ]
  },
  {
   "cell_type": "markdown",
   "metadata": {},
   "source": [
    "Let's answer our questions"
   ]
  },
  {
   "cell_type": "markdown",
   "metadata": {},
   "source": [
    "## Q1. Which technologies and markets are the most popular?"
   ]
  },
  {
   "cell_type": "markdown",
   "metadata": {
    "heading_collapsed": true
   },
   "source": [
    "### Top tech and markets by number of companies\n",
    "We will identify them by counting the number of companies using given technology"
   ]
  },
  {
   "cell_type": "code",
   "execution_count": 440,
   "metadata": {
    "hidden": true
   },
   "outputs": [],
   "source": [
    "top_markets = markets.sum()"
   ]
  },
  {
   "cell_type": "code",
   "execution_count": 441,
   "metadata": {
    "hidden": true
   },
   "outputs": [
    {
     "data": {
      "text/plain": [
       "C_data                         2485\n",
       "technology                     2278\n",
       "artificial intelligence        2170\n",
       "big data                       1947\n",
       "C_machine_learning             1792\n",
       "machine learning               1724\n",
       "C_internet                     1032\n",
       "C_software                      937\n",
       "C_analytics                     873\n",
       "internet                        682\n",
       "software                        644\n",
       "analytics                       527\n",
       "C_health                        488\n",
       "C_marketing                     438\n",
       "C_mobile                        390\n",
       "natural language processing     375\n",
       "C_service                       365\n",
       "C_business                      354\n",
       "finance                         350\n",
       "C_media                         309\n",
       "dtype: int64"
      ]
     },
     "execution_count": 441,
     "metadata": {},
     "output_type": "execute_result"
    }
   ],
   "source": [
    "top_markets.nlargest(20)"
   ]
  },
  {
   "cell_type": "markdown",
   "metadata": {
    "hidden": true
   },
   "source": [
    "As we can see, in our computations categories (starting wi \"C_\") mix with TAGs. So let's split them."
   ]
  },
  {
   "cell_type": "code",
   "execution_count": 442,
   "metadata": {
    "hidden": true
   },
   "outputs": [
    {
     "data": {
      "text/plain": [
       "['C_advertising', 'C_platforms', 'C_analytics', 'C_app', 'C_design']"
      ]
     },
     "execution_count": 442,
     "metadata": {},
     "output_type": "execute_result"
    }
   ],
   "source": [
    "# split categories and tag's\n",
    "cats = [col for col in markets.columns if 'C_' in col]\n",
    "cats[0:5]"
   ]
  },
  {
   "cell_type": "code",
   "execution_count": 443,
   "metadata": {
    "hidden": true
   },
   "outputs": [
    {
     "data": {
      "text/plain": [
       "['3d', '3d printing', '3d technology', 'accelerator', 'accounting']"
      ]
     },
     "execution_count": 443,
     "metadata": {},
     "output_type": "execute_result"
    }
   ],
   "source": [
    "tags = [col for col in markets.columns if 'C_' not in col]\n",
    "tags[0:5]"
   ]
  },
  {
   "cell_type": "code",
   "execution_count": 444,
   "metadata": {
    "hidden": true
   },
   "outputs": [],
   "source": [
    "top_markets = markets[tags].sum()\n",
    "top_categories = markets[cats].sum()"
   ]
  },
  {
   "cell_type": "markdown",
   "metadata": {
    "hidden": true
   },
   "source": [
    "TOP 20 markets (in terms of number of companies) are:"
   ]
  },
  {
   "cell_type": "code",
   "execution_count": 445,
   "metadata": {
    "hidden": true
   },
   "outputs": [
    {
     "data": {
      "text/plain": [
       "technology                     2278\n",
       "artificial intelligence        2170\n",
       "big data                       1947\n",
       "machine learning               1724\n",
       "internet                        682\n",
       "software                        644\n",
       "analytics                       527\n",
       "natural language processing     375\n",
       "finance                         350\n",
       "data science                    245\n",
       "saas                            242\n",
       "marketing                       238\n",
       "mobile                          236\n",
       "internet of things              220\n",
       "enterprise software             208\n",
       "fintech                         208\n",
       "health care                     199\n",
       "businesses                      195\n",
       "e-commerce                      194\n",
       "predictive analytics            178\n",
       "dtype: int64"
      ]
     },
     "execution_count": 445,
     "metadata": {},
     "output_type": "execute_result"
    }
   ],
   "source": [
    "top_markets.nlargest(20)"
   ]
  },
  {
   "cell_type": "markdown",
   "metadata": {
    "hidden": true
   },
   "source": [
    "TOP 20 categories (in terms of number of companies) are:"
   ]
  },
  {
   "cell_type": "code",
   "execution_count": 446,
   "metadata": {
    "hidden": true
   },
   "outputs": [
    {
     "data": {
      "text/plain": [
       "C_data                2485\n",
       "C_machine_learning    1792\n",
       "C_internet            1032\n",
       "C_software             937\n",
       "C_analytics            873\n",
       "C_health               488\n",
       "C_marketing            438\n",
       "C_mobile               390\n",
       "C_service              365\n",
       "C_business             354\n",
       "C_media                309\n",
       "C_consumer             292\n",
       "C_social               247\n",
       "C_enterprise           233\n",
       "C_search               184\n",
       "C_app                  179\n",
       "C_security             171\n",
       "C_information          149\n",
       "C_advertising          130\n",
       "C_web                  112\n",
       "dtype: int64"
      ]
     },
     "execution_count": 446,
     "metadata": {},
     "output_type": "execute_result"
    }
   ],
   "source": [
    "top_categories.nlargest(20)"
   ]
  },
  {
   "cell_type": "markdown",
   "metadata": {},
   "source": [
    "### Top tech and markets by investments\n",
    "Now let's find categories and TAGs with largest investments."
   ]
  },
  {
   "cell_type": "markdown",
   "metadata": {},
   "source": [
    "We take tag_value as a sum of total_rised_USD by all companies having this tag"
   ]
  },
  {
   "cell_type": "markdown",
   "metadata": {},
   "source": [
    "Let's start with TOP invested TAGs (technnologies and markets)"
   ]
  },
  {
   "cell_type": "code",
   "execution_count": 447,
   "metadata": {},
   "outputs": [],
   "source": [
    "tag_invest_total = {}\n",
    "for i in pd.Index(tags):\n",
    "    tag_invest_total[i] = (ai_fund[i]*ai_fund['total_raised_USD_milions']).sum()"
   ]
  },
  {
   "cell_type": "markdown",
   "metadata": {},
   "source": [
    "Let's sort TAGs to indentify these with largest investments."
   ]
  },
  {
   "cell_type": "code",
   "execution_count": 449,
   "metadata": {
    "scrolled": false
   },
   "outputs": [],
   "source": [
    "sorted_tag_invest_total = sorted(tag_invest_total.items(), key=lambda x: x[1], reverse = True)"
   ]
  },
  {
   "cell_type": "markdown",
   "metadata": {},
   "source": [
    "TOP 20 technologies and markets are:"
   ]
  },
  {
   "cell_type": "code",
   "execution_count": 450,
   "metadata": {},
   "outputs": [
    {
     "data": {
      "text/plain": [
       "[('technology', 18171.910257),\n",
       " ('artificial intelligence', 17104.713749000002),\n",
       " ('big data', 16523.189415),\n",
       " ('machine learning', 15532.393455),\n",
       " ('internet', 5175.871937),\n",
       " ('analytics', 4697.467885),\n",
       " ('software', 4296.439063),\n",
       " ('security', 3957.19718),\n",
       " ('data science', 3033.2535980000002),\n",
       " ('identity', 2998.75),\n",
       " ('image recognition', 2993.832136),\n",
       " ('robotics', 2499.276239),\n",
       " ('computer vision', 2497.678113),\n",
       " ('health care', 1955.961599),\n",
       " ('finance', 1950.8984020000003),\n",
       " ('web development', 1885.27183),\n",
       " ('information technology', 1842.794858),\n",
       " ('transportation', 1805.864109),\n",
       " ('mobile', 1723.3207689999997),\n",
       " ('natural language processing', 1523.396309)]"
      ]
     },
     "execution_count": 450,
     "metadata": {},
     "output_type": "execute_result"
    }
   ],
   "source": [
    "sorted_tag_invest_total[0:20]"
   ]
  },
  {
   "cell_type": "markdown",
   "metadata": {},
   "source": [
    "Now, let's look at categories."
   ]
  },
  {
   "cell_type": "code",
   "execution_count": 451,
   "metadata": {},
   "outputs": [],
   "source": [
    "cats_invest_total = {}\n",
    "for i in pd.Index(cats):\n",
    "    cats_invest_total[i] = (ai_fund[i]*ai_fund['total_raised_USD_milions']).sum()\n",
    "\n",
    "sorted_cats_invest_total = sorted(cats_invest_total.items(), key=lambda x: x[1], reverse = True)"
   ]
  },
  {
   "cell_type": "markdown",
   "metadata": {},
   "source": [
    "TOP 20 categories are:"
   ]
  },
  {
   "cell_type": "code",
   "execution_count": 452,
   "metadata": {},
   "outputs": [
    {
     "data": {
      "text/plain": [
       "[('C_data', 21045.843376),\n",
       " ('C_machine_learning', 15726.940607999999),\n",
       " ('C_analytics', 6586.415987),\n",
       " ('C_internet', 6209.907324000001),\n",
       " ('C_software', 6181.464486000001),\n",
       " ('C_security', 4585.027787000001),\n",
       " ('C_health', 3074.280185),\n",
       " ('C_information', 2541.3824099999997),\n",
       " ('C_development', 2291.3817499999996),\n",
       " ('C_mobile', 2227.420545),\n",
       " ('C_web', 1955.3175569999999),\n",
       " ('C_search', 1763.562441),\n",
       " ('C_service', 1667.153018),\n",
       " ('C_enterprise', 1607.372237),\n",
       " ('C_media', 1455.6116069999998),\n",
       " ('C_consumer', 1422.2685040000001),\n",
       " ('C_marketing', 1342.537476),\n",
       " ('C_advertising', 1105.221268),\n",
       " ('C_business', 1066.6370980000002),\n",
       " ('C_cloud', 753.767228)]"
      ]
     },
     "execution_count": 452,
     "metadata": {},
     "output_type": "execute_result"
    }
   ],
   "source": [
    "sorted_cats_invest_total[0:20]"
   ]
  },
  {
   "cell_type": "markdown",
   "metadata": {},
   "source": [
    "### Which markets attract most of employees?"
   ]
  },
  {
   "cell_type": "markdown",
   "metadata": {},
   "source": [
    "Now, let's find which technologies and markets attract the largest number of employees. \n",
    "\n",
    "We will compute # employees employed by companies described by this tag."
   ]
  },
  {
   "cell_type": "code",
   "execution_count": 453,
   "metadata": {},
   "outputs": [
    {
     "data": {
      "text/plain": [
       "1208344.0"
      ]
     },
     "execution_count": 453,
     "metadata": {},
     "output_type": "execute_result"
    }
   ],
   "source": [
    "# App. 1,2 mln of employees work in AI companies\n",
    "ai_emp['employees'].sum()"
   ]
  },
  {
   "cell_type": "markdown",
   "metadata": {},
   "source": [
    "Let's identify most populated categories"
   ]
  },
  {
   "cell_type": "code",
   "execution_count": 454,
   "metadata": {},
   "outputs": [],
   "source": [
    "cats_emp_total = {}\n",
    "for i in pd.Index(cats):\n",
    "    cats_emp_total[i] = (ai_emp[i]*ai_emp['employees']).sum()\n",
    "\n",
    "sorted_cats_emp_total = sorted(cats_emp_total.items(), key=lambda x: x[1], reverse = True)"
   ]
  },
  {
   "cell_type": "code",
   "execution_count": 545,
   "metadata": {},
   "outputs": [],
   "source": [
    "tags_emp_total = {}\n",
    "for i in pd.Index(tags):\n",
    "    tags_emp_total[i] = (ai_emp[i]*ai_emp['employees']).sum()\n",
    "\n",
    "sorted_tags_emp_total = sorted(tags_emp_total.items(), key=lambda x: x[1], reverse = True)"
   ]
  },
  {
   "cell_type": "markdown",
   "metadata": {},
   "source": [
    "TOP 20 most \"populated\" tags (technologies and markets) are:"
   ]
  },
  {
   "cell_type": "code",
   "execution_count": 546,
   "metadata": {},
   "outputs": [
    {
     "data": {
      "text/plain": [
       "[('technology', 1060177.0),\n",
       " ('artificial intelligence', 1058748.0),\n",
       " ('big data', 767717.0),\n",
       " ('internet', 587750.0),\n",
       " ('cloud computing', 568436.0),\n",
       " ('web development', 567307.0),\n",
       " ('information services', 567221.0),\n",
       " ('storage', 566009.0),\n",
       " ('finance', 377160.0),\n",
       " ('services', 372678.0),\n",
       " ('businesses', 365388.0),\n",
       " ('financial services', 363345.0),\n",
       " ('health', 360836.0),\n",
       " ('business services', 360081.0),\n",
       " ('consulting', 353540.0),\n",
       " ('communications', 350099.0),\n",
       " ('machine learning', 179085.0),\n",
       " ('big data analytics', 92318.0),\n",
       " ('deep learning', 90701.0),\n",
       " ('telecommunications', 62262.0)]"
      ]
     },
     "execution_count": 546,
     "metadata": {},
     "output_type": "execute_result"
    }
   ],
   "source": [
    "sorted_tags_emp_total[0:20]"
   ]
  },
  {
   "cell_type": "markdown",
   "metadata": {},
   "source": [
    "TOP 20 most populated categories are:"
   ]
  },
  {
   "cell_type": "code",
   "execution_count": 456,
   "metadata": {},
   "outputs": [
    {
     "data": {
      "text/plain": [
       "[('C_service', 1676187.0),\n",
       " ('C_data', 886110.0),\n",
       " ('C_business', 732200.0),\n",
       " ('C_internet', 604150.0),\n",
       " ('C_information', 599210.0),\n",
       " ('C_cloud', 568701.0),\n",
       " ('C_web', 568137.0),\n",
       " ('C_development', 567841.0),\n",
       " ('C_communications', 412439.0),\n",
       " ('C_health', 374854.0),\n",
       " ('C_machine_learning', 269786.0),\n",
       " ('C_analytics', 113742.0),\n",
       " ('C_mobile', 47723.0),\n",
       " ('C_security', 31512.0),\n",
       " ('C_marketing', 30063.0),\n",
       " ('C_consumer', 23624.0),\n",
       " ('C_sales', 21448.0),\n",
       " ('C_software', 17091.0),\n",
       " ('C_media', 13331.0),\n",
       " ('C_social', 13208.0)]"
      ]
     },
     "execution_count": 456,
     "metadata": {},
     "output_type": "execute_result"
    }
   ],
   "source": [
    "sorted_cats_emp_total[0:20]"
   ]
  },
  {
   "cell_type": "markdown",
   "metadata": {},
   "source": [
    "## Q2. How do AI investors invest their funds?\n"
   ]
  },
  {
   "cell_type": "markdown",
   "metadata": {},
   "source": [
    "### Basic investments statistics\n",
    "\n",
    "Let's start with basic investment statistics"
   ]
  },
  {
   "cell_type": "code",
   "execution_count": 457,
   "metadata": {},
   "outputs": [
    {
     "data": {
      "text/plain": [
       "count    1481.000000\n",
       "mean       18.141217\n",
       "std       103.993026\n",
       "min         0.000001\n",
       "25%         0.780000\n",
       "50%         3.000000\n",
       "75%        11.000000\n",
       "max      2917.000000\n",
       "Name: total_raised_USD_milions, dtype: float64"
      ]
     },
     "execution_count": 457,
     "metadata": {},
     "output_type": "execute_result"
    }
   ],
   "source": [
    "ai_fund['total_raised_USD_milions'].describe()"
   ]
  },
  {
   "cell_type": "markdown",
   "metadata": {},
   "source": [
    "Let's classify companies investment size basing on terciles"
   ]
  },
  {
   "cell_type": "code",
   "execution_count": 458,
   "metadata": {},
   "outputs": [],
   "source": [
    "ai_fund['inv_size'] = pd.qcut(ai_fund['total_raised_USD_milions'], 3, labels=[\"small\", \"medium\", \"large\"])"
   ]
  },
  {
   "cell_type": "code",
   "execution_count": 459,
   "metadata": {},
   "outputs": [
    {
     "data": {
      "text/html": [
       "<div>\n",
       "<style scoped>\n",
       "    .dataframe tbody tr th:only-of-type {\n",
       "        vertical-align: middle;\n",
       "    }\n",
       "\n",
       "    .dataframe tbody tr th {\n",
       "        vertical-align: top;\n",
       "    }\n",
       "\n",
       "    .dataframe thead th {\n",
       "        text-align: right;\n",
       "    }\n",
       "</style>\n",
       "<table border=\"1\" class=\"dataframe\">\n",
       "  <thead>\n",
       "    <tr style=\"text-align: right;\">\n",
       "      <th></th>\n",
       "      <th>founded_in</th>\n",
       "      <th>total_raised_USD_milions</th>\n",
       "      <th>employees</th>\n",
       "      <th>latest_round_amount_USD_milions</th>\n",
       "    </tr>\n",
       "  </thead>\n",
       "  <tbody>\n",
       "    <tr>\n",
       "      <th>count</th>\n",
       "      <td>407.000000</td>\n",
       "      <td>494.000000</td>\n",
       "      <td>347.000000</td>\n",
       "      <td>487.000000</td>\n",
       "    </tr>\n",
       "    <tr>\n",
       "      <th>mean</th>\n",
       "      <td>2013.609337</td>\n",
       "      <td>0.478176</td>\n",
       "      <td>9.394813</td>\n",
       "      <td>0.410192</td>\n",
       "    </tr>\n",
       "    <tr>\n",
       "      <th>std</th>\n",
       "      <td>7.758181</td>\n",
       "      <td>0.410840</td>\n",
       "      <td>31.274050</td>\n",
       "      <td>0.397275</td>\n",
       "    </tr>\n",
       "    <tr>\n",
       "      <th>min</th>\n",
       "      <td>1868.000000</td>\n",
       "      <td>0.000001</td>\n",
       "      <td>2.000000</td>\n",
       "      <td>0.000000</td>\n",
       "    </tr>\n",
       "    <tr>\n",
       "      <th>25%</th>\n",
       "      <td>2013.000000</td>\n",
       "      <td>0.106500</td>\n",
       "      <td>2.000000</td>\n",
       "      <td>0.065444</td>\n",
       "    </tr>\n",
       "    <tr>\n",
       "      <th>50%</th>\n",
       "      <td>2014.000000</td>\n",
       "      <td>0.372335</td>\n",
       "      <td>3.000000</td>\n",
       "      <td>0.250000</td>\n",
       "    </tr>\n",
       "    <tr>\n",
       "      <th>75%</th>\n",
       "      <td>2016.000000</td>\n",
       "      <td>0.779540</td>\n",
       "      <td>11.000000</td>\n",
       "      <td>0.700000</td>\n",
       "    </tr>\n",
       "    <tr>\n",
       "      <th>max</th>\n",
       "      <td>2019.000000</td>\n",
       "      <td>1.351351</td>\n",
       "      <td>501.000000</td>\n",
       "      <td>1.351351</td>\n",
       "    </tr>\n",
       "  </tbody>\n",
       "</table>\n",
       "</div>"
      ],
      "text/plain": [
       "        founded_in  total_raised_USD_milions   employees  \\\n",
       "count   407.000000                494.000000  347.000000   \n",
       "mean   2013.609337                  0.478176    9.394813   \n",
       "std       7.758181                  0.410840   31.274050   \n",
       "min    1868.000000                  0.000001    2.000000   \n",
       "25%    2013.000000                  0.106500    2.000000   \n",
       "50%    2014.000000                  0.372335    3.000000   \n",
       "75%    2016.000000                  0.779540   11.000000   \n",
       "max    2019.000000                  1.351351  501.000000   \n",
       "\n",
       "       latest_round_amount_USD_milions  \n",
       "count                       487.000000  \n",
       "mean                          0.410192  \n",
       "std                           0.397275  \n",
       "min                           0.000000  \n",
       "25%                           0.065444  \n",
       "50%                           0.250000  \n",
       "75%                           0.700000  \n",
       "max                           1.351351  "
      ]
     },
     "execution_count": 459,
     "metadata": {},
     "output_type": "execute_result"
    }
   ],
   "source": [
    "# Want more stats?\n",
    "ai_fund[ai_fund['inv_size'] == 'small'][biz_cols].describe()\n",
    "#ai_fund[ai_fund['inv_size'] == 'medium'][biz_cols].describe()\n",
    "#ai_fund[ai_fund['inv_size'] == 'large'][biz_cols].describe()"
   ]
  },
  {
   "cell_type": "markdown",
   "metadata": {},
   "source": [
    "### Investments by Geography"
   ]
  },
  {
   "cell_type": "markdown",
   "metadata": {},
   "source": [
    "#### Which countries has the largest number of AI companies?"
   ]
  },
  {
   "cell_type": "code",
   "execution_count": 460,
   "metadata": {},
   "outputs": [
    {
     "data": {
      "text/plain": [
       "United States      1067\n",
       "United Kingdom      340\n",
       "The Netherlands     147\n",
       "Germany             116\n",
       "Canada              109\n",
       "India               107\n",
       "France              107\n",
       "Finland              98\n",
       "Spain                84\n",
       "China                81\n",
       "Israel               77\n",
       "Sweden               58\n",
       "Switzerland          28\n",
       "Denmark              27\n",
       "Italy                27\n",
       "Name: country, dtype: int64"
      ]
     },
     "execution_count": 460,
     "metadata": {},
     "output_type": "execute_result"
    }
   ],
   "source": [
    "ai_clean['country'].value_counts().head(15)"
   ]
  },
  {
   "cell_type": "markdown",
   "metadata": {},
   "source": [
    "It looks like China is underrepresented..."
   ]
  },
  {
   "cell_type": "markdown",
   "metadata": {},
   "source": [
    "#### Which countries invest most in AI?"
   ]
  },
  {
   "cell_type": "code",
   "execution_count": 461,
   "metadata": {},
   "outputs": [],
   "source": [
    "inv_by_country = ai_fund.groupby('country')['total_raised_USD_milions'].sum()"
   ]
  },
  {
   "cell_type": "markdown",
   "metadata": {},
   "source": [
    "TOP 15 countries investing in AI:"
   ]
  },
  {
   "cell_type": "code",
   "execution_count": 462,
   "metadata": {},
   "outputs": [
    {
     "data": {
      "text/plain": [
       "country\n",
       "United States     12816.463248\n",
       "China              7984.260078\n",
       "United Kingdom     1809.631208\n",
       "Israel              753.917280\n",
       "Canada              614.921299\n",
       "France              571.492984\n",
       "Germany             389.898256\n",
       "Sweden              319.253152\n",
       "Japan               273.675637\n",
       "India               143.586644\n",
       "Finland             126.353360\n",
       "Spain               121.472980\n",
       "Estonia             116.098927\n",
       "Taiwan               84.906977\n",
       "Singapore            71.860360\n",
       "Name: total_raised_USD_milions, dtype: float64"
      ]
     },
     "execution_count": 462,
     "metadata": {},
     "output_type": "execute_result"
    }
   ],
   "source": [
    "inv_by_country.sort_values(ascending = False).head(15)"
   ]
  },
  {
   "cell_type": "markdown",
   "metadata": {},
   "source": [
    "Now, let's plot these investments on the map...\n",
    "\n",
    "We start with reading in a file with geo-coordinates of different countries."
   ]
  },
  {
   "cell_type": "code",
   "execution_count": 464,
   "metadata": {},
   "outputs": [
    {
     "data": {
      "text/html": [
       "<div>\n",
       "<style scoped>\n",
       "    .dataframe tbody tr th:only-of-type {\n",
       "        vertical-align: middle;\n",
       "    }\n",
       "\n",
       "    .dataframe tbody tr th {\n",
       "        vertical-align: top;\n",
       "    }\n",
       "\n",
       "    .dataframe thead th {\n",
       "        text-align: right;\n",
       "    }\n",
       "</style>\n",
       "<table border=\"1\" class=\"dataframe\">\n",
       "  <thead>\n",
       "    <tr style=\"text-align: right;\">\n",
       "      <th></th>\n",
       "      <th>country</th>\n",
       "      <th>lat</th>\n",
       "      <th>lon</th>\n",
       "    </tr>\n",
       "  </thead>\n",
       "  <tbody>\n",
       "    <tr>\n",
       "      <th>0</th>\n",
       "      <td>Afghanistan</td>\n",
       "      <td>33.939110</td>\n",
       "      <td>67.709953</td>\n",
       "    </tr>\n",
       "    <tr>\n",
       "      <th>1</th>\n",
       "      <td>Albania</td>\n",
       "      <td>41.153332</td>\n",
       "      <td>20.168331</td>\n",
       "    </tr>\n",
       "    <tr>\n",
       "      <th>2</th>\n",
       "      <td>Algeria</td>\n",
       "      <td>28.033886</td>\n",
       "      <td>1.659626</td>\n",
       "    </tr>\n",
       "    <tr>\n",
       "      <th>3</th>\n",
       "      <td>Andorra</td>\n",
       "      <td>42.506285</td>\n",
       "      <td>1.521801</td>\n",
       "    </tr>\n",
       "    <tr>\n",
       "      <th>4</th>\n",
       "      <td>Angola</td>\n",
       "      <td>-11.202692</td>\n",
       "      <td>17.873887</td>\n",
       "    </tr>\n",
       "  </tbody>\n",
       "</table>\n",
       "</div>"
      ],
      "text/plain": [
       "       country        lat        lon\n",
       "0  Afghanistan  33.939110  67.709953\n",
       "1      Albania  41.153332  20.168331\n",
       "2      Algeria  28.033886   1.659626\n",
       "3      Andorra  42.506285   1.521801\n",
       "4       Angola -11.202692  17.873887"
      ]
     },
     "execution_count": 464,
     "metadata": {},
     "output_type": "execute_result"
    }
   ],
   "source": [
    "countries = pd.read_csv('countries.csv', names=['country', 'lat', 'lon'])\n",
    "countries.head()"
   ]
  },
  {
   "cell_type": "code",
   "execution_count": 465,
   "metadata": {},
   "outputs": [
    {
     "data": {
      "text/html": [
       "<div>\n",
       "<style scoped>\n",
       "    .dataframe tbody tr th:only-of-type {\n",
       "        vertical-align: middle;\n",
       "    }\n",
       "\n",
       "    .dataframe tbody tr th {\n",
       "        vertical-align: top;\n",
       "    }\n",
       "\n",
       "    .dataframe thead th {\n",
       "        text-align: right;\n",
       "    }\n",
       "</style>\n",
       "<table border=\"1\" class=\"dataframe\">\n",
       "  <thead>\n",
       "    <tr style=\"text-align: right;\">\n",
       "      <th></th>\n",
       "      <th>country</th>\n",
       "      <th>lat</th>\n",
       "      <th>lon</th>\n",
       "    </tr>\n",
       "  </thead>\n",
       "  <tbody>\n",
       "    <tr>\n",
       "      <th>185</th>\n",
       "      <td>United States of America</td>\n",
       "      <td>37.09024</td>\n",
       "      <td>-95.712891</td>\n",
       "    </tr>\n",
       "  </tbody>\n",
       "</table>\n",
       "</div>"
      ],
      "text/plain": [
       "                      country       lat        lon\n",
       "185  United States of America  37.09024 -95.712891"
      ]
     },
     "execution_count": 465,
     "metadata": {},
     "output_type": "execute_result"
    }
   ],
   "source": [
    "countries[countries['country'] == 'United States of America']"
   ]
  },
  {
   "cell_type": "code",
   "execution_count": 466,
   "metadata": {},
   "outputs": [
    {
     "data": {
      "text/html": [
       "<div>\n",
       "<style scoped>\n",
       "    .dataframe tbody tr th:only-of-type {\n",
       "        vertical-align: middle;\n",
       "    }\n",
       "\n",
       "    .dataframe tbody tr th {\n",
       "        vertical-align: top;\n",
       "    }\n",
       "\n",
       "    .dataframe thead th {\n",
       "        text-align: right;\n",
       "    }\n",
       "</style>\n",
       "<table border=\"1\" class=\"dataframe\">\n",
       "  <thead>\n",
       "    <tr style=\"text-align: right;\">\n",
       "      <th></th>\n",
       "      <th>country</th>\n",
       "      <th>lat</th>\n",
       "      <th>lon</th>\n",
       "    </tr>\n",
       "  </thead>\n",
       "  <tbody>\n",
       "    <tr>\n",
       "      <th>185</th>\n",
       "      <td>United States</td>\n",
       "      <td>37.09024</td>\n",
       "      <td>-95.712891</td>\n",
       "    </tr>\n",
       "  </tbody>\n",
       "</table>\n",
       "</div>"
      ],
      "text/plain": [
       "           country       lat        lon\n",
       "185  United States  37.09024 -95.712891"
      ]
     },
     "execution_count": 466,
     "metadata": {},
     "output_type": "execute_result"
    }
   ],
   "source": [
    "# must change a name of USA in \"country\" column\n",
    "countries.country.replace('United States of America', 'United States', inplace = True)\n",
    "countries[countries['country'] == 'United States']"
   ]
  },
  {
   "cell_type": "code",
   "execution_count": 467,
   "metadata": {},
   "outputs": [],
   "source": [
    "inv_by_country_top_15 = inv_by_country.sort_values(ascending = False).head(15).to_frame()"
   ]
  },
  {
   "cell_type": "code",
   "execution_count": 468,
   "metadata": {},
   "outputs": [
    {
     "data": {
      "text/html": [
       "<div>\n",
       "<style scoped>\n",
       "    .dataframe tbody tr th:only-of-type {\n",
       "        vertical-align: middle;\n",
       "    }\n",
       "\n",
       "    .dataframe tbody tr th {\n",
       "        vertical-align: top;\n",
       "    }\n",
       "\n",
       "    .dataframe thead th {\n",
       "        text-align: right;\n",
       "    }\n",
       "</style>\n",
       "<table border=\"1\" class=\"dataframe\">\n",
       "  <thead>\n",
       "    <tr style=\"text-align: right;\">\n",
       "      <th></th>\n",
       "      <th>total_raised_USD_milions</th>\n",
       "      <th>country</th>\n",
       "    </tr>\n",
       "    <tr>\n",
       "      <th>country</th>\n",
       "      <th></th>\n",
       "      <th></th>\n",
       "    </tr>\n",
       "  </thead>\n",
       "  <tbody>\n",
       "    <tr>\n",
       "      <th>United States</th>\n",
       "      <td>12816.463248</td>\n",
       "      <td>United States</td>\n",
       "    </tr>\n",
       "    <tr>\n",
       "      <th>China</th>\n",
       "      <td>7984.260078</td>\n",
       "      <td>China</td>\n",
       "    </tr>\n",
       "    <tr>\n",
       "      <th>United Kingdom</th>\n",
       "      <td>1809.631208</td>\n",
       "      <td>United Kingdom</td>\n",
       "    </tr>\n",
       "    <tr>\n",
       "      <th>Israel</th>\n",
       "      <td>753.917280</td>\n",
       "      <td>Israel</td>\n",
       "    </tr>\n",
       "    <tr>\n",
       "      <th>Canada</th>\n",
       "      <td>614.921299</td>\n",
       "      <td>Canada</td>\n",
       "    </tr>\n",
       "    <tr>\n",
       "      <th>France</th>\n",
       "      <td>571.492984</td>\n",
       "      <td>France</td>\n",
       "    </tr>\n",
       "    <tr>\n",
       "      <th>Germany</th>\n",
       "      <td>389.898256</td>\n",
       "      <td>Germany</td>\n",
       "    </tr>\n",
       "    <tr>\n",
       "      <th>Sweden</th>\n",
       "      <td>319.253152</td>\n",
       "      <td>Sweden</td>\n",
       "    </tr>\n",
       "    <tr>\n",
       "      <th>Japan</th>\n",
       "      <td>273.675637</td>\n",
       "      <td>Japan</td>\n",
       "    </tr>\n",
       "    <tr>\n",
       "      <th>India</th>\n",
       "      <td>143.586644</td>\n",
       "      <td>India</td>\n",
       "    </tr>\n",
       "    <tr>\n",
       "      <th>Finland</th>\n",
       "      <td>126.353360</td>\n",
       "      <td>Finland</td>\n",
       "    </tr>\n",
       "    <tr>\n",
       "      <th>Spain</th>\n",
       "      <td>121.472980</td>\n",
       "      <td>Spain</td>\n",
       "    </tr>\n",
       "    <tr>\n",
       "      <th>Estonia</th>\n",
       "      <td>116.098927</td>\n",
       "      <td>Estonia</td>\n",
       "    </tr>\n",
       "    <tr>\n",
       "      <th>Taiwan</th>\n",
       "      <td>84.906977</td>\n",
       "      <td>Taiwan</td>\n",
       "    </tr>\n",
       "    <tr>\n",
       "      <th>Singapore</th>\n",
       "      <td>71.860360</td>\n",
       "      <td>Singapore</td>\n",
       "    </tr>\n",
       "  </tbody>\n",
       "</table>\n",
       "</div>"
      ],
      "text/plain": [
       "                total_raised_USD_milions         country\n",
       "country                                                 \n",
       "United States               12816.463248   United States\n",
       "China                        7984.260078           China\n",
       "United Kingdom               1809.631208  United Kingdom\n",
       "Israel                        753.917280          Israel\n",
       "Canada                        614.921299          Canada\n",
       "France                        571.492984          France\n",
       "Germany                       389.898256         Germany\n",
       "Sweden                        319.253152          Sweden\n",
       "Japan                         273.675637           Japan\n",
       "India                         143.586644           India\n",
       "Finland                       126.353360         Finland\n",
       "Spain                         121.472980           Spain\n",
       "Estonia                       116.098927         Estonia\n",
       "Taiwan                         84.906977          Taiwan\n",
       "Singapore                      71.860360       Singapore"
      ]
     },
     "execution_count": 468,
     "metadata": {},
     "output_type": "execute_result"
    }
   ],
   "source": [
    "inv_by_country_top_15['country'] = inv_by_country_top_15.index\n",
    "inv_by_country_top_15"
   ]
  },
  {
   "cell_type": "code",
   "execution_count": 469,
   "metadata": {},
   "outputs": [
    {
     "name": "stderr",
     "output_type": "stream",
     "text": [
      "/Applications/Anaconda/anaconda/envs/drlnd/lib/python3.6/site-packages/IPython/core/interactiveshell.py:3267: FutureWarning: 'country' is both an index level and a column label.\n",
      "Defaulting to column, but this will raise an ambiguity error in a future version\n",
      "  exec(code_obj, self.user_global_ns, self.user_ns)\n"
     ]
    }
   ],
   "source": [
    "inv_by_country_top_15_geo = pd.merge(inv_by_country_top_15, countries,on='country',how='inner')"
   ]
  },
  {
   "cell_type": "markdown",
   "metadata": {},
   "source": [
    "TOP 15 countries investing most in AI are [values in USD milions]:"
   ]
  },
  {
   "cell_type": "code",
   "execution_count": 470,
   "metadata": {},
   "outputs": [
    {
     "data": {
      "text/html": [
       "<div>\n",
       "<style scoped>\n",
       "    .dataframe tbody tr th:only-of-type {\n",
       "        vertical-align: middle;\n",
       "    }\n",
       "\n",
       "    .dataframe tbody tr th {\n",
       "        vertical-align: top;\n",
       "    }\n",
       "\n",
       "    .dataframe thead th {\n",
       "        text-align: right;\n",
       "    }\n",
       "</style>\n",
       "<table border=\"1\" class=\"dataframe\">\n",
       "  <thead>\n",
       "    <tr style=\"text-align: right;\">\n",
       "      <th></th>\n",
       "      <th>total_raised_USD_milions</th>\n",
       "      <th>country</th>\n",
       "      <th>lat</th>\n",
       "      <th>lon</th>\n",
       "    </tr>\n",
       "  </thead>\n",
       "  <tbody>\n",
       "    <tr>\n",
       "      <th>0</th>\n",
       "      <td>12816.463248</td>\n",
       "      <td>United States</td>\n",
       "      <td>37.090240</td>\n",
       "      <td>-95.712891</td>\n",
       "    </tr>\n",
       "    <tr>\n",
       "      <th>1</th>\n",
       "      <td>7984.260078</td>\n",
       "      <td>China</td>\n",
       "      <td>35.861660</td>\n",
       "      <td>104.195397</td>\n",
       "    </tr>\n",
       "    <tr>\n",
       "      <th>2</th>\n",
       "      <td>1809.631208</td>\n",
       "      <td>United Kingdom</td>\n",
       "      <td>55.378051</td>\n",
       "      <td>-3.435973</td>\n",
       "    </tr>\n",
       "    <tr>\n",
       "      <th>3</th>\n",
       "      <td>753.917280</td>\n",
       "      <td>Israel</td>\n",
       "      <td>31.046051</td>\n",
       "      <td>34.851612</td>\n",
       "    </tr>\n",
       "    <tr>\n",
       "      <th>4</th>\n",
       "      <td>614.921299</td>\n",
       "      <td>Canada</td>\n",
       "      <td>56.130366</td>\n",
       "      <td>-106.346771</td>\n",
       "    </tr>\n",
       "    <tr>\n",
       "      <th>5</th>\n",
       "      <td>571.492984</td>\n",
       "      <td>France</td>\n",
       "      <td>46.227638</td>\n",
       "      <td>2.213749</td>\n",
       "    </tr>\n",
       "    <tr>\n",
       "      <th>6</th>\n",
       "      <td>389.898256</td>\n",
       "      <td>Germany</td>\n",
       "      <td>51.165691</td>\n",
       "      <td>10.451526</td>\n",
       "    </tr>\n",
       "    <tr>\n",
       "      <th>7</th>\n",
       "      <td>319.253152</td>\n",
       "      <td>Sweden</td>\n",
       "      <td>60.128161</td>\n",
       "      <td>18.643501</td>\n",
       "    </tr>\n",
       "    <tr>\n",
       "      <th>8</th>\n",
       "      <td>273.675637</td>\n",
       "      <td>Japan</td>\n",
       "      <td>36.204824</td>\n",
       "      <td>138.252924</td>\n",
       "    </tr>\n",
       "    <tr>\n",
       "      <th>9</th>\n",
       "      <td>143.586644</td>\n",
       "      <td>India</td>\n",
       "      <td>20.593684</td>\n",
       "      <td>78.962880</td>\n",
       "    </tr>\n",
       "    <tr>\n",
       "      <th>10</th>\n",
       "      <td>126.353360</td>\n",
       "      <td>Finland</td>\n",
       "      <td>61.924110</td>\n",
       "      <td>25.748151</td>\n",
       "    </tr>\n",
       "    <tr>\n",
       "      <th>11</th>\n",
       "      <td>121.472980</td>\n",
       "      <td>Spain</td>\n",
       "      <td>40.463667</td>\n",
       "      <td>-3.749220</td>\n",
       "    </tr>\n",
       "    <tr>\n",
       "      <th>12</th>\n",
       "      <td>116.098927</td>\n",
       "      <td>Estonia</td>\n",
       "      <td>58.595272</td>\n",
       "      <td>25.013607</td>\n",
       "    </tr>\n",
       "    <tr>\n",
       "      <th>13</th>\n",
       "      <td>84.906977</td>\n",
       "      <td>Taiwan</td>\n",
       "      <td>23.697810</td>\n",
       "      <td>120.960515</td>\n",
       "    </tr>\n",
       "    <tr>\n",
       "      <th>14</th>\n",
       "      <td>71.860360</td>\n",
       "      <td>Singapore</td>\n",
       "      <td>1.352083</td>\n",
       "      <td>103.819836</td>\n",
       "    </tr>\n",
       "  </tbody>\n",
       "</table>\n",
       "</div>"
      ],
      "text/plain": [
       "    total_raised_USD_milions         country        lat         lon\n",
       "0               12816.463248   United States  37.090240  -95.712891\n",
       "1                7984.260078           China  35.861660  104.195397\n",
       "2                1809.631208  United Kingdom  55.378051   -3.435973\n",
       "3                 753.917280          Israel  31.046051   34.851612\n",
       "4                 614.921299          Canada  56.130366 -106.346771\n",
       "5                 571.492984          France  46.227638    2.213749\n",
       "6                 389.898256         Germany  51.165691   10.451526\n",
       "7                 319.253152          Sweden  60.128161   18.643501\n",
       "8                 273.675637           Japan  36.204824  138.252924\n",
       "9                 143.586644           India  20.593684   78.962880\n",
       "10                126.353360         Finland  61.924110   25.748151\n",
       "11                121.472980           Spain  40.463667   -3.749220\n",
       "12                116.098927         Estonia  58.595272   25.013607\n",
       "13                 84.906977          Taiwan  23.697810  120.960515\n",
       "14                 71.860360       Singapore   1.352083  103.819836"
      ]
     },
     "execution_count": 470,
     "metadata": {},
     "output_type": "execute_result"
    }
   ],
   "source": [
    "inv_by_country_top_15_geo"
   ]
  },
  {
   "cell_type": "code",
   "execution_count": 471,
   "metadata": {},
   "outputs": [
    {
     "data": {
      "text/html": [
       "<div style=\"width:100%;\"><div style=\"position:relative;width:100%;height:0;padding-bottom:60%;\"><iframe src=\"data:text/html;charset=utf-8;base64,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\" style=\"position:absolute;width:100%;height:100%;left:0;top:0;border:none !important;\" allowfullscreen webkitallowfullscreen mozallowfullscreen></iframe></div></div>"
      ],
      "text/plain": [
       "<folium.folium.Map at 0x12136c550>"
      ]
     },
     "execution_count": 471,
     "metadata": {},
     "output_type": "execute_result"
    }
   ],
   "source": [
    "import folium\n",
    "data = inv_by_country_top_15_geo\n",
    "m = folium.Map(location=[20,0], tiles=\"Mapbox Bright\", zoom_start=2)\n",
    "\n",
    "for i in range(0, len(data)):\n",
    "    folium.CircleMarker(\n",
    "        location=[data.iloc[i]['lat'], data.iloc[i]['lon']],\n",
    "        popup = data.iloc[i]['country'],\n",
    "        radius = int(data.iloc[i]['total_raised_USD_milions']/80),\n",
    "        color='crimson',\n",
    "        fill=True,\n",
    "        fill_color='crimson'\n",
    "        ).add_to(m)\n",
    "    \n",
    "m\n"
   ]
  },
  {
   "cell_type": "markdown",
   "metadata": {},
   "source": [
    "#### Where is the best place to set-up an AI company?"
   ]
  },
  {
   "cell_type": "code",
   "execution_count": 472,
   "metadata": {},
   "outputs": [],
   "source": [
    "# Investments by city\n",
    "inv_by_hq = ai_clean.groupby('headquarters')['total_raised_USD_milions'].sum()"
   ]
  },
  {
   "cell_type": "markdown",
   "metadata": {},
   "source": [
    "Top 15 cities investing most in AI are:"
   ]
  },
  {
   "cell_type": "code",
   "execution_count": 473,
   "metadata": {},
   "outputs": [
    {
     "data": {
      "text/plain": [
       "headquarters\n",
       "Beijing                6414.354979\n",
       "San Francisco          1966.617663\n",
       "Chicago                1894.870000\n",
       "London                 1097.827790\n",
       "New York               1055.813421\n",
       "Cambridge               702.196933\n",
       "Seattle                 565.529719\n",
       "Palo Alto               537.116762\n",
       "Boston                  536.657033\n",
       "Paris                   488.343241\n",
       "Tel Aviv                383.697280\n",
       "Santa Clara             373.485000\n",
       "South San Francisco     365.195000\n",
       "Bristol                 347.714342\n",
       "Sunnyvale               291.997694\n",
       "Name: total_raised_USD_milions, dtype: float64"
      ]
     },
     "execution_count": 473,
     "metadata": {},
     "output_type": "execute_result"
    }
   ],
   "source": [
    "inv_by_hq.sort_values(ascending = False).head(15)"
   ]
  },
  {
   "cell_type": "markdown",
   "metadata": {},
   "source": [
    "Top 15 cities with the largest number of AI companies are:"
   ]
  },
  {
   "cell_type": "code",
   "execution_count": 474,
   "metadata": {},
   "outputs": [
    {
     "data": {
      "text/plain": [
       "London           237\n",
       "San Francisco    206\n",
       "New York         141\n",
       "Amsterdam         77\n",
       "Paris             74\n",
       "Berlin            63\n",
       "Palo Alto         56\n",
       "Helsinki          54\n",
       "Toronto           42\n",
       "Tel Aviv          34\n",
       "Boston            31\n",
       "Seattle           29\n",
       "Cambridge         28\n",
       "Barcelona         28\n",
       "Madrid            27\n",
       "Name: headquarters, dtype: int64"
      ]
     },
     "execution_count": 474,
     "metadata": {},
     "output_type": "execute_result"
    }
   ],
   "source": [
    "# No of companies by city\n",
    "ai_clean['headquarters'].value_counts().head(15)"
   ]
  },
  {
   "cell_type": "markdown",
   "metadata": {},
   "source": [
    "### Investment rounds"
   ]
  },
  {
   "cell_type": "markdown",
   "metadata": {},
   "source": [
    "#### What are the most common latest round types?"
   ]
  },
  {
   "cell_type": "markdown",
   "metadata": {},
   "source": []
  },
  {
   "cell_type": "code",
   "execution_count": 475,
   "metadata": {
    "scrolled": true
   },
   "outputs": [
    {
     "data": {
      "text/plain": [
       "Seed fund                680\n",
       "Series A                 319\n",
       "Venture Capital          177\n",
       "Series B                 129\n",
       "Angel                    123\n",
       "Undisclosed funding       60\n",
       "Undisclosed               47\n",
       "Venture capital           36\n",
       "Series C                  34\n",
       "Grant                     25\n",
       "Debt financing            24\n",
       "Private equity            16\n",
       "Series D                  15\n",
       "Equity crowdfunding        9\n",
       "Convertible Note           8\n",
       "ICO                        4\n",
       "Post-IPO equity            4\n",
       "Crowdfunding               3\n",
       "Series E                   3\n",
       "Series UNDISCLOSED         2\n",
       "IPO                        1\n",
       "Token sale                 1\n",
       "Non Equity Assistance      1\n",
       "Name: latest_round_type, dtype: int64"
      ]
     },
     "execution_count": 475,
     "metadata": {},
     "output_type": "execute_result"
    }
   ],
   "source": [
    "ai_clean['latest_round_type'].value_counts()"
   ]
  },
  {
   "cell_type": "markdown",
   "metadata": {},
   "source": [
    "#### Which round types attract most funds?"
   ]
  },
  {
   "cell_type": "code",
   "execution_count": 476,
   "metadata": {},
   "outputs": [
    {
     "data": {
      "text/plain": [
       "latest_round_type\n",
       "Series B                 5652.564144\n",
       "Series D                 4827.004750\n",
       "Series A                 4391.270360\n",
       "Venture Capital          4239.202192\n",
       "Series C                 2486.521016\n",
       "Private equity           2138.392954\n",
       "Seed fund                1066.113997\n",
       "Series E                  392.900000\n",
       "Undisclosed funding       376.832186\n",
       "Angel                     265.396567\n",
       "Post-IPO equity           244.201421\n",
       "Venture capital           240.005618\n",
       "Debt financing            239.847395\n",
       "Undisclosed               108.814415\n",
       "IPO                        56.000000\n",
       "ICO                        50.120000\n",
       "Equity crowdfunding        32.250127\n",
       "Series UNDISCLOSED         17.975000\n",
       "Grant                      12.103461\n",
       "Token sale                  5.500000\n",
       "Convertible Note            3.728295\n",
       "Crowdfunding                2.813743\n",
       "Non Equity Assistance       0.300000\n",
       "Name: total_raised_USD_milions, dtype: float64"
      ]
     },
     "execution_count": 476,
     "metadata": {},
     "output_type": "execute_result"
    }
   ],
   "source": [
    "# Investments by latest round - total\n",
    "inv_by_round = ai_clean.groupby('latest_round_type')['total_raised_USD_milions'].sum()\n",
    "inv_by_round.sort_values(ascending = False)"
   ]
  },
  {
   "cell_type": "code",
   "execution_count": 477,
   "metadata": {},
   "outputs": [
    {
     "data": {
      "text/plain": [
       "latest_round_type\n",
       "Series D                 321.800317\n",
       "Private equity           133.649560\n",
       "Series E                 130.966667\n",
       "Series C                  73.132971\n",
       "Post-IPO equity           61.050355\n",
       "IPO                       56.000000\n",
       "Series B                  43.818327\n",
       "Venture Capital           24.224013\n",
       "Series A                  14.029618\n",
       "ICO                       12.530000\n",
       "Debt financing            10.902154\n",
       "Series UNDISCLOSED         8.987500\n",
       "Undisclosed funding        8.972195\n",
       "Venture capital            6.857303\n",
       "Token sale                 5.500000\n",
       "Equity crowdfunding        3.583347\n",
       "Undisclosed                2.315200\n",
       "Angel                      2.230223\n",
       "Seed fund                  1.642703\n",
       "Crowdfunding               0.937914\n",
       "Grant                      0.526237\n",
       "Convertible Note           0.466037\n",
       "Non Equity Assistance      0.300000\n",
       "Name: total_raised_USD_milions, dtype: float64"
      ]
     },
     "execution_count": 477,
     "metadata": {},
     "output_type": "execute_result"
    }
   ],
   "source": [
    "# Investments by latest round - mean\n",
    "inv_by_round_mean = ai_clean.groupby('latest_round_type')['total_raised_USD_milions'].mean()\n",
    "inv_by_round_mean.sort_values(ascending = False)"
   ]
  },
  {
   "cell_type": "code",
   "execution_count": 478,
   "metadata": {},
   "outputs": [
    {
     "name": "stdout",
     "output_type": "stream",
     "text": [
      "<class 'pandas.core.frame.DataFrame'>\n",
      "Int64Index: 129 entries, 3 to 3259\n",
      "Columns: 554 entries, founded_in to C_machine_learning\n",
      "dtypes: float64(4), int64(547), object(3)\n",
      "memory usage: 559.3+ KB\n"
     ]
    }
   ],
   "source": [
    "#Now, let's take a closer look at the Series B investments\n",
    "ai_seriesB = ai_clean[ai_clean['latest_round_type'] == 'Series B']\n",
    "ai_seriesB.info()"
   ]
  },
  {
   "cell_type": "code",
   "execution_count": 479,
   "metadata": {},
   "outputs": [],
   "source": [
    "top_markets_seriesB = ai_seriesB[tags].sum()\n",
    "top_categories_seriesB = ai_seriesB[cats].sum()"
   ]
  },
  {
   "cell_type": "markdown",
   "metadata": {},
   "source": [
    "TOP 10 technologies/markets with Series B investments are:"
   ]
  },
  {
   "cell_type": "code",
   "execution_count": 480,
   "metadata": {},
   "outputs": [
    {
     "data": {
      "text/plain": [
       "technology                     82\n",
       "artificial intelligence        80\n",
       "big data                       77\n",
       "machine learning               71\n",
       "software                       30\n",
       "analytics                      22\n",
       "internet                       18\n",
       "enterprise software            12\n",
       "natural language processing    12\n",
       "data science                    9\n",
       "dtype: int64"
      ]
     },
     "execution_count": 480,
     "metadata": {},
     "output_type": "execute_result"
    }
   ],
   "source": [
    "top_markets_seriesB.nlargest(10)"
   ]
  },
  {
   "cell_type": "markdown",
   "metadata": {},
   "source": [
    "TOP 10 TAG categories with Series B investments are:"
   ]
  },
  {
   "cell_type": "code",
   "execution_count": 481,
   "metadata": {},
   "outputs": [
    {
     "data": {
      "text/plain": [
       "C_data                96\n",
       "C_machine_learning    72\n",
       "C_software            47\n",
       "C_analytics           37\n",
       "C_internet            28\n",
       "C_enterprise          14\n",
       "C_health              14\n",
       "C_security            13\n",
       "C_marketing           10\n",
       "C_consumer            10\n",
       "dtype: int64"
      ]
     },
     "execution_count": 481,
     "metadata": {},
     "output_type": "execute_result"
    }
   ],
   "source": [
    "top_categories_seriesB.nlargest(10)"
   ]
  },
  {
   "cell_type": "markdown",
   "metadata": {},
   "source": [
    "## Q3. What are the employment patterns?"
   ]
  },
  {
   "cell_type": "markdown",
   "metadata": {},
   "source": [
    "### Basic employment statistics"
   ]
  },
  {
   "cell_type": "code",
   "execution_count": 482,
   "metadata": {},
   "outputs": [
    {
     "data": {
      "text/plain": [
       "count      2350.000000\n",
       "mean        514.188936\n",
       "std       13876.360424\n",
       "min           1.000000\n",
       "25%           2.000000\n",
       "50%           8.000000\n",
       "75%          11.000000\n",
       "max      566000.000000\n",
       "Name: employees, dtype: float64"
      ]
     },
     "execution_count": 482,
     "metadata": {},
     "output_type": "execute_result"
    }
   ],
   "source": [
    "ai_emp['employees'].describe()"
   ]
  },
  {
   "cell_type": "markdown",
   "metadata": {},
   "source": [
    "Let's classify companies employment size basing on terciles"
   ]
  },
  {
   "cell_type": "code",
   "execution_count": 483,
   "metadata": {},
   "outputs": [],
   "source": [
    "ai_emp['emp_size'] = pd.qcut(ai_emp['employees'], 3, labels=[\"small\", \"medium\", \"large\"])"
   ]
  },
  {
   "cell_type": "code",
   "execution_count": 484,
   "metadata": {},
   "outputs": [
    {
     "data": {
      "text/html": [
       "<div>\n",
       "<style scoped>\n",
       "    .dataframe tbody tr th:only-of-type {\n",
       "        vertical-align: middle;\n",
       "    }\n",
       "\n",
       "    .dataframe tbody tr th {\n",
       "        vertical-align: top;\n",
       "    }\n",
       "\n",
       "    .dataframe thead th {\n",
       "        text-align: right;\n",
       "    }\n",
       "</style>\n",
       "<table border=\"1\" class=\"dataframe\">\n",
       "  <thead>\n",
       "    <tr style=\"text-align: right;\">\n",
       "      <th></th>\n",
       "      <th>employees</th>\n",
       "      <th>total_raised_USD_milions</th>\n",
       "    </tr>\n",
       "  </thead>\n",
       "  <tbody>\n",
       "    <tr>\n",
       "      <th>count</th>\n",
       "      <td>898.000000</td>\n",
       "      <td>392.000000</td>\n",
       "    </tr>\n",
       "    <tr>\n",
       "      <th>mean</th>\n",
       "      <td>1.986637</td>\n",
       "      <td>4.066185</td>\n",
       "    </tr>\n",
       "    <tr>\n",
       "      <th>std</th>\n",
       "      <td>0.114888</td>\n",
       "      <td>8.777535</td>\n",
       "    </tr>\n",
       "    <tr>\n",
       "      <th>min</th>\n",
       "      <td>1.000000</td>\n",
       "      <td>0.000000</td>\n",
       "    </tr>\n",
       "    <tr>\n",
       "      <th>25%</th>\n",
       "      <td>2.000000</td>\n",
       "      <td>0.059368</td>\n",
       "    </tr>\n",
       "    <tr>\n",
       "      <th>50%</th>\n",
       "      <td>2.000000</td>\n",
       "      <td>0.928684</td>\n",
       "    </tr>\n",
       "    <tr>\n",
       "      <th>75%</th>\n",
       "      <td>2.000000</td>\n",
       "      <td>3.025000</td>\n",
       "    </tr>\n",
       "    <tr>\n",
       "      <th>max</th>\n",
       "      <td>2.000000</td>\n",
       "      <td>55.500000</td>\n",
       "    </tr>\n",
       "  </tbody>\n",
       "</table>\n",
       "</div>"
      ],
      "text/plain": [
       "        employees  total_raised_USD_milions\n",
       "count  898.000000                392.000000\n",
       "mean     1.986637                  4.066185\n",
       "std      0.114888                  8.777535\n",
       "min      1.000000                  0.000000\n",
       "25%      2.000000                  0.059368\n",
       "50%      2.000000                  0.928684\n",
       "75%      2.000000                  3.025000\n",
       "max      2.000000                 55.500000"
      ]
     },
     "execution_count": 484,
     "metadata": {},
     "output_type": "execute_result"
    }
   ],
   "source": [
    "ai_emp[['employees', 'total_raised_USD_milions']][ai_emp['emp_size'] == 'small'].describe()\n",
    "#ai_emp[['employees', 'total_raised_USD_milions']][ai_emp['emp_size'] == 'medium'].describe()\n",
    "#ai_emp[['employees', 'total_raised_USD_milions']][ai_emp['emp_size'] == 'large'].describe()"
   ]
  },
  {
   "cell_type": "markdown",
   "metadata": {},
   "source": [
    "Now, let's check employment statistics of small, medium and large (in terms of investments) companies."
   ]
  },
  {
   "cell_type": "code",
   "execution_count": 485,
   "metadata": {},
   "outputs": [
    {
     "data": {
      "text/html": [
       "<div>\n",
       "<style scoped>\n",
       "    .dataframe tbody tr th:only-of-type {\n",
       "        vertical-align: middle;\n",
       "    }\n",
       "\n",
       "    .dataframe tbody tr th {\n",
       "        vertical-align: top;\n",
       "    }\n",
       "\n",
       "    .dataframe thead th {\n",
       "        text-align: right;\n",
       "    }\n",
       "</style>\n",
       "<table border=\"1\" class=\"dataframe\">\n",
       "  <thead>\n",
       "    <tr style=\"text-align: right;\">\n",
       "      <th></th>\n",
       "      <th>employees</th>\n",
       "      <th>total_raised_USD_milions</th>\n",
       "    </tr>\n",
       "  </thead>\n",
       "  <tbody>\n",
       "    <tr>\n",
       "      <th>count</th>\n",
       "      <td>347.000000</td>\n",
       "      <td>494.000000</td>\n",
       "    </tr>\n",
       "    <tr>\n",
       "      <th>mean</th>\n",
       "      <td>9.394813</td>\n",
       "      <td>0.478176</td>\n",
       "    </tr>\n",
       "    <tr>\n",
       "      <th>std</th>\n",
       "      <td>31.274050</td>\n",
       "      <td>0.410840</td>\n",
       "    </tr>\n",
       "    <tr>\n",
       "      <th>min</th>\n",
       "      <td>2.000000</td>\n",
       "      <td>0.000001</td>\n",
       "    </tr>\n",
       "    <tr>\n",
       "      <th>25%</th>\n",
       "      <td>2.000000</td>\n",
       "      <td>0.106500</td>\n",
       "    </tr>\n",
       "    <tr>\n",
       "      <th>50%</th>\n",
       "      <td>3.000000</td>\n",
       "      <td>0.372335</td>\n",
       "    </tr>\n",
       "    <tr>\n",
       "      <th>75%</th>\n",
       "      <td>11.000000</td>\n",
       "      <td>0.779540</td>\n",
       "    </tr>\n",
       "    <tr>\n",
       "      <th>max</th>\n",
       "      <td>501.000000</td>\n",
       "      <td>1.351351</td>\n",
       "    </tr>\n",
       "  </tbody>\n",
       "</table>\n",
       "</div>"
      ],
      "text/plain": [
       "        employees  total_raised_USD_milions\n",
       "count  347.000000                494.000000\n",
       "mean     9.394813                  0.478176\n",
       "std     31.274050                  0.410840\n",
       "min      2.000000                  0.000001\n",
       "25%      2.000000                  0.106500\n",
       "50%      3.000000                  0.372335\n",
       "75%     11.000000                  0.779540\n",
       "max    501.000000                  1.351351"
      ]
     },
     "execution_count": 485,
     "metadata": {},
     "output_type": "execute_result"
    }
   ],
   "source": [
    "ai_fund[['employees', 'total_raised_USD_milions']][ai_fund['inv_size'] == 'small'].describe()"
   ]
  },
  {
   "cell_type": "code",
   "execution_count": 486,
   "metadata": {},
   "outputs": [
    {
     "data": {
      "text/html": [
       "<div>\n",
       "<style scoped>\n",
       "    .dataframe tbody tr th:only-of-type {\n",
       "        vertical-align: middle;\n",
       "    }\n",
       "\n",
       "    .dataframe tbody tr th {\n",
       "        vertical-align: top;\n",
       "    }\n",
       "\n",
       "    .dataframe thead th {\n",
       "        text-align: right;\n",
       "    }\n",
       "</style>\n",
       "<table border=\"1\" class=\"dataframe\">\n",
       "  <thead>\n",
       "    <tr style=\"text-align: right;\">\n",
       "      <th></th>\n",
       "      <th>employees</th>\n",
       "      <th>total_raised_USD_milions</th>\n",
       "    </tr>\n",
       "  </thead>\n",
       "  <tbody>\n",
       "    <tr>\n",
       "      <th>count</th>\n",
       "      <td>331.000000</td>\n",
       "      <td>494.000000</td>\n",
       "    </tr>\n",
       "    <tr>\n",
       "      <th>mean</th>\n",
       "      <td>17.274924</td>\n",
       "      <td>3.356404</td>\n",
       "    </tr>\n",
       "    <tr>\n",
       "      <th>std</th>\n",
       "      <td>63.693584</td>\n",
       "      <td>1.653068</td>\n",
       "    </tr>\n",
       "    <tr>\n",
       "      <th>min</th>\n",
       "      <td>2.000000</td>\n",
       "      <td>1.353791</td>\n",
       "    </tr>\n",
       "    <tr>\n",
       "      <th>25%</th>\n",
       "      <td>2.000000</td>\n",
       "      <td>2.000000</td>\n",
       "    </tr>\n",
       "    <tr>\n",
       "      <th>50%</th>\n",
       "      <td>11.000000</td>\n",
       "      <td>3.000000</td>\n",
       "    </tr>\n",
       "    <tr>\n",
       "      <th>75%</th>\n",
       "      <td>11.000000</td>\n",
       "      <td>4.500000</td>\n",
       "    </tr>\n",
       "    <tr>\n",
       "      <th>max</th>\n",
       "      <td>1001.000000</td>\n",
       "      <td>7.500000</td>\n",
       "    </tr>\n",
       "  </tbody>\n",
       "</table>\n",
       "</div>"
      ],
      "text/plain": [
       "         employees  total_raised_USD_milions\n",
       "count   331.000000                494.000000\n",
       "mean     17.274924                  3.356404\n",
       "std      63.693584                  1.653068\n",
       "min       2.000000                  1.353791\n",
       "25%       2.000000                  2.000000\n",
       "50%      11.000000                  3.000000\n",
       "75%      11.000000                  4.500000\n",
       "max    1001.000000                  7.500000"
      ]
     },
     "execution_count": 486,
     "metadata": {},
     "output_type": "execute_result"
    }
   ],
   "source": [
    "ai_fund[['employees', 'total_raised_USD_milions']][ai_fund['inv_size'] == 'medium'].describe()"
   ]
  },
  {
   "cell_type": "code",
   "execution_count": 487,
   "metadata": {},
   "outputs": [
    {
     "data": {
      "text/html": [
       "<div>\n",
       "<style scoped>\n",
       "    .dataframe tbody tr th:only-of-type {\n",
       "        vertical-align: middle;\n",
       "    }\n",
       "\n",
       "    .dataframe tbody tr th {\n",
       "        vertical-align: top;\n",
       "    }\n",
       "\n",
       "    .dataframe thead th {\n",
       "        text-align: right;\n",
       "    }\n",
       "</style>\n",
       "<table border=\"1\" class=\"dataframe\">\n",
       "  <thead>\n",
       "    <tr style=\"text-align: right;\">\n",
       "      <th></th>\n",
       "      <th>employees</th>\n",
       "      <th>total_raised_USD_milions</th>\n",
       "    </tr>\n",
       "  </thead>\n",
       "  <tbody>\n",
       "    <tr>\n",
       "      <th>count</th>\n",
       "      <td>318.000000</td>\n",
       "      <td>493.000000</td>\n",
       "    </tr>\n",
       "    <tr>\n",
       "      <th>mean</th>\n",
       "      <td>1857.990566</td>\n",
       "      <td>50.654888</td>\n",
       "    </tr>\n",
       "    <tr>\n",
       "      <th>std</th>\n",
       "      <td>31740.465551</td>\n",
       "      <td>175.888164</td>\n",
       "    </tr>\n",
       "    <tr>\n",
       "      <th>min</th>\n",
       "      <td>2.000000</td>\n",
       "      <td>7.516981</td>\n",
       "    </tr>\n",
       "    <tr>\n",
       "      <th>25%</th>\n",
       "      <td>11.000000</td>\n",
       "      <td>11.000000</td>\n",
       "    </tr>\n",
       "    <tr>\n",
       "      <th>50%</th>\n",
       "      <td>11.000000</td>\n",
       "      <td>18.000000</td>\n",
       "    </tr>\n",
       "    <tr>\n",
       "      <th>75%</th>\n",
       "      <td>51.000000</td>\n",
       "      <td>37.120000</td>\n",
       "    </tr>\n",
       "    <tr>\n",
       "      <th>max</th>\n",
       "      <td>566000.000000</td>\n",
       "      <td>2917.000000</td>\n",
       "    </tr>\n",
       "  </tbody>\n",
       "</table>\n",
       "</div>"
      ],
      "text/plain": [
       "           employees  total_raised_USD_milions\n",
       "count     318.000000                493.000000\n",
       "mean     1857.990566                 50.654888\n",
       "std     31740.465551                175.888164\n",
       "min         2.000000                  7.516981\n",
       "25%        11.000000                 11.000000\n",
       "50%        11.000000                 18.000000\n",
       "75%        51.000000                 37.120000\n",
       "max    566000.000000               2917.000000"
      ]
     },
     "execution_count": 487,
     "metadata": {},
     "output_type": "execute_result"
    }
   ],
   "source": [
    "ai_fund[['employees', 'total_raised_USD_milions']][ai_fund['inv_size'] == 'large'].describe()"
   ]
  },
  {
   "cell_type": "markdown",
   "metadata": {},
   "source": [
    "### How much one AI employee is worth, on average?"
   ]
  },
  {
   "cell_type": "code",
   "execution_count": 488,
   "metadata": {},
   "outputs": [],
   "source": [
    "# Let's define \"employee value\" as a ratio of investment by # of employees. \n",
    "# And create a dedicated column\n",
    "ai_fund['employee_value'] = ai_fund['total_raised_USD_milions']/ai_fund['employees']"
   ]
  },
  {
   "cell_type": "code",
   "execution_count": 489,
   "metadata": {},
   "outputs": [
    {
     "data": {
      "text/plain": [
       "count    9.960000e+02\n",
       "mean     1.470643e+00\n",
       "std      3.731062e+00\n",
       "min      5.000000e-07\n",
       "25%      9.318495e-02\n",
       "50%      3.258333e-01\n",
       "75%      1.073346e+00\n",
       "max      4.568182e+01\n",
       "Name: employee_value, dtype: float64"
      ]
     },
     "execution_count": 489,
     "metadata": {},
     "output_type": "execute_result"
    }
   ],
   "source": [
    "ai_fund['employee_value'].describe()"
   ]
  },
  {
   "cell_type": "markdown",
   "metadata": {},
   "source": [
    "What is the highest employee valuation?"
   ]
  },
  {
   "cell_type": "code",
   "execution_count": 490,
   "metadata": {},
   "outputs": [
    {
     "data": {
      "text/plain": [
       "798     45.681818\n",
       "254     42.727273\n",
       "1920    27.750000\n",
       "1993    27.350000\n",
       "178     25.785000\n",
       "151     25.000000\n",
       "1354    24.000000\n",
       "1336    20.396187\n",
       "752     19.500000\n",
       "2192    19.454545\n",
       "Name: employee_value, dtype: float64"
      ]
     },
     "execution_count": 490,
     "metadata": {},
     "output_type": "execute_result"
    }
   ],
   "source": [
    "ai_fund['employee_value'].nlargest(10)"
   ]
  },
  {
   "cell_type": "markdown",
   "metadata": {},
   "source": [
    "### Which competencies are the most valuable?"
   ]
  },
  {
   "cell_type": "markdown",
   "metadata": {},
   "source": [
    "Let's identify tags and categories most popular among companies in the 4th quartile of employee value (4-th quartile = 1 mln USD)\n"
   ]
  },
  {
   "cell_type": "code",
   "execution_count": 491,
   "metadata": {},
   "outputs": [],
   "source": [
    "top_markets_emp_value = ai_fund[ai_fund['employee_value'] > 1][tags].sum()"
   ]
  },
  {
   "cell_type": "markdown",
   "metadata": {},
   "source": [
    "TOP 10 most popular markets and technologies among companies with the highest valuation of employee are:"
   ]
  },
  {
   "cell_type": "code",
   "execution_count": 492,
   "metadata": {},
   "outputs": [
    {
     "data": {
      "text/plain": [
       "big data                       184\n",
       "machine learning               173\n",
       "technology                     147\n",
       "artificial intelligence        138\n",
       "software                        65\n",
       "analytics                       56\n",
       "internet                        49\n",
       "data science                    28\n",
       "health care                     26\n",
       "natural language processing     24\n",
       "dtype: int64"
      ]
     },
     "execution_count": 492,
     "metadata": {},
     "output_type": "execute_result"
    }
   ],
   "source": [
    "top_markets_emp_value.nlargest(10)"
   ]
  },
  {
   "cell_type": "code",
   "execution_count": 493,
   "metadata": {},
   "outputs": [],
   "source": [
    "top_categories_emp_value = ai_fund[ai_fund['employee_value'] > 1][cats].sum()"
   ]
  },
  {
   "cell_type": "markdown",
   "metadata": {},
   "source": [
    "TOP 10 most popular TAG categories among companies with the highest valuation of employee are:"
   ]
  },
  {
   "cell_type": "code",
   "execution_count": 494,
   "metadata": {},
   "outputs": [
    {
     "data": {
      "text/plain": [
       "C_data                232\n",
       "C_machine_learning    173\n",
       "C_software             92\n",
       "C_analytics            81\n",
       "C_internet             65\n",
       "C_health               39\n",
       "C_security             32\n",
       "C_marketing            28\n",
       "C_enterprise           25\n",
       "C_mobile               22\n",
       "dtype: int64"
      ]
     },
     "execution_count": 494,
     "metadata": {},
     "output_type": "execute_result"
    }
   ],
   "source": [
    "top_categories_emp_value.nlargest(10)"
   ]
  },
  {
   "cell_type": "code",
   "execution_count": null,
   "metadata": {},
   "outputs": [],
   "source": []
  }
 ],
 "metadata": {
  "kernelspec": {
   "display_name": "drlnd",
   "language": "python",
   "name": "drlnd"
  },
  "language_info": {
   "codemirror_mode": {
    "name": "ipython",
    "version": 3
   },
   "file_extension": ".py",
   "mimetype": "text/x-python",
   "name": "python",
   "nbconvert_exporter": "python",
   "pygments_lexer": "ipython3",
   "version": "3.6.2"
  },
  "latex_envs": {
   "LaTeX_envs_menu_present": true,
   "autoclose": false,
   "autocomplete": true,
   "bibliofile": "biblio.bib",
   "cite_by": "apalike",
   "current_citInitial": 1,
   "eqLabelWithNumbers": true,
   "eqNumInitial": 1,
   "hotkeys": {
    "equation": "Ctrl-E",
    "itemize": "Ctrl-I"
   },
   "labels_anchors": false,
   "latex_user_defs": false,
   "report_style_numbering": false,
   "user_envs_cfg": false
  },
  "toc": {
   "base_numbering": 1,
   "nav_menu": {
    "height": "420px",
    "width": "234px"
   },
   "number_sections": true,
   "sideBar": true,
   "skip_h1_title": false,
   "title_cell": "Table of Contents",
   "title_sidebar": "Contents",
   "toc_cell": false,
   "toc_position": {
    "height": "calc(100% - 180px)",
    "left": "10px",
    "top": "150px",
    "width": "349px"
   },
   "toc_section_display": true,
   "toc_window_display": true
  }
 },
 "nbformat": 4,
 "nbformat_minor": 2
}
